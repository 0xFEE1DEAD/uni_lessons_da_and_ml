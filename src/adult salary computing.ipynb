{
 "cells": [
  {
   "cell_type": "code",
   "execution_count": 8,
   "id": "80ea9e63",
   "metadata": {},
   "outputs": [],
   "source": [
    "from pathlib import Path\n",
    "\n",
    "import pandas as pd\n",
    "\n",
    "adult_salary_path = Path() / \"..\" / \"datasets\" / \"Adult Salary.csv\"\n",
    "\n",
    "if not adult_salary_path.exists():\n",
    "    msg = \"Dataset not found\"\n",
    "    raise RuntimeError(msg)\n",
    "\n",
    "adult_salary_df: pd.DataFrame = pd.read_csv(adult_salary_path)"
   ]
  },
  {
   "cell_type": "code",
   "execution_count": 9,
   "id": "8d050fcf",
   "metadata": {},
   "outputs": [
    {
     "name": "stdout",
     "output_type": "stream",
     "text": [
      "Количество строк 48842, количество столбцов: 10\n"
     ]
    }
   ],
   "source": [
    "# Показать количество строк и столбцов таблицы:\n",
    "\n",
    "row, columns = adult_salary_df.shape\n",
    "print(f\"Количество строк {row}, количество столбцов: {columns}\")"
   ]
  },
  {
   "cell_type": "code",
   "execution_count": 12,
   "id": "7a8de052",
   "metadata": {},
   "outputs": [
    {
     "name": "stdout",
     "output_type": "stream",
     "text": [
      "Age               int64\n",
      "Gender           object\n",
      "WorkingClass     object\n",
      "Education        object\n",
      "MaritalStatus    object\n",
      "Occupation       object\n",
      "Relationship     object\n",
      "Race             object\n",
      "NativeCountry    object\n",
      "Income           object\n",
      "dtype: object\n"
     ]
    }
   ],
   "source": [
    "# Показать тип данных в столбцах\n",
    "\n",
    "print(adult_salary_df.dtypes)"
   ]
  },
  {
   "cell_type": "code",
   "execution_count": 23,
   "id": "f0b34ddb",
   "metadata": {},
   "outputs": [
    {
     "name": "stdout",
     "output_type": "stream",
     "text": [
      "Количество: 9, значения: ['Private' 'Local-gov' '?' 'Self-emp-not-inc' 'Federal-gov' 'State-gov'\n",
      " 'Self-emp-inc' 'Without-pay' 'Never-worked']\n"
     ]
    }
   ],
   "source": [
    "# Посчитать количество уникальных значений по строковой переменной\n",
    "\n",
    "quantity = adult_salary_df[\"WorkingClass\"].nunique()\n",
    "unique_values = adult_salary_df[\"WorkingClass\"].unique()\n",
    "\n",
    "print(f\"Количество: {quantity}, значения: {unique_values}\")"
   ]
  },
  {
   "cell_type": "code",
   "execution_count": null,
   "id": "ab912122",
   "metadata": {},
   "outputs": [
    {
     "name": "stdout",
     "output_type": "stream",
     "text": [
      "Сколько раз каждое из значений встречается в: WorkingClass\n",
      "Private             33906\n",
      "Self-emp-not-inc     3862\n",
      "Local-gov            3136\n",
      "?                    2799\n",
      "State-gov            1981\n",
      "Self-emp-inc         1695\n",
      "Federal-gov          1432\n",
      "Without-pay            21\n",
      "Never-worked           10\n",
      "Name: count, dtype: int64\n"
     ]
    }
   ],
   "source": [
    "# Почитать частоту встречающихся значений по строковой переменной\n",
    "\n",
    "value_counts = adult_salary_df[\"WorkingClass\"].value_counts()\n",
    "\n",
    "print(f\"Сколько раз каждое из значений встречается в: {value_counts}\")"
   ]
  },
  {
   "cell_type": "code",
   "execution_count": 26,
   "id": "e04dd88c",
   "metadata": {},
   "outputs": [
    {
     "name": "stdout",
     "output_type": "stream",
     "text": [
      "Возраст: \n",
      " Минимальное 17, среднее: 38.64358543876172, медианное: 37.0, максимальное: 90\n"
     ]
    }
   ],
   "source": [
    "# Посчитать минимум, среднюю, медиану, максимум по числовой переменной\n",
    "\n",
    "min_age = adult_salary_df[\"Age\"].min()\n",
    "mean_age = adult_salary_df[\"Age\"].mean()\n",
    "median_age = adult_salary_df[\"Age\"].median()\n",
    "max_age = adult_salary_df[\"Age\"].max()\n",
    "\n",
    "print(f\"Возраст: \\n Минимальное {min_age}, среднее: {mean_age}, медианное: {median_age}, максимальное: {max_age}\")"
   ]
  }
 ],
 "metadata": {
  "kernelspec": {
   "display_name": ".venv",
   "language": "python",
   "name": "python3"
  },
  "language_info": {
   "codemirror_mode": {
    "name": "ipython",
    "version": 3
   },
   "file_extension": ".py",
   "mimetype": "text/x-python",
   "name": "python",
   "nbconvert_exporter": "python",
   "pygments_lexer": "ipython3",
   "version": "3.11.11"
  }
 },
 "nbformat": 4,
 "nbformat_minor": 5
}
