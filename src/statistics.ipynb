{
 "cells": [
  {
   "cell_type": "code",
   "execution_count": 2,
   "id": "e2734a83",
   "metadata": {},
   "outputs": [],
   "source": [
    "import matplotlib.pyplot as plt\n",
    "import pandas as pd\n",
    "import seaborn as sns\n",
    "\n",
    "dataframe = pd.read_csv(\n",
    "    \"https://raw.githubusercontent.com/YBI-Foundation/Dataset/refs/heads/main/Pokemon.csv\",\n",
    ")"
   ]
  },
  {
   "cell_type": "code",
   "execution_count": 3,
   "id": "17c1f582",
   "metadata": {},
   "outputs": [
    {
     "data": {
      "text/html": [
       "<div>\n",
       "<style scoped>\n",
       "    .dataframe tbody tr th:only-of-type {\n",
       "        vertical-align: middle;\n",
       "    }\n",
       "\n",
       "    .dataframe tbody tr th {\n",
       "        vertical-align: top;\n",
       "    }\n",
       "\n",
       "    .dataframe thead th {\n",
       "        text-align: right;\n",
       "    }\n",
       "</style>\n",
       "<table border=\"1\" class=\"dataframe\">\n",
       "  <thead>\n",
       "    <tr style=\"text-align: right;\">\n",
       "      <th></th>\n",
       "      <th>SN</th>\n",
       "      <th>Name</th>\n",
       "      <th>Type 1</th>\n",
       "      <th>Type 2</th>\n",
       "      <th>HP</th>\n",
       "      <th>Attack</th>\n",
       "      <th>Defense</th>\n",
       "      <th>Sp. Attack</th>\n",
       "      <th>Sp. Defense</th>\n",
       "      <th>Speed</th>\n",
       "      <th>Generation</th>\n",
       "      <th>Legendary</th>\n",
       "    </tr>\n",
       "  </thead>\n",
       "  <tbody>\n",
       "    <tr>\n",
       "      <th>0</th>\n",
       "      <td>1</td>\n",
       "      <td>Bulbasaur</td>\n",
       "      <td>Grass</td>\n",
       "      <td>Poison</td>\n",
       "      <td>45</td>\n",
       "      <td>49</td>\n",
       "      <td>49</td>\n",
       "      <td>65</td>\n",
       "      <td>65</td>\n",
       "      <td>45</td>\n",
       "      <td>1</td>\n",
       "      <td>False</td>\n",
       "    </tr>\n",
       "    <tr>\n",
       "      <th>1</th>\n",
       "      <td>2</td>\n",
       "      <td>Ivysaur</td>\n",
       "      <td>Grass</td>\n",
       "      <td>Poison</td>\n",
       "      <td>60</td>\n",
       "      <td>62</td>\n",
       "      <td>63</td>\n",
       "      <td>80</td>\n",
       "      <td>80</td>\n",
       "      <td>60</td>\n",
       "      <td>1</td>\n",
       "      <td>False</td>\n",
       "    </tr>\n",
       "    <tr>\n",
       "      <th>2</th>\n",
       "      <td>3</td>\n",
       "      <td>Venusaur</td>\n",
       "      <td>Grass</td>\n",
       "      <td>Poison</td>\n",
       "      <td>80</td>\n",
       "      <td>82</td>\n",
       "      <td>83</td>\n",
       "      <td>100</td>\n",
       "      <td>100</td>\n",
       "      <td>80</td>\n",
       "      <td>1</td>\n",
       "      <td>False</td>\n",
       "    </tr>\n",
       "    <tr>\n",
       "      <th>3</th>\n",
       "      <td>3</td>\n",
       "      <td>VenusaurMega Venusaur</td>\n",
       "      <td>Grass</td>\n",
       "      <td>Poison</td>\n",
       "      <td>80</td>\n",
       "      <td>100</td>\n",
       "      <td>123</td>\n",
       "      <td>122</td>\n",
       "      <td>120</td>\n",
       "      <td>80</td>\n",
       "      <td>1</td>\n",
       "      <td>False</td>\n",
       "    </tr>\n",
       "    <tr>\n",
       "      <th>4</th>\n",
       "      <td>4</td>\n",
       "      <td>Charmander</td>\n",
       "      <td>Fire</td>\n",
       "      <td>NaN</td>\n",
       "      <td>39</td>\n",
       "      <td>52</td>\n",
       "      <td>43</td>\n",
       "      <td>60</td>\n",
       "      <td>50</td>\n",
       "      <td>65</td>\n",
       "      <td>1</td>\n",
       "      <td>False</td>\n",
       "    </tr>\n",
       "  </tbody>\n",
       "</table>\n",
       "</div>"
      ],
      "text/plain": [
       "   SN                   Name Type 1  Type 2  HP  Attack  Defense  Sp. Attack  \\\n",
       "0   1              Bulbasaur  Grass  Poison  45      49       49          65   \n",
       "1   2                Ivysaur  Grass  Poison  60      62       63          80   \n",
       "2   3               Venusaur  Grass  Poison  80      82       83         100   \n",
       "3   3  VenusaurMega Venusaur  Grass  Poison  80     100      123         122   \n",
       "4   4             Charmander   Fire     NaN  39      52       43          60   \n",
       "\n",
       "   Sp. Defense  Speed  Generation  Legendary  \n",
       "0           65     45           1      False  \n",
       "1           80     60           1      False  \n",
       "2          100     80           1      False  \n",
       "3          120     80           1      False  \n",
       "4           50     65           1      False  "
      ]
     },
     "execution_count": 3,
     "metadata": {},
     "output_type": "execute_result"
    }
   ],
   "source": [
    "dataframe.head()"
   ]
  },
  {
   "cell_type": "code",
   "execution_count": 4,
   "id": "be32fcd5",
   "metadata": {},
   "outputs": [
    {
     "name": "stdout",
     "output_type": "stream",
     "text": [
      "<class 'pandas.core.frame.DataFrame'>\n",
      "RangeIndex: 800 entries, 0 to 799\n",
      "Data columns (total 12 columns):\n",
      " #   Column       Non-Null Count  Dtype \n",
      "---  ------       --------------  ----- \n",
      " 0   SN           800 non-null    int64 \n",
      " 1   Name         800 non-null    object\n",
      " 2   Type 1       800 non-null    object\n",
      " 3   Type 2       414 non-null    object\n",
      " 4   HP           800 non-null    int64 \n",
      " 5   Attack       800 non-null    int64 \n",
      " 6   Defense      800 non-null    int64 \n",
      " 7   Sp. Attack   800 non-null    int64 \n",
      " 8   Sp. Defense  800 non-null    int64 \n",
      " 9   Speed        800 non-null    int64 \n",
      " 10  Generation   800 non-null    int64 \n",
      " 11  Legendary    800 non-null    bool  \n",
      "dtypes: bool(1), int64(8), object(3)\n",
      "memory usage: 69.7+ KB\n"
     ]
    }
   ],
   "source": [
    "dataframe.info()"
   ]
  },
  {
   "cell_type": "markdown",
   "id": "492d8906",
   "metadata": {},
   "source": [
    "### **Задача.** Выберите две количественные переменные и найдите для них 95% доверительные интервалы средних значений. Дайте интерпретацию результат"
   ]
  },
  {
   "cell_type": "code",
   "execution_count": 5,
   "id": "6083296c",
   "metadata": {},
   "outputs": [],
   "source": [
    "import numpy as np\n",
    "from scipy import stats\n",
    "\n",
    "\n",
    "def compute_interval(series: pd.Series, percent: float = 0.95) -> tuple[np.float64, np.float64]:\n",
    "    \"\"\"Расчет доверительного интервала для колонки pandas.\"\"\"\n",
    "    mu = series.mean()\n",
    "    std = series.std(ddof=1)\n",
    "    n = series.shape[0]\n",
    "\n",
    "    return stats.norm.interval(confidence=percent, loc=mu, scale=std / np.sqrt(n))"
   ]
  },
  {
   "cell_type": "code",
   "execution_count": 6,
   "id": "7dde4dbf",
   "metadata": {},
   "outputs": [
    {
     "data": {
      "text/plain": [
       "(np.float64(67.48932022672939), np.float64(71.02817977327062))"
      ]
     },
     "execution_count": 6,
     "metadata": {},
     "output_type": "execute_result"
    }
   ],
   "source": [
    "compute_interval(dataframe[\"HP\"])"
   ]
  },
  {
   "cell_type": "markdown",
   "id": "12b08721",
   "metadata": {},
   "source": [
    "Доверительный 95% интервал для среднего значения здоровья находится ~ от 67.49 до 71.03. Т. е среднее значение генеральной совокупности находится в этом интервале с вероятностью 95%."
   ]
  },
  {
   "cell_type": "code",
   "execution_count": 7,
   "id": "5344490d",
   "metadata": {},
   "outputs": [
    {
     "data": {
      "text/plain": [
       "(np.float64(76.75211062565727), np.float64(81.25038937434273))"
      ]
     },
     "execution_count": 7,
     "metadata": {},
     "output_type": "execute_result"
    }
   ],
   "source": [
    "compute_interval(dataframe[\"Attack\"])"
   ]
  },
  {
   "cell_type": "markdown",
   "id": "a86fcd01",
   "metadata": {},
   "source": [
    "Доверительный 95% интервал для среднего значения атаки находится ~ от 76.75 до 81.25. Т. е среднее значение генеральной совокупности находится в этом интервале с вероятностью 95%."
   ]
  },
  {
   "cell_type": "markdown",
   "id": "5899b688",
   "metadata": {},
   "source": [
    "### **Задача.** Оцените распределение этих переменных на нормальность с помощью формальных тестов. Сделайте вывод"
   ]
  },
  {
   "cell_type": "code",
   "execution_count": 8,
   "id": "359ee21f",
   "metadata": {},
   "outputs": [
    {
     "data": {
      "image/png": "[encoded data removed]",
      "text/plain": [
       "<Figure size 1200x200 with 2 Axes>"
      ]
     },
     "metadata": {},
     "output_type": "display_data"
    }
   ],
   "source": [
    "fig, axes = plt.subplots(1, 2, figsize=(12, 2))\n",
    "sns.histplot(dataframe, x=\"HP\", ax=axes[0], kde=True)\n",
    "axes[0].vlines(compute_interval(dataframe[\"HP\"]), ymin=0, ymax=140, color=\"orange\")\n",
    "sns.histplot(dataframe, x=\"Attack\", ax=axes[1], kde=True)\n",
    "axes[1].vlines(compute_interval(dataframe[\"Attack\"]), ymin=0, ymax=140, color=\"orange\")\n",
    "plt.show()"
   ]
  },
  {
   "cell_type": "code",
   "execution_count": 9,
   "id": "ec670126",
   "metadata": {},
   "outputs": [],
   "source": [
    "def is_normal_distribution_3_test(series: pd.Series) -> None:\n",
    "    \"\"\"Проверяет на нормальное распределение.\n",
    "\n",
    "    Выводит метрики по 3 тестам: Shapiro-Wilk, Anderson-Darling, Kolmogorov-Smirnov.\n",
    "    \"\"\"\n",
    "    print(\"=\" * 10 + \" Shapiro-Wilk test \" + \"=\" * 10)\n",
    "    stat, p_value = stats.shapiro(series)\n",
    "    print(f\"Статистика = {stat:.4f}, p-value = {p_value:.4f}\")\n",
    "    print()\n",
    "\n",
    "    print(\"=\" * 10 + \" Anderson-Darling test \" + \"=\" * 10)\n",
    "    anderson_test_res = stats.anderson(series, dist=\"norm\")\n",
    "    crit_value = anderson_test_res.critical_values[anderson_test_res.significance_level == 5][0]\n",
    "\n",
    "    decision = \"H0 не отвергаем, переменная имеет нормальное распределение\"\n",
    "    if anderson_test_res.statistic > crit_value:\n",
    "        decision = \"H0 отвергаем, переменная имеет ненормальное распределение\"\n",
    "\n",
    "    print(f\"Тестовая статистика: {anderson_test_res.statistic: .4f}\")\n",
    "    print(f\"Критическое значение статистики: {crit_value: .4f}\")\n",
    "    print(f\"Решение: {decision}\")\n",
    "    print()\n",
    "\n",
    "    print(\"=\" * 10 + \" Kolmogorov-Smirnov test \" + \"=\" * 10)\n",
    "    stat, p_value = stats.kstest(series, \"norm\", args=(series.mean(), series.std(ddof=1)))\n",
    "    print(f\"Статистика = {stat:.4f}, p-value = {p_value:.4f}\")\n"
   ]
  },
  {
   "cell_type": "code",
   "execution_count": 10,
   "id": "c6ed0e3e",
   "metadata": {},
   "outputs": [
    {
     "name": "stdout",
     "output_type": "stream",
     "text": [
      "========== Shapiro-Wilk test ==========\n",
      "Статистика = 0.9158, p-value = 0.0000\n",
      "\n",
      "========== Anderson-Darling test ==========\n",
      "Тестовая статистика:  8.4488\n",
      "Критическое значение статистики:  0.7830\n",
      "Решение: H0 отвергаем, переменная имеет ненормальное распределение\n",
      "\n",
      "========== Kolmogorov-Smirnov test ==========\n",
      "Статистика = 0.0958, p-value = 0.0000\n"
     ]
    }
   ],
   "source": [
    "is_normal_distribution_3_test(dataframe[\"HP\"])"
   ]
  },
  {
   "cell_type": "code",
   "execution_count": 11,
   "id": "84af3a1e",
   "metadata": {},
   "outputs": [
    {
     "name": "stdout",
     "output_type": "stream",
     "text": [
      "========== Shapiro-Wilk test ==========\n",
      "Статистика = 0.9789, p-value = 0.0000\n",
      "\n",
      "========== Anderson-Darling test ==========\n",
      "Тестовая статистика:  4.4102\n",
      "Критическое значение статистики:  0.7830\n",
      "Решение: H0 отвергаем, переменная имеет ненормальное распределение\n",
      "\n",
      "========== Kolmogorov-Smirnov test ==========\n",
      "Статистика = 0.0642, p-value = 0.0026\n"
     ]
    }
   ],
   "source": [
    "is_normal_distribution_3_test(dataframe[\"Attack\"])"
   ]
  },
  {
   "cell_type": "markdown",
   "id": "f5ef84f1",
   "metadata": {},
   "source": [
    "Распределения значений здоровья и атаки, без сомнений, отличается от нормальной."
   ]
  },
  {
   "cell_type": "markdown",
   "id": "c787aec2",
   "metadata": {},
   "source": [
    "### **Задача.** Возьмите две группы наблюдений (разбейте по какой-либо бинарной переменной) и протестируйте гипотезу о равенстве математических ожиданий с помощью двухвыборочного t-теста и с помощью теста Манна-Уитни"
   ]
  },
  {
   "cell_type": "markdown",
   "id": "6163af92",
   "metadata": {},
   "source": [
    "Предположим что у легендарных покемонов в среднем HP меньше или равна обычным - это будет нулевая гипотеза."
   ]
  },
  {
   "cell_type": "code",
   "execution_count": 12,
   "id": "4efb605d",
   "metadata": {},
   "outputs": [],
   "source": [
    "legendary_hp = dataframe[dataframe[\"Legendary\"]][\"HP\"]\n",
    "default_hp = dataframe[~dataframe[\"Legendary\"]][\"HP\"]"
   ]
  },
  {
   "cell_type": "code",
   "execution_count": 13,
   "id": "153bd6e5",
   "metadata": {},
   "outputs": [
    {
     "data": {
      "image/png": "[encoded data removed]",
      "text/plain": [
       "<Figure size 1200x300 with 1 Axes>"
      ]
     },
     "metadata": {},
     "output_type": "display_data"
    }
   ],
   "source": [
    "plt.figure(figsize=(12, 3))\n",
    "sns.histplot(x=legendary_hp, kde=True)\n",
    "sns.histplot(x=default_hp, kde=True)\n",
    "plt.show()"
   ]
  },
  {
   "cell_type": "code",
   "execution_count": 14,
   "id": "466584da",
   "metadata": {},
   "outputs": [
    {
     "name": "stdout",
     "output_type": "stream",
     "text": [
      "t-статистика: 8.9814\n",
      "p-value: 0.0000\n"
     ]
    }
   ],
   "source": [
    "test_result = stats.ttest_ind_from_stats(\n",
    "    mean1=legendary_hp.mean(),\n",
    "    std1=legendary_hp.std(ddof=1),\n",
    "    nobs1=legendary_hp.shape[0],\n",
    "    mean2=default_hp.mean(),\n",
    "    std2=default_hp.std(ddof=1),\n",
    "    nobs2=default_hp.shape[0],\n",
    "    equal_var=False,\n",
    "    alternative=\"greater\",\n",
    ")\n",
    "print(f\"t-статистика: {test_result.statistic:.4f}\")\n",
    "print(f\"p-value: {test_result.pvalue:.4f}\")"
   ]
  },
  {
   "cell_type": "markdown",
   "id": "a2bdb367",
   "metadata": {},
   "source": [
    "t-test показывает что средняя 1-го распределения статистически значимо выше, чем средняя 2-го распределения. 1 выборка с легендарными покемонами, а 2 с обычными. Т. е нулевую гипотезу можно отклонить. Также нужно учитывать, что данные распределены не нормально, **t-test может быть не точен**."
   ]
  },
  {
   "cell_type": "code",
   "execution_count": 15,
   "id": "6b969b18",
   "metadata": {},
   "outputs": [
    {
     "name": "stdout",
     "output_type": "stream",
     "text": [
      "t-статистика: 38778.0000\n",
      "p-value: 0.0000\n"
     ]
    }
   ],
   "source": [
    "test_result = stats.mannwhitneyu(legendary_hp, default_hp, alternative=\"greater\")\n",
    "print(f\"t-статистика: {test_result.statistic:.4f}\")\n",
    "print(f\"p-value: {test_result.pvalue:.4f}\")"
   ]
  },
  {
   "cell_type": "markdown",
   "id": "b9a0a9ca",
   "metadata": {},
   "source": [
    "Непараметрический тест Манна-Уитни также показывает статистически значимые отличия, а значит 0 гипотезу можно отклонить."
   ]
  },
  {
   "cell_type": "markdown",
   "id": "5614a7cd",
   "metadata": {},
   "source": [
    "### **Задача.** Постройте доверительный интервал для разницы в средних значениях на основе бутстрапа. Сделайте вывод."
   ]
  },
  {
   "cell_type": "code",
   "execution_count": 16,
   "id": "b5656f6f",
   "metadata": {},
   "outputs": [],
   "source": [
    "def deference_in_means(sample1: pd.Series, sample2: pd.Series) -> float:\n",
    "    return sample1.mean() - sample2.mean()"
   ]
  },
  {
   "cell_type": "code",
   "execution_count": 17,
   "id": "1daa3c67",
   "metadata": {},
   "outputs": [
    {
     "data": {
      "image/png": "[encoded data removed]",
      "text/plain": [
       "<Figure size 640x480 with 1 Axes>"
      ]
     },
     "metadata": {},
     "output_type": "display_data"
    }
   ],
   "source": [
    "rng = np.random.default_rng(seed=42)\n",
    "res = stats.bootstrap((legendary_hp, default_hp), deference_in_means, method=\"basic\", rng=rng)\n",
    "sns.histplot(x=res.bootstrap_distribution)\n",
    "plt.show()"
   ]
  },
  {
   "cell_type": "code",
   "execution_count": 18,
   "id": "3b694622",
   "metadata": {},
   "outputs": [
    {
     "data": {
      "text/plain": [
       "ConfidenceInterval(low=np.float64(20.013207744636322), high=np.float64(31.121543694400838))"
      ]
     },
     "execution_count": 18,
     "metadata": {},
     "output_type": "execute_result"
    }
   ],
   "source": [
    "res.confidence_interval"
   ]
  },
  {
   "cell_type": "markdown",
   "id": "c6b6a124",
   "metadata": {},
   "source": [
    "Поскольку 0 не попадает в доверительный интервал, есть статистически значимая разница между средними значениями HP легендарных покемонов и обычных."
   ]
  }
 ],
 "metadata": {
  "kernelspec": {
   "display_name": "uni-lessons-da-and-ml",
   "language": "python",
   "name": "python3"
  },
  "language_info": {
   "codemirror_mode": {
    "name": "ipython",
    "version": 3
   },
   "file_extension": ".py",
   "mimetype": "text/x-python",
   "name": "python",
   "nbconvert_exporter": "python",
   "pygments_lexer": "ipython3",
   "version": "3.11.11"
  }
 },
 "nbformat": 4,
 "nbformat_minor": 5
}
