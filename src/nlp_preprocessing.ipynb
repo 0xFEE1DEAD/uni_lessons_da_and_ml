{
 "cells": [
  {
   "cell_type": "code",
   "execution_count": 41,
   "id": "8b5f9ffc",
   "metadata": {},
   "outputs": [],
   "source": [
    "import string\n",
    "import urllib.request\n",
    "from pathlib import Path\n",
    "\n",
    "import nltk\n",
    "import polars as pl\n",
    "import pymorphy3\n",
    "from navec import Navec\n",
    "from razdel import tokenize\n",
    "from slovnet import Morph\n"
   ]
  },
  {
   "cell_type": "markdown",
   "id": "e7693141",
   "metadata": {},
   "source": [
    "# 1. Выбрать dataset с предложениями на русском языке"
   ]
  },
  {
   "cell_type": "code",
   "execution_count": 2,
   "id": "164271d2",
   "metadata": {},
   "outputs": [],
   "source": [
    "df = pl.read_csv(\n",
    "    \"https://github.com/0xFEE1DEAD/tatoeba_rus_to_eng/raw/refs/heads/main/tatoeba_rus_to_eng.tsv\",\n",
    "    separator=\"\\t\",\n",
    "    has_header=False,\n",
    "    new_columns=[\"ru_id\", \"ru\", \"eng_id\", \"eng\"],\n",
    "    encoding=\"utf8\",\n",
    "    quote_char=None,\n",
    "    ignore_errors=True,\n",
    "    truncate_ragged_lines=True,\n",
    "    n_rows=15000,\n",
    ")"
   ]
  },
  {
   "cell_type": "markdown",
   "id": "b296f0ae",
   "metadata": {},
   "source": [
    "# С помощью NLTK разбейте предложения на токены"
   ]
  },
  {
   "cell_type": "code",
   "execution_count": null,
   "id": "1b2fc98b",
   "metadata": {},
   "outputs": [
    {
     "name": "stderr",
     "output_type": "stream",
     "text": [
      "[nltk_data] Downloading package punkt to /home/pavel/nltk_data...\n",
      "[nltk_data]   Package punkt is already up-to-date!\n",
      "[nltk_data] Downloading package punkt_tab to /home/pavel/nltk_data...\n",
      "[nltk_data]   Package punkt_tab is already up-to-date!\n",
      "[nltk_data] Downloading package stopwords to /home/pavel/nltk_data...\n",
      "[nltk_data]   Unzipping corpora/stopwords.zip.\n"
     ]
    },
    {
     "data": {
      "text/plain": [
       "True"
      ]
     },
     "execution_count": 20,
     "metadata": {},
     "output_type": "execute_result"
    }
   ],
   "source": [
    "nltk.download(\"punkt\")\n",
    "nltk.download(\"punkt_tab\")\n",
    "nltk.download(\"stopwords\")"
   ]
  },
  {
   "cell_type": "code",
   "execution_count": 6,
   "id": "c70d2615",
   "metadata": {},
   "outputs": [],
   "source": [
    "df_with_tokens = df.with_columns(\n",
    "    pl.col(\"ru\")\n",
    "    .map_elements(lambda sentence: nltk.word_tokenize(sentence, language=\"russian\"), return_dtype=pl.List(pl.String))\n",
    "    .alias(\"tokens\"),\n",
    ")"
   ]
  },
  {
   "cell_type": "code",
   "execution_count": 7,
   "id": "67d961ef",
   "metadata": {},
   "outputs": [
    {
     "data": {
      "text/html": [
       "<div><style>\n",
       ".dataframe > thead > tr,\n",
       ".dataframe > tbody > tr {\n",
       "  text-align: right;\n",
       "  white-space: pre-wrap;\n",
       "}\n",
       "</style>\n",
       "<small>shape: (15_000, 5)</small><table border=\"1\" class=\"dataframe\"><thead><tr><th>ru_id</th><th>ru</th><th>eng_id</th><th>eng</th><th>tokens</th></tr><tr><td>i64</td><td>str</td><td>i64</td><td>str</td><td>list[str]</td></tr></thead><tbody><tr><td>243</td><td>&quot;Один раз в жизни я делаю хорош…</td><td>3257</td><td>&quot;For once in my life I&#x27;m doing …</td><td>[&quot;Один&quot;, &quot;раз&quot;, … &quot;.&quot;]</td></tr><tr><td>5409</td><td>&quot;Давайте что-нибудь попробуем!&quot;</td><td>1276</td><td>&quot;Let&#x27;s try something.&quot;</td><td>[&quot;Давайте&quot;, &quot;что-нибудь&quot;, … &quot;!&quot;]</td></tr><tr><td>5410</td><td>&quot;Мне пора идти спать.&quot;</td><td>1277</td><td>&quot;I have to go to sleep.&quot;</td><td>[&quot;Мне&quot;, &quot;пора&quot;, … &quot;.&quot;]</td></tr><tr><td>5411</td><td>&quot;Что ты делаешь?&quot;</td><td>16492</td><td>&quot;What are you doing?&quot;</td><td>[&quot;Что&quot;, &quot;ты&quot;, … &quot;?&quot;]</td></tr><tr><td>5411</td><td>&quot;Что ты делаешь?&quot;</td><td>511884</td><td>&quot;What do you make?&quot;</td><td>[&quot;Что&quot;, &quot;ты&quot;, … &quot;?&quot;]</td></tr><tr><td>&hellip;</td><td>&hellip;</td><td>&hellip;</td><td>&hellip;</td><td>&hellip;</td></tr><tr><td>615493</td><td>&quot;Где туалет?&quot;</td><td>2136</td><td>&quot;Where is the bathroom?&quot;</td><td>[&quot;Где&quot;, &quot;туалет&quot;, &quot;?&quot;]</td></tr><tr><td>615493</td><td>&quot;Где туалет?&quot;</td><td>634087</td><td>&quot;Where&#x27;s the bathroom?&quot;</td><td>[&quot;Где&quot;, &quot;туалет&quot;, &quot;?&quot;]</td></tr><tr><td>615493</td><td>&quot;Где туалет?&quot;</td><td>687556</td><td>&quot;Where are the toilets?&quot;</td><td>[&quot;Где&quot;, &quot;туалет&quot;, &quot;?&quot;]</td></tr><tr><td>615493</td><td>&quot;Где туалет?&quot;</td><td>689073</td><td>&quot;Where is the restroom?&quot;</td><td>[&quot;Где&quot;, &quot;туалет&quot;, &quot;?&quot;]</td></tr><tr><td>616239</td><td>&quot;Ты одолжишь мне свой нож?&quot;</td><td>36538</td><td>&quot;Would you lend me your knife?&quot;</td><td>[&quot;Ты&quot;, &quot;одолжишь&quot;, … &quot;?&quot;]</td></tr></tbody></table></div>"
      ],
      "text/plain": [
       "shape: (15_000, 5)\n",
       "┌────────┬──────────────────────────┬────────┬──────────────────────────┬──────────────────────────┐\n",
       "│ ru_id  ┆ ru                       ┆ eng_id ┆ eng                      ┆ tokens                   │\n",
       "│ ---    ┆ ---                      ┆ ---    ┆ ---                      ┆ ---                      │\n",
       "│ i64    ┆ str                      ┆ i64    ┆ str                      ┆ list[str]                │\n",
       "╞════════╪══════════════════════════╪════════╪══════════════════════════╪══════════════════════════╡\n",
       "│ 243    ┆ Один раз в жизни я делаю ┆ 3257   ┆ For once in my life I'm  ┆ [\"Один\", \"раз\", … \".\"]   │\n",
       "│        ┆ хорош…                   ┆        ┆ doing …                  ┆                          │\n",
       "│ 5409   ┆ Давайте что-нибудь       ┆ 1276   ┆ Let's try something.     ┆ [\"Давайте\",              │\n",
       "│        ┆ попробуем!               ┆        ┆                          ┆ \"что-нибудь\", … \"!…      │\n",
       "│ 5410   ┆ Мне пора идти спать.     ┆ 1277   ┆ I have to go to sleep.   ┆ [\"Мне\", \"пора\", … \".\"]   │\n",
       "│ 5411   ┆ Что ты делаешь?          ┆ 16492  ┆ What are you doing?      ┆ [\"Что\", \"ты\", … \"?\"]     │\n",
       "│ 5411   ┆ Что ты делаешь?          ┆ 511884 ┆ What do you make?        ┆ [\"Что\", \"ты\", … \"?\"]     │\n",
       "│ …      ┆ …                        ┆ …      ┆ …                        ┆ …                        │\n",
       "│ 615493 ┆ Где туалет?              ┆ 2136   ┆ Where is the bathroom?   ┆ [\"Где\", \"туалет\", \"?\"]   │\n",
       "│ 615493 ┆ Где туалет?              ┆ 634087 ┆ Where's the bathroom?    ┆ [\"Где\", \"туалет\", \"?\"]   │\n",
       "│ 615493 ┆ Где туалет?              ┆ 687556 ┆ Where are the toilets?   ┆ [\"Где\", \"туалет\", \"?\"]   │\n",
       "│ 615493 ┆ Где туалет?              ┆ 689073 ┆ Where is the restroom?   ┆ [\"Где\", \"туалет\", \"?\"]   │\n",
       "│ 616239 ┆ Ты одолжишь мне свой     ┆ 36538  ┆ Would you lend me your   ┆ [\"Ты\", \"одолжишь\", …     │\n",
       "│        ┆ нож?                     ┆        ┆ knife?                   ┆ \"?\"]                     │\n",
       "└────────┴──────────────────────────┴────────┴──────────────────────────┴──────────────────────────┘"
      ]
     },
     "execution_count": 7,
     "metadata": {},
     "output_type": "execute_result"
    }
   ],
   "source": [
    "df_with_tokens"
   ]
  },
  {
   "cell_type": "markdown",
   "id": "c0bfb389",
   "metadata": {},
   "source": [
    "# 3. Приведите токены к строчным (lowercase) буквам"
   ]
  },
  {
   "cell_type": "code",
   "execution_count": 11,
   "id": "144398b1",
   "metadata": {},
   "outputs": [
    {
     "data": {
      "text/html": [
       "<div><style>\n",
       ".dataframe > thead > tr,\n",
       ".dataframe > tbody > tr {\n",
       "  text-align: right;\n",
       "  white-space: pre-wrap;\n",
       "}\n",
       "</style>\n",
       "<small>shape: (15_000, 5)</small><table border=\"1\" class=\"dataframe\"><thead><tr><th>ru_id</th><th>ru</th><th>eng_id</th><th>eng</th><th>tokens</th></tr><tr><td>i64</td><td>str</td><td>i64</td><td>str</td><td>list[str]</td></tr></thead><tbody><tr><td>243</td><td>&quot;Один раз в жизни я делаю хорош…</td><td>3257</td><td>&quot;For once in my life I&#x27;m doing …</td><td>[&quot;один&quot;, &quot;раз&quot;, … &quot;.&quot;]</td></tr><tr><td>5409</td><td>&quot;Давайте что-нибудь попробуем!&quot;</td><td>1276</td><td>&quot;Let&#x27;s try something.&quot;</td><td>[&quot;давайте&quot;, &quot;что-нибудь&quot;, … &quot;!&quot;]</td></tr><tr><td>5410</td><td>&quot;Мне пора идти спать.&quot;</td><td>1277</td><td>&quot;I have to go to sleep.&quot;</td><td>[&quot;мне&quot;, &quot;пора&quot;, … &quot;.&quot;]</td></tr><tr><td>5411</td><td>&quot;Что ты делаешь?&quot;</td><td>16492</td><td>&quot;What are you doing?&quot;</td><td>[&quot;что&quot;, &quot;ты&quot;, … &quot;?&quot;]</td></tr><tr><td>5411</td><td>&quot;Что ты делаешь?&quot;</td><td>511884</td><td>&quot;What do you make?&quot;</td><td>[&quot;что&quot;, &quot;ты&quot;, … &quot;?&quot;]</td></tr><tr><td>&hellip;</td><td>&hellip;</td><td>&hellip;</td><td>&hellip;</td><td>&hellip;</td></tr><tr><td>615493</td><td>&quot;Где туалет?&quot;</td><td>2136</td><td>&quot;Where is the bathroom?&quot;</td><td>[&quot;где&quot;, &quot;туалет&quot;, &quot;?&quot;]</td></tr><tr><td>615493</td><td>&quot;Где туалет?&quot;</td><td>634087</td><td>&quot;Where&#x27;s the bathroom?&quot;</td><td>[&quot;где&quot;, &quot;туалет&quot;, &quot;?&quot;]</td></tr><tr><td>615493</td><td>&quot;Где туалет?&quot;</td><td>687556</td><td>&quot;Where are the toilets?&quot;</td><td>[&quot;где&quot;, &quot;туалет&quot;, &quot;?&quot;]</td></tr><tr><td>615493</td><td>&quot;Где туалет?&quot;</td><td>689073</td><td>&quot;Where is the restroom?&quot;</td><td>[&quot;где&quot;, &quot;туалет&quot;, &quot;?&quot;]</td></tr><tr><td>616239</td><td>&quot;Ты одолжишь мне свой нож?&quot;</td><td>36538</td><td>&quot;Would you lend me your knife?&quot;</td><td>[&quot;ты&quot;, &quot;одолжишь&quot;, … &quot;?&quot;]</td></tr></tbody></table></div>"
      ],
      "text/plain": [
       "shape: (15_000, 5)\n",
       "┌────────┬──────────────────────────┬────────┬──────────────────────────┬──────────────────────────┐\n",
       "│ ru_id  ┆ ru                       ┆ eng_id ┆ eng                      ┆ tokens                   │\n",
       "│ ---    ┆ ---                      ┆ ---    ┆ ---                      ┆ ---                      │\n",
       "│ i64    ┆ str                      ┆ i64    ┆ str                      ┆ list[str]                │\n",
       "╞════════╪══════════════════════════╪════════╪══════════════════════════╪══════════════════════════╡\n",
       "│ 243    ┆ Один раз в жизни я делаю ┆ 3257   ┆ For once in my life I'm  ┆ [\"один\", \"раз\", … \".\"]   │\n",
       "│        ┆ хорош…                   ┆        ┆ doing …                  ┆                          │\n",
       "│ 5409   ┆ Давайте что-нибудь       ┆ 1276   ┆ Let's try something.     ┆ [\"давайте\",              │\n",
       "│        ┆ попробуем!               ┆        ┆                          ┆ \"что-нибудь\", … \"!…      │\n",
       "│ 5410   ┆ Мне пора идти спать.     ┆ 1277   ┆ I have to go to sleep.   ┆ [\"мне\", \"пора\", … \".\"]   │\n",
       "│ 5411   ┆ Что ты делаешь?          ┆ 16492  ┆ What are you doing?      ┆ [\"что\", \"ты\", … \"?\"]     │\n",
       "│ 5411   ┆ Что ты делаешь?          ┆ 511884 ┆ What do you make?        ┆ [\"что\", \"ты\", … \"?\"]     │\n",
       "│ …      ┆ …                        ┆ …      ┆ …                        ┆ …                        │\n",
       "│ 615493 ┆ Где туалет?              ┆ 2136   ┆ Where is the bathroom?   ┆ [\"где\", \"туалет\", \"?\"]   │\n",
       "│ 615493 ┆ Где туалет?              ┆ 634087 ┆ Where's the bathroom?    ┆ [\"где\", \"туалет\", \"?\"]   │\n",
       "│ 615493 ┆ Где туалет?              ┆ 687556 ┆ Where are the toilets?   ┆ [\"где\", \"туалет\", \"?\"]   │\n",
       "│ 615493 ┆ Где туалет?              ┆ 689073 ┆ Where is the restroom?   ┆ [\"где\", \"туалет\", \"?\"]   │\n",
       "│ 616239 ┆ Ты одолжишь мне свой     ┆ 36538  ┆ Would you lend me your   ┆ [\"ты\", \"одолжишь\", …     │\n",
       "│        ┆ нож?                     ┆        ┆ knife?                   ┆ \"?\"]                     │\n",
       "└────────┴──────────────────────────┴────────┴──────────────────────────┴──────────────────────────┘"
      ]
     },
     "execution_count": 11,
     "metadata": {},
     "output_type": "execute_result"
    }
   ],
   "source": [
    "def lower_in_list(tokens: list[str]) -> list[str]:\n",
    "    return list(map(lambda sentence: str.lower(sentence), tokens))\n",
    "\n",
    "\n",
    "df_with_tokens = df_with_tokens.with_columns(\n",
    "    pl.col(\"tokens\").map_elements(lambda tokens: lower_in_list(tokens), return_dtype=pl.List(pl.String)),\n",
    ")\n",
    "df_with_tokens"
   ]
  },
  {
   "cell_type": "markdown",
   "id": "1e28014a",
   "metadata": {},
   "source": [
    "# 4. С помощью pymorphy3 выделите в токенах леммы (нормальные формы слов)"
   ]
  },
  {
   "cell_type": "code",
   "execution_count": 18,
   "id": "c5a3e63a",
   "metadata": {},
   "outputs": [
    {
     "data": {
      "text/html": [
       "<div><style>\n",
       ".dataframe > thead > tr,\n",
       ".dataframe > tbody > tr {\n",
       "  text-align: right;\n",
       "  white-space: pre-wrap;\n",
       "}\n",
       "</style>\n",
       "<small>shape: (15_000, 5)</small><table border=\"1\" class=\"dataframe\"><thead><tr><th>ru_id</th><th>ru</th><th>eng_id</th><th>eng</th><th>tokens</th></tr><tr><td>i64</td><td>str</td><td>i64</td><td>str</td><td>list[str]</td></tr></thead><tbody><tr><td>243</td><td>&quot;Один раз в жизни я делаю хорош…</td><td>3257</td><td>&quot;For once in my life I&#x27;m doing …</td><td>[&quot;один&quot;, &quot;раз&quot;, … &quot;.&quot;]</td></tr><tr><td>5409</td><td>&quot;Давайте что-нибудь попробуем!&quot;</td><td>1276</td><td>&quot;Let&#x27;s try something.&quot;</td><td>[&quot;давать&quot;, &quot;что-нибудь&quot;, … &quot;!&quot;]</td></tr><tr><td>5410</td><td>&quot;Мне пора идти спать.&quot;</td><td>1277</td><td>&quot;I have to go to sleep.&quot;</td><td>[&quot;я&quot;, &quot;пора&quot;, … &quot;.&quot;]</td></tr><tr><td>5411</td><td>&quot;Что ты делаешь?&quot;</td><td>16492</td><td>&quot;What are you doing?&quot;</td><td>[&quot;что&quot;, &quot;ты&quot;, … &quot;?&quot;]</td></tr><tr><td>5411</td><td>&quot;Что ты делаешь?&quot;</td><td>511884</td><td>&quot;What do you make?&quot;</td><td>[&quot;что&quot;, &quot;ты&quot;, … &quot;?&quot;]</td></tr><tr><td>&hellip;</td><td>&hellip;</td><td>&hellip;</td><td>&hellip;</td><td>&hellip;</td></tr><tr><td>615493</td><td>&quot;Где туалет?&quot;</td><td>2136</td><td>&quot;Where is the bathroom?&quot;</td><td>[&quot;где&quot;, &quot;туалет&quot;, &quot;?&quot;]</td></tr><tr><td>615493</td><td>&quot;Где туалет?&quot;</td><td>634087</td><td>&quot;Where&#x27;s the bathroom?&quot;</td><td>[&quot;где&quot;, &quot;туалет&quot;, &quot;?&quot;]</td></tr><tr><td>615493</td><td>&quot;Где туалет?&quot;</td><td>687556</td><td>&quot;Where are the toilets?&quot;</td><td>[&quot;где&quot;, &quot;туалет&quot;, &quot;?&quot;]</td></tr><tr><td>615493</td><td>&quot;Где туалет?&quot;</td><td>689073</td><td>&quot;Where is the restroom?&quot;</td><td>[&quot;где&quot;, &quot;туалет&quot;, &quot;?&quot;]</td></tr><tr><td>616239</td><td>&quot;Ты одолжишь мне свой нож?&quot;</td><td>36538</td><td>&quot;Would you lend me your knife?&quot;</td><td>[&quot;ты&quot;, &quot;одолжить&quot;, … &quot;?&quot;]</td></tr></tbody></table></div>"
      ],
      "text/plain": [
       "shape: (15_000, 5)\n",
       "┌────────┬──────────────────────────┬────────┬──────────────────────────┬──────────────────────────┐\n",
       "│ ru_id  ┆ ru                       ┆ eng_id ┆ eng                      ┆ tokens                   │\n",
       "│ ---    ┆ ---                      ┆ ---    ┆ ---                      ┆ ---                      │\n",
       "│ i64    ┆ str                      ┆ i64    ┆ str                      ┆ list[str]                │\n",
       "╞════════╪══════════════════════════╪════════╪══════════════════════════╪══════════════════════════╡\n",
       "│ 243    ┆ Один раз в жизни я делаю ┆ 3257   ┆ For once in my life I'm  ┆ [\"один\", \"раз\", … \".\"]   │\n",
       "│        ┆ хорош…                   ┆        ┆ doing …                  ┆                          │\n",
       "│ 5409   ┆ Давайте что-нибудь       ┆ 1276   ┆ Let's try something.     ┆ [\"давать\", \"что-нибудь\", │\n",
       "│        ┆ попробуем!               ┆        ┆                          ┆ … \"!\"…                   │\n",
       "│ 5410   ┆ Мне пора идти спать.     ┆ 1277   ┆ I have to go to sleep.   ┆ [\"я\", \"пора\", … \".\"]     │\n",
       "│ 5411   ┆ Что ты делаешь?          ┆ 16492  ┆ What are you doing?      ┆ [\"что\", \"ты\", … \"?\"]     │\n",
       "│ 5411   ┆ Что ты делаешь?          ┆ 511884 ┆ What do you make?        ┆ [\"что\", \"ты\", … \"?\"]     │\n",
       "│ …      ┆ …                        ┆ …      ┆ …                        ┆ …                        │\n",
       "│ 615493 ┆ Где туалет?              ┆ 2136   ┆ Where is the bathroom?   ┆ [\"где\", \"туалет\", \"?\"]   │\n",
       "│ 615493 ┆ Где туалет?              ┆ 634087 ┆ Where's the bathroom?    ┆ [\"где\", \"туалет\", \"?\"]   │\n",
       "│ 615493 ┆ Где туалет?              ┆ 687556 ┆ Where are the toilets?   ┆ [\"где\", \"туалет\", \"?\"]   │\n",
       "│ 615493 ┆ Где туалет?              ┆ 689073 ┆ Where is the restroom?   ┆ [\"где\", \"туалет\", \"?\"]   │\n",
       "│ 616239 ┆ Ты одолжишь мне свой     ┆ 36538  ┆ Would you lend me your   ┆ [\"ты\", \"одолжить\", …     │\n",
       "│        ┆ нож?                     ┆        ┆ knife?                   ┆ \"?\"]                     │\n",
       "└────────┴──────────────────────────┴────────┴──────────────────────────┴──────────────────────────┘"
      ]
     },
     "execution_count": 18,
     "metadata": {},
     "output_type": "execute_result"
    }
   ],
   "source": [
    "morph = pymorphy3.MorphAnalyzer(lang=\"ru\")\n",
    "\n",
    "\n",
    "def get_lemmas(tokens: list[str]) -> list[str]:\n",
    "    return list(map(lambda token: morph.parse(token)[0].normal_form, tokens))\n",
    "\n",
    "\n",
    "df_with_tokens = df_with_tokens.with_columns(\n",
    "    pl.col(\"tokens\").map_elements(lambda tokens: get_lemmas(tokens), return_dtype=pl.List(pl.String)),\n",
    ")\n",
    "df_with_tokens"
   ]
  },
  {
   "cell_type": "markdown",
   "id": "d474f644",
   "metadata": {},
   "source": [
    "# 5.Очистите токены от стоп-слов и знаков препинания"
   ]
  },
  {
   "cell_type": "code",
   "execution_count": 28,
   "id": "47d6c046",
   "metadata": {},
   "outputs": [
    {
     "data": {
      "text/html": [
       "<div><style>\n",
       ".dataframe > thead > tr,\n",
       ".dataframe > tbody > tr {\n",
       "  text-align: right;\n",
       "  white-space: pre-wrap;\n",
       "}\n",
       "</style>\n",
       "<small>shape: (15_000, 5)</small><table border=\"1\" class=\"dataframe\"><thead><tr><th>ru_id</th><th>ru</th><th>eng_id</th><th>eng</th><th>tokens</th></tr><tr><td>i64</td><td>str</td><td>i64</td><td>str</td><td>list[str]</td></tr></thead><tbody><tr><td>243</td><td>&quot;Один раз в жизни я делаю хорош…</td><td>3257</td><td>&quot;For once in my life I&#x27;m doing …</td><td>[&quot;жизнь&quot;, &quot;делать&quot;, … &quot;бесполезно&quot;]</td></tr><tr><td>5409</td><td>&quot;Давайте что-нибудь попробуем!&quot;</td><td>1276</td><td>&quot;Let&#x27;s try something.&quot;</td><td>[&quot;давать&quot;, &quot;что-нибудь&quot;, &quot;попробовать&quot;]</td></tr><tr><td>5410</td><td>&quot;Мне пора идти спать.&quot;</td><td>1277</td><td>&quot;I have to go to sleep.&quot;</td><td>[&quot;пора&quot;, &quot;идти&quot;, &quot;спать&quot;]</td></tr><tr><td>5411</td><td>&quot;Что ты делаешь?&quot;</td><td>16492</td><td>&quot;What are you doing?&quot;</td><td>[&quot;делать&quot;]</td></tr><tr><td>5411</td><td>&quot;Что ты делаешь?&quot;</td><td>511884</td><td>&quot;What do you make?&quot;</td><td>[&quot;делать&quot;]</td></tr><tr><td>&hellip;</td><td>&hellip;</td><td>&hellip;</td><td>&hellip;</td><td>&hellip;</td></tr><tr><td>615493</td><td>&quot;Где туалет?&quot;</td><td>2136</td><td>&quot;Where is the bathroom?&quot;</td><td>[&quot;туалет&quot;]</td></tr><tr><td>615493</td><td>&quot;Где туалет?&quot;</td><td>634087</td><td>&quot;Where&#x27;s the bathroom?&quot;</td><td>[&quot;туалет&quot;]</td></tr><tr><td>615493</td><td>&quot;Где туалет?&quot;</td><td>687556</td><td>&quot;Where are the toilets?&quot;</td><td>[&quot;туалет&quot;]</td></tr><tr><td>615493</td><td>&quot;Где туалет?&quot;</td><td>689073</td><td>&quot;Where is the restroom?&quot;</td><td>[&quot;туалет&quot;]</td></tr><tr><td>616239</td><td>&quot;Ты одолжишь мне свой нож?&quot;</td><td>36538</td><td>&quot;Would you lend me your knife?&quot;</td><td>[&quot;одолжить&quot;, &quot;свой&quot;, &quot;нож&quot;]</td></tr></tbody></table></div>"
      ],
      "text/plain": [
       "shape: (15_000, 5)\n",
       "┌────────┬──────────────────────────┬────────┬──────────────────────────┬──────────────────────────┐\n",
       "│ ru_id  ┆ ru                       ┆ eng_id ┆ eng                      ┆ tokens                   │\n",
       "│ ---    ┆ ---                      ┆ ---    ┆ ---                      ┆ ---                      │\n",
       "│ i64    ┆ str                      ┆ i64    ┆ str                      ┆ list[str]                │\n",
       "╞════════╪══════════════════════════╪════════╪══════════════════════════╪══════════════════════════╡\n",
       "│ 243    ┆ Один раз в жизни я делаю ┆ 3257   ┆ For once in my life I'm  ┆ [\"жизнь\", \"делать\", …    │\n",
       "│        ┆ хорош…                   ┆        ┆ doing …                  ┆ \"бесполе…                │\n",
       "│ 5409   ┆ Давайте что-нибудь       ┆ 1276   ┆ Let's try something.     ┆ [\"давать\", \"что-нибудь\", │\n",
       "│        ┆ попробуем!               ┆        ┆                          ┆ \"попр…                   │\n",
       "│ 5410   ┆ Мне пора идти спать.     ┆ 1277   ┆ I have to go to sleep.   ┆ [\"пора\", \"идти\",         │\n",
       "│        ┆                          ┆        ┆                          ┆ \"спать\"]                 │\n",
       "│ 5411   ┆ Что ты делаешь?          ┆ 16492  ┆ What are you doing?      ┆ [\"делать\"]               │\n",
       "│ 5411   ┆ Что ты делаешь?          ┆ 511884 ┆ What do you make?        ┆ [\"делать\"]               │\n",
       "│ …      ┆ …                        ┆ …      ┆ …                        ┆ …                        │\n",
       "│ 615493 ┆ Где туалет?              ┆ 2136   ┆ Where is the bathroom?   ┆ [\"туалет\"]               │\n",
       "│ 615493 ┆ Где туалет?              ┆ 634087 ┆ Where's the bathroom?    ┆ [\"туалет\"]               │\n",
       "│ 615493 ┆ Где туалет?              ┆ 687556 ┆ Where are the toilets?   ┆ [\"туалет\"]               │\n",
       "│ 615493 ┆ Где туалет?              ┆ 689073 ┆ Where is the restroom?   ┆ [\"туалет\"]               │\n",
       "│ 616239 ┆ Ты одолжишь мне свой     ┆ 36538  ┆ Would you lend me your   ┆ [\"одолжить\", \"свой\",     │\n",
       "│        ┆ нож?                     ┆        ┆ knife?                   ┆ \"нож\"]                   │\n",
       "└────────┴──────────────────────────┴────────┴──────────────────────────┴──────────────────────────┘"
      ]
     },
     "execution_count": 28,
     "metadata": {},
     "output_type": "execute_result"
    }
   ],
   "source": [
    "clean_set = set(nltk.corpus.stopwords.words(\"russian\")) | set(string.punctuation)\n",
    "\n",
    "\n",
    "def clean_tokens(tokens: list[str]) -> list[str]:\n",
    "    return list(filter(lambda token: token not in clean_set, tokens))\n",
    "\n",
    "\n",
    "df_with_tokens = df_with_tokens.with_columns(\n",
    "    pl.col(\"tokens\").map_elements(lambda tokens: clean_tokens(tokens), return_dtype=pl.List(pl.String)),\n",
    ")\n",
    "df_with_tokens"
   ]
  },
  {
   "cell_type": "markdown",
   "id": "f6536357",
   "metadata": {},
   "source": [
    "# 6.Выберите одно предложение и с помощью pymorphy и Natasha проведите морфологический анализ входящих в него слов (часть речи, род, число, падеж, время и т.п.)"
   ]
  },
  {
   "cell_type": "code",
   "execution_count": 31,
   "id": "1c2359d2",
   "metadata": {},
   "outputs": [
    {
     "data": {
      "text/plain": [
       "'Один раз в жизни я делаю хорошее дело... И оно бесполезно.'"
      ]
     },
     "execution_count": 31,
     "metadata": {},
     "output_type": "execute_result"
    }
   ],
   "source": [
    "sentence = df[\"ru\"][0]\n",
    "sentence"
   ]
  },
  {
   "cell_type": "code",
   "execution_count": null,
   "id": "ee0d42d3",
   "metadata": {},
   "outputs": [
    {
     "name": "stdout",
     "output_type": "stream",
     "text": [
      "Слово        Часть речи   Род      Число    Падеж      Время    Доп.                \n",
      "---------------------------------------------------------------------------\n",
      "Один         adjf         masc     sing     nomn                                    \n",
      "раз          noun         masc     plur     gent                одуш=inan           \n",
      "в            prep                                                                   \n",
      "жизни        noun         femn     sing     gent                одуш=inan           \n",
      "я            npro                  sing     nomn                                    \n",
      "делаю        verb                  sing                pres     вид=impf            \n",
      "хорошее      adjf         neut     sing     accs                                    \n",
      "дело         noun         neut     sing     nomn                одуш=inan           \n",
      "...                                                                                 \n",
      "И            conj                                                                   \n",
      "оно          npro         neut     sing     nomn                                    \n",
      "бесполезно   advb                                                                   \n"
     ]
    }
   ],
   "source": [
    "morph = pymorphy3.MorphAnalyzer(lang=\"ru\")\n",
    "punct = set(string.punctuation)\n",
    "\n",
    "print(f\"{'Слово':<12} {'Часть речи':<12} {'Род':<8} {'Число':<8} {'Падеж':<10} {'Время':<8} {'Доп.':<20}\")\n",
    "print(\"-\" * 75)\n",
    "\n",
    "for word in nltk.word_tokenize(sentence, language=\"russian\"):\n",
    "    if word in punct:\n",
    "        continue\n",
    "\n",
    "    parse = morph.parse(word)[0]\n",
    "    tag = parse.tag\n",
    "\n",
    "    pos = str(tag.POS).lower() if tag.POS else \"\"\n",
    "    gender = str(tag.gender).lower() if tag.gender else \"\"\n",
    "    number = str(tag.number).lower() if tag.number else \"\"\n",
    "    case = str(tag.case).lower() if tag.case else \"\"\n",
    "    tense = str(tag.tense).lower() if tag.tense else \"\"\n",
    "\n",
    "    extra = []\n",
    "    if tag.animacy:\n",
    "        extra.append(f\"одуш={tag.animacy}\")\n",
    "    if tag.aspect:\n",
    "        extra.append(f\"вид={tag.aspect}\")\n",
    "    if tag.voice:\n",
    "        extra.append(f\"залог={tag.voice}\")\n",
    "\n",
    "    print(f\"{word:<12} {pos:<12} {gender:<8} {number:<8} {case:<10} {tense:<8} {' '.join(extra):<20}\")\n"
   ]
  },
  {
   "cell_type": "code",
   "execution_count": 42,
   "id": "4c1ffc79",
   "metadata": {},
   "outputs": [],
   "source": [
    "def ensure_model(url: str, local_path: str) -> None:\n",
    "    local_path = Path(local_path)\n",
    "    if not local_path.exists():\n",
    "        print(f\"Скачивание {url} → {local_path}\")\n",
    "        local_path.parent.mkdir(parents=True, exist_ok=True)\n",
    "        urllib.request.urlretrieve(url, local_path)"
   ]
  },
  {
   "cell_type": "code",
   "execution_count": 48,
   "id": "5e7e6fc7",
   "metadata": {},
   "outputs": [
    {
     "name": "stdout",
     "output_type": "stream",
     "text": [
      "Скачивание https://storage.yandexcloud.net/natasha-navec/packs/navec_news_v1_1B_250K_300d_100q.tar → natasha/navec_news_v1_1B_250K_300d_100q.tar\n"
     ]
    }
   ],
   "source": [
    "ensure_model(\n",
    "    \"https://storage.yandexcloud.net/natasha-navec/packs/navec_news_v1_1B_250K_300d_100q.tar\",\n",
    "    \"natasha/navec_news_v1_1B_250K_300d_100q.tar\",\n",
    ")"
   ]
  },
  {
   "cell_type": "code",
   "execution_count": null,
   "id": "c7d1bf04",
   "metadata": {},
   "outputs": [
    {
     "name": "stdout",
     "output_type": "stream",
     "text": [
      "Скачивание https://storage.yandexcloud.net/natasha-slovnet/packs/slovnet_morph_news_v1.tar → slovnet_morph_news_v1.tar\n"
     ]
    }
   ],
   "source": [
    "ensure_model(\n",
    "    \"https://storage.yandexcloud.net/natasha-slovnet/packs/slovnet_morph_news_v1.tar\",\n",
    "    \"natasha/slovnet_morph_news_v1.tar\",\n",
    ")"
   ]
  },
  {
   "cell_type": "code",
   "execution_count": 54,
   "id": "f3c161b4",
   "metadata": {},
   "outputs": [
    {
     "name": "stdout",
     "output_type": "stream",
     "text": [
      "Один         NUM|Animacy=Inan|Case=Acc|Gender=Masc\n",
      "раз          NOUN|Animacy=Inan|Case=Acc|Gender=Masc|Number=Sing\n",
      "в            ADP\n",
      "жизни        NOUN|Animacy=Inan|Case=Loc|Gender=Fem|Number=Sing\n",
      "я            PRON|Case=Nom|Number=Sing|Person=1\n",
      "делаю        VERB|Aspect=Imp|Mood=Ind|Number=Sing|Person=1|Tense=Pres|VerbForm=Fin|Voice=Act\n",
      "хорошее      ADJ|Animacy=Inan|Case=Acc|Degree=Pos|Gender=Neut|Number=Sing\n",
      "дело         NOUN|Animacy=Inan|Case=Acc|Gender=Neut|Number=Sing\n",
      "...          PUNCT\n",
      "И            CCONJ\n",
      "оно          PRON|Case=Nom|Gender=Neut|Number=Sing|Person=3\n",
      "бесполезно   ADJ|Degree=Pos|Gender=Neut|Number=Sing|Variant=Short\n",
      ".            PUNCT\n"
     ]
    }
   ],
   "source": [
    "navec = Navec.load(\"natasha/navec_news_v1_1B_250K_300d_100q.tar\")\n",
    "morph = Morph.load(\"natasha/slovnet_morph_news_v1.tar\")\n",
    "morph.navec(navec)\n",
    "\n",
    "tokens = [_.text for _ in tokenize(sentence)]\n",
    "markups = morph(tokens)\n",
    "\n",
    "for markup in markups:\n",
    "    for word in markup:\n",
    "        print(f\"{word.text:<12} {word.tag}\")"
   ]
  }
 ],
 "metadata": {
  "kernelspec": {
   "display_name": "uni-lessons-da-and-ml (3.11.11)",
   "language": "python",
   "name": "python3"
  },
  "language_info": {
   "codemirror_mode": {
    "name": "ipython",
    "version": 3
   },
   "file_extension": ".py",
   "mimetype": "text/x-python",
   "name": "python",
   "nbconvert_exporter": "python",
   "pygments_lexer": "ipython3",
   "version": "3.11.11"
  }
 },
 "nbformat": 4,
 "nbformat_minor": 5
}
