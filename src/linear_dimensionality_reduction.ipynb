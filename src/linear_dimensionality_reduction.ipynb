{
 "cells": [
  {
   "cell_type": "markdown",
   "id": "d644d3e9",
   "metadata": {},
   "source": [
    "### Линейное уменьшение размерности, используя PCA (principal component analysis) и tSNE (T-distributed Stochastic Neighbor Embedding)"
   ]
  },
  {
   "cell_type": "code",
   "execution_count": 1,
   "id": "987f79aa",
   "metadata": {},
   "outputs": [],
   "source": [
    "import matplotlib.pyplot as plt\n",
    "import pandas as pd\n",
    "import seaborn as sns\n",
    "\n",
    "car_price_df = pd.read_csv(\"https://raw.githubusercontent.com/YBI-Foundation/Dataset/refs/heads/main/Car%20Price.csv\")"
   ]
  },
  {
   "cell_type": "markdown",
   "id": "1f90194d",
   "metadata": {},
   "source": [
    "### Проверка и подготовка данных к обучению"
   ]
  },
  {
   "cell_type": "code",
   "execution_count": 2,
   "id": "5d070b4a",
   "metadata": {},
   "outputs": [
    {
     "name": "stdout",
     "output_type": "stream",
     "text": [
      "<class 'pandas.core.frame.DataFrame'>\n",
      "RangeIndex: 4340 entries, 0 to 4339\n",
      "Data columns (total 9 columns):\n",
      " #   Column         Non-Null Count  Dtype \n",
      "---  ------         --------------  ----- \n",
      " 0   Brand          4340 non-null   object\n",
      " 1   Model          4340 non-null   object\n",
      " 2   Year           4340 non-null   int64 \n",
      " 3   Selling_Price  4340 non-null   int64 \n",
      " 4   KM_Driven      4340 non-null   int64 \n",
      " 5   Fuel           4340 non-null   object\n",
      " 6   Seller_Type    4340 non-null   object\n",
      " 7   Transmission   4340 non-null   object\n",
      " 8   Owner          4340 non-null   object\n",
      "dtypes: int64(3), object(6)\n",
      "memory usage: 305.3+ KB\n"
     ]
    }
   ],
   "source": [
    "car_price_df.info()"
   ]
  },
  {
   "cell_type": "markdown",
   "id": "9dc5404b",
   "metadata": {},
   "source": [
    "Данные хорошего качества можно приступать к обучению модели"
   ]
  },
  {
   "cell_type": "markdown",
   "id": "b2abb6e2",
   "metadata": {},
   "source": [
    "### **Задача.** Примените метод главных компонент"
   ]
  },
  {
   "cell_type": "markdown",
   "id": "70d490e8",
   "metadata": {},
   "source": [
    "Разделяем данные на тестовые и обучающие выборки"
   ]
  },
  {
   "cell_type": "code",
   "execution_count": 3,
   "id": "7c968cdd",
   "metadata": {},
   "outputs": [],
   "source": [
    "from sklearn.model_selection import train_test_split\n",
    "\n",
    "train_features, test_features, train_target, test_target = train_test_split(\n",
    "    car_price_df.drop(\"Selling_Price\", axis=1),\n",
    "    car_price_df[\"Selling_Price\"],\n",
    "    test_size=0.3,\n",
    "    random_state=42,\n",
    ")"
   ]
  },
  {
   "cell_type": "markdown",
   "id": "d36421d9",
   "metadata": {},
   "source": [
    "Построение пайплайна"
   ]
  },
  {
   "cell_type": "code",
   "execution_count": 4,
   "id": "1037c983",
   "metadata": {},
   "outputs": [
    {
     "data": {
      "text/html": [
       "<style>#sk-container-id-1 {\n",
       "  /* Definition of color scheme common for light and dark mode */\n",
       "  --sklearn-color-text: #000;\n",
       "  --sklearn-color-text-muted: #666;\n",
       "  --sklearn-color-line: gray;\n",
       "  /* Definition of color scheme for unfitted estimators */\n",
       "  --sklearn-color-unfitted-level-0: #fff5e6;\n",
       "  --sklearn-color-unfitted-level-1: #f6e4d2;\n",
       "  --sklearn-color-unfitted-level-2: #ffe0b3;\n",
       "  --sklearn-color-unfitted-level-3: chocolate;\n",
       "  /* Definition of color scheme for fitted estimators */\n",
       "  --sklearn-color-fitted-level-0: #f0f8ff;\n",
       "  --sklearn-color-fitted-level-1: #d4ebff;\n",
       "  --sklearn-color-fitted-level-2: #b3dbfd;\n",
       "  --sklearn-color-fitted-level-3: cornflowerblue;\n",
       "\n",
       "  /* Specific color for light theme */\n",
       "  --sklearn-color-text-on-default-background: var(--sg-text-color, var(--theme-code-foreground, var(--jp-content-font-color1, black)));\n",
       "  --sklearn-color-background: var(--sg-background-color, var(--theme-background, var(--jp-layout-color0, white)));\n",
       "  --sklearn-color-border-box: var(--sg-text-color, var(--theme-code-foreground, var(--jp-content-font-color1, black)));\n",
       "  --sklearn-color-icon: #696969;\n",
       "\n",
       "  @media (prefers-color-scheme: dark) {\n",
       "    /* Redefinition of color scheme for dark theme */\n",
       "    --sklearn-color-text-on-default-background: var(--sg-text-color, var(--theme-code-foreground, var(--jp-content-font-color1, white)));\n",
       "    --sklearn-color-background: var(--sg-background-color, var(--theme-background, var(--jp-layout-color0, #111)));\n",
       "    --sklearn-color-border-box: var(--sg-text-color, var(--theme-code-foreground, var(--jp-content-font-color1, white)));\n",
       "    --sklearn-color-icon: #878787;\n",
       "  }\n",
       "}\n",
       "\n",
       "#sk-container-id-1 {\n",
       "  color: var(--sklearn-color-text);\n",
       "}\n",
       "\n",
       "#sk-container-id-1 pre {\n",
       "  padding: 0;\n",
       "}\n",
       "\n",
       "#sk-container-id-1 input.sk-hidden--visually {\n",
       "  border: 0;\n",
       "  clip: rect(1px 1px 1px 1px);\n",
       "  clip: rect(1px, 1px, 1px, 1px);\n",
       "  height: 1px;\n",
       "  margin: -1px;\n",
       "  overflow: hidden;\n",
       "  padding: 0;\n",
       "  position: absolute;\n",
       "  width: 1px;\n",
       "}\n",
       "\n",
       "#sk-container-id-1 div.sk-dashed-wrapped {\n",
       "  border: 1px dashed var(--sklearn-color-line);\n",
       "  margin: 0 0.4em 0.5em 0.4em;\n",
       "  box-sizing: border-box;\n",
       "  padding-bottom: 0.4em;\n",
       "  background-color: var(--sklearn-color-background);\n",
       "}\n",
       "\n",
       "#sk-container-id-1 div.sk-container {\n",
       "  /* jupyter's `normalize.less` sets `[hidden] { display: none; }`\n",
       "     but bootstrap.min.css set `[hidden] { display: none !important; }`\n",
       "     so we also need the `!important` here to be able to override the\n",
       "     default hidden behavior on the sphinx rendered scikit-learn.org.\n",
       "     See: https://github.com/scikit-learn/scikit-learn/issues/21755 */\n",
       "  display: inline-block !important;\n",
       "  position: relative;\n",
       "}\n",
       "\n",
       "#sk-container-id-1 div.sk-text-repr-fallback {\n",
       "  display: none;\n",
       "}\n",
       "\n",
       "div.sk-parallel-item,\n",
       "div.sk-serial,\n",
       "div.sk-item {\n",
       "  /* draw centered vertical line to link estimators */\n",
       "  background-image: linear-gradient(var(--sklearn-color-text-on-default-background), var(--sklearn-color-text-on-default-background));\n",
       "  background-size: 2px 100%;\n",
       "  background-repeat: no-repeat;\n",
       "  background-position: center center;\n",
       "}\n",
       "\n",
       "/* Parallel-specific style estimator block */\n",
       "\n",
       "#sk-container-id-1 div.sk-parallel-item::after {\n",
       "  content: \"\";\n",
       "  width: 100%;\n",
       "  border-bottom: 2px solid var(--sklearn-color-text-on-default-background);\n",
       "  flex-grow: 1;\n",
       "}\n",
       "\n",
       "#sk-container-id-1 div.sk-parallel {\n",
       "  display: flex;\n",
       "  align-items: stretch;\n",
       "  justify-content: center;\n",
       "  background-color: var(--sklearn-color-background);\n",
       "  position: relative;\n",
       "}\n",
       "\n",
       "#sk-container-id-1 div.sk-parallel-item {\n",
       "  display: flex;\n",
       "  flex-direction: column;\n",
       "}\n",
       "\n",
       "#sk-container-id-1 div.sk-parallel-item:first-child::after {\n",
       "  align-self: flex-end;\n",
       "  width: 50%;\n",
       "}\n",
       "\n",
       "#sk-container-id-1 div.sk-parallel-item:last-child::after {\n",
       "  align-self: flex-start;\n",
       "  width: 50%;\n",
       "}\n",
       "\n",
       "#sk-container-id-1 div.sk-parallel-item:only-child::after {\n",
       "  width: 0;\n",
       "}\n",
       "\n",
       "/* Serial-specific style estimator block */\n",
       "\n",
       "#sk-container-id-1 div.sk-serial {\n",
       "  display: flex;\n",
       "  flex-direction: column;\n",
       "  align-items: center;\n",
       "  background-color: var(--sklearn-color-background);\n",
       "  padding-right: 1em;\n",
       "  padding-left: 1em;\n",
       "}\n",
       "\n",
       "\n",
       "/* Toggleable style: style used for estimator/Pipeline/ColumnTransformer box that is\n",
       "clickable and can be expanded/collapsed.\n",
       "- Pipeline and ColumnTransformer use this feature and define the default style\n",
       "- Estimators will overwrite some part of the style using the `sk-estimator` class\n",
       "*/\n",
       "\n",
       "/* Pipeline and ColumnTransformer style (default) */\n",
       "\n",
       "#sk-container-id-1 div.sk-toggleable {\n",
       "  /* Default theme specific background. It is overwritten whether we have a\n",
       "  specific estimator or a Pipeline/ColumnTransformer */\n",
       "  background-color: var(--sklearn-color-background);\n",
       "}\n",
       "\n",
       "/* Toggleable label */\n",
       "#sk-container-id-1 label.sk-toggleable__label {\n",
       "  cursor: pointer;\n",
       "  display: flex;\n",
       "  width: 100%;\n",
       "  margin-bottom: 0;\n",
       "  padding: 0.5em;\n",
       "  box-sizing: border-box;\n",
       "  text-align: center;\n",
       "  align-items: start;\n",
       "  justify-content: space-between;\n",
       "  gap: 0.5em;\n",
       "}\n",
       "\n",
       "#sk-container-id-1 label.sk-toggleable__label .caption {\n",
       "  font-size: 0.6rem;\n",
       "  font-weight: lighter;\n",
       "  color: var(--sklearn-color-text-muted);\n",
       "}\n",
       "\n",
       "#sk-container-id-1 label.sk-toggleable__label-arrow:before {\n",
       "  /* Arrow on the left of the label */\n",
       "  content: \"▸\";\n",
       "  float: left;\n",
       "  margin-right: 0.25em;\n",
       "  color: var(--sklearn-color-icon);\n",
       "}\n",
       "\n",
       "#sk-container-id-1 label.sk-toggleable__label-arrow:hover:before {\n",
       "  color: var(--sklearn-color-text);\n",
       "}\n",
       "\n",
       "/* Toggleable content - dropdown */\n",
       "\n",
       "#sk-container-id-1 div.sk-toggleable__content {\n",
       "  max-height: 0;\n",
       "  max-width: 0;\n",
       "  overflow: hidden;\n",
       "  text-align: left;\n",
       "  /* unfitted */\n",
       "  background-color: var(--sklearn-color-unfitted-level-0);\n",
       "}\n",
       "\n",
       "#sk-container-id-1 div.sk-toggleable__content.fitted {\n",
       "  /* fitted */\n",
       "  background-color: var(--sklearn-color-fitted-level-0);\n",
       "}\n",
       "\n",
       "#sk-container-id-1 div.sk-toggleable__content pre {\n",
       "  margin: 0.2em;\n",
       "  border-radius: 0.25em;\n",
       "  color: var(--sklearn-color-text);\n",
       "  /* unfitted */\n",
       "  background-color: var(--sklearn-color-unfitted-level-0);\n",
       "}\n",
       "\n",
       "#sk-container-id-1 div.sk-toggleable__content.fitted pre {\n",
       "  /* unfitted */\n",
       "  background-color: var(--sklearn-color-fitted-level-0);\n",
       "}\n",
       "\n",
       "#sk-container-id-1 input.sk-toggleable__control:checked~div.sk-toggleable__content {\n",
       "  /* Expand drop-down */\n",
       "  max-height: 200px;\n",
       "  max-width: 100%;\n",
       "  overflow: auto;\n",
       "}\n",
       "\n",
       "#sk-container-id-1 input.sk-toggleable__control:checked~label.sk-toggleable__label-arrow:before {\n",
       "  content: \"▾\";\n",
       "}\n",
       "\n",
       "/* Pipeline/ColumnTransformer-specific style */\n",
       "\n",
       "#sk-container-id-1 div.sk-label input.sk-toggleable__control:checked~label.sk-toggleable__label {\n",
       "  color: var(--sklearn-color-text);\n",
       "  background-color: var(--sklearn-color-unfitted-level-2);\n",
       "}\n",
       "\n",
       "#sk-container-id-1 div.sk-label.fitted input.sk-toggleable__control:checked~label.sk-toggleable__label {\n",
       "  background-color: var(--sklearn-color-fitted-level-2);\n",
       "}\n",
       "\n",
       "/* Estimator-specific style */\n",
       "\n",
       "/* Colorize estimator box */\n",
       "#sk-container-id-1 div.sk-estimator input.sk-toggleable__control:checked~label.sk-toggleable__label {\n",
       "  /* unfitted */\n",
       "  background-color: var(--sklearn-color-unfitted-level-2);\n",
       "}\n",
       "\n",
       "#sk-container-id-1 div.sk-estimator.fitted input.sk-toggleable__control:checked~label.sk-toggleable__label {\n",
       "  /* fitted */\n",
       "  background-color: var(--sklearn-color-fitted-level-2);\n",
       "}\n",
       "\n",
       "#sk-container-id-1 div.sk-label label.sk-toggleable__label,\n",
       "#sk-container-id-1 div.sk-label label {\n",
       "  /* The background is the default theme color */\n",
       "  color: var(--sklearn-color-text-on-default-background);\n",
       "}\n",
       "\n",
       "/* On hover, darken the color of the background */\n",
       "#sk-container-id-1 div.sk-label:hover label.sk-toggleable__label {\n",
       "  color: var(--sklearn-color-text);\n",
       "  background-color: var(--sklearn-color-unfitted-level-2);\n",
       "}\n",
       "\n",
       "/* Label box, darken color on hover, fitted */\n",
       "#sk-container-id-1 div.sk-label.fitted:hover label.sk-toggleable__label.fitted {\n",
       "  color: var(--sklearn-color-text);\n",
       "  background-color: var(--sklearn-color-fitted-level-2);\n",
       "}\n",
       "\n",
       "/* Estimator label */\n",
       "\n",
       "#sk-container-id-1 div.sk-label label {\n",
       "  font-family: monospace;\n",
       "  font-weight: bold;\n",
       "  display: inline-block;\n",
       "  line-height: 1.2em;\n",
       "}\n",
       "\n",
       "#sk-container-id-1 div.sk-label-container {\n",
       "  text-align: center;\n",
       "}\n",
       "\n",
       "/* Estimator-specific */\n",
       "#sk-container-id-1 div.sk-estimator {\n",
       "  font-family: monospace;\n",
       "  border: 1px dotted var(--sklearn-color-border-box);\n",
       "  border-radius: 0.25em;\n",
       "  box-sizing: border-box;\n",
       "  margin-bottom: 0.5em;\n",
       "  /* unfitted */\n",
       "  background-color: var(--sklearn-color-unfitted-level-0);\n",
       "}\n",
       "\n",
       "#sk-container-id-1 div.sk-estimator.fitted {\n",
       "  /* fitted */\n",
       "  background-color: var(--sklearn-color-fitted-level-0);\n",
       "}\n",
       "\n",
       "/* on hover */\n",
       "#sk-container-id-1 div.sk-estimator:hover {\n",
       "  /* unfitted */\n",
       "  background-color: var(--sklearn-color-unfitted-level-2);\n",
       "}\n",
       "\n",
       "#sk-container-id-1 div.sk-estimator.fitted:hover {\n",
       "  /* fitted */\n",
       "  background-color: var(--sklearn-color-fitted-level-2);\n",
       "}\n",
       "\n",
       "/* Specification for estimator info (e.g. \"i\" and \"?\") */\n",
       "\n",
       "/* Common style for \"i\" and \"?\" */\n",
       "\n",
       ".sk-estimator-doc-link,\n",
       "a:link.sk-estimator-doc-link,\n",
       "a:visited.sk-estimator-doc-link {\n",
       "  float: right;\n",
       "  font-size: smaller;\n",
       "  line-height: 1em;\n",
       "  font-family: monospace;\n",
       "  background-color: var(--sklearn-color-background);\n",
       "  border-radius: 1em;\n",
       "  height: 1em;\n",
       "  width: 1em;\n",
       "  text-decoration: none !important;\n",
       "  margin-left: 0.5em;\n",
       "  text-align: center;\n",
       "  /* unfitted */\n",
       "  border: var(--sklearn-color-unfitted-level-1) 1pt solid;\n",
       "  color: var(--sklearn-color-unfitted-level-1);\n",
       "}\n",
       "\n",
       ".sk-estimator-doc-link.fitted,\n",
       "a:link.sk-estimator-doc-link.fitted,\n",
       "a:visited.sk-estimator-doc-link.fitted {\n",
       "  /* fitted */\n",
       "  border: var(--sklearn-color-fitted-level-1) 1pt solid;\n",
       "  color: var(--sklearn-color-fitted-level-1);\n",
       "}\n",
       "\n",
       "/* On hover */\n",
       "div.sk-estimator:hover .sk-estimator-doc-link:hover,\n",
       ".sk-estimator-doc-link:hover,\n",
       "div.sk-label-container:hover .sk-estimator-doc-link:hover,\n",
       ".sk-estimator-doc-link:hover {\n",
       "  /* unfitted */\n",
       "  background-color: var(--sklearn-color-unfitted-level-3);\n",
       "  color: var(--sklearn-color-background);\n",
       "  text-decoration: none;\n",
       "}\n",
       "\n",
       "div.sk-estimator.fitted:hover .sk-estimator-doc-link.fitted:hover,\n",
       ".sk-estimator-doc-link.fitted:hover,\n",
       "div.sk-label-container:hover .sk-estimator-doc-link.fitted:hover,\n",
       ".sk-estimator-doc-link.fitted:hover {\n",
       "  /* fitted */\n",
       "  background-color: var(--sklearn-color-fitted-level-3);\n",
       "  color: var(--sklearn-color-background);\n",
       "  text-decoration: none;\n",
       "}\n",
       "\n",
       "/* Span, style for the box shown on hovering the info icon */\n",
       ".sk-estimator-doc-link span {\n",
       "  display: none;\n",
       "  z-index: 9999;\n",
       "  position: relative;\n",
       "  font-weight: normal;\n",
       "  right: .2ex;\n",
       "  padding: .5ex;\n",
       "  margin: .5ex;\n",
       "  width: min-content;\n",
       "  min-width: 20ex;\n",
       "  max-width: 50ex;\n",
       "  color: var(--sklearn-color-text);\n",
       "  box-shadow: 2pt 2pt 4pt #999;\n",
       "  /* unfitted */\n",
       "  background: var(--sklearn-color-unfitted-level-0);\n",
       "  border: .5pt solid var(--sklearn-color-unfitted-level-3);\n",
       "}\n",
       "\n",
       ".sk-estimator-doc-link.fitted span {\n",
       "  /* fitted */\n",
       "  background: var(--sklearn-color-fitted-level-0);\n",
       "  border: var(--sklearn-color-fitted-level-3);\n",
       "}\n",
       "\n",
       ".sk-estimator-doc-link:hover span {\n",
       "  display: block;\n",
       "}\n",
       "\n",
       "/* \"?\"-specific style due to the `<a>` HTML tag */\n",
       "\n",
       "#sk-container-id-1 a.estimator_doc_link {\n",
       "  float: right;\n",
       "  font-size: 1rem;\n",
       "  line-height: 1em;\n",
       "  font-family: monospace;\n",
       "  background-color: var(--sklearn-color-background);\n",
       "  border-radius: 1rem;\n",
       "  height: 1rem;\n",
       "  width: 1rem;\n",
       "  text-decoration: none;\n",
       "  /* unfitted */\n",
       "  color: var(--sklearn-color-unfitted-level-1);\n",
       "  border: var(--sklearn-color-unfitted-level-1) 1pt solid;\n",
       "}\n",
       "\n",
       "#sk-container-id-1 a.estimator_doc_link.fitted {\n",
       "  /* fitted */\n",
       "  border: var(--sklearn-color-fitted-level-1) 1pt solid;\n",
       "  color: var(--sklearn-color-fitted-level-1);\n",
       "}\n",
       "\n",
       "/* On hover */\n",
       "#sk-container-id-1 a.estimator_doc_link:hover {\n",
       "  /* unfitted */\n",
       "  background-color: var(--sklearn-color-unfitted-level-3);\n",
       "  color: var(--sklearn-color-background);\n",
       "  text-decoration: none;\n",
       "}\n",
       "\n",
       "#sk-container-id-1 a.estimator_doc_link.fitted:hover {\n",
       "  /* fitted */\n",
       "  background-color: var(--sklearn-color-fitted-level-3);\n",
       "}\n",
       "</style><div id=\"sk-container-id-1\" class=\"sk-top-container\"><div class=\"sk-text-repr-fallback\"><pre>Pipeline(steps=[(&#x27;preprocessing&#x27;,\n",
       "                 ColumnTransformer(transformers=((&#x27;number&#x27;, StandardScaler(),\n",
       "                                                  [&#x27;Year&#x27;, &#x27;KM_Driven&#x27;]),\n",
       "                                                 (&#x27;categorical_not_rank&#x27;,\n",
       "                                                  OneHotEncoder(handle_unknown=&#x27;infrequent_if_exist&#x27;),\n",
       "                                                  [&#x27;Brand&#x27;, &#x27;Fuel&#x27;,\n",
       "                                                   &#x27;Seller_Type&#x27;,\n",
       "                                                   &#x27;Transmission&#x27;,\n",
       "                                                   &#x27;Owner&#x27;])))),\n",
       "                (&#x27;pca&#x27;, PCA(random_state=42)),\n",
       "                (&#x27;model&#x27;,\n",
       "                 TransformedTargetRegressor(regressor=Lasso(alpha=0.01,\n",
       "                                                            random_state=42),\n",
       "                                            transformer=StandardScaler()))])</pre><b>In a Jupyter environment, please rerun this cell to show the HTML representation or trust the notebook. <br />On GitHub, the HTML representation is unable to render, please try loading this page with nbviewer.org.</b></div><div class=\"sk-container\" hidden><div class=\"sk-item sk-dashed-wrapped\"><div class=\"sk-label-container\"><div class=\"sk-label  sk-toggleable\"><input class=\"sk-toggleable__control sk-hidden--visually\" id=\"sk-estimator-id-1\" type=\"checkbox\" ><label for=\"sk-estimator-id-1\" class=\"sk-toggleable__label  sk-toggleable__label-arrow\"><div><div>Pipeline</div></div><div><a class=\"sk-estimator-doc-link \" rel=\"noreferrer\" target=\"_blank\" href=\"https://scikit-learn.org/1.6/modules/generated/sklearn.pipeline.Pipeline.html\">?<span>Documentation for Pipeline</span></a><span class=\"sk-estimator-doc-link \">i<span>Not fitted</span></span></div></label><div class=\"sk-toggleable__content \"><pre>Pipeline(steps=[(&#x27;preprocessing&#x27;,\n",
       "                 ColumnTransformer(transformers=((&#x27;number&#x27;, StandardScaler(),\n",
       "                                                  [&#x27;Year&#x27;, &#x27;KM_Driven&#x27;]),\n",
       "                                                 (&#x27;categorical_not_rank&#x27;,\n",
       "                                                  OneHotEncoder(handle_unknown=&#x27;infrequent_if_exist&#x27;),\n",
       "                                                  [&#x27;Brand&#x27;, &#x27;Fuel&#x27;,\n",
       "                                                   &#x27;Seller_Type&#x27;,\n",
       "                                                   &#x27;Transmission&#x27;,\n",
       "                                                   &#x27;Owner&#x27;])))),\n",
       "                (&#x27;pca&#x27;, PCA(random_state=42)),\n",
       "                (&#x27;model&#x27;,\n",
       "                 TransformedTargetRegressor(regressor=Lasso(alpha=0.01,\n",
       "                                                            random_state=42),\n",
       "                                            transformer=StandardScaler()))])</pre></div> </div></div><div class=\"sk-serial\"><div class=\"sk-item sk-dashed-wrapped\"><div class=\"sk-label-container\"><div class=\"sk-label  sk-toggleable\"><input class=\"sk-toggleable__control sk-hidden--visually\" id=\"sk-estimator-id-2\" type=\"checkbox\" ><label for=\"sk-estimator-id-2\" class=\"sk-toggleable__label  sk-toggleable__label-arrow\"><div><div>preprocessing: ColumnTransformer</div></div><div><a class=\"sk-estimator-doc-link \" rel=\"noreferrer\" target=\"_blank\" href=\"https://scikit-learn.org/1.6/modules/generated/sklearn.compose.ColumnTransformer.html\">?<span>Documentation for preprocessing: ColumnTransformer</span></a></div></label><div class=\"sk-toggleable__content \"><pre>ColumnTransformer(transformers=((&#x27;number&#x27;, StandardScaler(),\n",
       "                                 [&#x27;Year&#x27;, &#x27;KM_Driven&#x27;]),\n",
       "                                (&#x27;categorical_not_rank&#x27;,\n",
       "                                 OneHotEncoder(handle_unknown=&#x27;infrequent_if_exist&#x27;),\n",
       "                                 [&#x27;Brand&#x27;, &#x27;Fuel&#x27;, &#x27;Seller_Type&#x27;,\n",
       "                                  &#x27;Transmission&#x27;, &#x27;Owner&#x27;])))</pre></div> </div></div><div class=\"sk-parallel\"><div class=\"sk-parallel-item\"><div class=\"sk-item\"><div class=\"sk-label-container\"><div class=\"sk-label  sk-toggleable\"><input class=\"sk-toggleable__control sk-hidden--visually\" id=\"sk-estimator-id-3\" type=\"checkbox\" ><label for=\"sk-estimator-id-3\" class=\"sk-toggleable__label  sk-toggleable__label-arrow\"><div><div>number</div></div></label><div class=\"sk-toggleable__content \"><pre>[&#x27;Year&#x27;, &#x27;KM_Driven&#x27;]</pre></div> </div></div><div class=\"sk-serial\"><div class=\"sk-item\"><div class=\"sk-estimator  sk-toggleable\"><input class=\"sk-toggleable__control sk-hidden--visually\" id=\"sk-estimator-id-4\" type=\"checkbox\" ><label for=\"sk-estimator-id-4\" class=\"sk-toggleable__label  sk-toggleable__label-arrow\"><div><div>StandardScaler</div></div><div><a class=\"sk-estimator-doc-link \" rel=\"noreferrer\" target=\"_blank\" href=\"https://scikit-learn.org/1.6/modules/generated/sklearn.preprocessing.StandardScaler.html\">?<span>Documentation for StandardScaler</span></a></div></label><div class=\"sk-toggleable__content \"><pre>StandardScaler()</pre></div> </div></div></div></div></div><div class=\"sk-parallel-item\"><div class=\"sk-item\"><div class=\"sk-label-container\"><div class=\"sk-label  sk-toggleable\"><input class=\"sk-toggleable__control sk-hidden--visually\" id=\"sk-estimator-id-5\" type=\"checkbox\" ><label for=\"sk-estimator-id-5\" class=\"sk-toggleable__label  sk-toggleable__label-arrow\"><div><div>categorical_not_rank</div></div></label><div class=\"sk-toggleable__content \"><pre>[&#x27;Brand&#x27;, &#x27;Fuel&#x27;, &#x27;Seller_Type&#x27;, &#x27;Transmission&#x27;, &#x27;Owner&#x27;]</pre></div> </div></div><div class=\"sk-serial\"><div class=\"sk-item\"><div class=\"sk-estimator  sk-toggleable\"><input class=\"sk-toggleable__control sk-hidden--visually\" id=\"sk-estimator-id-6\" type=\"checkbox\" ><label for=\"sk-estimator-id-6\" class=\"sk-toggleable__label  sk-toggleable__label-arrow\"><div><div>OneHotEncoder</div></div><div><a class=\"sk-estimator-doc-link \" rel=\"noreferrer\" target=\"_blank\" href=\"https://scikit-learn.org/1.6/modules/generated/sklearn.preprocessing.OneHotEncoder.html\">?<span>Documentation for OneHotEncoder</span></a></div></label><div class=\"sk-toggleable__content \"><pre>OneHotEncoder(handle_unknown=&#x27;infrequent_if_exist&#x27;)</pre></div> </div></div></div></div></div></div></div><div class=\"sk-item\"><div class=\"sk-estimator  sk-toggleable\"><input class=\"sk-toggleable__control sk-hidden--visually\" id=\"sk-estimator-id-7\" type=\"checkbox\" ><label for=\"sk-estimator-id-7\" class=\"sk-toggleable__label  sk-toggleable__label-arrow\"><div><div>PCA</div></div><div><a class=\"sk-estimator-doc-link \" rel=\"noreferrer\" target=\"_blank\" href=\"https://scikit-learn.org/1.6/modules/generated/sklearn.decomposition.PCA.html\">?<span>Documentation for PCA</span></a></div></label><div class=\"sk-toggleable__content \"><pre>PCA(random_state=42)</pre></div> </div></div><div class=\"sk-item sk-dashed-wrapped\"><div class=\"sk-label-container\"><div class=\"sk-label  sk-toggleable\"><input class=\"sk-toggleable__control sk-hidden--visually\" id=\"sk-estimator-id-8\" type=\"checkbox\" ><label for=\"sk-estimator-id-8\" class=\"sk-toggleable__label  sk-toggleable__label-arrow\"><div><div>model: TransformedTargetRegressor</div></div><div><a class=\"sk-estimator-doc-link \" rel=\"noreferrer\" target=\"_blank\" href=\"https://scikit-learn.org/1.6/modules/generated/sklearn.compose.TransformedTargetRegressor.html\">?<span>Documentation for model: TransformedTargetRegressor</span></a></div></label><div class=\"sk-toggleable__content \"><pre>TransformedTargetRegressor(regressor=Lasso(alpha=0.01, random_state=42),\n",
       "                           transformer=StandardScaler())</pre></div> </div></div><div class=\"sk-parallel\"><div class=\"sk-parallel-item\"><div class=\"sk-item\"><div class=\"sk-label-container\"><div class=\"sk-label  sk-toggleable\"><input class=\"sk-toggleable__control sk-hidden--visually\" id=\"sk-estimator-id-9\" type=\"checkbox\" ><label for=\"sk-estimator-id-9\" class=\"sk-toggleable__label  sk-toggleable__label-arrow\"><div><div>regressor: Lasso</div></div></label><div class=\"sk-toggleable__content \"><pre>Lasso(alpha=0.01, random_state=42)</pre></div> </div></div><div class=\"sk-serial\"><div class=\"sk-item\"><div class=\"sk-estimator  sk-toggleable\"><input class=\"sk-toggleable__control sk-hidden--visually\" id=\"sk-estimator-id-10\" type=\"checkbox\" ><label for=\"sk-estimator-id-10\" class=\"sk-toggleable__label  sk-toggleable__label-arrow\"><div><div>Lasso</div></div><div><a class=\"sk-estimator-doc-link \" rel=\"noreferrer\" target=\"_blank\" href=\"https://scikit-learn.org/1.6/modules/generated/sklearn.linear_model.Lasso.html\">?<span>Documentation for Lasso</span></a></div></label><div class=\"sk-toggleable__content \"><pre>Lasso(alpha=0.01, random_state=42)</pre></div> </div></div></div></div></div><div class=\"sk-parallel-item\"><div class=\"sk-item\"><div class=\"sk-label-container\"><div class=\"sk-label  sk-toggleable\"><input class=\"sk-toggleable__control sk-hidden--visually\" id=\"sk-estimator-id-11\" type=\"checkbox\" ><label for=\"sk-estimator-id-11\" class=\"sk-toggleable__label  sk-toggleable__label-arrow\"><div><div>transformer: StandardScaler</div></div></label><div class=\"sk-toggleable__content \"><pre>StandardScaler()</pre></div> </div></div><div class=\"sk-serial\"><div class=\"sk-item\"><div class=\"sk-estimator  sk-toggleable\"><input class=\"sk-toggleable__control sk-hidden--visually\" id=\"sk-estimator-id-12\" type=\"checkbox\" ><label for=\"sk-estimator-id-12\" class=\"sk-toggleable__label  sk-toggleable__label-arrow\"><div><div>StandardScaler</div></div><div><a class=\"sk-estimator-doc-link \" rel=\"noreferrer\" target=\"_blank\" href=\"https://scikit-learn.org/1.6/modules/generated/sklearn.preprocessing.StandardScaler.html\">?<span>Documentation for StandardScaler</span></a></div></label><div class=\"sk-toggleable__content \"><pre>StandardScaler()</pre></div> </div></div></div></div></div></div></div></div></div></div></div>"
      ],
      "text/plain": [
       "Pipeline(steps=[('preprocessing',\n",
       "                 ColumnTransformer(transformers=(('number', StandardScaler(),\n",
       "                                                  ['Year', 'KM_Driven']),\n",
       "                                                 ('categorical_not_rank',\n",
       "                                                  OneHotEncoder(handle_unknown='infrequent_if_exist'),\n",
       "                                                  ['Brand', 'Fuel',\n",
       "                                                   'Seller_Type',\n",
       "                                                   'Transmission',\n",
       "                                                   'Owner'])))),\n",
       "                ('pca', PCA(random_state=42)),\n",
       "                ('model',\n",
       "                 TransformedTargetRegressor(regressor=Lasso(alpha=0.01,\n",
       "                                                            random_state=42),\n",
       "                                            transformer=StandardScaler()))])"
      ]
     },
     "execution_count": 4,
     "metadata": {},
     "output_type": "execute_result"
    }
   ],
   "source": [
    "from sklearn.compose import ColumnTransformer, TransformedTargetRegressor\n",
    "from sklearn.decomposition import PCA\n",
    "from sklearn.linear_model import Lasso\n",
    "from sklearn.pipeline import Pipeline\n",
    "from sklearn.preprocessing import OneHotEncoder, StandardScaler\n",
    "\n",
    "regressor = TransformedTargetRegressor(regressor=Lasso(alpha=0.01, random_state=42), transformer=StandardScaler())\n",
    "\n",
    "# Нормализация данных\n",
    "preprocessor = ColumnTransformer(\n",
    "    transformers=(\n",
    "        (\"number\", StandardScaler(), [\"Year\", \"KM_Driven\"]),\n",
    "        (\n",
    "            \"categorical_not_rank\",\n",
    "            OneHotEncoder(handle_unknown=\"infrequent_if_exist\"),\n",
    "            [\"Brand\", \"Fuel\", \"Seller_Type\", \"Transmission\", \"Owner\"],\n",
    "        ),\n",
    "    ),\n",
    ")\n",
    "\n",
    "pipeline = Pipeline([(\"preprocessing\", preprocessor), (\"pca\", PCA(random_state=42)), (\"model\", regressor)])\n",
    "pipeline"
   ]
  },
  {
   "cell_type": "markdown",
   "id": "1fe27dc8",
   "metadata": {},
   "source": [
    "### **Задача.** Выберите наилучшее количество компонент"
   ]
  },
  {
   "cell_type": "markdown",
   "id": "df4e42d8",
   "metadata": {},
   "source": [
    "Подбор параметров для модели"
   ]
  },
  {
   "cell_type": "code",
   "execution_count": 5,
   "id": "62877ec3",
   "metadata": {},
   "outputs": [
    {
     "data": {
      "text/html": [
       "<style>#sk-container-id-2 {\n",
       "  /* Definition of color scheme common for light and dark mode */\n",
       "  --sklearn-color-text: #000;\n",
       "  --sklearn-color-text-muted: #666;\n",
       "  --sklearn-color-line: gray;\n",
       "  /* Definition of color scheme for unfitted estimators */\n",
       "  --sklearn-color-unfitted-level-0: #fff5e6;\n",
       "  --sklearn-color-unfitted-level-1: #f6e4d2;\n",
       "  --sklearn-color-unfitted-level-2: #ffe0b3;\n",
       "  --sklearn-color-unfitted-level-3: chocolate;\n",
       "  /* Definition of color scheme for fitted estimators */\n",
       "  --sklearn-color-fitted-level-0: #f0f8ff;\n",
       "  --sklearn-color-fitted-level-1: #d4ebff;\n",
       "  --sklearn-color-fitted-level-2: #b3dbfd;\n",
       "  --sklearn-color-fitted-level-3: cornflowerblue;\n",
       "\n",
       "  /* Specific color for light theme */\n",
       "  --sklearn-color-text-on-default-background: var(--sg-text-color, var(--theme-code-foreground, var(--jp-content-font-color1, black)));\n",
       "  --sklearn-color-background: var(--sg-background-color, var(--theme-background, var(--jp-layout-color0, white)));\n",
       "  --sklearn-color-border-box: var(--sg-text-color, var(--theme-code-foreground, var(--jp-content-font-color1, black)));\n",
       "  --sklearn-color-icon: #696969;\n",
       "\n",
       "  @media (prefers-color-scheme: dark) {\n",
       "    /* Redefinition of color scheme for dark theme */\n",
       "    --sklearn-color-text-on-default-background: var(--sg-text-color, var(--theme-code-foreground, var(--jp-content-font-color1, white)));\n",
       "    --sklearn-color-background: var(--sg-background-color, var(--theme-background, var(--jp-layout-color0, #111)));\n",
       "    --sklearn-color-border-box: var(--sg-text-color, var(--theme-code-foreground, var(--jp-content-font-color1, white)));\n",
       "    --sklearn-color-icon: #878787;\n",
       "  }\n",
       "}\n",
       "\n",
       "#sk-container-id-2 {\n",
       "  color: var(--sklearn-color-text);\n",
       "}\n",
       "\n",
       "#sk-container-id-2 pre {\n",
       "  padding: 0;\n",
       "}\n",
       "\n",
       "#sk-container-id-2 input.sk-hidden--visually {\n",
       "  border: 0;\n",
       "  clip: rect(1px 1px 1px 1px);\n",
       "  clip: rect(1px, 1px, 1px, 1px);\n",
       "  height: 1px;\n",
       "  margin: -1px;\n",
       "  overflow: hidden;\n",
       "  padding: 0;\n",
       "  position: absolute;\n",
       "  width: 1px;\n",
       "}\n",
       "\n",
       "#sk-container-id-2 div.sk-dashed-wrapped {\n",
       "  border: 1px dashed var(--sklearn-color-line);\n",
       "  margin: 0 0.4em 0.5em 0.4em;\n",
       "  box-sizing: border-box;\n",
       "  padding-bottom: 0.4em;\n",
       "  background-color: var(--sklearn-color-background);\n",
       "}\n",
       "\n",
       "#sk-container-id-2 div.sk-container {\n",
       "  /* jupyter's `normalize.less` sets `[hidden] { display: none; }`\n",
       "     but bootstrap.min.css set `[hidden] { display: none !important; }`\n",
       "     so we also need the `!important` here to be able to override the\n",
       "     default hidden behavior on the sphinx rendered scikit-learn.org.\n",
       "     See: https://github.com/scikit-learn/scikit-learn/issues/21755 */\n",
       "  display: inline-block !important;\n",
       "  position: relative;\n",
       "}\n",
       "\n",
       "#sk-container-id-2 div.sk-text-repr-fallback {\n",
       "  display: none;\n",
       "}\n",
       "\n",
       "div.sk-parallel-item,\n",
       "div.sk-serial,\n",
       "div.sk-item {\n",
       "  /* draw centered vertical line to link estimators */\n",
       "  background-image: linear-gradient(var(--sklearn-color-text-on-default-background), var(--sklearn-color-text-on-default-background));\n",
       "  background-size: 2px 100%;\n",
       "  background-repeat: no-repeat;\n",
       "  background-position: center center;\n",
       "}\n",
       "\n",
       "/* Parallel-specific style estimator block */\n",
       "\n",
       "#sk-container-id-2 div.sk-parallel-item::after {\n",
       "  content: \"\";\n",
       "  width: 100%;\n",
       "  border-bottom: 2px solid var(--sklearn-color-text-on-default-background);\n",
       "  flex-grow: 1;\n",
       "}\n",
       "\n",
       "#sk-container-id-2 div.sk-parallel {\n",
       "  display: flex;\n",
       "  align-items: stretch;\n",
       "  justify-content: center;\n",
       "  background-color: var(--sklearn-color-background);\n",
       "  position: relative;\n",
       "}\n",
       "\n",
       "#sk-container-id-2 div.sk-parallel-item {\n",
       "  display: flex;\n",
       "  flex-direction: column;\n",
       "}\n",
       "\n",
       "#sk-container-id-2 div.sk-parallel-item:first-child::after {\n",
       "  align-self: flex-end;\n",
       "  width: 50%;\n",
       "}\n",
       "\n",
       "#sk-container-id-2 div.sk-parallel-item:last-child::after {\n",
       "  align-self: flex-start;\n",
       "  width: 50%;\n",
       "}\n",
       "\n",
       "#sk-container-id-2 div.sk-parallel-item:only-child::after {\n",
       "  width: 0;\n",
       "}\n",
       "\n",
       "/* Serial-specific style estimator block */\n",
       "\n",
       "#sk-container-id-2 div.sk-serial {\n",
       "  display: flex;\n",
       "  flex-direction: column;\n",
       "  align-items: center;\n",
       "  background-color: var(--sklearn-color-background);\n",
       "  padding-right: 1em;\n",
       "  padding-left: 1em;\n",
       "}\n",
       "\n",
       "\n",
       "/* Toggleable style: style used for estimator/Pipeline/ColumnTransformer box that is\n",
       "clickable and can be expanded/collapsed.\n",
       "- Pipeline and ColumnTransformer use this feature and define the default style\n",
       "- Estimators will overwrite some part of the style using the `sk-estimator` class\n",
       "*/\n",
       "\n",
       "/* Pipeline and ColumnTransformer style (default) */\n",
       "\n",
       "#sk-container-id-2 div.sk-toggleable {\n",
       "  /* Default theme specific background. It is overwritten whether we have a\n",
       "  specific estimator or a Pipeline/ColumnTransformer */\n",
       "  background-color: var(--sklearn-color-background);\n",
       "}\n",
       "\n",
       "/* Toggleable label */\n",
       "#sk-container-id-2 label.sk-toggleable__label {\n",
       "  cursor: pointer;\n",
       "  display: flex;\n",
       "  width: 100%;\n",
       "  margin-bottom: 0;\n",
       "  padding: 0.5em;\n",
       "  box-sizing: border-box;\n",
       "  text-align: center;\n",
       "  align-items: start;\n",
       "  justify-content: space-between;\n",
       "  gap: 0.5em;\n",
       "}\n",
       "\n",
       "#sk-container-id-2 label.sk-toggleable__label .caption {\n",
       "  font-size: 0.6rem;\n",
       "  font-weight: lighter;\n",
       "  color: var(--sklearn-color-text-muted);\n",
       "}\n",
       "\n",
       "#sk-container-id-2 label.sk-toggleable__label-arrow:before {\n",
       "  /* Arrow on the left of the label */\n",
       "  content: \"▸\";\n",
       "  float: left;\n",
       "  margin-right: 0.25em;\n",
       "  color: var(--sklearn-color-icon);\n",
       "}\n",
       "\n",
       "#sk-container-id-2 label.sk-toggleable__label-arrow:hover:before {\n",
       "  color: var(--sklearn-color-text);\n",
       "}\n",
       "\n",
       "/* Toggleable content - dropdown */\n",
       "\n",
       "#sk-container-id-2 div.sk-toggleable__content {\n",
       "  max-height: 0;\n",
       "  max-width: 0;\n",
       "  overflow: hidden;\n",
       "  text-align: left;\n",
       "  /* unfitted */\n",
       "  background-color: var(--sklearn-color-unfitted-level-0);\n",
       "}\n",
       "\n",
       "#sk-container-id-2 div.sk-toggleable__content.fitted {\n",
       "  /* fitted */\n",
       "  background-color: var(--sklearn-color-fitted-level-0);\n",
       "}\n",
       "\n",
       "#sk-container-id-2 div.sk-toggleable__content pre {\n",
       "  margin: 0.2em;\n",
       "  border-radius: 0.25em;\n",
       "  color: var(--sklearn-color-text);\n",
       "  /* unfitted */\n",
       "  background-color: var(--sklearn-color-unfitted-level-0);\n",
       "}\n",
       "\n",
       "#sk-container-id-2 div.sk-toggleable__content.fitted pre {\n",
       "  /* unfitted */\n",
       "  background-color: var(--sklearn-color-fitted-level-0);\n",
       "}\n",
       "\n",
       "#sk-container-id-2 input.sk-toggleable__control:checked~div.sk-toggleable__content {\n",
       "  /* Expand drop-down */\n",
       "  max-height: 200px;\n",
       "  max-width: 100%;\n",
       "  overflow: auto;\n",
       "}\n",
       "\n",
       "#sk-container-id-2 input.sk-toggleable__control:checked~label.sk-toggleable__label-arrow:before {\n",
       "  content: \"▾\";\n",
       "}\n",
       "\n",
       "/* Pipeline/ColumnTransformer-specific style */\n",
       "\n",
       "#sk-container-id-2 div.sk-label input.sk-toggleable__control:checked~label.sk-toggleable__label {\n",
       "  color: var(--sklearn-color-text);\n",
       "  background-color: var(--sklearn-color-unfitted-level-2);\n",
       "}\n",
       "\n",
       "#sk-container-id-2 div.sk-label.fitted input.sk-toggleable__control:checked~label.sk-toggleable__label {\n",
       "  background-color: var(--sklearn-color-fitted-level-2);\n",
       "}\n",
       "\n",
       "/* Estimator-specific style */\n",
       "\n",
       "/* Colorize estimator box */\n",
       "#sk-container-id-2 div.sk-estimator input.sk-toggleable__control:checked~label.sk-toggleable__label {\n",
       "  /* unfitted */\n",
       "  background-color: var(--sklearn-color-unfitted-level-2);\n",
       "}\n",
       "\n",
       "#sk-container-id-2 div.sk-estimator.fitted input.sk-toggleable__control:checked~label.sk-toggleable__label {\n",
       "  /* fitted */\n",
       "  background-color: var(--sklearn-color-fitted-level-2);\n",
       "}\n",
       "\n",
       "#sk-container-id-2 div.sk-label label.sk-toggleable__label,\n",
       "#sk-container-id-2 div.sk-label label {\n",
       "  /* The background is the default theme color */\n",
       "  color: var(--sklearn-color-text-on-default-background);\n",
       "}\n",
       "\n",
       "/* On hover, darken the color of the background */\n",
       "#sk-container-id-2 div.sk-label:hover label.sk-toggleable__label {\n",
       "  color: var(--sklearn-color-text);\n",
       "  background-color: var(--sklearn-color-unfitted-level-2);\n",
       "}\n",
       "\n",
       "/* Label box, darken color on hover, fitted */\n",
       "#sk-container-id-2 div.sk-label.fitted:hover label.sk-toggleable__label.fitted {\n",
       "  color: var(--sklearn-color-text);\n",
       "  background-color: var(--sklearn-color-fitted-level-2);\n",
       "}\n",
       "\n",
       "/* Estimator label */\n",
       "\n",
       "#sk-container-id-2 div.sk-label label {\n",
       "  font-family: monospace;\n",
       "  font-weight: bold;\n",
       "  display: inline-block;\n",
       "  line-height: 1.2em;\n",
       "}\n",
       "\n",
       "#sk-container-id-2 div.sk-label-container {\n",
       "  text-align: center;\n",
       "}\n",
       "\n",
       "/* Estimator-specific */\n",
       "#sk-container-id-2 div.sk-estimator {\n",
       "  font-family: monospace;\n",
       "  border: 1px dotted var(--sklearn-color-border-box);\n",
       "  border-radius: 0.25em;\n",
       "  box-sizing: border-box;\n",
       "  margin-bottom: 0.5em;\n",
       "  /* unfitted */\n",
       "  background-color: var(--sklearn-color-unfitted-level-0);\n",
       "}\n",
       "\n",
       "#sk-container-id-2 div.sk-estimator.fitted {\n",
       "  /* fitted */\n",
       "  background-color: var(--sklearn-color-fitted-level-0);\n",
       "}\n",
       "\n",
       "/* on hover */\n",
       "#sk-container-id-2 div.sk-estimator:hover {\n",
       "  /* unfitted */\n",
       "  background-color: var(--sklearn-color-unfitted-level-2);\n",
       "}\n",
       "\n",
       "#sk-container-id-2 div.sk-estimator.fitted:hover {\n",
       "  /* fitted */\n",
       "  background-color: var(--sklearn-color-fitted-level-2);\n",
       "}\n",
       "\n",
       "/* Specification for estimator info (e.g. \"i\" and \"?\") */\n",
       "\n",
       "/* Common style for \"i\" and \"?\" */\n",
       "\n",
       ".sk-estimator-doc-link,\n",
       "a:link.sk-estimator-doc-link,\n",
       "a:visited.sk-estimator-doc-link {\n",
       "  float: right;\n",
       "  font-size: smaller;\n",
       "  line-height: 1em;\n",
       "  font-family: monospace;\n",
       "  background-color: var(--sklearn-color-background);\n",
       "  border-radius: 1em;\n",
       "  height: 1em;\n",
       "  width: 1em;\n",
       "  text-decoration: none !important;\n",
       "  margin-left: 0.5em;\n",
       "  text-align: center;\n",
       "  /* unfitted */\n",
       "  border: var(--sklearn-color-unfitted-level-1) 1pt solid;\n",
       "  color: var(--sklearn-color-unfitted-level-1);\n",
       "}\n",
       "\n",
       ".sk-estimator-doc-link.fitted,\n",
       "a:link.sk-estimator-doc-link.fitted,\n",
       "a:visited.sk-estimator-doc-link.fitted {\n",
       "  /* fitted */\n",
       "  border: var(--sklearn-color-fitted-level-1) 1pt solid;\n",
       "  color: var(--sklearn-color-fitted-level-1);\n",
       "}\n",
       "\n",
       "/* On hover */\n",
       "div.sk-estimator:hover .sk-estimator-doc-link:hover,\n",
       ".sk-estimator-doc-link:hover,\n",
       "div.sk-label-container:hover .sk-estimator-doc-link:hover,\n",
       ".sk-estimator-doc-link:hover {\n",
       "  /* unfitted */\n",
       "  background-color: var(--sklearn-color-unfitted-level-3);\n",
       "  color: var(--sklearn-color-background);\n",
       "  text-decoration: none;\n",
       "}\n",
       "\n",
       "div.sk-estimator.fitted:hover .sk-estimator-doc-link.fitted:hover,\n",
       ".sk-estimator-doc-link.fitted:hover,\n",
       "div.sk-label-container:hover .sk-estimator-doc-link.fitted:hover,\n",
       ".sk-estimator-doc-link.fitted:hover {\n",
       "  /* fitted */\n",
       "  background-color: var(--sklearn-color-fitted-level-3);\n",
       "  color: var(--sklearn-color-background);\n",
       "  text-decoration: none;\n",
       "}\n",
       "\n",
       "/* Span, style for the box shown on hovering the info icon */\n",
       ".sk-estimator-doc-link span {\n",
       "  display: none;\n",
       "  z-index: 9999;\n",
       "  position: relative;\n",
       "  font-weight: normal;\n",
       "  right: .2ex;\n",
       "  padding: .5ex;\n",
       "  margin: .5ex;\n",
       "  width: min-content;\n",
       "  min-width: 20ex;\n",
       "  max-width: 50ex;\n",
       "  color: var(--sklearn-color-text);\n",
       "  box-shadow: 2pt 2pt 4pt #999;\n",
       "  /* unfitted */\n",
       "  background: var(--sklearn-color-unfitted-level-0);\n",
       "  border: .5pt solid var(--sklearn-color-unfitted-level-3);\n",
       "}\n",
       "\n",
       ".sk-estimator-doc-link.fitted span {\n",
       "  /* fitted */\n",
       "  background: var(--sklearn-color-fitted-level-0);\n",
       "  border: var(--sklearn-color-fitted-level-3);\n",
       "}\n",
       "\n",
       ".sk-estimator-doc-link:hover span {\n",
       "  display: block;\n",
       "}\n",
       "\n",
       "/* \"?\"-specific style due to the `<a>` HTML tag */\n",
       "\n",
       "#sk-container-id-2 a.estimator_doc_link {\n",
       "  float: right;\n",
       "  font-size: 1rem;\n",
       "  line-height: 1em;\n",
       "  font-family: monospace;\n",
       "  background-color: var(--sklearn-color-background);\n",
       "  border-radius: 1rem;\n",
       "  height: 1rem;\n",
       "  width: 1rem;\n",
       "  text-decoration: none;\n",
       "  /* unfitted */\n",
       "  color: var(--sklearn-color-unfitted-level-1);\n",
       "  border: var(--sklearn-color-unfitted-level-1) 1pt solid;\n",
       "}\n",
       "\n",
       "#sk-container-id-2 a.estimator_doc_link.fitted {\n",
       "  /* fitted */\n",
       "  border: var(--sklearn-color-fitted-level-1) 1pt solid;\n",
       "  color: var(--sklearn-color-fitted-level-1);\n",
       "}\n",
       "\n",
       "/* On hover */\n",
       "#sk-container-id-2 a.estimator_doc_link:hover {\n",
       "  /* unfitted */\n",
       "  background-color: var(--sklearn-color-unfitted-level-3);\n",
       "  color: var(--sklearn-color-background);\n",
       "  text-decoration: none;\n",
       "}\n",
       "\n",
       "#sk-container-id-2 a.estimator_doc_link.fitted:hover {\n",
       "  /* fitted */\n",
       "  background-color: var(--sklearn-color-fitted-level-3);\n",
       "}\n",
       "</style><div id=\"sk-container-id-2\" class=\"sk-top-container\"><div class=\"sk-text-repr-fallback\"><pre>GridSearchCV(cv=5,\n",
       "             estimator=Pipeline(steps=[(&#x27;preprocessing&#x27;,\n",
       "                                        ColumnTransformer(transformers=((&#x27;number&#x27;,\n",
       "                                                                         StandardScaler(),\n",
       "                                                                         [&#x27;Year&#x27;,\n",
       "                                                                          &#x27;KM_Driven&#x27;]),\n",
       "                                                                        (&#x27;categorical_not_rank&#x27;,\n",
       "                                                                         OneHotEncoder(handle_unknown=&#x27;infrequent_if_exist&#x27;),\n",
       "                                                                         [&#x27;Brand&#x27;,\n",
       "                                                                          &#x27;Fuel&#x27;,\n",
       "                                                                          &#x27;Seller_Type&#x27;,\n",
       "                                                                          &#x27;Transmission&#x27;,\n",
       "                                                                          &#x27;Owner&#x27;])))),\n",
       "                                       (&#x27;pca&#x27;, PCA(random_state=42)),\n",
       "                                       (&#x27;model&#x27;,\n",
       "                                        TransformedTargetRegressor(regressor=Lasso(alpha=0.01,\n",
       "                                                                                   random_state=42),\n",
       "                                                                   transformer=StandardScaler()))]),\n",
       "             param_grid={&#x27;pca__n_components&#x27;: range(2, 40)},\n",
       "             scoring=&#x27;neg_mean_squared_error&#x27;)</pre><b>In a Jupyter environment, please rerun this cell to show the HTML representation or trust the notebook. <br />On GitHub, the HTML representation is unable to render, please try loading this page with nbviewer.org.</b></div><div class=\"sk-container\" hidden><div class=\"sk-item sk-dashed-wrapped\"><div class=\"sk-label-container\"><div class=\"sk-label fitted sk-toggleable\"><input class=\"sk-toggleable__control sk-hidden--visually\" id=\"sk-estimator-id-13\" type=\"checkbox\" ><label for=\"sk-estimator-id-13\" class=\"sk-toggleable__label fitted sk-toggleable__label-arrow\"><div><div>GridSearchCV</div></div><div><a class=\"sk-estimator-doc-link fitted\" rel=\"noreferrer\" target=\"_blank\" href=\"https://scikit-learn.org/1.6/modules/generated/sklearn.model_selection.GridSearchCV.html\">?<span>Documentation for GridSearchCV</span></a><span class=\"sk-estimator-doc-link fitted\">i<span>Fitted</span></span></div></label><div class=\"sk-toggleable__content fitted\"><pre>GridSearchCV(cv=5,\n",
       "             estimator=Pipeline(steps=[(&#x27;preprocessing&#x27;,\n",
       "                                        ColumnTransformer(transformers=((&#x27;number&#x27;,\n",
       "                                                                         StandardScaler(),\n",
       "                                                                         [&#x27;Year&#x27;,\n",
       "                                                                          &#x27;KM_Driven&#x27;]),\n",
       "                                                                        (&#x27;categorical_not_rank&#x27;,\n",
       "                                                                         OneHotEncoder(handle_unknown=&#x27;infrequent_if_exist&#x27;),\n",
       "                                                                         [&#x27;Brand&#x27;,\n",
       "                                                                          &#x27;Fuel&#x27;,\n",
       "                                                                          &#x27;Seller_Type&#x27;,\n",
       "                                                                          &#x27;Transmission&#x27;,\n",
       "                                                                          &#x27;Owner&#x27;])))),\n",
       "                                       (&#x27;pca&#x27;, PCA(random_state=42)),\n",
       "                                       (&#x27;model&#x27;,\n",
       "                                        TransformedTargetRegressor(regressor=Lasso(alpha=0.01,\n",
       "                                                                                   random_state=42),\n",
       "                                                                   transformer=StandardScaler()))]),\n",
       "             param_grid={&#x27;pca__n_components&#x27;: range(2, 40)},\n",
       "             scoring=&#x27;neg_mean_squared_error&#x27;)</pre></div> </div></div><div class=\"sk-parallel\"><div class=\"sk-parallel-item\"><div class=\"sk-item\"><div class=\"sk-label-container\"><div class=\"sk-label fitted sk-toggleable\"><input class=\"sk-toggleable__control sk-hidden--visually\" id=\"sk-estimator-id-14\" type=\"checkbox\" ><label for=\"sk-estimator-id-14\" class=\"sk-toggleable__label fitted sk-toggleable__label-arrow\"><div><div>best_estimator_: Pipeline</div></div></label><div class=\"sk-toggleable__content fitted\"><pre>Pipeline(steps=[(&#x27;preprocessing&#x27;,\n",
       "                 ColumnTransformer(transformers=((&#x27;number&#x27;, StandardScaler(),\n",
       "                                                  [&#x27;Year&#x27;, &#x27;KM_Driven&#x27;]),\n",
       "                                                 (&#x27;categorical_not_rank&#x27;,\n",
       "                                                  OneHotEncoder(handle_unknown=&#x27;infrequent_if_exist&#x27;),\n",
       "                                                  [&#x27;Brand&#x27;, &#x27;Fuel&#x27;,\n",
       "                                                   &#x27;Seller_Type&#x27;,\n",
       "                                                   &#x27;Transmission&#x27;,\n",
       "                                                   &#x27;Owner&#x27;])))),\n",
       "                (&#x27;pca&#x27;, PCA(n_components=37, random_state=42)),\n",
       "                (&#x27;model&#x27;,\n",
       "                 TransformedTargetRegressor(regressor=Lasso(alpha=0.01,\n",
       "                                                            random_state=42),\n",
       "                                            transformer=StandardScaler()))])</pre></div> </div></div><div class=\"sk-serial\"><div class=\"sk-item\"><div class=\"sk-serial\"><div class=\"sk-item sk-dashed-wrapped\"><div class=\"sk-label-container\"><div class=\"sk-label fitted sk-toggleable\"><input class=\"sk-toggleable__control sk-hidden--visually\" id=\"sk-estimator-id-15\" type=\"checkbox\" ><label for=\"sk-estimator-id-15\" class=\"sk-toggleable__label fitted sk-toggleable__label-arrow\"><div><div>preprocessing: ColumnTransformer</div></div><div><a class=\"sk-estimator-doc-link fitted\" rel=\"noreferrer\" target=\"_blank\" href=\"https://scikit-learn.org/1.6/modules/generated/sklearn.compose.ColumnTransformer.html\">?<span>Documentation for preprocessing: ColumnTransformer</span></a></div></label><div class=\"sk-toggleable__content fitted\"><pre>ColumnTransformer(transformers=((&#x27;number&#x27;, StandardScaler(),\n",
       "                                 [&#x27;Year&#x27;, &#x27;KM_Driven&#x27;]),\n",
       "                                (&#x27;categorical_not_rank&#x27;,\n",
       "                                 OneHotEncoder(handle_unknown=&#x27;infrequent_if_exist&#x27;),\n",
       "                                 [&#x27;Brand&#x27;, &#x27;Fuel&#x27;, &#x27;Seller_Type&#x27;,\n",
       "                                  &#x27;Transmission&#x27;, &#x27;Owner&#x27;])))</pre></div> </div></div><div class=\"sk-parallel\"><div class=\"sk-parallel-item\"><div class=\"sk-item\"><div class=\"sk-label-container\"><div class=\"sk-label fitted sk-toggleable\"><input class=\"sk-toggleable__control sk-hidden--visually\" id=\"sk-estimator-id-16\" type=\"checkbox\" ><label for=\"sk-estimator-id-16\" class=\"sk-toggleable__label fitted sk-toggleable__label-arrow\"><div><div>number</div></div></label><div class=\"sk-toggleable__content fitted\"><pre>[&#x27;Year&#x27;, &#x27;KM_Driven&#x27;]</pre></div> </div></div><div class=\"sk-serial\"><div class=\"sk-item\"><div class=\"sk-estimator fitted sk-toggleable\"><input class=\"sk-toggleable__control sk-hidden--visually\" id=\"sk-estimator-id-17\" type=\"checkbox\" ><label for=\"sk-estimator-id-17\" class=\"sk-toggleable__label fitted sk-toggleable__label-arrow\"><div><div>StandardScaler</div></div><div><a class=\"sk-estimator-doc-link fitted\" rel=\"noreferrer\" target=\"_blank\" href=\"https://scikit-learn.org/1.6/modules/generated/sklearn.preprocessing.StandardScaler.html\">?<span>Documentation for StandardScaler</span></a></div></label><div class=\"sk-toggleable__content fitted\"><pre>StandardScaler()</pre></div> </div></div></div></div></div><div class=\"sk-parallel-item\"><div class=\"sk-item\"><div class=\"sk-label-container\"><div class=\"sk-label fitted sk-toggleable\"><input class=\"sk-toggleable__control sk-hidden--visually\" id=\"sk-estimator-id-18\" type=\"checkbox\" ><label for=\"sk-estimator-id-18\" class=\"sk-toggleable__label fitted sk-toggleable__label-arrow\"><div><div>categorical_not_rank</div></div></label><div class=\"sk-toggleable__content fitted\"><pre>[&#x27;Brand&#x27;, &#x27;Fuel&#x27;, &#x27;Seller_Type&#x27;, &#x27;Transmission&#x27;, &#x27;Owner&#x27;]</pre></div> </div></div><div class=\"sk-serial\"><div class=\"sk-item\"><div class=\"sk-estimator fitted sk-toggleable\"><input class=\"sk-toggleable__control sk-hidden--visually\" id=\"sk-estimator-id-19\" type=\"checkbox\" ><label for=\"sk-estimator-id-19\" class=\"sk-toggleable__label fitted sk-toggleable__label-arrow\"><div><div>OneHotEncoder</div></div><div><a class=\"sk-estimator-doc-link fitted\" rel=\"noreferrer\" target=\"_blank\" href=\"https://scikit-learn.org/1.6/modules/generated/sklearn.preprocessing.OneHotEncoder.html\">?<span>Documentation for OneHotEncoder</span></a></div></label><div class=\"sk-toggleable__content fitted\"><pre>OneHotEncoder(handle_unknown=&#x27;infrequent_if_exist&#x27;)</pre></div> </div></div></div></div></div></div></div><div class=\"sk-item\"><div class=\"sk-estimator fitted sk-toggleable\"><input class=\"sk-toggleable__control sk-hidden--visually\" id=\"sk-estimator-id-20\" type=\"checkbox\" ><label for=\"sk-estimator-id-20\" class=\"sk-toggleable__label fitted sk-toggleable__label-arrow\"><div><div>PCA</div></div><div><a class=\"sk-estimator-doc-link fitted\" rel=\"noreferrer\" target=\"_blank\" href=\"https://scikit-learn.org/1.6/modules/generated/sklearn.decomposition.PCA.html\">?<span>Documentation for PCA</span></a></div></label><div class=\"sk-toggleable__content fitted\"><pre>PCA(n_components=37, random_state=42)</pre></div> </div></div><div class=\"sk-item sk-dashed-wrapped\"><div class=\"sk-label-container\"><div class=\"sk-label fitted sk-toggleable\"><input class=\"sk-toggleable__control sk-hidden--visually\" id=\"sk-estimator-id-21\" type=\"checkbox\" ><label for=\"sk-estimator-id-21\" class=\"sk-toggleable__label fitted sk-toggleable__label-arrow\"><div><div>model: TransformedTargetRegressor</div></div><div><a class=\"sk-estimator-doc-link fitted\" rel=\"noreferrer\" target=\"_blank\" href=\"https://scikit-learn.org/1.6/modules/generated/sklearn.compose.TransformedTargetRegressor.html\">?<span>Documentation for model: TransformedTargetRegressor</span></a></div></label><div class=\"sk-toggleable__content fitted\"><pre>TransformedTargetRegressor(regressor=Lasso(alpha=0.01, random_state=42),\n",
       "                           transformer=StandardScaler())</pre></div> </div></div><div class=\"sk-parallel\"><div class=\"sk-parallel-item\"><div class=\"sk-item\"><div class=\"sk-label-container\"><div class=\"sk-label fitted sk-toggleable\"><input class=\"sk-toggleable__control sk-hidden--visually\" id=\"sk-estimator-id-22\" type=\"checkbox\" ><label for=\"sk-estimator-id-22\" class=\"sk-toggleable__label fitted sk-toggleable__label-arrow\"><div><div>regressor: Lasso</div></div></label><div class=\"sk-toggleable__content fitted\"><pre>Lasso(alpha=0.01, random_state=42)</pre></div> </div></div><div class=\"sk-serial\"><div class=\"sk-item\"><div class=\"sk-estimator fitted sk-toggleable\"><input class=\"sk-toggleable__control sk-hidden--visually\" id=\"sk-estimator-id-23\" type=\"checkbox\" ><label for=\"sk-estimator-id-23\" class=\"sk-toggleable__label fitted sk-toggleable__label-arrow\"><div><div>Lasso</div></div><div><a class=\"sk-estimator-doc-link fitted\" rel=\"noreferrer\" target=\"_blank\" href=\"https://scikit-learn.org/1.6/modules/generated/sklearn.linear_model.Lasso.html\">?<span>Documentation for Lasso</span></a></div></label><div class=\"sk-toggleable__content fitted\"><pre>Lasso(alpha=0.01, random_state=42)</pre></div> </div></div></div></div></div><div class=\"sk-parallel-item\"><div class=\"sk-item\"><div class=\"sk-label-container\"><div class=\"sk-label fitted sk-toggleable\"><input class=\"sk-toggleable__control sk-hidden--visually\" id=\"sk-estimator-id-24\" type=\"checkbox\" ><label for=\"sk-estimator-id-24\" class=\"sk-toggleable__label fitted sk-toggleable__label-arrow\"><div><div>transformer: StandardScaler</div></div></label><div class=\"sk-toggleable__content fitted\"><pre>StandardScaler()</pre></div> </div></div><div class=\"sk-serial\"><div class=\"sk-item\"><div class=\"sk-estimator fitted sk-toggleable\"><input class=\"sk-toggleable__control sk-hidden--visually\" id=\"sk-estimator-id-25\" type=\"checkbox\" ><label for=\"sk-estimator-id-25\" class=\"sk-toggleable__label fitted sk-toggleable__label-arrow\"><div><div>StandardScaler</div></div><div><a class=\"sk-estimator-doc-link fitted\" rel=\"noreferrer\" target=\"_blank\" href=\"https://scikit-learn.org/1.6/modules/generated/sklearn.preprocessing.StandardScaler.html\">?<span>Documentation for StandardScaler</span></a></div></label><div class=\"sk-toggleable__content fitted\"><pre>StandardScaler()</pre></div> </div></div></div></div></div></div></div></div></div></div></div></div></div></div></div></div>"
      ],
      "text/plain": [
       "GridSearchCV(cv=5,\n",
       "             estimator=Pipeline(steps=[('preprocessing',\n",
       "                                        ColumnTransformer(transformers=(('number',\n",
       "                                                                         StandardScaler(),\n",
       "                                                                         ['Year',\n",
       "                                                                          'KM_Driven']),\n",
       "                                                                        ('categorical_not_rank',\n",
       "                                                                         OneHotEncoder(handle_unknown='infrequent_if_exist'),\n",
       "                                                                         ['Brand',\n",
       "                                                                          'Fuel',\n",
       "                                                                          'Seller_Type',\n",
       "                                                                          'Transmission',\n",
       "                                                                          'Owner'])))),\n",
       "                                       ('pca', PCA(random_state=42)),\n",
       "                                       ('model',\n",
       "                                        TransformedTargetRegressor(regressor=Lasso(alpha=0.01,\n",
       "                                                                                   random_state=42),\n",
       "                                                                   transformer=StandardScaler()))]),\n",
       "             param_grid={'pca__n_components': range(2, 40)},\n",
       "             scoring='neg_mean_squared_error')"
      ]
     },
     "execution_count": 5,
     "metadata": {},
     "output_type": "execute_result"
    }
   ],
   "source": [
    "from sklearn.model_selection import GridSearchCV\n",
    "\n",
    "param_grid = {\"pca__n_components\": range(2, 40)}\n",
    "\n",
    "grid = GridSearchCV(pipeline, param_grid, cv=5, scoring=\"neg_mean_squared_error\")\n",
    "grid.fit(train_features, train_target)"
   ]
  },
  {
   "cell_type": "code",
   "execution_count": 6,
   "id": "20dbbb68",
   "metadata": {},
   "outputs": [],
   "source": [
    "import numpy as np\n",
    "from sklearn.metrics import (\n",
    "    mean_absolute_error,\n",
    "    mean_absolute_percentage_error,\n",
    "    mean_squared_error,\n",
    "    r2_score,\n",
    "    root_mean_squared_error,\n",
    ")\n",
    "\n",
    "ArrayLike = np.ndarray | list\n",
    "\n",
    "\n",
    "def regression_report(y_true: ArrayLike, y_pred: ArrayLike) -> None:\n",
    "    \"\"\"Функция для удобного вывода основных метрик регрессии.\"\"\"\n",
    "    mse = mean_squared_error(y_true, y_pred)\n",
    "    rmse = root_mean_squared_error(y_true, y_pred)\n",
    "    mae = mean_absolute_error(y_true, y_pred)\n",
    "    mape = mean_absolute_percentage_error(y_true, y_pred)\n",
    "    r2 = r2_score(y_true, y_pred)\n",
    "\n",
    "    print(f\"{'MAE':<10}: {mae:.3f}\")\n",
    "    print(f\"{'MAPE':<10}: {mape:.3f}\")\n",
    "    print(f\"{'MSE':<10}: {mse:.3f}\")\n",
    "    print(f\"{'RMSE':<10}: {rmse:.3f}\")\n",
    "    print(f\"{'R²':<10}: {r2:.3f}\")"
   ]
  },
  {
   "cell_type": "markdown",
   "id": "6d1a8b55",
   "metadata": {},
   "source": [
    "Топ 30 лучших параметров для модели"
   ]
  },
  {
   "cell_type": "code",
   "execution_count": 7,
   "id": "ce4e117f",
   "metadata": {},
   "outputs": [
    {
     "data": {
      "text/html": [
       "<div>\n",
       "<style scoped>\n",
       "    .dataframe tbody tr th:only-of-type {\n",
       "        vertical-align: middle;\n",
       "    }\n",
       "\n",
       "    .dataframe tbody tr th {\n",
       "        vertical-align: top;\n",
       "    }\n",
       "\n",
       "    .dataframe thead th {\n",
       "        text-align: right;\n",
       "    }\n",
       "</style>\n",
       "<table border=\"1\" class=\"dataframe\">\n",
       "  <thead>\n",
       "    <tr style=\"text-align: right;\">\n",
       "      <th></th>\n",
       "      <th>mean_fit_time</th>\n",
       "      <th>std_fit_time</th>\n",
       "      <th>mean_score_time</th>\n",
       "      <th>std_score_time</th>\n",
       "      <th>param_pca__n_components</th>\n",
       "      <th>params</th>\n",
       "      <th>split0_test_score</th>\n",
       "      <th>split1_test_score</th>\n",
       "      <th>split2_test_score</th>\n",
       "      <th>split3_test_score</th>\n",
       "      <th>split4_test_score</th>\n",
       "      <th>mean_test_score</th>\n",
       "      <th>std_test_score</th>\n",
       "      <th>rank_test_score</th>\n",
       "    </tr>\n",
       "  </thead>\n",
       "  <tbody>\n",
       "    <tr>\n",
       "      <th>35</th>\n",
       "      <td>0.021814</td>\n",
       "      <td>0.000529</td>\n",
       "      <td>0.006651</td>\n",
       "      <td>0.000486</td>\n",
       "      <td>37</td>\n",
       "      <td>{'pca__n_components': 37}</td>\n",
       "      <td>-1.222686e+11</td>\n",
       "      <td>-1.096451e+11</td>\n",
       "      <td>-1.112576e+11</td>\n",
       "      <td>-1.261145e+11</td>\n",
       "      <td>-1.717588e+11</td>\n",
       "      <td>-1.282089e+11</td>\n",
       "      <td>2.266375e+10</td>\n",
       "      <td>1</td>\n",
       "    </tr>\n",
       "    <tr>\n",
       "      <th>36</th>\n",
       "      <td>0.021917</td>\n",
       "      <td>0.000509</td>\n",
       "      <td>0.006758</td>\n",
       "      <td>0.000612</td>\n",
       "      <td>38</td>\n",
       "      <td>{'pca__n_components': 38}</td>\n",
       "      <td>-1.222686e+11</td>\n",
       "      <td>-1.096451e+11</td>\n",
       "      <td>-1.112576e+11</td>\n",
       "      <td>-1.261145e+11</td>\n",
       "      <td>-1.717588e+11</td>\n",
       "      <td>-1.282089e+11</td>\n",
       "      <td>2.266375e+10</td>\n",
       "      <td>2</td>\n",
       "    </tr>\n",
       "    <tr>\n",
       "      <th>26</th>\n",
       "      <td>0.020449</td>\n",
       "      <td>0.001137</td>\n",
       "      <td>0.006845</td>\n",
       "      <td>0.000706</td>\n",
       "      <td>28</td>\n",
       "      <td>{'pca__n_components': 28}</td>\n",
       "      <td>-1.222686e+11</td>\n",
       "      <td>-1.096451e+11</td>\n",
       "      <td>-1.112576e+11</td>\n",
       "      <td>-1.261145e+11</td>\n",
       "      <td>-1.717588e+11</td>\n",
       "      <td>-1.282089e+11</td>\n",
       "      <td>2.266375e+10</td>\n",
       "      <td>3</td>\n",
       "    </tr>\n",
       "    <tr>\n",
       "      <th>27</th>\n",
       "      <td>0.019447</td>\n",
       "      <td>0.000504</td>\n",
       "      <td>0.006454</td>\n",
       "      <td>0.000579</td>\n",
       "      <td>29</td>\n",
       "      <td>{'pca__n_components': 29}</td>\n",
       "      <td>-1.222686e+11</td>\n",
       "      <td>-1.096451e+11</td>\n",
       "      <td>-1.112576e+11</td>\n",
       "      <td>-1.261145e+11</td>\n",
       "      <td>-1.717588e+11</td>\n",
       "      <td>-1.282089e+11</td>\n",
       "      <td>2.266375e+10</td>\n",
       "      <td>4</td>\n",
       "    </tr>\n",
       "    <tr>\n",
       "      <th>28</th>\n",
       "      <td>0.021667</td>\n",
       "      <td>0.001079</td>\n",
       "      <td>0.007169</td>\n",
       "      <td>0.000617</td>\n",
       "      <td>30</td>\n",
       "      <td>{'pca__n_components': 30}</td>\n",
       "      <td>-1.222686e+11</td>\n",
       "      <td>-1.096451e+11</td>\n",
       "      <td>-1.112576e+11</td>\n",
       "      <td>-1.261145e+11</td>\n",
       "      <td>-1.717588e+11</td>\n",
       "      <td>-1.282089e+11</td>\n",
       "      <td>2.266375e+10</td>\n",
       "      <td>4</td>\n",
       "    </tr>\n",
       "    <tr>\n",
       "      <th>33</th>\n",
       "      <td>0.021145</td>\n",
       "      <td>0.000485</td>\n",
       "      <td>0.006878</td>\n",
       "      <td>0.000619</td>\n",
       "      <td>35</td>\n",
       "      <td>{'pca__n_components': 35}</td>\n",
       "      <td>-1.222686e+11</td>\n",
       "      <td>-1.096451e+11</td>\n",
       "      <td>-1.112576e+11</td>\n",
       "      <td>-1.261145e+11</td>\n",
       "      <td>-1.717588e+11</td>\n",
       "      <td>-1.282089e+11</td>\n",
       "      <td>2.266375e+10</td>\n",
       "      <td>4</td>\n",
       "    </tr>\n",
       "    <tr>\n",
       "      <th>29</th>\n",
       "      <td>0.021322</td>\n",
       "      <td>0.000810</td>\n",
       "      <td>0.007120</td>\n",
       "      <td>0.000849</td>\n",
       "      <td>31</td>\n",
       "      <td>{'pca__n_components': 31}</td>\n",
       "      <td>-1.222686e+11</td>\n",
       "      <td>-1.096451e+11</td>\n",
       "      <td>-1.112576e+11</td>\n",
       "      <td>-1.261145e+11</td>\n",
       "      <td>-1.717588e+11</td>\n",
       "      <td>-1.282089e+11</td>\n",
       "      <td>2.266375e+10</td>\n",
       "      <td>7</td>\n",
       "    </tr>\n",
       "    <tr>\n",
       "      <th>25</th>\n",
       "      <td>0.020834</td>\n",
       "      <td>0.000397</td>\n",
       "      <td>0.007077</td>\n",
       "      <td>0.001000</td>\n",
       "      <td>27</td>\n",
       "      <td>{'pca__n_components': 27}</td>\n",
       "      <td>-1.222686e+11</td>\n",
       "      <td>-1.096451e+11</td>\n",
       "      <td>-1.112576e+11</td>\n",
       "      <td>-1.261145e+11</td>\n",
       "      <td>-1.717588e+11</td>\n",
       "      <td>-1.282089e+11</td>\n",
       "      <td>2.266375e+10</td>\n",
       "      <td>7</td>\n",
       "    </tr>\n",
       "    <tr>\n",
       "      <th>34</th>\n",
       "      <td>0.021556</td>\n",
       "      <td>0.000375</td>\n",
       "      <td>0.006849</td>\n",
       "      <td>0.000481</td>\n",
       "      <td>36</td>\n",
       "      <td>{'pca__n_components': 36}</td>\n",
       "      <td>-1.222686e+11</td>\n",
       "      <td>-1.096451e+11</td>\n",
       "      <td>-1.112576e+11</td>\n",
       "      <td>-1.261145e+11</td>\n",
       "      <td>-1.717588e+11</td>\n",
       "      <td>-1.282089e+11</td>\n",
       "      <td>2.266375e+10</td>\n",
       "      <td>9</td>\n",
       "    </tr>\n",
       "    <tr>\n",
       "      <th>37</th>\n",
       "      <td>0.027549</td>\n",
       "      <td>0.001061</td>\n",
       "      <td>0.006822</td>\n",
       "      <td>0.000418</td>\n",
       "      <td>39</td>\n",
       "      <td>{'pca__n_components': 39}</td>\n",
       "      <td>-1.222686e+11</td>\n",
       "      <td>-1.096451e+11</td>\n",
       "      <td>-1.112576e+11</td>\n",
       "      <td>-1.261145e+11</td>\n",
       "      <td>-1.717588e+11</td>\n",
       "      <td>-1.282089e+11</td>\n",
       "      <td>2.266375e+10</td>\n",
       "      <td>9</td>\n",
       "    </tr>\n",
       "    <tr>\n",
       "      <th>24</th>\n",
       "      <td>0.020916</td>\n",
       "      <td>0.000751</td>\n",
       "      <td>0.007050</td>\n",
       "      <td>0.000666</td>\n",
       "      <td>26</td>\n",
       "      <td>{'pca__n_components': 26}</td>\n",
       "      <td>-1.222686e+11</td>\n",
       "      <td>-1.096451e+11</td>\n",
       "      <td>-1.112576e+11</td>\n",
       "      <td>-1.261145e+11</td>\n",
       "      <td>-1.717588e+11</td>\n",
       "      <td>-1.282089e+11</td>\n",
       "      <td>2.266375e+10</td>\n",
       "      <td>11</td>\n",
       "    </tr>\n",
       "    <tr>\n",
       "      <th>32</th>\n",
       "      <td>0.020741</td>\n",
       "      <td>0.000416</td>\n",
       "      <td>0.006740</td>\n",
       "      <td>0.000683</td>\n",
       "      <td>34</td>\n",
       "      <td>{'pca__n_components': 34}</td>\n",
       "      <td>-1.222686e+11</td>\n",
       "      <td>-1.096451e+11</td>\n",
       "      <td>-1.112576e+11</td>\n",
       "      <td>-1.261145e+11</td>\n",
       "      <td>-1.717588e+11</td>\n",
       "      <td>-1.282089e+11</td>\n",
       "      <td>2.266375e+10</td>\n",
       "      <td>12</td>\n",
       "    </tr>\n",
       "    <tr>\n",
       "      <th>30</th>\n",
       "      <td>0.020925</td>\n",
       "      <td>0.000371</td>\n",
       "      <td>0.006906</td>\n",
       "      <td>0.000572</td>\n",
       "      <td>32</td>\n",
       "      <td>{'pca__n_components': 32}</td>\n",
       "      <td>-1.222686e+11</td>\n",
       "      <td>-1.096451e+11</td>\n",
       "      <td>-1.112576e+11</td>\n",
       "      <td>-1.261145e+11</td>\n",
       "      <td>-1.717588e+11</td>\n",
       "      <td>-1.282089e+11</td>\n",
       "      <td>2.266375e+10</td>\n",
       "      <td>12</td>\n",
       "    </tr>\n",
       "    <tr>\n",
       "      <th>31</th>\n",
       "      <td>0.021205</td>\n",
       "      <td>0.000657</td>\n",
       "      <td>0.006585</td>\n",
       "      <td>0.000525</td>\n",
       "      <td>33</td>\n",
       "      <td>{'pca__n_components': 33}</td>\n",
       "      <td>-1.222686e+11</td>\n",
       "      <td>-1.096451e+11</td>\n",
       "      <td>-1.112576e+11</td>\n",
       "      <td>-1.261145e+11</td>\n",
       "      <td>-1.717588e+11</td>\n",
       "      <td>-1.282089e+11</td>\n",
       "      <td>2.266375e+10</td>\n",
       "      <td>14</td>\n",
       "    </tr>\n",
       "    <tr>\n",
       "      <th>23</th>\n",
       "      <td>0.019743</td>\n",
       "      <td>0.000860</td>\n",
       "      <td>0.006833</td>\n",
       "      <td>0.001009</td>\n",
       "      <td>25</td>\n",
       "      <td>{'pca__n_components': 25}</td>\n",
       "      <td>-1.682909e+11</td>\n",
       "      <td>-1.439452e+11</td>\n",
       "      <td>-1.359435e+11</td>\n",
       "      <td>-1.655920e+11</td>\n",
       "      <td>-2.213883e+11</td>\n",
       "      <td>-1.670320e+11</td>\n",
       "      <td>2.985888e+10</td>\n",
       "      <td>15</td>\n",
       "    </tr>\n",
       "    <tr>\n",
       "      <th>22</th>\n",
       "      <td>0.018110</td>\n",
       "      <td>0.000348</td>\n",
       "      <td>0.006016</td>\n",
       "      <td>0.000228</td>\n",
       "      <td>24</td>\n",
       "      <td>{'pca__n_components': 24}</td>\n",
       "      <td>-1.682909e+11</td>\n",
       "      <td>-1.439452e+11</td>\n",
       "      <td>-1.359435e+11</td>\n",
       "      <td>-1.655920e+11</td>\n",
       "      <td>-2.322239e+11</td>\n",
       "      <td>-1.691991e+11</td>\n",
       "      <td>3.385160e+10</td>\n",
       "      <td>16</td>\n",
       "    </tr>\n",
       "    <tr>\n",
       "      <th>21</th>\n",
       "      <td>0.018073</td>\n",
       "      <td>0.000162</td>\n",
       "      <td>0.006300</td>\n",
       "      <td>0.000692</td>\n",
       "      <td>23</td>\n",
       "      <td>{'pca__n_components': 23}</td>\n",
       "      <td>-1.682909e+11</td>\n",
       "      <td>-1.439452e+11</td>\n",
       "      <td>-1.359435e+11</td>\n",
       "      <td>-1.655920e+11</td>\n",
       "      <td>-2.322239e+11</td>\n",
       "      <td>-1.691991e+11</td>\n",
       "      <td>3.385160e+10</td>\n",
       "      <td>17</td>\n",
       "    </tr>\n",
       "    <tr>\n",
       "      <th>20</th>\n",
       "      <td>0.018312</td>\n",
       "      <td>0.000686</td>\n",
       "      <td>0.006389</td>\n",
       "      <td>0.000915</td>\n",
       "      <td>22</td>\n",
       "      <td>{'pca__n_components': 22}</td>\n",
       "      <td>-1.885232e+11</td>\n",
       "      <td>-1.531784e+11</td>\n",
       "      <td>-1.440945e+11</td>\n",
       "      <td>-1.762728e+11</td>\n",
       "      <td>-2.496839e+11</td>\n",
       "      <td>-1.823506e+11</td>\n",
       "      <td>3.721118e+10</td>\n",
       "      <td>18</td>\n",
       "    </tr>\n",
       "    <tr>\n",
       "      <th>19</th>\n",
       "      <td>0.018560</td>\n",
       "      <td>0.001009</td>\n",
       "      <td>0.006091</td>\n",
       "      <td>0.000272</td>\n",
       "      <td>21</td>\n",
       "      <td>{'pca__n_components': 21}</td>\n",
       "      <td>-1.885232e+11</td>\n",
       "      <td>-1.531784e+11</td>\n",
       "      <td>-1.440945e+11</td>\n",
       "      <td>-1.762728e+11</td>\n",
       "      <td>-2.496839e+11</td>\n",
       "      <td>-1.823506e+11</td>\n",
       "      <td>3.721118e+10</td>\n",
       "      <td>19</td>\n",
       "    </tr>\n",
       "    <tr>\n",
       "      <th>17</th>\n",
       "      <td>0.018404</td>\n",
       "      <td>0.001615</td>\n",
       "      <td>0.007038</td>\n",
       "      <td>0.000460</td>\n",
       "      <td>19</td>\n",
       "      <td>{'pca__n_components': 19}</td>\n",
       "      <td>-1.886120e+11</td>\n",
       "      <td>-1.540308e+11</td>\n",
       "      <td>-1.440945e+11</td>\n",
       "      <td>-1.762728e+11</td>\n",
       "      <td>-2.496839e+11</td>\n",
       "      <td>-1.825388e+11</td>\n",
       "      <td>3.708173e+10</td>\n",
       "      <td>20</td>\n",
       "    </tr>\n",
       "    <tr>\n",
       "      <th>16</th>\n",
       "      <td>0.009787</td>\n",
       "      <td>0.000520</td>\n",
       "      <td>0.003416</td>\n",
       "      <td>0.000466</td>\n",
       "      <td>18</td>\n",
       "      <td>{'pca__n_components': 18}</td>\n",
       "      <td>-1.886120e+11</td>\n",
       "      <td>-1.540308e+11</td>\n",
       "      <td>-1.440945e+11</td>\n",
       "      <td>-1.762728e+11</td>\n",
       "      <td>-2.496839e+11</td>\n",
       "      <td>-1.825388e+11</td>\n",
       "      <td>3.708173e+10</td>\n",
       "      <td>21</td>\n",
       "    </tr>\n",
       "    <tr>\n",
       "      <th>13</th>\n",
       "      <td>0.009598</td>\n",
       "      <td>0.000710</td>\n",
       "      <td>0.003636</td>\n",
       "      <td>0.000504</td>\n",
       "      <td>15</td>\n",
       "      <td>{'pca__n_components': 15}</td>\n",
       "      <td>-1.886120e+11</td>\n",
       "      <td>-1.540308e+11</td>\n",
       "      <td>-1.440945e+11</td>\n",
       "      <td>-1.762728e+11</td>\n",
       "      <td>-2.496839e+11</td>\n",
       "      <td>-1.825388e+11</td>\n",
       "      <td>3.708173e+10</td>\n",
       "      <td>21</td>\n",
       "    </tr>\n",
       "    <tr>\n",
       "      <th>14</th>\n",
       "      <td>0.009627</td>\n",
       "      <td>0.000668</td>\n",
       "      <td>0.003577</td>\n",
       "      <td>0.000212</td>\n",
       "      <td>16</td>\n",
       "      <td>{'pca__n_components': 16}</td>\n",
       "      <td>-1.886120e+11</td>\n",
       "      <td>-1.540308e+11</td>\n",
       "      <td>-1.440945e+11</td>\n",
       "      <td>-1.762728e+11</td>\n",
       "      <td>-2.496839e+11</td>\n",
       "      <td>-1.825388e+11</td>\n",
       "      <td>3.708173e+10</td>\n",
       "      <td>21</td>\n",
       "    </tr>\n",
       "    <tr>\n",
       "      <th>12</th>\n",
       "      <td>0.009984</td>\n",
       "      <td>0.000380</td>\n",
       "      <td>0.003528</td>\n",
       "      <td>0.000522</td>\n",
       "      <td>14</td>\n",
       "      <td>{'pca__n_components': 14}</td>\n",
       "      <td>-1.886120e+11</td>\n",
       "      <td>-1.540308e+11</td>\n",
       "      <td>-1.440945e+11</td>\n",
       "      <td>-1.762728e+11</td>\n",
       "      <td>-2.496839e+11</td>\n",
       "      <td>-1.825388e+11</td>\n",
       "      <td>3.708173e+10</td>\n",
       "      <td>21</td>\n",
       "    </tr>\n",
       "    <tr>\n",
       "      <th>18</th>\n",
       "      <td>0.019181</td>\n",
       "      <td>0.000748</td>\n",
       "      <td>0.006724</td>\n",
       "      <td>0.000767</td>\n",
       "      <td>20</td>\n",
       "      <td>{'pca__n_components': 20}</td>\n",
       "      <td>-1.886120e+11</td>\n",
       "      <td>-1.540308e+11</td>\n",
       "      <td>-1.440945e+11</td>\n",
       "      <td>-1.762728e+11</td>\n",
       "      <td>-2.496839e+11</td>\n",
       "      <td>-1.825388e+11</td>\n",
       "      <td>3.708173e+10</td>\n",
       "      <td>21</td>\n",
       "    </tr>\n",
       "    <tr>\n",
       "      <th>15</th>\n",
       "      <td>0.009818</td>\n",
       "      <td>0.000710</td>\n",
       "      <td>0.003571</td>\n",
       "      <td>0.000327</td>\n",
       "      <td>17</td>\n",
       "      <td>{'pca__n_components': 17}</td>\n",
       "      <td>-1.886120e+11</td>\n",
       "      <td>-1.540308e+11</td>\n",
       "      <td>-1.440945e+11</td>\n",
       "      <td>-1.762728e+11</td>\n",
       "      <td>-2.496839e+11</td>\n",
       "      <td>-1.825388e+11</td>\n",
       "      <td>3.708173e+10</td>\n",
       "      <td>26</td>\n",
       "    </tr>\n",
       "    <tr>\n",
       "      <th>11</th>\n",
       "      <td>0.009999</td>\n",
       "      <td>0.000169</td>\n",
       "      <td>0.004214</td>\n",
       "      <td>0.000568</td>\n",
       "      <td>13</td>\n",
       "      <td>{'pca__n_components': 13}</td>\n",
       "      <td>-1.934239e+11</td>\n",
       "      <td>-1.566109e+11</td>\n",
       "      <td>-1.485778e+11</td>\n",
       "      <td>-1.799645e+11</td>\n",
       "      <td>-2.531591e+11</td>\n",
       "      <td>-1.863472e+11</td>\n",
       "      <td>3.705514e+10</td>\n",
       "      <td>27</td>\n",
       "    </tr>\n",
       "    <tr>\n",
       "      <th>10</th>\n",
       "      <td>0.009532</td>\n",
       "      <td>0.000766</td>\n",
       "      <td>0.003798</td>\n",
       "      <td>0.000403</td>\n",
       "      <td>12</td>\n",
       "      <td>{'pca__n_components': 12}</td>\n",
       "      <td>-1.934239e+11</td>\n",
       "      <td>-1.570286e+11</td>\n",
       "      <td>-1.485778e+11</td>\n",
       "      <td>-1.799645e+11</td>\n",
       "      <td>-2.531591e+11</td>\n",
       "      <td>-1.864308e+11</td>\n",
       "      <td>3.698843e+10</td>\n",
       "      <td>28</td>\n",
       "    </tr>\n",
       "    <tr>\n",
       "      <th>9</th>\n",
       "      <td>0.009077</td>\n",
       "      <td>0.000551</td>\n",
       "      <td>0.003458</td>\n",
       "      <td>0.000326</td>\n",
       "      <td>11</td>\n",
       "      <td>{'pca__n_components': 11}</td>\n",
       "      <td>-1.934239e+11</td>\n",
       "      <td>-1.570286e+11</td>\n",
       "      <td>-1.485778e+11</td>\n",
       "      <td>-1.799695e+11</td>\n",
       "      <td>-2.531591e+11</td>\n",
       "      <td>-1.864318e+11</td>\n",
       "      <td>3.698826e+10</td>\n",
       "      <td>29</td>\n",
       "    </tr>\n",
       "    <tr>\n",
       "      <th>8</th>\n",
       "      <td>0.010273</td>\n",
       "      <td>0.002527</td>\n",
       "      <td>0.003878</td>\n",
       "      <td>0.001023</td>\n",
       "      <td>10</td>\n",
       "      <td>{'pca__n_components': 10}</td>\n",
       "      <td>-1.940946e+11</td>\n",
       "      <td>-1.575339e+11</td>\n",
       "      <td>-1.490720e+11</td>\n",
       "      <td>-1.803129e+11</td>\n",
       "      <td>-2.533563e+11</td>\n",
       "      <td>-1.868740e+11</td>\n",
       "      <td>3.689150e+10</td>\n",
       "      <td>30</td>\n",
       "    </tr>\n",
       "  </tbody>\n",
       "</table>\n",
       "</div>"
      ],
      "text/plain": [
       "    mean_fit_time  std_fit_time  mean_score_time  std_score_time  \\\n",
       "35       0.021814      0.000529         0.006651        0.000486   \n",
       "36       0.021917      0.000509         0.006758        0.000612   \n",
       "26       0.020449      0.001137         0.006845        0.000706   \n",
       "27       0.019447      0.000504         0.006454        0.000579   \n",
       "28       0.021667      0.001079         0.007169        0.000617   \n",
       "33       0.021145      0.000485         0.006878        0.000619   \n",
       "29       0.021322      0.000810         0.007120        0.000849   \n",
       "25       0.020834      0.000397         0.007077        0.001000   \n",
       "34       0.021556      0.000375         0.006849        0.000481   \n",
       "37       0.027549      0.001061         0.006822        0.000418   \n",
       "24       0.020916      0.000751         0.007050        0.000666   \n",
       "32       0.020741      0.000416         0.006740        0.000683   \n",
       "30       0.020925      0.000371         0.006906        0.000572   \n",
       "31       0.021205      0.000657         0.006585        0.000525   \n",
       "23       0.019743      0.000860         0.006833        0.001009   \n",
       "22       0.018110      0.000348         0.006016        0.000228   \n",
       "21       0.018073      0.000162         0.006300        0.000692   \n",
       "20       0.018312      0.000686         0.006389        0.000915   \n",
       "19       0.018560      0.001009         0.006091        0.000272   \n",
       "17       0.018404      0.001615         0.007038        0.000460   \n",
       "16       0.009787      0.000520         0.003416        0.000466   \n",
       "13       0.009598      0.000710         0.003636        0.000504   \n",
       "14       0.009627      0.000668         0.003577        0.000212   \n",
       "12       0.009984      0.000380         0.003528        0.000522   \n",
       "18       0.019181      0.000748         0.006724        0.000767   \n",
       "15       0.009818      0.000710         0.003571        0.000327   \n",
       "11       0.009999      0.000169         0.004214        0.000568   \n",
       "10       0.009532      0.000766         0.003798        0.000403   \n",
       "9        0.009077      0.000551         0.003458        0.000326   \n",
       "8        0.010273      0.002527         0.003878        0.001023   \n",
       "\n",
       "    param_pca__n_components                     params  split0_test_score  \\\n",
       "35                       37  {'pca__n_components': 37}      -1.222686e+11   \n",
       "36                       38  {'pca__n_components': 38}      -1.222686e+11   \n",
       "26                       28  {'pca__n_components': 28}      -1.222686e+11   \n",
       "27                       29  {'pca__n_components': 29}      -1.222686e+11   \n",
       "28                       30  {'pca__n_components': 30}      -1.222686e+11   \n",
       "33                       35  {'pca__n_components': 35}      -1.222686e+11   \n",
       "29                       31  {'pca__n_components': 31}      -1.222686e+11   \n",
       "25                       27  {'pca__n_components': 27}      -1.222686e+11   \n",
       "34                       36  {'pca__n_components': 36}      -1.222686e+11   \n",
       "37                       39  {'pca__n_components': 39}      -1.222686e+11   \n",
       "24                       26  {'pca__n_components': 26}      -1.222686e+11   \n",
       "32                       34  {'pca__n_components': 34}      -1.222686e+11   \n",
       "30                       32  {'pca__n_components': 32}      -1.222686e+11   \n",
       "31                       33  {'pca__n_components': 33}      -1.222686e+11   \n",
       "23                       25  {'pca__n_components': 25}      -1.682909e+11   \n",
       "22                       24  {'pca__n_components': 24}      -1.682909e+11   \n",
       "21                       23  {'pca__n_components': 23}      -1.682909e+11   \n",
       "20                       22  {'pca__n_components': 22}      -1.885232e+11   \n",
       "19                       21  {'pca__n_components': 21}      -1.885232e+11   \n",
       "17                       19  {'pca__n_components': 19}      -1.886120e+11   \n",
       "16                       18  {'pca__n_components': 18}      -1.886120e+11   \n",
       "13                       15  {'pca__n_components': 15}      -1.886120e+11   \n",
       "14                       16  {'pca__n_components': 16}      -1.886120e+11   \n",
       "12                       14  {'pca__n_components': 14}      -1.886120e+11   \n",
       "18                       20  {'pca__n_components': 20}      -1.886120e+11   \n",
       "15                       17  {'pca__n_components': 17}      -1.886120e+11   \n",
       "11                       13  {'pca__n_components': 13}      -1.934239e+11   \n",
       "10                       12  {'pca__n_components': 12}      -1.934239e+11   \n",
       "9                        11  {'pca__n_components': 11}      -1.934239e+11   \n",
       "8                        10  {'pca__n_components': 10}      -1.940946e+11   \n",
       "\n",
       "    split1_test_score  split2_test_score  split3_test_score  \\\n",
       "35      -1.096451e+11      -1.112576e+11      -1.261145e+11   \n",
       "36      -1.096451e+11      -1.112576e+11      -1.261145e+11   \n",
       "26      -1.096451e+11      -1.112576e+11      -1.261145e+11   \n",
       "27      -1.096451e+11      -1.112576e+11      -1.261145e+11   \n",
       "28      -1.096451e+11      -1.112576e+11      -1.261145e+11   \n",
       "33      -1.096451e+11      -1.112576e+11      -1.261145e+11   \n",
       "29      -1.096451e+11      -1.112576e+11      -1.261145e+11   \n",
       "25      -1.096451e+11      -1.112576e+11      -1.261145e+11   \n",
       "34      -1.096451e+11      -1.112576e+11      -1.261145e+11   \n",
       "37      -1.096451e+11      -1.112576e+11      -1.261145e+11   \n",
       "24      -1.096451e+11      -1.112576e+11      -1.261145e+11   \n",
       "32      -1.096451e+11      -1.112576e+11      -1.261145e+11   \n",
       "30      -1.096451e+11      -1.112576e+11      -1.261145e+11   \n",
       "31      -1.096451e+11      -1.112576e+11      -1.261145e+11   \n",
       "23      -1.439452e+11      -1.359435e+11      -1.655920e+11   \n",
       "22      -1.439452e+11      -1.359435e+11      -1.655920e+11   \n",
       "21      -1.439452e+11      -1.359435e+11      -1.655920e+11   \n",
       "20      -1.531784e+11      -1.440945e+11      -1.762728e+11   \n",
       "19      -1.531784e+11      -1.440945e+11      -1.762728e+11   \n",
       "17      -1.540308e+11      -1.440945e+11      -1.762728e+11   \n",
       "16      -1.540308e+11      -1.440945e+11      -1.762728e+11   \n",
       "13      -1.540308e+11      -1.440945e+11      -1.762728e+11   \n",
       "14      -1.540308e+11      -1.440945e+11      -1.762728e+11   \n",
       "12      -1.540308e+11      -1.440945e+11      -1.762728e+11   \n",
       "18      -1.540308e+11      -1.440945e+11      -1.762728e+11   \n",
       "15      -1.540308e+11      -1.440945e+11      -1.762728e+11   \n",
       "11      -1.566109e+11      -1.485778e+11      -1.799645e+11   \n",
       "10      -1.570286e+11      -1.485778e+11      -1.799645e+11   \n",
       "9       -1.570286e+11      -1.485778e+11      -1.799695e+11   \n",
       "8       -1.575339e+11      -1.490720e+11      -1.803129e+11   \n",
       "\n",
       "    split4_test_score  mean_test_score  std_test_score  rank_test_score  \n",
       "35      -1.717588e+11    -1.282089e+11    2.266375e+10                1  \n",
       "36      -1.717588e+11    -1.282089e+11    2.266375e+10                2  \n",
       "26      -1.717588e+11    -1.282089e+11    2.266375e+10                3  \n",
       "27      -1.717588e+11    -1.282089e+11    2.266375e+10                4  \n",
       "28      -1.717588e+11    -1.282089e+11    2.266375e+10                4  \n",
       "33      -1.717588e+11    -1.282089e+11    2.266375e+10                4  \n",
       "29      -1.717588e+11    -1.282089e+11    2.266375e+10                7  \n",
       "25      -1.717588e+11    -1.282089e+11    2.266375e+10                7  \n",
       "34      -1.717588e+11    -1.282089e+11    2.266375e+10                9  \n",
       "37      -1.717588e+11    -1.282089e+11    2.266375e+10                9  \n",
       "24      -1.717588e+11    -1.282089e+11    2.266375e+10               11  \n",
       "32      -1.717588e+11    -1.282089e+11    2.266375e+10               12  \n",
       "30      -1.717588e+11    -1.282089e+11    2.266375e+10               12  \n",
       "31      -1.717588e+11    -1.282089e+11    2.266375e+10               14  \n",
       "23      -2.213883e+11    -1.670320e+11    2.985888e+10               15  \n",
       "22      -2.322239e+11    -1.691991e+11    3.385160e+10               16  \n",
       "21      -2.322239e+11    -1.691991e+11    3.385160e+10               17  \n",
       "20      -2.496839e+11    -1.823506e+11    3.721118e+10               18  \n",
       "19      -2.496839e+11    -1.823506e+11    3.721118e+10               19  \n",
       "17      -2.496839e+11    -1.825388e+11    3.708173e+10               20  \n",
       "16      -2.496839e+11    -1.825388e+11    3.708173e+10               21  \n",
       "13      -2.496839e+11    -1.825388e+11    3.708173e+10               21  \n",
       "14      -2.496839e+11    -1.825388e+11    3.708173e+10               21  \n",
       "12      -2.496839e+11    -1.825388e+11    3.708173e+10               21  \n",
       "18      -2.496839e+11    -1.825388e+11    3.708173e+10               21  \n",
       "15      -2.496839e+11    -1.825388e+11    3.708173e+10               26  \n",
       "11      -2.531591e+11    -1.863472e+11    3.705514e+10               27  \n",
       "10      -2.531591e+11    -1.864308e+11    3.698843e+10               28  \n",
       "9       -2.531591e+11    -1.864318e+11    3.698826e+10               29  \n",
       "8       -2.533563e+11    -1.868740e+11    3.689150e+10               30  "
      ]
     },
     "execution_count": 7,
     "metadata": {},
     "output_type": "execute_result"
    }
   ],
   "source": [
    "results = pd.DataFrame(grid.cv_results_)\n",
    "\n",
    "results.sort_values(by=\"rank_test_score\").head(30)"
   ]
  },
  {
   "cell_type": "markdown",
   "id": "38fdb152",
   "metadata": {},
   "source": [
    "Исходя из таблицы выше, можно оставить 28 компонент почти без потерь качества"
   ]
  },
  {
   "cell_type": "markdown",
   "id": "0b3fe107",
   "metadata": {},
   "source": [
    "### **Задача** На новых признаках (компонентах) обучите несколько моделей и сравните их качество с исходными"
   ]
  },
  {
   "cell_type": "code",
   "execution_count": 8,
   "id": "d965dc23",
   "metadata": {},
   "outputs": [
    {
     "data": {
      "text/html": [
       "<style>#sk-container-id-3 {\n",
       "  /* Definition of color scheme common for light and dark mode */\n",
       "  --sklearn-color-text: #000;\n",
       "  --sklearn-color-text-muted: #666;\n",
       "  --sklearn-color-line: gray;\n",
       "  /* Definition of color scheme for unfitted estimators */\n",
       "  --sklearn-color-unfitted-level-0: #fff5e6;\n",
       "  --sklearn-color-unfitted-level-1: #f6e4d2;\n",
       "  --sklearn-color-unfitted-level-2: #ffe0b3;\n",
       "  --sklearn-color-unfitted-level-3: chocolate;\n",
       "  /* Definition of color scheme for fitted estimators */\n",
       "  --sklearn-color-fitted-level-0: #f0f8ff;\n",
       "  --sklearn-color-fitted-level-1: #d4ebff;\n",
       "  --sklearn-color-fitted-level-2: #b3dbfd;\n",
       "  --sklearn-color-fitted-level-3: cornflowerblue;\n",
       "\n",
       "  /* Specific color for light theme */\n",
       "  --sklearn-color-text-on-default-background: var(--sg-text-color, var(--theme-code-foreground, var(--jp-content-font-color1, black)));\n",
       "  --sklearn-color-background: var(--sg-background-color, var(--theme-background, var(--jp-layout-color0, white)));\n",
       "  --sklearn-color-border-box: var(--sg-text-color, var(--theme-code-foreground, var(--jp-content-font-color1, black)));\n",
       "  --sklearn-color-icon: #696969;\n",
       "\n",
       "  @media (prefers-color-scheme: dark) {\n",
       "    /* Redefinition of color scheme for dark theme */\n",
       "    --sklearn-color-text-on-default-background: var(--sg-text-color, var(--theme-code-foreground, var(--jp-content-font-color1, white)));\n",
       "    --sklearn-color-background: var(--sg-background-color, var(--theme-background, var(--jp-layout-color0, #111)));\n",
       "    --sklearn-color-border-box: var(--sg-text-color, var(--theme-code-foreground, var(--jp-content-font-color1, white)));\n",
       "    --sklearn-color-icon: #878787;\n",
       "  }\n",
       "}\n",
       "\n",
       "#sk-container-id-3 {\n",
       "  color: var(--sklearn-color-text);\n",
       "}\n",
       "\n",
       "#sk-container-id-3 pre {\n",
       "  padding: 0;\n",
       "}\n",
       "\n",
       "#sk-container-id-3 input.sk-hidden--visually {\n",
       "  border: 0;\n",
       "  clip: rect(1px 1px 1px 1px);\n",
       "  clip: rect(1px, 1px, 1px, 1px);\n",
       "  height: 1px;\n",
       "  margin: -1px;\n",
       "  overflow: hidden;\n",
       "  padding: 0;\n",
       "  position: absolute;\n",
       "  width: 1px;\n",
       "}\n",
       "\n",
       "#sk-container-id-3 div.sk-dashed-wrapped {\n",
       "  border: 1px dashed var(--sklearn-color-line);\n",
       "  margin: 0 0.4em 0.5em 0.4em;\n",
       "  box-sizing: border-box;\n",
       "  padding-bottom: 0.4em;\n",
       "  background-color: var(--sklearn-color-background);\n",
       "}\n",
       "\n",
       "#sk-container-id-3 div.sk-container {\n",
       "  /* jupyter's `normalize.less` sets `[hidden] { display: none; }`\n",
       "     but bootstrap.min.css set `[hidden] { display: none !important; }`\n",
       "     so we also need the `!important` here to be able to override the\n",
       "     default hidden behavior on the sphinx rendered scikit-learn.org.\n",
       "     See: https://github.com/scikit-learn/scikit-learn/issues/21755 */\n",
       "  display: inline-block !important;\n",
       "  position: relative;\n",
       "}\n",
       "\n",
       "#sk-container-id-3 div.sk-text-repr-fallback {\n",
       "  display: none;\n",
       "}\n",
       "\n",
       "div.sk-parallel-item,\n",
       "div.sk-serial,\n",
       "div.sk-item {\n",
       "  /* draw centered vertical line to link estimators */\n",
       "  background-image: linear-gradient(var(--sklearn-color-text-on-default-background), var(--sklearn-color-text-on-default-background));\n",
       "  background-size: 2px 100%;\n",
       "  background-repeat: no-repeat;\n",
       "  background-position: center center;\n",
       "}\n",
       "\n",
       "/* Parallel-specific style estimator block */\n",
       "\n",
       "#sk-container-id-3 div.sk-parallel-item::after {\n",
       "  content: \"\";\n",
       "  width: 100%;\n",
       "  border-bottom: 2px solid var(--sklearn-color-text-on-default-background);\n",
       "  flex-grow: 1;\n",
       "}\n",
       "\n",
       "#sk-container-id-3 div.sk-parallel {\n",
       "  display: flex;\n",
       "  align-items: stretch;\n",
       "  justify-content: center;\n",
       "  background-color: var(--sklearn-color-background);\n",
       "  position: relative;\n",
       "}\n",
       "\n",
       "#sk-container-id-3 div.sk-parallel-item {\n",
       "  display: flex;\n",
       "  flex-direction: column;\n",
       "}\n",
       "\n",
       "#sk-container-id-3 div.sk-parallel-item:first-child::after {\n",
       "  align-self: flex-end;\n",
       "  width: 50%;\n",
       "}\n",
       "\n",
       "#sk-container-id-3 div.sk-parallel-item:last-child::after {\n",
       "  align-self: flex-start;\n",
       "  width: 50%;\n",
       "}\n",
       "\n",
       "#sk-container-id-3 div.sk-parallel-item:only-child::after {\n",
       "  width: 0;\n",
       "}\n",
       "\n",
       "/* Serial-specific style estimator block */\n",
       "\n",
       "#sk-container-id-3 div.sk-serial {\n",
       "  display: flex;\n",
       "  flex-direction: column;\n",
       "  align-items: center;\n",
       "  background-color: var(--sklearn-color-background);\n",
       "  padding-right: 1em;\n",
       "  padding-left: 1em;\n",
       "}\n",
       "\n",
       "\n",
       "/* Toggleable style: style used for estimator/Pipeline/ColumnTransformer box that is\n",
       "clickable and can be expanded/collapsed.\n",
       "- Pipeline and ColumnTransformer use this feature and define the default style\n",
       "- Estimators will overwrite some part of the style using the `sk-estimator` class\n",
       "*/\n",
       "\n",
       "/* Pipeline and ColumnTransformer style (default) */\n",
       "\n",
       "#sk-container-id-3 div.sk-toggleable {\n",
       "  /* Default theme specific background. It is overwritten whether we have a\n",
       "  specific estimator or a Pipeline/ColumnTransformer */\n",
       "  background-color: var(--sklearn-color-background);\n",
       "}\n",
       "\n",
       "/* Toggleable label */\n",
       "#sk-container-id-3 label.sk-toggleable__label {\n",
       "  cursor: pointer;\n",
       "  display: flex;\n",
       "  width: 100%;\n",
       "  margin-bottom: 0;\n",
       "  padding: 0.5em;\n",
       "  box-sizing: border-box;\n",
       "  text-align: center;\n",
       "  align-items: start;\n",
       "  justify-content: space-between;\n",
       "  gap: 0.5em;\n",
       "}\n",
       "\n",
       "#sk-container-id-3 label.sk-toggleable__label .caption {\n",
       "  font-size: 0.6rem;\n",
       "  font-weight: lighter;\n",
       "  color: var(--sklearn-color-text-muted);\n",
       "}\n",
       "\n",
       "#sk-container-id-3 label.sk-toggleable__label-arrow:before {\n",
       "  /* Arrow on the left of the label */\n",
       "  content: \"▸\";\n",
       "  float: left;\n",
       "  margin-right: 0.25em;\n",
       "  color: var(--sklearn-color-icon);\n",
       "}\n",
       "\n",
       "#sk-container-id-3 label.sk-toggleable__label-arrow:hover:before {\n",
       "  color: var(--sklearn-color-text);\n",
       "}\n",
       "\n",
       "/* Toggleable content - dropdown */\n",
       "\n",
       "#sk-container-id-3 div.sk-toggleable__content {\n",
       "  max-height: 0;\n",
       "  max-width: 0;\n",
       "  overflow: hidden;\n",
       "  text-align: left;\n",
       "  /* unfitted */\n",
       "  background-color: var(--sklearn-color-unfitted-level-0);\n",
       "}\n",
       "\n",
       "#sk-container-id-3 div.sk-toggleable__content.fitted {\n",
       "  /* fitted */\n",
       "  background-color: var(--sklearn-color-fitted-level-0);\n",
       "}\n",
       "\n",
       "#sk-container-id-3 div.sk-toggleable__content pre {\n",
       "  margin: 0.2em;\n",
       "  border-radius: 0.25em;\n",
       "  color: var(--sklearn-color-text);\n",
       "  /* unfitted */\n",
       "  background-color: var(--sklearn-color-unfitted-level-0);\n",
       "}\n",
       "\n",
       "#sk-container-id-3 div.sk-toggleable__content.fitted pre {\n",
       "  /* unfitted */\n",
       "  background-color: var(--sklearn-color-fitted-level-0);\n",
       "}\n",
       "\n",
       "#sk-container-id-3 input.sk-toggleable__control:checked~div.sk-toggleable__content {\n",
       "  /* Expand drop-down */\n",
       "  max-height: 200px;\n",
       "  max-width: 100%;\n",
       "  overflow: auto;\n",
       "}\n",
       "\n",
       "#sk-container-id-3 input.sk-toggleable__control:checked~label.sk-toggleable__label-arrow:before {\n",
       "  content: \"▾\";\n",
       "}\n",
       "\n",
       "/* Pipeline/ColumnTransformer-specific style */\n",
       "\n",
       "#sk-container-id-3 div.sk-label input.sk-toggleable__control:checked~label.sk-toggleable__label {\n",
       "  color: var(--sklearn-color-text);\n",
       "  background-color: var(--sklearn-color-unfitted-level-2);\n",
       "}\n",
       "\n",
       "#sk-container-id-3 div.sk-label.fitted input.sk-toggleable__control:checked~label.sk-toggleable__label {\n",
       "  background-color: var(--sklearn-color-fitted-level-2);\n",
       "}\n",
       "\n",
       "/* Estimator-specific style */\n",
       "\n",
       "/* Colorize estimator box */\n",
       "#sk-container-id-3 div.sk-estimator input.sk-toggleable__control:checked~label.sk-toggleable__label {\n",
       "  /* unfitted */\n",
       "  background-color: var(--sklearn-color-unfitted-level-2);\n",
       "}\n",
       "\n",
       "#sk-container-id-3 div.sk-estimator.fitted input.sk-toggleable__control:checked~label.sk-toggleable__label {\n",
       "  /* fitted */\n",
       "  background-color: var(--sklearn-color-fitted-level-2);\n",
       "}\n",
       "\n",
       "#sk-container-id-3 div.sk-label label.sk-toggleable__label,\n",
       "#sk-container-id-3 div.sk-label label {\n",
       "  /* The background is the default theme color */\n",
       "  color: var(--sklearn-color-text-on-default-background);\n",
       "}\n",
       "\n",
       "/* On hover, darken the color of the background */\n",
       "#sk-container-id-3 div.sk-label:hover label.sk-toggleable__label {\n",
       "  color: var(--sklearn-color-text);\n",
       "  background-color: var(--sklearn-color-unfitted-level-2);\n",
       "}\n",
       "\n",
       "/* Label box, darken color on hover, fitted */\n",
       "#sk-container-id-3 div.sk-label.fitted:hover label.sk-toggleable__label.fitted {\n",
       "  color: var(--sklearn-color-text);\n",
       "  background-color: var(--sklearn-color-fitted-level-2);\n",
       "}\n",
       "\n",
       "/* Estimator label */\n",
       "\n",
       "#sk-container-id-3 div.sk-label label {\n",
       "  font-family: monospace;\n",
       "  font-weight: bold;\n",
       "  display: inline-block;\n",
       "  line-height: 1.2em;\n",
       "}\n",
       "\n",
       "#sk-container-id-3 div.sk-label-container {\n",
       "  text-align: center;\n",
       "}\n",
       "\n",
       "/* Estimator-specific */\n",
       "#sk-container-id-3 div.sk-estimator {\n",
       "  font-family: monospace;\n",
       "  border: 1px dotted var(--sklearn-color-border-box);\n",
       "  border-radius: 0.25em;\n",
       "  box-sizing: border-box;\n",
       "  margin-bottom: 0.5em;\n",
       "  /* unfitted */\n",
       "  background-color: var(--sklearn-color-unfitted-level-0);\n",
       "}\n",
       "\n",
       "#sk-container-id-3 div.sk-estimator.fitted {\n",
       "  /* fitted */\n",
       "  background-color: var(--sklearn-color-fitted-level-0);\n",
       "}\n",
       "\n",
       "/* on hover */\n",
       "#sk-container-id-3 div.sk-estimator:hover {\n",
       "  /* unfitted */\n",
       "  background-color: var(--sklearn-color-unfitted-level-2);\n",
       "}\n",
       "\n",
       "#sk-container-id-3 div.sk-estimator.fitted:hover {\n",
       "  /* fitted */\n",
       "  background-color: var(--sklearn-color-fitted-level-2);\n",
       "}\n",
       "\n",
       "/* Specification for estimator info (e.g. \"i\" and \"?\") */\n",
       "\n",
       "/* Common style for \"i\" and \"?\" */\n",
       "\n",
       ".sk-estimator-doc-link,\n",
       "a:link.sk-estimator-doc-link,\n",
       "a:visited.sk-estimator-doc-link {\n",
       "  float: right;\n",
       "  font-size: smaller;\n",
       "  line-height: 1em;\n",
       "  font-family: monospace;\n",
       "  background-color: var(--sklearn-color-background);\n",
       "  border-radius: 1em;\n",
       "  height: 1em;\n",
       "  width: 1em;\n",
       "  text-decoration: none !important;\n",
       "  margin-left: 0.5em;\n",
       "  text-align: center;\n",
       "  /* unfitted */\n",
       "  border: var(--sklearn-color-unfitted-level-1) 1pt solid;\n",
       "  color: var(--sklearn-color-unfitted-level-1);\n",
       "}\n",
       "\n",
       ".sk-estimator-doc-link.fitted,\n",
       "a:link.sk-estimator-doc-link.fitted,\n",
       "a:visited.sk-estimator-doc-link.fitted {\n",
       "  /* fitted */\n",
       "  border: var(--sklearn-color-fitted-level-1) 1pt solid;\n",
       "  color: var(--sklearn-color-fitted-level-1);\n",
       "}\n",
       "\n",
       "/* On hover */\n",
       "div.sk-estimator:hover .sk-estimator-doc-link:hover,\n",
       ".sk-estimator-doc-link:hover,\n",
       "div.sk-label-container:hover .sk-estimator-doc-link:hover,\n",
       ".sk-estimator-doc-link:hover {\n",
       "  /* unfitted */\n",
       "  background-color: var(--sklearn-color-unfitted-level-3);\n",
       "  color: var(--sklearn-color-background);\n",
       "  text-decoration: none;\n",
       "}\n",
       "\n",
       "div.sk-estimator.fitted:hover .sk-estimator-doc-link.fitted:hover,\n",
       ".sk-estimator-doc-link.fitted:hover,\n",
       "div.sk-label-container:hover .sk-estimator-doc-link.fitted:hover,\n",
       ".sk-estimator-doc-link.fitted:hover {\n",
       "  /* fitted */\n",
       "  background-color: var(--sklearn-color-fitted-level-3);\n",
       "  color: var(--sklearn-color-background);\n",
       "  text-decoration: none;\n",
       "}\n",
       "\n",
       "/* Span, style for the box shown on hovering the info icon */\n",
       ".sk-estimator-doc-link span {\n",
       "  display: none;\n",
       "  z-index: 9999;\n",
       "  position: relative;\n",
       "  font-weight: normal;\n",
       "  right: .2ex;\n",
       "  padding: .5ex;\n",
       "  margin: .5ex;\n",
       "  width: min-content;\n",
       "  min-width: 20ex;\n",
       "  max-width: 50ex;\n",
       "  color: var(--sklearn-color-text);\n",
       "  box-shadow: 2pt 2pt 4pt #999;\n",
       "  /* unfitted */\n",
       "  background: var(--sklearn-color-unfitted-level-0);\n",
       "  border: .5pt solid var(--sklearn-color-unfitted-level-3);\n",
       "}\n",
       "\n",
       ".sk-estimator-doc-link.fitted span {\n",
       "  /* fitted */\n",
       "  background: var(--sklearn-color-fitted-level-0);\n",
       "  border: var(--sklearn-color-fitted-level-3);\n",
       "}\n",
       "\n",
       ".sk-estimator-doc-link:hover span {\n",
       "  display: block;\n",
       "}\n",
       "\n",
       "/* \"?\"-specific style due to the `<a>` HTML tag */\n",
       "\n",
       "#sk-container-id-3 a.estimator_doc_link {\n",
       "  float: right;\n",
       "  font-size: 1rem;\n",
       "  line-height: 1em;\n",
       "  font-family: monospace;\n",
       "  background-color: var(--sklearn-color-background);\n",
       "  border-radius: 1rem;\n",
       "  height: 1rem;\n",
       "  width: 1rem;\n",
       "  text-decoration: none;\n",
       "  /* unfitted */\n",
       "  color: var(--sklearn-color-unfitted-level-1);\n",
       "  border: var(--sklearn-color-unfitted-level-1) 1pt solid;\n",
       "}\n",
       "\n",
       "#sk-container-id-3 a.estimator_doc_link.fitted {\n",
       "  /* fitted */\n",
       "  border: var(--sklearn-color-fitted-level-1) 1pt solid;\n",
       "  color: var(--sklearn-color-fitted-level-1);\n",
       "}\n",
       "\n",
       "/* On hover */\n",
       "#sk-container-id-3 a.estimator_doc_link:hover {\n",
       "  /* unfitted */\n",
       "  background-color: var(--sklearn-color-unfitted-level-3);\n",
       "  color: var(--sklearn-color-background);\n",
       "  text-decoration: none;\n",
       "}\n",
       "\n",
       "#sk-container-id-3 a.estimator_doc_link.fitted:hover {\n",
       "  /* fitted */\n",
       "  background-color: var(--sklearn-color-fitted-level-3);\n",
       "}\n",
       "</style><div id=\"sk-container-id-3\" class=\"sk-top-container\"><div class=\"sk-text-repr-fallback\"><pre>Pipeline(steps=[(&#x27;preprocessing&#x27;,\n",
       "                 ColumnTransformer(transformers=((&#x27;number&#x27;, StandardScaler(),\n",
       "                                                  [&#x27;Year&#x27;, &#x27;KM_Driven&#x27;]),\n",
       "                                                 (&#x27;categorical_not_rank&#x27;,\n",
       "                                                  OneHotEncoder(handle_unknown=&#x27;infrequent_if_exist&#x27;),\n",
       "                                                  [&#x27;Brand&#x27;, &#x27;Fuel&#x27;,\n",
       "                                                   &#x27;Seller_Type&#x27;,\n",
       "                                                   &#x27;Transmission&#x27;,\n",
       "                                                   &#x27;Owner&#x27;])))),\n",
       "                (&#x27;pca&#x27;, PCA(n_components=28, random_state=42)),\n",
       "                (&#x27;model&#x27;,\n",
       "                 TransformedTargetRegressor(regressor=Ridge(random_state=42),\n",
       "                                            transformer=StandardScaler()))])</pre><b>In a Jupyter environment, please rerun this cell to show the HTML representation or trust the notebook. <br />On GitHub, the HTML representation is unable to render, please try loading this page with nbviewer.org.</b></div><div class=\"sk-container\" hidden><div class=\"sk-item sk-dashed-wrapped\"><div class=\"sk-label-container\"><div class=\"sk-label  sk-toggleable\"><input class=\"sk-toggleable__control sk-hidden--visually\" id=\"sk-estimator-id-26\" type=\"checkbox\" ><label for=\"sk-estimator-id-26\" class=\"sk-toggleable__label  sk-toggleable__label-arrow\"><div><div>Pipeline</div></div><div><a class=\"sk-estimator-doc-link \" rel=\"noreferrer\" target=\"_blank\" href=\"https://scikit-learn.org/1.6/modules/generated/sklearn.pipeline.Pipeline.html\">?<span>Documentation for Pipeline</span></a><span class=\"sk-estimator-doc-link \">i<span>Not fitted</span></span></div></label><div class=\"sk-toggleable__content \"><pre>Pipeline(steps=[(&#x27;preprocessing&#x27;,\n",
       "                 ColumnTransformer(transformers=((&#x27;number&#x27;, StandardScaler(),\n",
       "                                                  [&#x27;Year&#x27;, &#x27;KM_Driven&#x27;]),\n",
       "                                                 (&#x27;categorical_not_rank&#x27;,\n",
       "                                                  OneHotEncoder(handle_unknown=&#x27;infrequent_if_exist&#x27;),\n",
       "                                                  [&#x27;Brand&#x27;, &#x27;Fuel&#x27;,\n",
       "                                                   &#x27;Seller_Type&#x27;,\n",
       "                                                   &#x27;Transmission&#x27;,\n",
       "                                                   &#x27;Owner&#x27;])))),\n",
       "                (&#x27;pca&#x27;, PCA(n_components=28, random_state=42)),\n",
       "                (&#x27;model&#x27;,\n",
       "                 TransformedTargetRegressor(regressor=Ridge(random_state=42),\n",
       "                                            transformer=StandardScaler()))])</pre></div> </div></div><div class=\"sk-serial\"><div class=\"sk-item sk-dashed-wrapped\"><div class=\"sk-label-container\"><div class=\"sk-label  sk-toggleable\"><input class=\"sk-toggleable__control sk-hidden--visually\" id=\"sk-estimator-id-27\" type=\"checkbox\" ><label for=\"sk-estimator-id-27\" class=\"sk-toggleable__label  sk-toggleable__label-arrow\"><div><div>preprocessing: ColumnTransformer</div></div><div><a class=\"sk-estimator-doc-link \" rel=\"noreferrer\" target=\"_blank\" href=\"https://scikit-learn.org/1.6/modules/generated/sklearn.compose.ColumnTransformer.html\">?<span>Documentation for preprocessing: ColumnTransformer</span></a></div></label><div class=\"sk-toggleable__content \"><pre>ColumnTransformer(transformers=((&#x27;number&#x27;, StandardScaler(),\n",
       "                                 [&#x27;Year&#x27;, &#x27;KM_Driven&#x27;]),\n",
       "                                (&#x27;categorical_not_rank&#x27;,\n",
       "                                 OneHotEncoder(handle_unknown=&#x27;infrequent_if_exist&#x27;),\n",
       "                                 [&#x27;Brand&#x27;, &#x27;Fuel&#x27;, &#x27;Seller_Type&#x27;,\n",
       "                                  &#x27;Transmission&#x27;, &#x27;Owner&#x27;])))</pre></div> </div></div><div class=\"sk-parallel\"><div class=\"sk-parallel-item\"><div class=\"sk-item\"><div class=\"sk-label-container\"><div class=\"sk-label  sk-toggleable\"><input class=\"sk-toggleable__control sk-hidden--visually\" id=\"sk-estimator-id-28\" type=\"checkbox\" ><label for=\"sk-estimator-id-28\" class=\"sk-toggleable__label  sk-toggleable__label-arrow\"><div><div>number</div></div></label><div class=\"sk-toggleable__content \"><pre>[&#x27;Year&#x27;, &#x27;KM_Driven&#x27;]</pre></div> </div></div><div class=\"sk-serial\"><div class=\"sk-item\"><div class=\"sk-estimator  sk-toggleable\"><input class=\"sk-toggleable__control sk-hidden--visually\" id=\"sk-estimator-id-29\" type=\"checkbox\" ><label for=\"sk-estimator-id-29\" class=\"sk-toggleable__label  sk-toggleable__label-arrow\"><div><div>StandardScaler</div></div><div><a class=\"sk-estimator-doc-link \" rel=\"noreferrer\" target=\"_blank\" href=\"https://scikit-learn.org/1.6/modules/generated/sklearn.preprocessing.StandardScaler.html\">?<span>Documentation for StandardScaler</span></a></div></label><div class=\"sk-toggleable__content \"><pre>StandardScaler()</pre></div> </div></div></div></div></div><div class=\"sk-parallel-item\"><div class=\"sk-item\"><div class=\"sk-label-container\"><div class=\"sk-label  sk-toggleable\"><input class=\"sk-toggleable__control sk-hidden--visually\" id=\"sk-estimator-id-30\" type=\"checkbox\" ><label for=\"sk-estimator-id-30\" class=\"sk-toggleable__label  sk-toggleable__label-arrow\"><div><div>categorical_not_rank</div></div></label><div class=\"sk-toggleable__content \"><pre>[&#x27;Brand&#x27;, &#x27;Fuel&#x27;, &#x27;Seller_Type&#x27;, &#x27;Transmission&#x27;, &#x27;Owner&#x27;]</pre></div> </div></div><div class=\"sk-serial\"><div class=\"sk-item\"><div class=\"sk-estimator  sk-toggleable\"><input class=\"sk-toggleable__control sk-hidden--visually\" id=\"sk-estimator-id-31\" type=\"checkbox\" ><label for=\"sk-estimator-id-31\" class=\"sk-toggleable__label  sk-toggleable__label-arrow\"><div><div>OneHotEncoder</div></div><div><a class=\"sk-estimator-doc-link \" rel=\"noreferrer\" target=\"_blank\" href=\"https://scikit-learn.org/1.6/modules/generated/sklearn.preprocessing.OneHotEncoder.html\">?<span>Documentation for OneHotEncoder</span></a></div></label><div class=\"sk-toggleable__content \"><pre>OneHotEncoder(handle_unknown=&#x27;infrequent_if_exist&#x27;)</pre></div> </div></div></div></div></div></div></div><div class=\"sk-item\"><div class=\"sk-estimator  sk-toggleable\"><input class=\"sk-toggleable__control sk-hidden--visually\" id=\"sk-estimator-id-32\" type=\"checkbox\" ><label for=\"sk-estimator-id-32\" class=\"sk-toggleable__label  sk-toggleable__label-arrow\"><div><div>PCA</div></div><div><a class=\"sk-estimator-doc-link \" rel=\"noreferrer\" target=\"_blank\" href=\"https://scikit-learn.org/1.6/modules/generated/sklearn.decomposition.PCA.html\">?<span>Documentation for PCA</span></a></div></label><div class=\"sk-toggleable__content \"><pre>PCA(n_components=28, random_state=42)</pre></div> </div></div><div class=\"sk-item sk-dashed-wrapped\"><div class=\"sk-label-container\"><div class=\"sk-label  sk-toggleable\"><input class=\"sk-toggleable__control sk-hidden--visually\" id=\"sk-estimator-id-33\" type=\"checkbox\" ><label for=\"sk-estimator-id-33\" class=\"sk-toggleable__label  sk-toggleable__label-arrow\"><div><div>model: TransformedTargetRegressor</div></div><div><a class=\"sk-estimator-doc-link \" rel=\"noreferrer\" target=\"_blank\" href=\"https://scikit-learn.org/1.6/modules/generated/sklearn.compose.TransformedTargetRegressor.html\">?<span>Documentation for model: TransformedTargetRegressor</span></a></div></label><div class=\"sk-toggleable__content \"><pre>TransformedTargetRegressor(regressor=Ridge(random_state=42),\n",
       "                           transformer=StandardScaler())</pre></div> </div></div><div class=\"sk-parallel\"><div class=\"sk-parallel-item\"><div class=\"sk-item\"><div class=\"sk-label-container\"><div class=\"sk-label  sk-toggleable\"><input class=\"sk-toggleable__control sk-hidden--visually\" id=\"sk-estimator-id-34\" type=\"checkbox\" ><label for=\"sk-estimator-id-34\" class=\"sk-toggleable__label  sk-toggleable__label-arrow\"><div><div>regressor: Ridge</div></div></label><div class=\"sk-toggleable__content \"><pre>Ridge(random_state=42)</pre></div> </div></div><div class=\"sk-serial\"><div class=\"sk-item\"><div class=\"sk-estimator  sk-toggleable\"><input class=\"sk-toggleable__control sk-hidden--visually\" id=\"sk-estimator-id-35\" type=\"checkbox\" ><label for=\"sk-estimator-id-35\" class=\"sk-toggleable__label  sk-toggleable__label-arrow\"><div><div>Ridge</div></div><div><a class=\"sk-estimator-doc-link \" rel=\"noreferrer\" target=\"_blank\" href=\"https://scikit-learn.org/1.6/modules/generated/sklearn.linear_model.Ridge.html\">?<span>Documentation for Ridge</span></a></div></label><div class=\"sk-toggleable__content \"><pre>Ridge(random_state=42)</pre></div> </div></div></div></div></div><div class=\"sk-parallel-item\"><div class=\"sk-item\"><div class=\"sk-label-container\"><div class=\"sk-label  sk-toggleable\"><input class=\"sk-toggleable__control sk-hidden--visually\" id=\"sk-estimator-id-36\" type=\"checkbox\" ><label for=\"sk-estimator-id-36\" class=\"sk-toggleable__label  sk-toggleable__label-arrow\"><div><div>transformer: StandardScaler</div></div></label><div class=\"sk-toggleable__content \"><pre>StandardScaler()</pre></div> </div></div><div class=\"sk-serial\"><div class=\"sk-item\"><div class=\"sk-estimator  sk-toggleable\"><input class=\"sk-toggleable__control sk-hidden--visually\" id=\"sk-estimator-id-37\" type=\"checkbox\" ><label for=\"sk-estimator-id-37\" class=\"sk-toggleable__label  sk-toggleable__label-arrow\"><div><div>StandardScaler</div></div><div><a class=\"sk-estimator-doc-link \" rel=\"noreferrer\" target=\"_blank\" href=\"https://scikit-learn.org/1.6/modules/generated/sklearn.preprocessing.StandardScaler.html\">?<span>Documentation for StandardScaler</span></a></div></label><div class=\"sk-toggleable__content \"><pre>StandardScaler()</pre></div> </div></div></div></div></div></div></div></div></div></div></div>"
      ],
      "text/plain": [
       "Pipeline(steps=[('preprocessing',\n",
       "                 ColumnTransformer(transformers=(('number', StandardScaler(),\n",
       "                                                  ['Year', 'KM_Driven']),\n",
       "                                                 ('categorical_not_rank',\n",
       "                                                  OneHotEncoder(handle_unknown='infrequent_if_exist'),\n",
       "                                                  ['Brand', 'Fuel',\n",
       "                                                   'Seller_Type',\n",
       "                                                   'Transmission',\n",
       "                                                   'Owner'])))),\n",
       "                ('pca', PCA(n_components=28, random_state=42)),\n",
       "                ('model',\n",
       "                 TransformedTargetRegressor(regressor=Ridge(random_state=42),\n",
       "                                            transformer=StandardScaler()))])"
      ]
     },
     "execution_count": 8,
     "metadata": {},
     "output_type": "execute_result"
    }
   ],
   "source": [
    "from sklearn.compose import ColumnTransformer, TransformedTargetRegressor\n",
    "from sklearn.decomposition import PCA\n",
    "from sklearn.linear_model import ElasticNet, Lasso, Ridge\n",
    "from sklearn.pipeline import Pipeline\n",
    "from sklearn.preprocessing import OneHotEncoder, StandardScaler\n",
    "\n",
    "regressor = TransformedTargetRegressor(regressor=Ridge(random_state=42), transformer=StandardScaler())\n",
    "\n",
    "# Нормализация данных\n",
    "preprocessor = ColumnTransformer(\n",
    "    transformers=(\n",
    "        (\"number\", StandardScaler(), [\"Year\", \"KM_Driven\"]),\n",
    "        (\n",
    "            \"categorical_not_rank\",\n",
    "            OneHotEncoder(handle_unknown=\"infrequent_if_exist\"),\n",
    "            [\"Brand\", \"Fuel\", \"Seller_Type\", \"Transmission\", \"Owner\"],\n",
    "        ),\n",
    "    ),\n",
    ")\n",
    "\n",
    "pipeline = Pipeline(\n",
    "    [(\"preprocessing\", preprocessor), (\"pca\", PCA(random_state=42, n_components=28)), (\"model\", regressor)],\n",
    ")\n",
    "pipeline"
   ]
  },
  {
   "cell_type": "code",
   "execution_count": 9,
   "id": "4937d613",
   "metadata": {},
   "outputs": [
    {
     "data": {
      "text/html": [
       "<style>#sk-container-id-4 {\n",
       "  /* Definition of color scheme common for light and dark mode */\n",
       "  --sklearn-color-text: #000;\n",
       "  --sklearn-color-text-muted: #666;\n",
       "  --sklearn-color-line: gray;\n",
       "  /* Definition of color scheme for unfitted estimators */\n",
       "  --sklearn-color-unfitted-level-0: #fff5e6;\n",
       "  --sklearn-color-unfitted-level-1: #f6e4d2;\n",
       "  --sklearn-color-unfitted-level-2: #ffe0b3;\n",
       "  --sklearn-color-unfitted-level-3: chocolate;\n",
       "  /* Definition of color scheme for fitted estimators */\n",
       "  --sklearn-color-fitted-level-0: #f0f8ff;\n",
       "  --sklearn-color-fitted-level-1: #d4ebff;\n",
       "  --sklearn-color-fitted-level-2: #b3dbfd;\n",
       "  --sklearn-color-fitted-level-3: cornflowerblue;\n",
       "\n",
       "  /* Specific color for light theme */\n",
       "  --sklearn-color-text-on-default-background: var(--sg-text-color, var(--theme-code-foreground, var(--jp-content-font-color1, black)));\n",
       "  --sklearn-color-background: var(--sg-background-color, var(--theme-background, var(--jp-layout-color0, white)));\n",
       "  --sklearn-color-border-box: var(--sg-text-color, var(--theme-code-foreground, var(--jp-content-font-color1, black)));\n",
       "  --sklearn-color-icon: #696969;\n",
       "\n",
       "  @media (prefers-color-scheme: dark) {\n",
       "    /* Redefinition of color scheme for dark theme */\n",
       "    --sklearn-color-text-on-default-background: var(--sg-text-color, var(--theme-code-foreground, var(--jp-content-font-color1, white)));\n",
       "    --sklearn-color-background: var(--sg-background-color, var(--theme-background, var(--jp-layout-color0, #111)));\n",
       "    --sklearn-color-border-box: var(--sg-text-color, var(--theme-code-foreground, var(--jp-content-font-color1, white)));\n",
       "    --sklearn-color-icon: #878787;\n",
       "  }\n",
       "}\n",
       "\n",
       "#sk-container-id-4 {\n",
       "  color: var(--sklearn-color-text);\n",
       "}\n",
       "\n",
       "#sk-container-id-4 pre {\n",
       "  padding: 0;\n",
       "}\n",
       "\n",
       "#sk-container-id-4 input.sk-hidden--visually {\n",
       "  border: 0;\n",
       "  clip: rect(1px 1px 1px 1px);\n",
       "  clip: rect(1px, 1px, 1px, 1px);\n",
       "  height: 1px;\n",
       "  margin: -1px;\n",
       "  overflow: hidden;\n",
       "  padding: 0;\n",
       "  position: absolute;\n",
       "  width: 1px;\n",
       "}\n",
       "\n",
       "#sk-container-id-4 div.sk-dashed-wrapped {\n",
       "  border: 1px dashed var(--sklearn-color-line);\n",
       "  margin: 0 0.4em 0.5em 0.4em;\n",
       "  box-sizing: border-box;\n",
       "  padding-bottom: 0.4em;\n",
       "  background-color: var(--sklearn-color-background);\n",
       "}\n",
       "\n",
       "#sk-container-id-4 div.sk-container {\n",
       "  /* jupyter's `normalize.less` sets `[hidden] { display: none; }`\n",
       "     but bootstrap.min.css set `[hidden] { display: none !important; }`\n",
       "     so we also need the `!important` here to be able to override the\n",
       "     default hidden behavior on the sphinx rendered scikit-learn.org.\n",
       "     See: https://github.com/scikit-learn/scikit-learn/issues/21755 */\n",
       "  display: inline-block !important;\n",
       "  position: relative;\n",
       "}\n",
       "\n",
       "#sk-container-id-4 div.sk-text-repr-fallback {\n",
       "  display: none;\n",
       "}\n",
       "\n",
       "div.sk-parallel-item,\n",
       "div.sk-serial,\n",
       "div.sk-item {\n",
       "  /* draw centered vertical line to link estimators */\n",
       "  background-image: linear-gradient(var(--sklearn-color-text-on-default-background), var(--sklearn-color-text-on-default-background));\n",
       "  background-size: 2px 100%;\n",
       "  background-repeat: no-repeat;\n",
       "  background-position: center center;\n",
       "}\n",
       "\n",
       "/* Parallel-specific style estimator block */\n",
       "\n",
       "#sk-container-id-4 div.sk-parallel-item::after {\n",
       "  content: \"\";\n",
       "  width: 100%;\n",
       "  border-bottom: 2px solid var(--sklearn-color-text-on-default-background);\n",
       "  flex-grow: 1;\n",
       "}\n",
       "\n",
       "#sk-container-id-4 div.sk-parallel {\n",
       "  display: flex;\n",
       "  align-items: stretch;\n",
       "  justify-content: center;\n",
       "  background-color: var(--sklearn-color-background);\n",
       "  position: relative;\n",
       "}\n",
       "\n",
       "#sk-container-id-4 div.sk-parallel-item {\n",
       "  display: flex;\n",
       "  flex-direction: column;\n",
       "}\n",
       "\n",
       "#sk-container-id-4 div.sk-parallel-item:first-child::after {\n",
       "  align-self: flex-end;\n",
       "  width: 50%;\n",
       "}\n",
       "\n",
       "#sk-container-id-4 div.sk-parallel-item:last-child::after {\n",
       "  align-self: flex-start;\n",
       "  width: 50%;\n",
       "}\n",
       "\n",
       "#sk-container-id-4 div.sk-parallel-item:only-child::after {\n",
       "  width: 0;\n",
       "}\n",
       "\n",
       "/* Serial-specific style estimator block */\n",
       "\n",
       "#sk-container-id-4 div.sk-serial {\n",
       "  display: flex;\n",
       "  flex-direction: column;\n",
       "  align-items: center;\n",
       "  background-color: var(--sklearn-color-background);\n",
       "  padding-right: 1em;\n",
       "  padding-left: 1em;\n",
       "}\n",
       "\n",
       "\n",
       "/* Toggleable style: style used for estimator/Pipeline/ColumnTransformer box that is\n",
       "clickable and can be expanded/collapsed.\n",
       "- Pipeline and ColumnTransformer use this feature and define the default style\n",
       "- Estimators will overwrite some part of the style using the `sk-estimator` class\n",
       "*/\n",
       "\n",
       "/* Pipeline and ColumnTransformer style (default) */\n",
       "\n",
       "#sk-container-id-4 div.sk-toggleable {\n",
       "  /* Default theme specific background. It is overwritten whether we have a\n",
       "  specific estimator or a Pipeline/ColumnTransformer */\n",
       "  background-color: var(--sklearn-color-background);\n",
       "}\n",
       "\n",
       "/* Toggleable label */\n",
       "#sk-container-id-4 label.sk-toggleable__label {\n",
       "  cursor: pointer;\n",
       "  display: flex;\n",
       "  width: 100%;\n",
       "  margin-bottom: 0;\n",
       "  padding: 0.5em;\n",
       "  box-sizing: border-box;\n",
       "  text-align: center;\n",
       "  align-items: start;\n",
       "  justify-content: space-between;\n",
       "  gap: 0.5em;\n",
       "}\n",
       "\n",
       "#sk-container-id-4 label.sk-toggleable__label .caption {\n",
       "  font-size: 0.6rem;\n",
       "  font-weight: lighter;\n",
       "  color: var(--sklearn-color-text-muted);\n",
       "}\n",
       "\n",
       "#sk-container-id-4 label.sk-toggleable__label-arrow:before {\n",
       "  /* Arrow on the left of the label */\n",
       "  content: \"▸\";\n",
       "  float: left;\n",
       "  margin-right: 0.25em;\n",
       "  color: var(--sklearn-color-icon);\n",
       "}\n",
       "\n",
       "#sk-container-id-4 label.sk-toggleable__label-arrow:hover:before {\n",
       "  color: var(--sklearn-color-text);\n",
       "}\n",
       "\n",
       "/* Toggleable content - dropdown */\n",
       "\n",
       "#sk-container-id-4 div.sk-toggleable__content {\n",
       "  max-height: 0;\n",
       "  max-width: 0;\n",
       "  overflow: hidden;\n",
       "  text-align: left;\n",
       "  /* unfitted */\n",
       "  background-color: var(--sklearn-color-unfitted-level-0);\n",
       "}\n",
       "\n",
       "#sk-container-id-4 div.sk-toggleable__content.fitted {\n",
       "  /* fitted */\n",
       "  background-color: var(--sklearn-color-fitted-level-0);\n",
       "}\n",
       "\n",
       "#sk-container-id-4 div.sk-toggleable__content pre {\n",
       "  margin: 0.2em;\n",
       "  border-radius: 0.25em;\n",
       "  color: var(--sklearn-color-text);\n",
       "  /* unfitted */\n",
       "  background-color: var(--sklearn-color-unfitted-level-0);\n",
       "}\n",
       "\n",
       "#sk-container-id-4 div.sk-toggleable__content.fitted pre {\n",
       "  /* unfitted */\n",
       "  background-color: var(--sklearn-color-fitted-level-0);\n",
       "}\n",
       "\n",
       "#sk-container-id-4 input.sk-toggleable__control:checked~div.sk-toggleable__content {\n",
       "  /* Expand drop-down */\n",
       "  max-height: 200px;\n",
       "  max-width: 100%;\n",
       "  overflow: auto;\n",
       "}\n",
       "\n",
       "#sk-container-id-4 input.sk-toggleable__control:checked~label.sk-toggleable__label-arrow:before {\n",
       "  content: \"▾\";\n",
       "}\n",
       "\n",
       "/* Pipeline/ColumnTransformer-specific style */\n",
       "\n",
       "#sk-container-id-4 div.sk-label input.sk-toggleable__control:checked~label.sk-toggleable__label {\n",
       "  color: var(--sklearn-color-text);\n",
       "  background-color: var(--sklearn-color-unfitted-level-2);\n",
       "}\n",
       "\n",
       "#sk-container-id-4 div.sk-label.fitted input.sk-toggleable__control:checked~label.sk-toggleable__label {\n",
       "  background-color: var(--sklearn-color-fitted-level-2);\n",
       "}\n",
       "\n",
       "/* Estimator-specific style */\n",
       "\n",
       "/* Colorize estimator box */\n",
       "#sk-container-id-4 div.sk-estimator input.sk-toggleable__control:checked~label.sk-toggleable__label {\n",
       "  /* unfitted */\n",
       "  background-color: var(--sklearn-color-unfitted-level-2);\n",
       "}\n",
       "\n",
       "#sk-container-id-4 div.sk-estimator.fitted input.sk-toggleable__control:checked~label.sk-toggleable__label {\n",
       "  /* fitted */\n",
       "  background-color: var(--sklearn-color-fitted-level-2);\n",
       "}\n",
       "\n",
       "#sk-container-id-4 div.sk-label label.sk-toggleable__label,\n",
       "#sk-container-id-4 div.sk-label label {\n",
       "  /* The background is the default theme color */\n",
       "  color: var(--sklearn-color-text-on-default-background);\n",
       "}\n",
       "\n",
       "/* On hover, darken the color of the background */\n",
       "#sk-container-id-4 div.sk-label:hover label.sk-toggleable__label {\n",
       "  color: var(--sklearn-color-text);\n",
       "  background-color: var(--sklearn-color-unfitted-level-2);\n",
       "}\n",
       "\n",
       "/* Label box, darken color on hover, fitted */\n",
       "#sk-container-id-4 div.sk-label.fitted:hover label.sk-toggleable__label.fitted {\n",
       "  color: var(--sklearn-color-text);\n",
       "  background-color: var(--sklearn-color-fitted-level-2);\n",
       "}\n",
       "\n",
       "/* Estimator label */\n",
       "\n",
       "#sk-container-id-4 div.sk-label label {\n",
       "  font-family: monospace;\n",
       "  font-weight: bold;\n",
       "  display: inline-block;\n",
       "  line-height: 1.2em;\n",
       "}\n",
       "\n",
       "#sk-container-id-4 div.sk-label-container {\n",
       "  text-align: center;\n",
       "}\n",
       "\n",
       "/* Estimator-specific */\n",
       "#sk-container-id-4 div.sk-estimator {\n",
       "  font-family: monospace;\n",
       "  border: 1px dotted var(--sklearn-color-border-box);\n",
       "  border-radius: 0.25em;\n",
       "  box-sizing: border-box;\n",
       "  margin-bottom: 0.5em;\n",
       "  /* unfitted */\n",
       "  background-color: var(--sklearn-color-unfitted-level-0);\n",
       "}\n",
       "\n",
       "#sk-container-id-4 div.sk-estimator.fitted {\n",
       "  /* fitted */\n",
       "  background-color: var(--sklearn-color-fitted-level-0);\n",
       "}\n",
       "\n",
       "/* on hover */\n",
       "#sk-container-id-4 div.sk-estimator:hover {\n",
       "  /* unfitted */\n",
       "  background-color: var(--sklearn-color-unfitted-level-2);\n",
       "}\n",
       "\n",
       "#sk-container-id-4 div.sk-estimator.fitted:hover {\n",
       "  /* fitted */\n",
       "  background-color: var(--sklearn-color-fitted-level-2);\n",
       "}\n",
       "\n",
       "/* Specification for estimator info (e.g. \"i\" and \"?\") */\n",
       "\n",
       "/* Common style for \"i\" and \"?\" */\n",
       "\n",
       ".sk-estimator-doc-link,\n",
       "a:link.sk-estimator-doc-link,\n",
       "a:visited.sk-estimator-doc-link {\n",
       "  float: right;\n",
       "  font-size: smaller;\n",
       "  line-height: 1em;\n",
       "  font-family: monospace;\n",
       "  background-color: var(--sklearn-color-background);\n",
       "  border-radius: 1em;\n",
       "  height: 1em;\n",
       "  width: 1em;\n",
       "  text-decoration: none !important;\n",
       "  margin-left: 0.5em;\n",
       "  text-align: center;\n",
       "  /* unfitted */\n",
       "  border: var(--sklearn-color-unfitted-level-1) 1pt solid;\n",
       "  color: var(--sklearn-color-unfitted-level-1);\n",
       "}\n",
       "\n",
       ".sk-estimator-doc-link.fitted,\n",
       "a:link.sk-estimator-doc-link.fitted,\n",
       "a:visited.sk-estimator-doc-link.fitted {\n",
       "  /* fitted */\n",
       "  border: var(--sklearn-color-fitted-level-1) 1pt solid;\n",
       "  color: var(--sklearn-color-fitted-level-1);\n",
       "}\n",
       "\n",
       "/* On hover */\n",
       "div.sk-estimator:hover .sk-estimator-doc-link:hover,\n",
       ".sk-estimator-doc-link:hover,\n",
       "div.sk-label-container:hover .sk-estimator-doc-link:hover,\n",
       ".sk-estimator-doc-link:hover {\n",
       "  /* unfitted */\n",
       "  background-color: var(--sklearn-color-unfitted-level-3);\n",
       "  color: var(--sklearn-color-background);\n",
       "  text-decoration: none;\n",
       "}\n",
       "\n",
       "div.sk-estimator.fitted:hover .sk-estimator-doc-link.fitted:hover,\n",
       ".sk-estimator-doc-link.fitted:hover,\n",
       "div.sk-label-container:hover .sk-estimator-doc-link.fitted:hover,\n",
       ".sk-estimator-doc-link.fitted:hover {\n",
       "  /* fitted */\n",
       "  background-color: var(--sklearn-color-fitted-level-3);\n",
       "  color: var(--sklearn-color-background);\n",
       "  text-decoration: none;\n",
       "}\n",
       "\n",
       "/* Span, style for the box shown on hovering the info icon */\n",
       ".sk-estimator-doc-link span {\n",
       "  display: none;\n",
       "  z-index: 9999;\n",
       "  position: relative;\n",
       "  font-weight: normal;\n",
       "  right: .2ex;\n",
       "  padding: .5ex;\n",
       "  margin: .5ex;\n",
       "  width: min-content;\n",
       "  min-width: 20ex;\n",
       "  max-width: 50ex;\n",
       "  color: var(--sklearn-color-text);\n",
       "  box-shadow: 2pt 2pt 4pt #999;\n",
       "  /* unfitted */\n",
       "  background: var(--sklearn-color-unfitted-level-0);\n",
       "  border: .5pt solid var(--sklearn-color-unfitted-level-3);\n",
       "}\n",
       "\n",
       ".sk-estimator-doc-link.fitted span {\n",
       "  /* fitted */\n",
       "  background: var(--sklearn-color-fitted-level-0);\n",
       "  border: var(--sklearn-color-fitted-level-3);\n",
       "}\n",
       "\n",
       ".sk-estimator-doc-link:hover span {\n",
       "  display: block;\n",
       "}\n",
       "\n",
       "/* \"?\"-specific style due to the `<a>` HTML tag */\n",
       "\n",
       "#sk-container-id-4 a.estimator_doc_link {\n",
       "  float: right;\n",
       "  font-size: 1rem;\n",
       "  line-height: 1em;\n",
       "  font-family: monospace;\n",
       "  background-color: var(--sklearn-color-background);\n",
       "  border-radius: 1rem;\n",
       "  height: 1rem;\n",
       "  width: 1rem;\n",
       "  text-decoration: none;\n",
       "  /* unfitted */\n",
       "  color: var(--sklearn-color-unfitted-level-1);\n",
       "  border: var(--sklearn-color-unfitted-level-1) 1pt solid;\n",
       "}\n",
       "\n",
       "#sk-container-id-4 a.estimator_doc_link.fitted {\n",
       "  /* fitted */\n",
       "  border: var(--sklearn-color-fitted-level-1) 1pt solid;\n",
       "  color: var(--sklearn-color-fitted-level-1);\n",
       "}\n",
       "\n",
       "/* On hover */\n",
       "#sk-container-id-4 a.estimator_doc_link:hover {\n",
       "  /* unfitted */\n",
       "  background-color: var(--sklearn-color-unfitted-level-3);\n",
       "  color: var(--sklearn-color-background);\n",
       "  text-decoration: none;\n",
       "}\n",
       "\n",
       "#sk-container-id-4 a.estimator_doc_link.fitted:hover {\n",
       "  /* fitted */\n",
       "  background-color: var(--sklearn-color-fitted-level-3);\n",
       "}\n",
       "</style><div id=\"sk-container-id-4\" class=\"sk-top-container\"><div class=\"sk-text-repr-fallback\"><pre>GridSearchCV(cv=5,\n",
       "             estimator=Pipeline(steps=[(&#x27;preprocessing&#x27;,\n",
       "                                        ColumnTransformer(transformers=((&#x27;number&#x27;,\n",
       "                                                                         StandardScaler(),\n",
       "                                                                         [&#x27;Year&#x27;,\n",
       "                                                                          &#x27;KM_Driven&#x27;]),\n",
       "                                                                        (&#x27;categorical_not_rank&#x27;,\n",
       "                                                                         OneHotEncoder(handle_unknown=&#x27;infrequent_if_exist&#x27;),\n",
       "                                                                         [&#x27;Brand&#x27;,\n",
       "                                                                          &#x27;Fuel&#x27;,\n",
       "                                                                          &#x27;Seller_Type&#x27;,\n",
       "                                                                          &#x27;Transmission&#x27;,\n",
       "                                                                          &#x27;Owner&#x27;])))),\n",
       "                                       (&#x27;pca&#x27;,\n",
       "                                        PCA(n_components=28, random_state=42)),\n",
       "                                       (&#x27;model&#x27;,\n",
       "                                        TransformedTargetReg...regressor=Ridge(random_state=42),\n",
       "                                                                   transformer=StandardScaler()))]),\n",
       "             param_grid=[{&#x27;model&#x27;: [Ridge(random_state=42)],\n",
       "                          &#x27;model__alpha&#x27;: [0.1, 1.0, 10.0]},\n",
       "                         {&#x27;model&#x27;: [Lasso(random_state=42)],\n",
       "                          &#x27;model__alpha&#x27;: [0.001, 0.01, 0.1, 1.0]},\n",
       "                         {&#x27;model&#x27;: [ElasticNet(random_state=42)],\n",
       "                          &#x27;model__alpha&#x27;: [0.01, 0.1, 1.0],\n",
       "                          &#x27;model__l1_ratio&#x27;: [0.1, 0.5, 0.9]}],\n",
       "             scoring=&#x27;neg_mean_squared_error&#x27;)</pre><b>In a Jupyter environment, please rerun this cell to show the HTML representation or trust the notebook. <br />On GitHub, the HTML representation is unable to render, please try loading this page with nbviewer.org.</b></div><div class=\"sk-container\" hidden><div class=\"sk-item sk-dashed-wrapped\"><div class=\"sk-label-container\"><div class=\"sk-label fitted sk-toggleable\"><input class=\"sk-toggleable__control sk-hidden--visually\" id=\"sk-estimator-id-38\" type=\"checkbox\" ><label for=\"sk-estimator-id-38\" class=\"sk-toggleable__label fitted sk-toggleable__label-arrow\"><div><div>GridSearchCV</div></div><div><a class=\"sk-estimator-doc-link fitted\" rel=\"noreferrer\" target=\"_blank\" href=\"https://scikit-learn.org/1.6/modules/generated/sklearn.model_selection.GridSearchCV.html\">?<span>Documentation for GridSearchCV</span></a><span class=\"sk-estimator-doc-link fitted\">i<span>Fitted</span></span></div></label><div class=\"sk-toggleable__content fitted\"><pre>GridSearchCV(cv=5,\n",
       "             estimator=Pipeline(steps=[(&#x27;preprocessing&#x27;,\n",
       "                                        ColumnTransformer(transformers=((&#x27;number&#x27;,\n",
       "                                                                         StandardScaler(),\n",
       "                                                                         [&#x27;Year&#x27;,\n",
       "                                                                          &#x27;KM_Driven&#x27;]),\n",
       "                                                                        (&#x27;categorical_not_rank&#x27;,\n",
       "                                                                         OneHotEncoder(handle_unknown=&#x27;infrequent_if_exist&#x27;),\n",
       "                                                                         [&#x27;Brand&#x27;,\n",
       "                                                                          &#x27;Fuel&#x27;,\n",
       "                                                                          &#x27;Seller_Type&#x27;,\n",
       "                                                                          &#x27;Transmission&#x27;,\n",
       "                                                                          &#x27;Owner&#x27;])))),\n",
       "                                       (&#x27;pca&#x27;,\n",
       "                                        PCA(n_components=28, random_state=42)),\n",
       "                                       (&#x27;model&#x27;,\n",
       "                                        TransformedTargetReg...regressor=Ridge(random_state=42),\n",
       "                                                                   transformer=StandardScaler()))]),\n",
       "             param_grid=[{&#x27;model&#x27;: [Ridge(random_state=42)],\n",
       "                          &#x27;model__alpha&#x27;: [0.1, 1.0, 10.0]},\n",
       "                         {&#x27;model&#x27;: [Lasso(random_state=42)],\n",
       "                          &#x27;model__alpha&#x27;: [0.001, 0.01, 0.1, 1.0]},\n",
       "                         {&#x27;model&#x27;: [ElasticNet(random_state=42)],\n",
       "                          &#x27;model__alpha&#x27;: [0.01, 0.1, 1.0],\n",
       "                          &#x27;model__l1_ratio&#x27;: [0.1, 0.5, 0.9]}],\n",
       "             scoring=&#x27;neg_mean_squared_error&#x27;)</pre></div> </div></div><div class=\"sk-parallel\"><div class=\"sk-parallel-item\"><div class=\"sk-item\"><div class=\"sk-label-container\"><div class=\"sk-label fitted sk-toggleable\"><input class=\"sk-toggleable__control sk-hidden--visually\" id=\"sk-estimator-id-39\" type=\"checkbox\" ><label for=\"sk-estimator-id-39\" class=\"sk-toggleable__label fitted sk-toggleable__label-arrow\"><div><div>best_estimator_: Pipeline</div></div></label><div class=\"sk-toggleable__content fitted\"><pre>Pipeline(steps=[(&#x27;preprocessing&#x27;,\n",
       "                 ColumnTransformer(transformers=((&#x27;number&#x27;, StandardScaler(),\n",
       "                                                  [&#x27;Year&#x27;, &#x27;KM_Driven&#x27;]),\n",
       "                                                 (&#x27;categorical_not_rank&#x27;,\n",
       "                                                  OneHotEncoder(handle_unknown=&#x27;infrequent_if_exist&#x27;),\n",
       "                                                  [&#x27;Brand&#x27;, &#x27;Fuel&#x27;,\n",
       "                                                   &#x27;Seller_Type&#x27;,\n",
       "                                                   &#x27;Transmission&#x27;,\n",
       "                                                   &#x27;Owner&#x27;])))),\n",
       "                (&#x27;pca&#x27;, PCA(n_components=28, random_state=42)),\n",
       "                (&#x27;model&#x27;, Ridge(alpha=0.1, random_state=42))])</pre></div> </div></div><div class=\"sk-serial\"><div class=\"sk-item\"><div class=\"sk-serial\"><div class=\"sk-item sk-dashed-wrapped\"><div class=\"sk-label-container\"><div class=\"sk-label fitted sk-toggleable\"><input class=\"sk-toggleable__control sk-hidden--visually\" id=\"sk-estimator-id-40\" type=\"checkbox\" ><label for=\"sk-estimator-id-40\" class=\"sk-toggleable__label fitted sk-toggleable__label-arrow\"><div><div>preprocessing: ColumnTransformer</div></div><div><a class=\"sk-estimator-doc-link fitted\" rel=\"noreferrer\" target=\"_blank\" href=\"https://scikit-learn.org/1.6/modules/generated/sklearn.compose.ColumnTransformer.html\">?<span>Documentation for preprocessing: ColumnTransformer</span></a></div></label><div class=\"sk-toggleable__content fitted\"><pre>ColumnTransformer(transformers=((&#x27;number&#x27;, StandardScaler(),\n",
       "                                 [&#x27;Year&#x27;, &#x27;KM_Driven&#x27;]),\n",
       "                                (&#x27;categorical_not_rank&#x27;,\n",
       "                                 OneHotEncoder(handle_unknown=&#x27;infrequent_if_exist&#x27;),\n",
       "                                 [&#x27;Brand&#x27;, &#x27;Fuel&#x27;, &#x27;Seller_Type&#x27;,\n",
       "                                  &#x27;Transmission&#x27;, &#x27;Owner&#x27;])))</pre></div> </div></div><div class=\"sk-parallel\"><div class=\"sk-parallel-item\"><div class=\"sk-item\"><div class=\"sk-label-container\"><div class=\"sk-label fitted sk-toggleable\"><input class=\"sk-toggleable__control sk-hidden--visually\" id=\"sk-estimator-id-41\" type=\"checkbox\" ><label for=\"sk-estimator-id-41\" class=\"sk-toggleable__label fitted sk-toggleable__label-arrow\"><div><div>number</div></div></label><div class=\"sk-toggleable__content fitted\"><pre>[&#x27;Year&#x27;, &#x27;KM_Driven&#x27;]</pre></div> </div></div><div class=\"sk-serial\"><div class=\"sk-item\"><div class=\"sk-estimator fitted sk-toggleable\"><input class=\"sk-toggleable__control sk-hidden--visually\" id=\"sk-estimator-id-42\" type=\"checkbox\" ><label for=\"sk-estimator-id-42\" class=\"sk-toggleable__label fitted sk-toggleable__label-arrow\"><div><div>StandardScaler</div></div><div><a class=\"sk-estimator-doc-link fitted\" rel=\"noreferrer\" target=\"_blank\" href=\"https://scikit-learn.org/1.6/modules/generated/sklearn.preprocessing.StandardScaler.html\">?<span>Documentation for StandardScaler</span></a></div></label><div class=\"sk-toggleable__content fitted\"><pre>StandardScaler()</pre></div> </div></div></div></div></div><div class=\"sk-parallel-item\"><div class=\"sk-item\"><div class=\"sk-label-container\"><div class=\"sk-label fitted sk-toggleable\"><input class=\"sk-toggleable__control sk-hidden--visually\" id=\"sk-estimator-id-43\" type=\"checkbox\" ><label for=\"sk-estimator-id-43\" class=\"sk-toggleable__label fitted sk-toggleable__label-arrow\"><div><div>categorical_not_rank</div></div></label><div class=\"sk-toggleable__content fitted\"><pre>[&#x27;Brand&#x27;, &#x27;Fuel&#x27;, &#x27;Seller_Type&#x27;, &#x27;Transmission&#x27;, &#x27;Owner&#x27;]</pre></div> </div></div><div class=\"sk-serial\"><div class=\"sk-item\"><div class=\"sk-estimator fitted sk-toggleable\"><input class=\"sk-toggleable__control sk-hidden--visually\" id=\"sk-estimator-id-44\" type=\"checkbox\" ><label for=\"sk-estimator-id-44\" class=\"sk-toggleable__label fitted sk-toggleable__label-arrow\"><div><div>OneHotEncoder</div></div><div><a class=\"sk-estimator-doc-link fitted\" rel=\"noreferrer\" target=\"_blank\" href=\"https://scikit-learn.org/1.6/modules/generated/sklearn.preprocessing.OneHotEncoder.html\">?<span>Documentation for OneHotEncoder</span></a></div></label><div class=\"sk-toggleable__content fitted\"><pre>OneHotEncoder(handle_unknown=&#x27;infrequent_if_exist&#x27;)</pre></div> </div></div></div></div></div></div></div><div class=\"sk-item\"><div class=\"sk-estimator fitted sk-toggleable\"><input class=\"sk-toggleable__control sk-hidden--visually\" id=\"sk-estimator-id-45\" type=\"checkbox\" ><label for=\"sk-estimator-id-45\" class=\"sk-toggleable__label fitted sk-toggleable__label-arrow\"><div><div>PCA</div></div><div><a class=\"sk-estimator-doc-link fitted\" rel=\"noreferrer\" target=\"_blank\" href=\"https://scikit-learn.org/1.6/modules/generated/sklearn.decomposition.PCA.html\">?<span>Documentation for PCA</span></a></div></label><div class=\"sk-toggleable__content fitted\"><pre>PCA(n_components=28, random_state=42)</pre></div> </div></div><div class=\"sk-item\"><div class=\"sk-estimator fitted sk-toggleable\"><input class=\"sk-toggleable__control sk-hidden--visually\" id=\"sk-estimator-id-46\" type=\"checkbox\" ><label for=\"sk-estimator-id-46\" class=\"sk-toggleable__label fitted sk-toggleable__label-arrow\"><div><div>Ridge</div></div><div><a class=\"sk-estimator-doc-link fitted\" rel=\"noreferrer\" target=\"_blank\" href=\"https://scikit-learn.org/1.6/modules/generated/sklearn.linear_model.Ridge.html\">?<span>Documentation for Ridge</span></a></div></label><div class=\"sk-toggleable__content fitted\"><pre>Ridge(alpha=0.1, random_state=42)</pre></div> </div></div></div></div></div></div></div></div></div></div></div>"
      ],
      "text/plain": [
       "GridSearchCV(cv=5,\n",
       "             estimator=Pipeline(steps=[('preprocessing',\n",
       "                                        ColumnTransformer(transformers=(('number',\n",
       "                                                                         StandardScaler(),\n",
       "                                                                         ['Year',\n",
       "                                                                          'KM_Driven']),\n",
       "                                                                        ('categorical_not_rank',\n",
       "                                                                         OneHotEncoder(handle_unknown='infrequent_if_exist'),\n",
       "                                                                         ['Brand',\n",
       "                                                                          'Fuel',\n",
       "                                                                          'Seller_Type',\n",
       "                                                                          'Transmission',\n",
       "                                                                          'Owner'])))),\n",
       "                                       ('pca',\n",
       "                                        PCA(n_components=28, random_state=42)),\n",
       "                                       ('model',\n",
       "                                        TransformedTargetReg...regressor=Ridge(random_state=42),\n",
       "                                                                   transformer=StandardScaler()))]),\n",
       "             param_grid=[{'model': [Ridge(random_state=42)],\n",
       "                          'model__alpha': [0.1, 1.0, 10.0]},\n",
       "                         {'model': [Lasso(random_state=42)],\n",
       "                          'model__alpha': [0.001, 0.01, 0.1, 1.0]},\n",
       "                         {'model': [ElasticNet(random_state=42)],\n",
       "                          'model__alpha': [0.01, 0.1, 1.0],\n",
       "                          'model__l1_ratio': [0.1, 0.5, 0.9]}],\n",
       "             scoring='neg_mean_squared_error')"
      ]
     },
     "execution_count": 9,
     "metadata": {},
     "output_type": "execute_result"
    }
   ],
   "source": [
    "from sklearn.model_selection import GridSearchCV\n",
    "\n",
    "param_grid = [\n",
    "    {\"model\": [Ridge(random_state=42)], \"model__alpha\": [0.1, 1.0, 10.0]},\n",
    "    {\"model\": [Lasso(random_state=42)], \"model__alpha\": [0.001, 0.01, 0.1, 1.0]},\n",
    "    {\"model\": [ElasticNet(random_state=42)], \"model__alpha\": [0.01, 0.1, 1.0], \"model__l1_ratio\": [0.1, 0.5, 0.9]},\n",
    "]\n",
    "\n",
    "grid = GridSearchCV(pipeline, param_grid, cv=5, scoring=\"neg_mean_squared_error\")\n",
    "grid.fit(train_features, train_target)"
   ]
  },
  {
   "cell_type": "code",
   "execution_count": 10,
   "id": "c2f51a1d",
   "metadata": {},
   "outputs": [
    {
     "name": "stdout",
     "output_type": "stream",
     "text": [
      "MAE       : 189352.552\n",
      "MAPE      : 0.558\n",
      "MSE       : 141012330617.976\n",
      "RMSE      : 375516.086\n",
      "R²        : 0.523\n"
     ]
    }
   ],
   "source": [
    "regression_report(test_target, grid.predict(test_features))"
   ]
  },
  {
   "cell_type": "markdown",
   "id": "20b2381a",
   "metadata": {},
   "source": [
    "В прошлый раз наилучшая спецификация получилась со следующими метриками:\n",
    "```\n",
    "MAE       : 182610.113\n",
    "MAPE      : 0.548\n",
    "MSE       : 124047565787.898\n",
    "RMSE      : 352203.870\n",
    "R²        : 0.580\n",
    "```\n",
    "В текущей сессии в Grid Search была попытка минимизации MSE. После применения PCA с уменьшением количества фичей с 42 до 28 и применением регуляризации произошла небольшая деградация модели и на тестовых данных показатели незначительно изменились в худшую сторону, ошибка увеличилась."
   ]
  },
  {
   "cell_type": "markdown",
   "id": "ba1e1b68",
   "metadata": {},
   "source": [
    "### **Задача** Примените метод tSNE"
   ]
  },
  {
   "cell_type": "code",
   "execution_count": 18,
   "id": "1d47bee8",
   "metadata": {},
   "outputs": [],
   "source": [
    "from sklearn.compose import ColumnTransformer\n",
    "from sklearn.manifold import TSNE\n",
    "from sklearn.preprocessing import OneHotEncoder, StandardScaler\n",
    "\n",
    "preprocessor = ColumnTransformer(\n",
    "    transformers=(\n",
    "        (\"number\", StandardScaler(), [\"Year\", \"KM_Driven\"]),\n",
    "        (\n",
    "            \"categorical_not_rank\",\n",
    "            OneHotEncoder(handle_unknown=\"infrequent_if_exist\"),\n",
    "            [\"Brand\", \"Fuel\", \"Seller_Type\", \"Transmission\", \"Owner\"],\n",
    "        ),\n",
    "    ),\n",
    ")\n",
    "transformed_X = preprocessor.fit_transform(train_features)\n",
    "X_embedded = TSNE(n_components=2, random_state=42, perplexity=100).fit_transform(transformed_X.toarray())"
   ]
  },
  {
   "cell_type": "code",
   "execution_count": 19,
   "id": "90eda348",
   "metadata": {},
   "outputs": [
    {
     "data": {
      "text/plain": [
       "<Axes: >"
      ]
     },
     "execution_count": 19,
     "metadata": {},
     "output_type": "execute_result"
    },
    {
     "data": {
      "image/png": "[encoded data removed]",
      "text/plain": [
       "<Figure size 640x480 with 1 Axes>"
      ]
     },
     "metadata": {},
     "output_type": "display_data"
    }
   ],
   "source": [
    "sns.scatterplot(x=X_embedded[:, 0], y=X_embedded[:, 1])"
   ]
  },
  {
   "cell_type": "code",
   "execution_count": 20,
   "id": "6a3f5b59",
   "metadata": {},
   "outputs": [
    {
     "data": {
      "application/vnd.plotly.v1+json": {
       "config": {
        "plotlyServerURL": "https://plot.ly"
       },
       "data": [
        {
         "customdata": [
          [
           null,
           null,
           null
          ],
          [
           2007,
           50000,
           "Petrol"
          ],
          [
           2012,
           100000,
           "Diesel"
          ],
          [
           2017,
           46000,
           "Petrol"
          ],
          [
           2014,
           141000,
           "Diesel"
          ],
          [
           2007,
           125000,
           "Petrol"
          ],
          [
           null,
           null,
           null
          ],
          [
           2014,
           60000,
           "Petrol"
          ],
          [
           null,
           null,
           null
          ],
          [
           2017,
           78000,
           "CNG"
          ],
          [
           2015,
           35000,
           "Petrol"
          ],
          [
           2014,
           100000,
           "Petrol"
          ],
          [
           null,
           null,
           null
          ],
          [
           2007,
           70000,
           "Petrol"
          ],
          [
           null,
           null,
           null
          ],
          [
           2012,
           100000,
           "Diesel"
          ],
          [
           2017,
           46000,
           "Petrol"
          ],
          [
           null,
           null,
           null
          ],
          [
           2007,
           125000,
           "Petrol"
          ],
          [
           2016,
           25000,
           "Petrol"
          ],
          [
           2014,
           60000,
           "Petrol"
          ],
          [
           2015,
           25000,
           "Petrol"
          ],
          [
           2017,
           78000,
           "CNG"
          ],
          [
           null,
           null,
           null
          ],
          [
           2014,
           100000,
           "Petrol"
          ],
          [
           null,
           null,
           null
          ],
          [
           null,
           null,
           null
          ],
          [
           2019,
           5000,
           "Diesel"
          ],
          [
           2013,
           33000,
           "Diesel"
          ],
          [
           null,
           null,
           null
          ],
          [
           null,
           null,
           null
          ],
          [
           2018,
           4500,
           "Diesel"
          ],
          [
           null,
           null,
           null
          ],
          [
           null,
           null,
           null
          ],
          [
           2018,
           15000,
           "Petrol"
          ],
          [
           2013,
           50000,
           "Diesel"
          ],
          [
           2012,
           33800,
           "Diesel"
          ],
          [
           2011,
           130400,
           "Diesel"
          ],
          [
           2016,
           50000,
           "Petrol"
          ],
          [
           2015,
           80000,
           "Diesel"
          ],
          [
           2019,
           10000,
           "Petrol"
          ],
          [
           2010,
           119000,
           "Petrol"
          ],
          [
           2014,
           60000,
           "Petrol"
          ],
          [
           null,
           null,
           null
          ],
          [
           null,
           null,
           null
          ],
          [
           null,
           null,
           null
          ],
          [
           2014,
           50000,
           "Diesel"
          ],
          [
           2014,
           74000,
           "Diesel"
          ],
          [
           2014,
           64000,
           "Petrol"
          ],
          [
           2012,
           60000,
           "Petrol"
          ],
          [
           2009,
           120000,
           "Diesel"
          ],
          [
           null,
           null,
           null
          ],
          [
           null,
           null,
           null
          ],
          [
           2006,
           80000,
           "Petrol"
          ],
          [
           2017,
           18500,
           "Diesel"
          ],
          [
           2018,
           10200,
           "Petrol"
          ],
          [
           null,
           null,
           null
          ],
          [
           2018,
           28000,
           "Petrol"
          ],
          [
           null,
           null,
           null
          ],
          [
           2014,
           70000,
           "Diesel"
          ],
          [
           2012,
           60000,
           "Petrol"
          ],
          [
           null,
           null,
           null
          ],
          [
           2014,
           90000,
           "Diesel"
          ],
          [
           null,
           null,
           null
          ],
          [
           2005,
           80000,
           "Diesel"
          ],
          [
           2014,
           73300,
           "Petrol"
          ],
          [
           2014,
           92000,
           "Diesel"
          ],
          [
           null,
           null,
           null
          ],
          [
           2009,
           100000,
           "Petrol"
          ],
          [
           null,
           null,
           null
          ],
          [
           null,
           null,
           null
          ],
          [
           2017,
           60000,
           "Diesel"
          ],
          [
           2018,
           31000,
           "Petrol"
          ],
          [
           null,
           null,
           null
          ],
          [
           2009,
           120000,
           "Diesel"
          ],
          [
           2014,
           166000,
           "Diesel"
          ],
          [
           null,
           null,
           null
          ],
          [
           2017,
           35000,
           "Diesel"
          ],
          [
           2018,
           60000,
           "Diesel"
          ],
          [
           2007,
           54000,
           "Petrol"
          ],
          [
           null,
           null,
           null
          ],
          [
           2014,
           120000,
           "Diesel"
          ],
          [
           2005,
           120000,
           "Petrol"
          ],
          [
           2014,
           76000,
           "Petrol"
          ],
          [
           null,
           null,
           null
          ],
          [
           2019,
           25000,
           "Diesel"
          ],
          [
           2016,
           11958,
           "Petrol"
          ],
          [
           2015,
           20000,
           "Petrol"
          ],
          [
           null,
           null,
           null
          ],
          [
           2017,
           6500,
           "Diesel"
          ],
          [
           2015,
           70000,
           "Diesel"
          ],
          [
           2013,
           120000,
           "Diesel"
          ],
          [
           2007,
           58000,
           "Petrol"
          ],
          [
           null,
           null,
           null
          ],
          [
           2014,
           34000,
           "Diesel"
          ],
          [
           null,
           null,
           null
          ],
          [
           null,
           null,
           null
          ],
          [
           2017,
           15000,
           "Petrol"
          ],
          [
           2013,
           50000,
           "Petrol"
          ],
          [
           null,
           null,
           null
          ],
          [
           2009,
           63500,
           "Petrol"
          ],
          [
           2018,
           9800,
           "Petrol"
          ],
          [
           null,
           null,
           null
          ],
          [
           null,
           null,
           null
          ],
          [
           2008,
           29173,
           "Petrol"
          ],
          [
           2012,
           48000,
           "Diesel"
          ],
          [
           2017,
           120000,
           "Diesel"
          ],
          [
           2010,
           100000,
           "Diesel"
          ],
          [
           null,
           null,
           null
          ],
          [
           null,
           null,
           null
          ],
          [
           2019,
           15000,
           "Petrol"
          ],
          [
           2017,
           16000,
           "Petrol"
          ],
          [
           2012,
           60000,
           "Diesel"
          ],
          [
           null,
           null,
           null
          ],
          [
           2011,
           110000,
           "Petrol"
          ],
          [
           2017,
           25000,
           "Petrol"
          ],
          [
           2016,
           60000,
           "Diesel"
          ],
          [
           2014,
           79350,
           "Diesel"
          ],
          [
           2016,
           80000,
           "Petrol"
          ],
          [
           2014,
           90000,
           "Diesel"
          ],
          [
           null,
           null,
           null
          ],
          [
           2014,
           120000,
           "Diesel"
          ],
          [
           null,
           null,
           null
          ],
          [
           2004,
           50000,
           "Petrol"
          ],
          [
           null,
           null,
           null
          ],
          [
           2007,
           110000,
           "Diesel"
          ],
          [
           2012,
           50000,
           "Petrol"
          ],
          [
           2012,
           100000,
           "Diesel"
          ],
          [
           2016,
           70000,
           "Diesel"
          ],
          [
           2016,
           70000,
           "Diesel"
          ],
          [
           2016,
           50000,
           "Petrol"
          ],
          [
           2010,
           81000,
           "Diesel"
          ],
          [
           null,
           null,
           null
          ],
          [
           2015,
           3600,
           "Diesel"
          ],
          [
           null,
           null,
           null
          ],
          [
           2017,
           49213,
           "Diesel"
          ],
          [
           2015,
           40000,
           "Petrol"
          ],
          [
           1998,
           40000,
           "Petrol"
          ],
          [
           2012,
           80000,
           "Petrol"
          ],
          [
           null,
           null,
           null
          ],
          [
           2011,
           70000,
           "Diesel"
          ],
          [
           2003,
           57000,
           "Petrol"
          ],
          [
           2016,
           120000,
           "Diesel"
          ],
          [
           2005,
           30000,
           "Petrol"
          ],
          [
           null,
           null,
           null
          ],
          [
           2015,
           5000,
           "Petrol"
          ],
          [
           2018,
           10000,
           "Petrol"
          ],
          [
           2015,
           100000,
           "Diesel"
          ],
          [
           2016,
           80000,
           "Diesel"
          ],
          [
           null,
           null,
           null
          ],
          [
           null,
           null,
           null
          ],
          [
           null,
           null,
           null
          ],
          [
           null,
           null,
           null
          ],
          [
           2012,
           140000,
           "Diesel"
          ],
          [
           2015,
           120000,
           "Diesel"
          ],
          [
           null,
           null,
           null
          ],
          [
           null,
           null,
           null
          ],
          [
           null,
           null,
           null
          ],
          [
           2020,
           120000,
           "Petrol"
          ],
          [
           2015,
           175000,
           "Diesel"
          ],
          [
           2011,
           100000,
           "Petrol"
          ],
          [
           2014,
           36000,
           "Petrol"
          ],
          [
           2013,
           30000,
           "Diesel"
          ],
          [
           2010,
           40000,
           "Petrol"
          ],
          [
           2013,
           70000,
           "Petrol"
          ],
          [
           2017,
           60000,
           "Petrol"
          ],
          [
           null,
           null,
           null
          ],
          [
           2011,
           50000,
           "Petrol"
          ],
          [
           2016,
           40000,
           "Petrol"
          ],
          [
           2015,
           100000,
           "Diesel"
          ],
          [
           null,
           null,
           null
          ],
          [
           2011,
           90000,
           "Petrol"
          ],
          [
           2013,
           90000,
           "Diesel"
          ],
          [
           null,
           null,
           null
          ],
          [
           null,
           null,
           null
          ],
          [
           null,
           null,
           null
          ],
          [
           2020,
           40000,
           "CNG"
          ],
          [
           null,
           null,
           null
          ],
          [
           null,
           null,
           null
          ],
          [
           null,
           null,
           null
          ],
          [
           2015,
           23000,
           "Petrol"
          ],
          [
           2018,
           22155,
           "Petrol"
          ],
          [
           2018,
           70000,
           "Petrol"
          ],
          [
           null,
           null,
           null
          ],
          [
           null,
           null,
           null
          ],
          [
           2018,
           30000,
           "Petrol"
          ],
          [
           2019,
           15000,
           "Diesel"
          ],
          [
           2003,
           100000,
           "Diesel"
          ],
          [
           null,
           null,
           null
          ],
          [
           2017,
           24000,
           "Petrol"
          ],
          [
           2005,
           120000,
           "Petrol"
          ],
          [
           2013,
           35000,
           "Diesel"
          ],
          [
           null,
           null,
           null
          ],
          [
           2012,
           110000,
           "Diesel"
          ],
          [
           null,
           null,
           null
          ],
          [
           2011,
           90000,
           "Diesel"
          ],
          [
           null,
           null,
           null
          ],
          [
           2009,
           230000,
           "Diesel"
          ],
          [
           2006,
           70000,
           "Petrol"
          ],
          [
           2017,
           80362,
           "Diesel"
          ],
          [
           2012,
           110000,
           "Petrol"
          ],
          [
           2012,
           60000,
           "Diesel"
          ],
          [
           2015,
           50000,
           "Diesel"
          ],
          [
           null,
           null,
           null
          ],
          [
           2017,
           40000,
           "Diesel"
          ],
          [
           null,
           null,
           null
          ],
          [
           2014,
           55000,
           "Petrol"
          ],
          [
           2018,
           1136,
           "Petrol"
          ],
          [
           2013,
           55000,
           "Petrol"
          ],
          [
           null,
           null,
           null
          ],
          [
           2016,
           60000,
           "Diesel"
          ],
          [
           null,
           null,
           null
          ],
          [
           2017,
           40000,
           "Diesel"
          ],
          [
           2019,
           15000,
           "Petrol"
          ],
          [
           null,
           null,
           null
          ],
          [
           2015,
           65000,
           "Diesel"
          ],
          [
           2017,
           40000,
           "Diesel"
          ],
          [
           null,
           null,
           null
          ],
          [
           null,
           null,
           null
          ],
          [
           2012,
           54000,
           "Petrol"
          ],
          [
           null,
           null,
           null
          ],
          [
           null,
           null,
           null
          ],
          [
           null,
           null,
           null
          ],
          [
           2012,
           70000,
           "Petrol"
          ],
          [
           2008,
           90000,
           "Petrol"
          ],
          [
           2008,
           213000,
           "Diesel"
          ],
          [
           2012,
           120000,
           "Diesel"
          ],
          [
           null,
           null,
           null
          ],
          [
           2017,
           10000,
           "Petrol"
          ],
          [
           null,
           null,
           null
          ],
          [
           2015,
           90000,
           "Petrol"
          ],
          [
           2008,
           80000,
           "Petrol"
          ],
          [
           2008,
           60000,
           "Petrol"
          ],
          [
           2011,
           139000,
           "Petrol"
          ],
          [
           2011,
           160000,
           "Diesel"
          ],
          [
           2014,
           150000,
           "Diesel"
          ],
          [
           2010,
           163000,
           "Diesel"
          ],
          [
           2009,
           120000,
           "Diesel"
          ],
          [
           null,
           null,
           null
          ],
          [
           null,
           null,
           null
          ],
          [
           null,
           null,
           null
          ],
          [
           2010,
           87000,
           "Diesel"
          ],
          [
           2013,
           70000,
           "Petrol"
          ],
          [
           2015,
           50000,
           "Petrol"
          ],
          [
           2014,
           70000,
           "Diesel"
          ],
          [
           2014,
           150000,
           "Diesel"
          ],
          [
           2018,
           25000,
           "Diesel"
          ],
          [
           null,
           null,
           null
          ],
          [
           2018,
           10000,
           "Petrol"
          ],
          [
           2018,
           32000,
           "Petrol"
          ],
          [
           2018,
           10000,
           "Petrol"
          ],
          [
           null,
           null,
           null
          ],
          [
           2006,
           120000,
           "Diesel"
          ],
          [
           2019,
           11240,
           "Petrol"
          ],
          [
           null,
           null,
           null
          ],
          [
           2017,
           64000,
           "Diesel"
          ],
          [
           null,
           null,
           null
          ],
          [
           null,
           null,
           null
          ],
          [
           2018,
           26500,
           "Petrol"
          ],
          [
           2002,
           100000,
           "Petrol"
          ],
          [
           2017,
           72000,
           "Diesel"
          ],
          [
           2009,
           50000,
           "Petrol"
          ],
          [
           2017,
           44000,
           "Diesel"
          ],
          [
           null,
           null,
           null
          ],
          [
           2002,
           120000,
           "Diesel"
          ],
          [
           2010,
           130000,
           "Diesel"
          ],
          [
           null,
           null,
           null
          ],
          [
           2014,
           20000,
           "Petrol"
          ],
          [
           2009,
           60000,
           "Diesel"
          ],
          [
           2007,
           195000,
           "Petrol"
          ],
          [
           null,
           null,
           null
          ],
          [
           2006,
           80000,
           "Petrol"
          ],
          [
           2011,
           155000,
           "Petrol"
          ],
          [
           2019,
           35000,
           "Diesel"
          ],
          [
           null,
           null,
           null
          ],
          [
           2010,
           80000,
           "Petrol"
          ],
          [
           2017,
           20000,
           "Petrol"
          ],
          [
           2009,
           50000,
           "Petrol"
          ],
          [
           null,
           null,
           null
          ],
          [
           null,
           null,
           null
          ],
          [
           2013,
           120000,
           "Diesel"
          ],
          [
           2011,
           70000,
           "Diesel"
          ],
          [
           2013,
           40000,
           "Petrol"
          ],
          [
           null,
           null,
           null
          ],
          [
           2013,
           50000,
           "Petrol"
          ],
          [
           2013,
           50000,
           "Petrol"
          ],
          [
           2012,
           49000,
           "Petrol"
          ],
          [
           null,
           null,
           null
          ],
          [
           2011,
           90000,
           "Diesel"
          ],
          [
           null,
           null,
           null
          ],
          [
           null,
           null,
           null
          ],
          [
           null,
           null,
           null
          ],
          [
           2015,
           15000,
           "Diesel"
          ],
          [
           null,
           null,
           null
          ],
          [
           2014,
           41000,
           "Petrol"
          ],
          [
           null,
           null,
           null
          ],
          [
           null,
           null,
           null
          ],
          [
           null,
           null,
           null
          ],
          [
           null,
           null,
           null
          ],
          [
           null,
           null,
           null
          ],
          [
           2009,
           50000,
           "Petrol"
          ],
          [
           2016,
           51000,
           "Diesel"
          ],
          [
           2015,
           25000,
           "Petrol"
          ],
          [
           2014,
           30000,
           "Petrol"
          ],
          [
           2014,
           80000,
           "Diesel"
          ],
          [
           null,
           null,
           null
          ],
          [
           2015,
           200000,
           "Diesel"
          ],
          [
           2013,
           44000,
           "Petrol"
          ],
          [
           null,
           null,
           null
          ],
          [
           null,
           null,
           null
          ],
          [
           2005,
           40000,
           "Petrol"
          ],
          [
           2011,
           50000,
           "Diesel"
          ],
          [
           2009,
           46730,
           "Petrol"
          ],
          [
           2015,
           40000,
           "Petrol"
          ],
          [
           null,
           null,
           null
          ],
          [
           null,
           null,
           null
          ],
          [
           2018,
           24000,
           "Diesel"
          ],
          [
           2017,
           21170,
           "Diesel"
          ],
          [
           null,
           null,
           null
          ],
          [
           2017,
           40000,
           "Diesel"
          ],
          [
           2011,
           60000,
           "Diesel"
          ],
          [
           null,
           null,
           null
          ],
          [
           null,
           null,
           null
          ],
          [
           2012,
           140000,
           "Petrol"
          ],
          [
           null,
           null,
           null
          ],
          [
           null,
           null,
           null
          ],
          [
           2017,
           88635,
           "Diesel"
          ],
          [
           2018,
           25000,
           "Diesel"
          ],
          [
           2017,
           20000,
           "Petrol"
          ],
          [
           2012,
           110000,
           "Diesel"
          ],
          [
           null,
           null,
           null
          ],
          [
           null,
           null,
           null
          ],
          [
           null,
           null,
           null
          ],
          [
           2006,
           120000,
           "Petrol"
          ],
          [
           2003,
           120000,
           "Diesel"
          ],
          [
           2018,
           25000,
           "Diesel"
          ],
          [
           2014,
           35000,
           "Petrol"
          ],
          [
           2002,
           40000,
           "Petrol"
          ],
          [
           2015,
           60000,
           "Diesel"
          ],
          [
           2012,
           50000,
           "Diesel"
          ],
          [
           2013,
           25000,
           "Petrol"
          ],
          [
           2016,
           25000,
           "Petrol"
          ],
          [
           null,
           null,
           null
          ],
          [
           2017,
           60000,
           "Diesel"
          ],
          [
           2006,
           200000,
           "Diesel"
          ],
          [
           2018,
           20000,
           "Diesel"
          ],
          [
           null,
           null,
           null
          ],
          [
           2015,
           70000,
           "Diesel"
          ],
          [
           2012,
           68000,
           "Diesel"
          ],
          [
           2017,
           38000,
           "Petrol"
          ],
          [
           2013,
           80000,
           "Diesel"
          ],
          [
           null,
           null,
           null
          ],
          [
           2012,
           75000,
           "CNG"
          ],
          [
           null,
           null,
           null
          ],
          [
           null,
           null,
           null
          ],
          [
           2015,
           100000,
           "Diesel"
          ],
          [
           2014,
           163000,
           "Diesel"
          ],
          [
           2018,
           25000,
           "Petrol"
          ],
          [
           null,
           null,
           null
          ],
          [
           2007,
           90000,
           "Petrol"
          ],
          [
           null,
           null,
           null
          ],
          [
           2010,
           98000,
           "CNG"
          ],
          [
           2010,
           81925,
           "Diesel"
          ],
          [
           2013,
           80000,
           "Diesel"
          ],
          [
           2017,
           40000,
           "Petrol"
          ],
          [
           2014,
           90000,
           "Diesel"
          ],
          [
           null,
           null,
           null
          ],
          [
           2012,
           80000,
           "Diesel"
          ],
          [
           null,
           null,
           null
          ],
          [
           2017,
           82080,
           "Diesel"
          ],
          [
           2012,
           200000,
           "Diesel"
          ],
          [
           null,
           null,
           null
          ],
          [
           2000,
           40000,
           "Petrol"
          ],
          [
           2010,
           120000,
           "Diesel"
          ],
          [
           2007,
           60000,
           "Petrol"
          ],
          [
           2013,
           110000,
           "Diesel"
          ],
          [
           null,
           null,
           null
          ],
          [
           2017,
           30000,
           "Petrol"
          ],
          [
           2010,
           40000,
           "Petrol"
          ],
          [
           2019,
           10000,
           "Petrol"
          ],
          [
           2010,
           52047,
           "Petrol"
          ],
          [
           2011,
           200000,
           "Diesel"
          ],
          [
           2019,
           15000,
           "Petrol"
          ],
          [
           2018,
           50000,
           "Diesel"
          ],
          [
           2011,
           70000,
           "Petrol"
          ],
          [
           2019,
           10000,
           "Petrol"
          ],
          [
           2017,
           90000,
           "Diesel"
          ],
          [
           null,
           null,
           null
          ],
          [
           2006,
           62009,
           "Petrol"
          ],
          [
           2017,
           33100,
           "Petrol"
          ],
          [
           2014,
           40000,
           "Petrol"
          ],
          [
           1999,
           120000,
           "Petrol"
          ],
          [
           2007,
           80000,
           "Petrol"
          ],
          [
           null,
           null,
           null
          ],
          [
           2006,
           220000,
           "Petrol"
          ],
          [
           2010,
           50000,
           "Diesel"
          ],
          [
           2015,
           45000,
           "Petrol"
          ],
          [
           null,
           null,
           null
          ],
          [
           2014,
           49000,
           "Diesel"
          ],
          [
           2018,
           35000,
           "Diesel"
          ],
          [
           2017,
           160000,
           "Diesel"
          ],
          [
           2007,
           180000,
           "Petrol"
          ],
          [
           null,
           null,
           null
          ],
          [
           2008,
           110000,
           "Diesel"
          ],
          [
           2004,
           60000,
           "Petrol"
          ],
          [
           2016,
           30000,
           "Petrol"
          ],
          [
           2017,
           40000,
           "Diesel"
          ],
          [
           2009,
           70000,
           "Petrol"
          ],
          [
           null,
           null,
           null
          ],
          [
           2012,
           80000,
           "Diesel"
          ],
          [
           null,
           null,
           null
          ],
          [
           null,
           null,
           null
          ],
          [
           2018,
           22000,
           "Petrol"
          ],
          [
           2008,
           35000,
           "Petrol"
          ],
          [
           null,
           null,
           null
          ],
          [
           null,
           null,
           null
          ],
          [
           null,
           null,
           null
          ],
          [
           2018,
           10000,
           "Diesel"
          ],
          [
           null,
           null,
           null
          ],
          [
           2011,
           54000,
           "Diesel"
          ],
          [
           2017,
           80577,
           "Petrol"
          ],
          [
           2017,
           25000,
           "Diesel"
          ],
          [
           2011,
           127500,
           "Diesel"
          ],
          [
           null,
           null,
           null
          ],
          [
           2011,
           60000,
           "Petrol"
          ],
          [
           2004,
           46000,
           "Petrol"
          ],
          [
           null,
           null,
           null
          ],
          [
           2011,
           180000,
           "Diesel"
          ],
          [
           2015,
           30000,
           "Diesel"
          ],
          [
           null,
           null,
           null
          ],
          [
           null,
           null,
           null
          ],
          [
           2012,
           90000,
           "Diesel"
          ],
          [
           null,
           null,
           null
          ],
          [
           null,
           null,
           null
          ],
          [
           2012,
           85962,
           "Petrol"
          ],
          [
           2018,
           120000,
           "Petrol"
          ],
          [
           null,
           null,
           null
          ],
          [
           2012,
           75000,
           "Petrol"
          ],
          [
           null,
           null,
           null
          ],
          [
           null,
           null,
           null
          ],
          [
           2015,
           45000,
           "Petrol"
          ],
          [
           2013,
           72104,
           "Diesel"
          ],
          [
           null,
           null,
           null
          ],
          [
           null,
           null,
           null
          ],
          [
           2011,
           80000,
           "Diesel"
          ],
          [
           null,
           null,
           null
          ],
          [
           2006,
           124439,
           "Petrol"
          ],
          [
           2006,
           77000,
           "Petrol"
          ],
          [
           2014,
           90000,
           "Diesel"
          ],
          [
           null,
           null,
           null
          ],
          [
           null,
           null,
           null
          ],
          [
           2012,
           80000,
           "Diesel"
          ],
          [
           2018,
           5000,
           "Petrol"
          ],
          [
           2018,
           24000,
           "Petrol"
          ],
          [
           2019,
           10000,
           "Petrol"
          ],
          [
           2016,
           78000,
           "Diesel"
          ],
          [
           2018,
           50000,
           "Diesel"
          ],
          [
           null,
           null,
           null
          ],
          [
           2018,
           20000,
           "Petrol"
          ],
          [
           2019,
           1250,
           "Petrol"
          ],
          [
           2015,
           17152,
           "Petrol"
          ],
          [
           null,
           null,
           null
          ],
          [
           2012,
           77000,
           "Diesel"
          ],
          [
           null,
           null,
           null
          ],
          [
           2011,
           80000,
           "Petrol"
          ],
          [
           null,
           null,
           null
          ],
          [
           2011,
           80000,
           "Diesel"
          ],
          [
           2013,
           24005,
           "Petrol"
          ],
          [
           null,
           null,
           null
          ],
          [
           2014,
           120000,
           "Diesel"
          ],
          [
           2009,
           120000,
           "Petrol"
          ],
          [
           null,
           null,
           null
          ],
          [
           2005,
           80000,
           "Petrol"
          ],
          [
           2012,
           100000,
           "Diesel"
          ],
          [
           2009,
           120000,
           "Petrol"
          ],
          [
           2011,
           149000,
           "Diesel"
          ],
          [
           2005,
           65000,
           "Petrol"
          ],
          [
           2009,
           100000,
           "Diesel"
          ],
          [
           null,
           null,
           null
          ],
          [
           null,
           null,
           null
          ],
          [
           2010,
           80000,
           "Petrol"
          ],
          [
           2015,
           30000,
           "Petrol"
          ],
          [
           2012,
           109000,
           "Diesel"
          ],
          [
           2012,
           90000,
           "LPG"
          ],
          [
           2012,
           90000,
           "Petrol"
          ],
          [
           2011,
           65000,
           "Diesel"
          ],
          [
           null,
           null,
           null
          ],
          [
           2007,
           120000,
           "Diesel"
          ],
          [
           2014,
           44000,
           "Diesel"
          ],
          [
           2015,
           80000,
           "Petrol"
          ],
          [
           null,
           null,
           null
          ],
          [
           2016,
           61000,
           "Petrol"
          ],
          [
           2011,
           100000,
           "Diesel"
          ],
          [
           2009,
           27633,
           "Petrol"
          ],
          [
           null,
           null,
           null
          ],
          [
           null,
           null,
           null
          ],
          [
           2019,
           12586,
           "Petrol"
          ],
          [
           null,
           null,
           null
          ],
          [
           2012,
           55328,
           "Diesel"
          ],
          [
           2012,
           81632,
           "Diesel"
          ],
          [
           null,
           null,
           null
          ],
          [
           null,
           null,
           null
          ],
          [
           2009,
           217871,
           "Diesel"
          ],
          [
           2012,
           90165,
           "Diesel"
          ],
          [
           2014,
           101504,
           "Diesel"
          ],
          [
           null,
           null,
           null
          ],
          [
           null,
           null,
           null
          ],
          [
           2006,
           91086,
           "Petrol"
          ],
          [
           null,
           null,
           null
          ],
          [
           2013,
           125531,
           "Diesel"
          ],
          [
           2019,
           60000,
           "Diesel"
          ],
          [
           null,
           null,
           null
          ],
          [
           2013,
           90000,
           "Diesel"
          ],
          [
           2009,
           120000,
           "Diesel"
          ],
          [
           2014,
           82000,
           "Diesel"
          ],
          [
           2016,
           60000,
           "Diesel"
          ],
          [
           2019,
           24000,
           "Petrol"
          ],
          [
           2014,
           120000,
           "Diesel"
          ],
          [
           2013,
           65000,
           "Diesel"
          ],
          [
           2013,
           65000,
           "Diesel"
          ],
          [
           2015,
           84000,
           "Diesel"
          ],
          [
           2013,
           75000,
           "Diesel"
          ],
          [
           2007,
           50000,
           "Diesel"
          ],
          [
           2011,
           50000,
           "Petrol"
          ],
          [
           2007,
           49000,
           "Petrol"
          ],
          [
           2016,
           560000,
           "Diesel"
          ],
          [
           2015,
           14365,
           "Petrol"
          ],
          [
           null,
           null,
           null
          ],
          [
           2013,
           65000,
           "Diesel"
          ],
          [
           2015,
           65000,
           "Diesel"
          ],
          [
           null,
           null,
           null
          ],
          [
           2013,
           75000,
           "Diesel"
          ],
          [
           null,
           null,
           null
          ],
          [
           2014,
           65000,
           "Diesel"
          ],
          [
           null,
           null,
           null
          ],
          [
           2015,
           21000,
           "Petrol"
          ],
          [
           2012,
           66363,
           "Petrol"
          ],
          [
           2018,
           11700,
           "Petrol"
          ],
          [
           null,
           null,
           null
          ],
          [
           2014,
           100000,
           "Diesel"
          ],
          [
           2016,
           7104,
           "Petrol"
          ],
          [
           2015,
           45974,
           "Diesel"
          ],
          [
           2015,
           55340,
           "Petrol"
          ],
          [
           2017,
           20000,
           "Petrol"
          ],
          [
           null,
           null,
           null
          ],
          [
           2016,
           39415,
           "Petrol"
          ],
          [
           2014,
           29654,
           "Petrol"
          ],
          [
           2016,
           64672,
           "Diesel"
          ],
          [
           2015,
           54634,
           "Diesel"
          ],
          [
           null,
           null,
           null
          ],
          [
           2018,
           23974,
           "Diesel"
          ],
          [
           null,
           null,
           null
          ],
          [
           2013,
           1000,
           "Diesel"
          ],
          [
           2018,
           10000,
           "Diesel"
          ],
          [
           null,
           null,
           null
          ],
          [
           null,
           null,
           null
          ],
          [
           2016,
           52600,
           "Diesel"
          ],
          [
           null,
           null,
           null
          ],
          [
           2017,
           19890,
           "Petrol"
          ],
          [
           2016,
           7104,
           "Petrol"
          ],
          [
           2015,
           11918,
           "Petrol"
          ],
          [
           null,
           null,
           null
          ],
          [
           2016,
           41000,
           "Petrol"
          ],
          [
           2017,
           47162,
           "Diesel"
          ],
          [
           null,
           null,
           null
          ],
          [
           2012,
           49824,
           "Petrol"
          ],
          [
           2013,
           58500,
           "Diesel"
          ],
          [
           null,
           null,
           null
          ],
          [
           null,
           null,
           null
          ],
          [
           2015,
           55340,
           "Petrol"
          ],
          [
           2017,
           46507,
           "Diesel"
          ],
          [
           2013,
           1000,
           "Diesel"
          ],
          [
           2018,
           10000,
           "Diesel"
          ],
          [
           null,
           null,
           null
          ],
          [
           2019,
           30000,
           "Diesel"
          ],
          [
           2016,
           52600,
           "Diesel"
          ],
          [
           null,
           null,
           null
          ],
          [
           2017,
           19890,
           "Petrol"
          ],
          [
           null,
           null,
           null
          ],
          [
           2015,
           11918,
           "Petrol"
          ],
          [
           2017,
           10510,
           "Petrol"
          ],
          [
           2016,
           41000,
           "Petrol"
          ],
          [
           2017,
           47162,
           "Diesel"
          ],
          [
           2015,
           45974,
           "Diesel"
          ],
          [
           null,
           null,
           null
          ],
          [
           2013,
           58500,
           "Diesel"
          ],
          [
           2005,
           56580,
           "Petrol"
          ],
          [
           2012,
           52000,
           "Diesel"
          ],
          [
           2015,
           55340,
           "Petrol"
          ],
          [
           null,
           null,
           null
          ],
          [
           2013,
           1000,
           "Diesel"
          ],
          [
           2018,
           10000,
           "Diesel"
          ],
          [
           2013,
           86000,
           "Diesel"
          ],
          [
           2019,
           30000,
           "Diesel"
          ],
          [
           null,
           null,
           null
          ],
          [
           2012,
           110000,
           "Petrol"
          ],
          [
           null,
           null,
           null
          ],
          [
           2016,
           7104,
           "Petrol"
          ],
          [
           null,
           null,
           null
          ],
          [
           null,
           null,
           null
          ],
          [
           2016,
           41000,
           "Petrol"
          ],
          [
           2017,
           47162,
           "Diesel"
          ],
          [
           null,
           null,
           null
          ],
          [
           2012,
           49824,
           "Petrol"
          ],
          [
           null,
           null,
           null
          ],
          [
           null,
           null,
           null
          ],
          [
           2012,
           52000,
           "Diesel"
          ],
          [
           2015,
           55340,
           "Petrol"
          ],
          [
           2017,
           46507,
           "Diesel"
          ],
          [
           2013,
           1000,
           "Diesel"
          ],
          [
           2018,
           10000,
           "Diesel"
          ],
          [
           2013,
           86000,
           "Diesel"
          ],
          [
           2019,
           30000,
           "Diesel"
          ],
          [
           null,
           null,
           null
          ],
          [
           2012,
           110000,
           "Petrol"
          ],
          [
           2017,
           19890,
           "Petrol"
          ],
          [
           2016,
           7104,
           "Petrol"
          ],
          [
           2015,
           11918,
           "Petrol"
          ],
          [
           null,
           null,
           null
          ],
          [
           2016,
           41000,
           "Petrol"
          ],
          [
           null,
           null,
           null
          ],
          [
           null,
           null,
           null
          ],
          [
           2012,
           49824,
           "Petrol"
          ],
          [
           2013,
           58500,
           "Diesel"
          ],
          [
           2005,
           56580,
           "Petrol"
          ],
          [
           2012,
           52000,
           "Diesel"
          ],
          [
           null,
           null,
           null
          ],
          [
           2017,
           46507,
           "Diesel"
          ],
          [
           2013,
           50000,
           "Petrol"
          ],
          [
           2014,
           30000,
           "Petrol"
          ],
          [
           2013,
           50000,
           "Petrol"
          ],
          [
           1995,
           100000,
           "Petrol"
          ],
          [
           2016,
           35000,
           "Diesel"
          ],
          [
           2012,
           90000,
           "Petrol"
          ],
          [
           2014,
           11451,
           "Petrol"
          ],
          [
           2019,
           60000,
           "Diesel"
          ],
          [
           2012,
           172000,
           "Diesel"
          ],
          [
           2018,
           60000,
           "Diesel"
          ],
          [
           2005,
           150000,
           "Diesel"
          ],
          [
           null,
           null,
           null
          ],
          [
           2019,
           5000,
           "Petrol"
          ],
          [
           2006,
           66508,
           "Petrol"
          ],
          [
           null,
           null,
           null
          ],
          [
           null,
           null,
           null
          ],
          [
           null,
           null,
           null
          ],
          [
           2012,
           85000,
           "Diesel"
          ],
          [
           2011,
           50000,
           "Diesel"
          ],
          [
           null,
           null,
           null
          ],
          [
           2008,
           90000,
           "Petrol"
          ],
          [
           2017,
           8000,
           "Petrol"
          ],
          [
           null,
           null,
           null
          ],
          [
           2017,
           50000,
           "Petrol"
          ],
          [
           2016,
           25000,
           "Petrol"
          ],
          [
           2009,
           20000,
           "Petrol"
          ],
          [
           null,
           null,
           null
          ],
          [
           null,
           null,
           null
          ],
          [
           2013,
           206500,
           "Diesel"
          ],
          [
           null,
           null,
           null
          ],
          [
           null,
           null,
           null
          ],
          [
           2008,
           100000,
           "Diesel"
          ],
          [
           2011,
           186000,
           "Diesel"
          ],
          [
           2010,
           60000,
           "Petrol"
          ],
          [
           2019,
           11000,
           "Petrol"
          ],
          [
           2017,
           30000,
           "Diesel"
          ],
          [
           2007,
           80000,
           "CNG"
          ],
          [
           null,
           null,
           null
          ],
          [
           2007,
           100000,
           "Diesel"
          ],
          [
           2019,
           15000,
           "Diesel"
          ],
          [
           null,
           null,
           null
          ],
          [
           2012,
           120000,
           "Petrol"
          ],
          [
           null,
           null,
           null
          ],
          [
           2009,
           138000,
           "Diesel"
          ],
          [
           2008,
           110000,
           "Diesel"
          ],
          [
           2015,
           120000,
           "Petrol"
          ],
          [
           2011,
           70000,
           "Petrol"
          ],
          [
           2015,
           70000,
           "Petrol"
          ],
          [
           null,
           null,
           null
          ],
          [
           null,
           null,
           null
          ],
          [
           2018,
           20000,
           "Petrol"
          ],
          [
           2009,
           100000,
           "Diesel"
          ],
          [
           null,
           null,
           null
          ],
          [
           2018,
           5000,
           "Petrol"
          ],
          [
           null,
           null,
           null
          ],
          [
           null,
           null,
           null
          ],
          [
           2007,
           80000,
           "Petrol"
          ],
          [
           2013,
           38000,
           "Petrol"
          ],
          [
           2013,
           38000,
           "Petrol"
          ],
          [
           2014,
           35000,
           "Petrol"
          ],
          [
           2012,
           60000,
           "Diesel"
          ],
          [
           2004,
           120000,
           "Diesel"
          ],
          [
           null,
           null,
           null
          ],
          [
           null,
           null,
           null
          ],
          [
           2015,
           90000,
           "Diesel"
          ],
          [
           null,
           null,
           null
          ],
          [
           2020,
           1400,
           "Diesel"
          ],
          [
           2011,
           60000,
           "Petrol"
          ],
          [
           2011,
           60000,
           "Petrol"
          ],
          [
           2009,
           53000,
           "Petrol"
          ],
          [
           2010,
           100000,
           "Diesel"
          ],
          [
           2012,
           86000,
           "Diesel"
          ],
          [
           null,
           null,
           null
          ],
          [
           2016,
           30000,
           "Diesel"
          ],
          [
           2011,
           120000,
           "Petrol"
          ],
          [
           2011,
           60000,
           "LPG"
          ],
          [
           2016,
           50000,
           "Diesel"
          ],
          [
           null,
           null,
           null
          ],
          [
           2012,
           100000,
           "Petrol"
          ],
          [
           2017,
           42000,
           "Petrol"
          ],
          [
           2015,
           100000,
           "Diesel"
          ],
          [
           2016,
           28205,
           "Petrol"
          ],
          [
           2017,
           32670,
           "Petrol"
          ],
          [
           2016,
           30093,
           "Diesel"
          ],
          [
           null,
           null,
           null
          ],
          [
           2013,
           59319,
           "Petrol"
          ],
          [
           2016,
           39503,
           "Diesel"
          ],
          [
           2013,
           35299,
           "Petrol"
          ],
          [
           2011,
           51687,
           "Petrol"
          ],
          [
           2011,
           76259,
           "Petrol"
          ],
          [
           null,
           null,
           null
          ],
          [
           2017,
           45087,
           "Diesel"
          ],
          [
           null,
           null,
           null
          ],
          [
           null,
           null,
           null
          ],
          [
           2011,
           54206,
           "Petrol"
          ],
          [
           2012,
           52547,
           "Petrol"
          ],
          [
           2014,
           59110,
           "Diesel"
          ],
          [
           2014,
           54565,
           "Petrol"
          ],
          [
           2010,
           47564,
           "Petrol"
          ],
          [
           null,
           null,
           null
          ],
          [
           2013,
           61624,
           "Petrol"
          ],
          [
           null,
           null,
           null
          ],
          [
           2014,
           50000,
           "Diesel"
          ],
          [
           null,
           null,
           null
          ],
          [
           2010,
           120000,
           "Diesel"
          ],
          [
           null,
           null,
           null
          ],
          [
           null,
           null,
           null
          ],
          [
           2013,
           60000,
           "Diesel"
          ],
          [
           null,
           null,
           null
          ],
          [
           2008,
           90000,
           "Petrol"
          ],
          [
           2019,
           25000,
           "Diesel"
          ],
          [
           2017,
           40000,
           "Petrol"
          ],
          [
           2012,
           110000,
           "Petrol"
          ],
          [
           2006,
           132000,
           "Petrol"
          ],
          [
           2018,
           10980,
           "Petrol"
          ],
          [
           2018,
           20629,
           "Petrol"
          ],
          [
           null,
           null,
           null
          ],
          [
           2015,
           30000,
           "Petrol"
          ],
          [
           null,
           null,
           null
          ],
          [
           2003,
           54000,
           "Petrol"
          ],
          [
           null,
           null,
           null
          ],
          [
           2017,
           60000,
           "Diesel"
          ],
          [
           2015,
           52000,
           "Diesel"
          ],
          [
           null,
           null,
           null
          ],
          [
           null,
           null,
           null
          ],
          [
           2013,
           55425,
           "Petrol"
          ],
          [
           2013,
           78413,
           "Diesel"
          ],
          [
           null,
           null,
           null
          ],
          [
           2015,
           34823,
           "Petrol"
          ],
          [
           2017,
           75000,
           "Diesel"
          ],
          [
           2017,
           55545,
           "Diesel"
          ],
          [
           null,
           null,
           null
          ],
          [
           2016,
           43700,
           "Petrol"
          ],
          [
           null,
           null,
           null
          ],
          [
           2017,
           20000,
           "Petrol"
          ],
          [
           2014,
           27483,
           "Diesel"
          ],
          [
           null,
           null,
           null
          ],
          [
           2008,
           30000,
           "Petrol"
          ],
          [
           2014,
           56207,
           "Petrol"
          ],
          [
           2006,
           70000,
           "Petrol"
          ],
          [
           2018,
           1440,
           "Petrol"
          ],
          [
           2019,
           50000,
           "Petrol"
          ],
          [
           2017,
           20000,
           "Diesel"
          ],
          [
           2017,
           91195,
           "Diesel"
          ],
          [
           2011,
           63657,
           "Diesel"
          ],
          [
           2013,
           60000,
           "Diesel"
          ],
          [
           2016,
           75000,
           "Diesel"
          ],
          [
           2013,
           97248,
           "Petrol"
          ],
          [
           null,
           null,
           null
          ],
          [
           2016,
           10000,
           "Petrol"
          ],
          [
           2018,
           80000,
           "Diesel"
          ],
          [
           2011,
           100000,
           "Diesel"
          ],
          [
           2013,
           35000,
           "Petrol"
          ],
          [
           2017,
           50000,
           "Petrol"
          ],
          [
           2011,
           90000,
           "Diesel"
          ],
          [
           null,
           null,
           null
          ],
          [
           2013,
           89000,
           "Petrol"
          ],
          [
           null,
           null,
           null
          ],
          [
           2012,
           100000,
           "Diesel"
          ],
          [
           null,
           null,
           null
          ],
          [
           2014,
           90000,
           "Diesel"
          ],
          [
           2014,
           75000,
           "Petrol"
          ],
          [
           null,
           null,
           null
          ],
          [
           2016,
           12000,
           "Petrol"
          ],
          [
           2017,
           12997,
           "Diesel"
          ],
          [
           2017,
           40000,
           "Petrol"
          ],
          [
           null,
           null,
           null
          ],
          [
           2013,
           25000,
           "Diesel"
          ],
          [
           2018,
           26430,
           "Diesel"
          ],
          [
           2015,
           24600,
           "Petrol"
          ],
          [
           null,
           null,
           null
          ],
          [
           2013,
           100000,
           "Petrol"
          ],
          [
           null,
           null,
           null
          ],
          [
           2009,
           30375,
           "Petrol"
          ],
          [
           null,
           null,
           null
          ],
          [
           null,
           null,
           null
          ],
          [
           2017,
           18500,
           "Petrol"
          ],
          [
           null,
           null,
           null
          ],
          [
           2014,
           28942,
           "Petrol"
          ],
          [
           null,
           null,
           null
          ],
          [
           2012,
           53600,
           "Diesel"
          ],
          [
           null,
           null,
           null
          ],
          [
           null,
           null,
           null
          ],
          [
           null,
           null,
           null
          ],
          [
           null,
           null,
           null
          ],
          [
           2016,
           15000,
           "Diesel"
          ],
          [
           2018,
           5000,
           "Petrol"
          ],
          [
           2017,
           106000,
           "Diesel"
          ],
          [
           null,
           null,
           null
          ],
          [
           null,
           null,
           null
          ],
          [
           null,
           null,
           null
          ],
          [
           2017,
           82000,
           "Petrol"
          ],
          [
           2003,
           35000,
           "Diesel"
          ],
          [
           2013,
           205000,
           "Petrol"
          ],
          [
           2011,
           125000,
           "Diesel"
          ],
          [
           2015,
           130000,
           "Diesel"
          ],
          [
           2012,
           97000,
           "CNG"
          ],
          [
           2015,
           90000,
           "Petrol"
          ],
          [
           2009,
           60000,
           "Petrol"
          ],
          [
           2013,
           60000,
           "Diesel"
          ],
          [
           2018,
           35000,
           "Diesel"
          ],
          [
           null,
           null,
           null
          ],
          [
           2017,
           15000,
           "Petrol"
          ],
          [
           null,
           null,
           null
          ],
          [
           2011,
           20000,
           "Petrol"
          ],
          [
           2010,
           70000,
           "Petrol"
          ],
          [
           2016,
           90000,
           "Petrol"
          ],
          [
           2016,
           80000,
           "Diesel"
          ],
          [
           2014,
           79500,
           "Diesel"
          ],
          [
           2013,
           70000,
           "Diesel"
          ],
          [
           null,
           null,
           null
          ],
          [
           null,
           null,
           null
          ],
          [
           2014,
           35000,
           "Petrol"
          ],
          [
           2009,
           120000,
           "Diesel"
          ],
          [
           null,
           null,
           null
          ],
          [
           null,
           null,
           null
          ],
          [
           2013,
           120000,
           "Diesel"
          ],
          [
           2016,
           90000,
           "Diesel"
          ],
          [
           2015,
           90000,
           "Petrol"
          ],
          [
           2018,
           10000,
           "Petrol"
          ],
          [
           2009,
           72000,
           "Diesel"
          ],
          [
           2011,
           197000,
           "Petrol"
          ],
          [
           1999,
           70000,
           "Petrol"
          ],
          [
           2001,
           50000,
           "Petrol"
          ],
          [
           2017,
           50000,
           "Diesel"
          ],
          [
           2011,
           60000,
           "Petrol"
          ],
          [
           2018,
           40000,
           "Petrol"
          ],
          [
           2012,
           60000,
           "Diesel"
          ],
          [
           null,
           null,
           null
          ],
          [
           null,
           null,
           null
          ],
          [
           2015,
           45000,
           "Petrol"
          ],
          [
           2010,
           110000,
           "Petrol"
          ],
          [
           2013,
           80000,
           "Petrol"
          ],
          [
           2011,
           100000,
           "Diesel"
          ],
          [
           null,
           null,
           null
          ],
          [
           2009,
           70000,
           "CNG"
          ],
          [
           null,
           null,
           null
          ],
          [
           null,
           null,
           null
          ],
          [
           null,
           null,
           null
          ],
          [
           2018,
           5000,
           "Petrol"
          ],
          [
           2008,
           90000,
           "Petrol"
          ],
          [
           null,
           null,
           null
          ],
          [
           2013,
           80000,
           "Diesel"
          ],
          [
           null,
           null,
           null
          ],
          [
           2009,
           120000,
           "Petrol"
          ],
          [
           2011,
           90000,
           "Diesel"
          ],
          [
           2017,
           50000,
           "Petrol"
          ],
          [
           2016,
           60000,
           "Petrol"
          ],
          [
           2013,
           100000,
           "Diesel"
          ],
          [
           null,
           null,
           null
          ],
          [
           2006,
           200000,
           "Diesel"
          ],
          [
           null,
           null,
           null
          ],
          [
           2011,
           50000,
           "Diesel"
          ],
          [
           null,
           null,
           null
          ],
          [
           2016,
           30000,
           "Petrol"
          ],
          [
           2009,
           80000,
           "Petrol"
          ],
          [
           2015,
           128000,
           "Diesel"
          ],
          [
           2013,
           80000,
           "Diesel"
          ],
          [
           2016,
           100000,
           "Diesel"
          ],
          [
           2015,
           50000,
           "Diesel"
          ],
          [
           null,
           null,
           null
          ],
          [
           null,
           null,
           null
          ],
          [
           2018,
           10500,
           "Petrol"
          ],
          [
           2013,
           107000,
           "Diesel"
          ],
          [
           2010,
           60000,
           "Petrol"
          ],
          [
           null,
           null,
           null
          ],
          [
           2010,
           70000,
           "Petrol"
          ],
          [
           2015,
           50000,
           "Petrol"
          ],
          [
           2013,
           70000,
           "Diesel"
          ],
          [
           null,
           null,
           null
          ],
          [
           2018,
           10000,
           "Diesel"
          ],
          [
           2013,
           86000,
           "Diesel"
          ],
          [
           2019,
           30000,
           "Diesel"
          ],
          [
           2016,
           52600,
           "Diesel"
          ],
          [
           2012,
           110000,
           "Petrol"
          ],
          [
           null,
           null,
           null
          ],
          [
           2016,
           7104,
           "Petrol"
          ],
          [
           2015,
           11918,
           "Petrol"
          ],
          [
           2017,
           10510,
           "Petrol"
          ],
          [
           null,
           null,
           null
          ],
          [
           null,
           null,
           null
          ],
          [
           2015,
           45974,
           "Diesel"
          ],
          [
           null,
           null,
           null
          ],
          [
           null,
           null,
           null
          ],
          [
           null,
           null,
           null
          ],
          [
           2012,
           52000,
           "Diesel"
          ],
          [
           2015,
           55340,
           "Petrol"
          ],
          [
           null,
           null,
           null
          ],
          [
           2013,
           1000,
           "Diesel"
          ],
          [
           2018,
           10000,
           "Diesel"
          ],
          [
           2013,
           86000,
           "Diesel"
          ],
          [
           2019,
           30000,
           "Diesel"
          ],
          [
           2016,
           52600,
           "Diesel"
          ],
          [
           2012,
           110000,
           "Petrol"
          ],
          [
           2017,
           19890,
           "Petrol"
          ],
          [
           2016,
           7104,
           "Petrol"
          ],
          [
           2015,
           11918,
           "Petrol"
          ],
          [
           2017,
           10510,
           "Petrol"
          ],
          [
           2016,
           41000,
           "Petrol"
          ],
          [
           2017,
           47162,
           "Diesel"
          ],
          [
           2015,
           45974,
           "Diesel"
          ],
          [
           2012,
           49824,
           "Petrol"
          ],
          [
           2013,
           58500,
           "Diesel"
          ],
          [
           2005,
           56580,
           "Petrol"
          ],
          [
           null,
           null,
           null
          ],
          [
           2015,
           55340,
           "Petrol"
          ],
          [
           2017,
           46507,
           "Diesel"
          ],
          [
           2012,
           55300,
           "Diesel"
          ],
          [
           2012,
           74300,
           "Diesel"
          ],
          [
           null,
           null,
           null
          ],
          [
           2010,
           87620,
           "Diesel"
          ],
          [
           2017,
           40219,
           "Diesel"
          ],
          [
           2011,
           11473,
           "Petrol"
          ],
          [
           2017,
           8352,
           "Petrol"
          ],
          [
           2017,
           9745,
           "Petrol"
          ],
          [
           2017,
           9748,
           "Petrol"
          ],
          [
           2012,
           49000,
           "Petrol"
          ],
          [
           2018,
           20694,
           "Diesel"
          ],
          [
           2015,
           31080,
           "Petrol"
          ],
          [
           2014,
           37605,
           "Petrol"
          ],
          [
           null,
           null,
           null
          ],
          [
           null,
           null,
           null
          ],
          [
           2015,
           23839,
           "Petrol"
          ],
          [
           2016,
           54000,
           "Diesel"
          ],
          [
           null,
           null,
           null
          ],
          [
           2012,
           45454,
           "Diesel"
          ],
          [
           2015,
           46957,
           "Diesel"
          ],
          [
           2007,
           60000,
           "Petrol"
          ],
          [
           2016,
           25000,
           "Petrol"
          ],
          [
           2012,
           110000,
           "Diesel"
          ],
          [
           null,
           null,
           null
          ],
          [
           2018,
           25000,
           "Diesel"
          ],
          [
           null,
           null,
           null
          ],
          [
           2019,
           5000,
           "Petrol"
          ],
          [
           2015,
           60000,
           "Diesel"
          ],
          [
           2020,
           1500,
           "Diesel"
          ],
          [
           null,
           null,
           null
          ],
          [
           2014,
           120000,
           "Diesel"
          ],
          [
           2005,
           120000,
           "Diesel"
          ],
          [
           2019,
           5000,
           "Petrol"
          ],
          [
           2014,
           47000,
           "Diesel"
          ],
          [
           null,
           null,
           null
          ],
          [
           2005,
           120000,
           "Petrol"
          ],
          [
           2015,
           58000,
           "Diesel"
          ],
          [
           2018,
           35000,
           "Diesel"
          ],
          [
           2017,
           30000,
           "Petrol"
          ],
          [
           2019,
           10000,
           "Diesel"
          ],
          [
           2017,
           25000,
           "Diesel"
          ],
          [
           null,
           null,
           null
          ],
          [
           2018,
           50000,
           "Diesel"
          ],
          [
           null,
           null,
           null
          ],
          [
           null,
           null,
           null
          ],
          [
           2017,
           116000,
           "Diesel"
          ],
          [
           2015,
           100000,
           "Diesel"
          ],
          [
           2015,
           66000,
           "Petrol"
          ],
          [
           2010,
           110000,
           "Diesel"
          ],
          [
           2014,
           70000,
           "Diesel"
          ],
          [
           null,
           null,
           null
          ],
          [
           2007,
           110000,
           "Diesel"
          ],
          [
           2014,
           25000,
           "Diesel"
          ],
          [
           2018,
           68000,
           "Petrol"
          ],
          [
           2014,
           20000,
           "Petrol"
          ],
          [
           null,
           null,
           null
          ],
          [
           2018,
           26350,
           "Diesel"
          ],
          [
           2012,
           90000,
           "Diesel"
          ],
          [
           2016,
           25000,
           "Petrol"
          ],
          [
           2014,
           50000,
           "Petrol"
          ],
          [
           2006,
           60000,
           "Petrol"
          ],
          [
           2012,
           70000,
           "Petrol"
          ],
          [
           2011,
           90000,
           "Diesel"
          ],
          [
           2001,
           70000,
           "Petrol"
          ],
          [
           null,
           null,
           null
          ],
          [
           2013,
           60000,
           "Diesel"
          ],
          [
           null,
           null,
           null
          ],
          [
           2020,
           10000,
           "Diesel"
          ],
          [
           null,
           null,
           null
          ],
          [
           2016,
           25000,
           "Petrol"
          ],
          [
           2017,
           50000,
           "Diesel"
          ],
          [
           null,
           null,
           null
          ],
          [
           2007,
           52000,
           "Petrol"
          ],
          [
           2017,
           15000,
           "Petrol"
          ],
          [
           2011,
           20000,
           "Petrol"
          ],
          [
           2013,
           90000,
           "Diesel"
          ],
          [
           2011,
           60000,
           "Diesel"
          ],
          [
           2015,
           23000,
           "Petrol"
          ],
          [
           2018,
           22155,
           "Petrol"
          ],
          [
           2011,
           20000,
           "Petrol"
          ],
          [
           2018,
           70000,
           "Petrol"
          ],
          [
           2009,
           60000,
           "Petrol"
          ],
          [
           null,
           null,
           null
          ],
          [
           null,
           null,
           null
          ],
          [
           2012,
           167870,
           "Diesel"
          ],
          [
           null,
           null,
           null
          ],
          [
           2018,
           10000,
           "Diesel"
          ],
          [
           null,
           null,
           null
          ],
          [
           2019,
           30000,
           "Diesel"
          ],
          [
           null,
           null,
           null
          ],
          [
           null,
           null,
           null
          ],
          [
           2017,
           30000,
           "Diesel"
          ],
          [
           null,
           null,
           null
          ],
          [
           2015,
           11918,
           "Petrol"
          ],
          [
           null,
           null,
           null
          ],
          [
           2016,
           41000,
           "Petrol"
          ],
          [
           2017,
           47162,
           "Diesel"
          ],
          [
           null,
           null,
           null
          ],
          [
           2013,
           58500,
           "Diesel"
          ],
          [
           null,
           null,
           null
          ],
          [
           2018,
           11212,
           "Petrol"
          ],
          [
           2013,
           52000,
           "Diesel"
          ],
          [
           2016,
           49217,
           "Petrol"
          ],
          [
           null,
           null,
           null
          ],
          [
           2015,
           70000,
           "Petrol"
          ],
          [
           2003,
           90000,
           "Petrol"
          ],
          [
           null,
           null,
           null
          ],
          [
           null,
           null,
           null
          ],
          [
           2012,
           80000,
           "Diesel"
          ],
          [
           null,
           null,
           null
          ],
          [
           2018,
           20000,
           "Petrol"
          ],
          [
           2012,
           110000,
           "Diesel"
          ],
          [
           null,
           null,
           null
          ],
          [
           2010,
           130000,
           "Diesel"
          ],
          [
           2017,
           28838,
           "Petrol"
          ],
          [
           2008,
           200000,
           "Petrol"
          ],
          [
           null,
           null,
           null
          ],
          [
           null,
           null,
           null
          ],
          [
           2010,
           190000,
           "Diesel"
          ],
          [
           2007,
           100000,
           "Diesel"
          ],
          [
           null,
           null,
           null
          ],
          [
           null,
           null,
           null
          ],
          [
           null,
           null,
           null
          ],
          [
           2012,
           50000,
           "Diesel"
          ],
          [
           2018,
           19571,
           "Diesel"
          ],
          [
           2018,
           29600,
           "Petrol"
          ],
          [
           null,
           null,
           null
          ],
          [
           2018,
           15000,
           "Diesel"
          ],
          [
           2019,
           50000,
           "Petrol"
          ],
          [
           null,
           null,
           null
          ],
          [
           2018,
           22000,
           "Petrol"
          ],
          [
           2018,
           25000,
           "Diesel"
          ],
          [
           2010,
           80000,
           "Petrol"
          ],
          [
           null,
           null,
           null
          ],
          [
           2016,
           60000,
           "Petrol"
          ],
          [
           2018,
           49000,
           "Diesel"
          ],
          [
           null,
           null,
           null
          ],
          [
           2017,
           20000,
           "Petrol"
          ],
          [
           null,
           null,
           null
          ],
          [
           null,
           null,
           null
          ],
          [
           null,
           null,
           null
          ],
          [
           2015,
           35000,
           "Diesel"
          ],
          [
           2013,
           86000,
           "Diesel"
          ],
          [
           2015,
           127643,
           "Diesel"
          ],
          [
           2018,
           54000,
           "Petrol"
          ],
          [
           2014,
           102354,
           "Diesel"
          ],
          [
           2014,
           62237,
           "Petrol"
          ],
          [
           2005,
           90000,
           "Petrol"
          ],
          [
           2018,
           21394,
           "Diesel"
          ],
          [
           null,
           null,
           null
          ],
          [
           2006,
           1001,
           "Diesel"
          ],
          [
           2017,
           22000,
           "Diesel"
          ],
          [
           2017,
           53261,
           "Petrol"
          ],
          [
           null,
           null,
           null
          ],
          [
           2018,
           10000,
           "Petrol"
          ],
          [
           2017,
           14000,
           "Diesel"
          ],
          [
           2017,
           44000,
           "Petrol"
          ],
          [
           2014,
           39895,
           "Diesel"
          ],
          [
           2017,
           73000,
           "Diesel"
          ],
          [
           null,
           null,
           null
          ],
          [
           2017,
           18591,
           "Petrol"
          ],
          [
           null,
           null,
           null
          ],
          [
           2015,
           30000,
           "Petrol"
          ],
          [
           2016,
           42000,
           "Diesel"
          ],
          [
           2014,
           110000,
           "Diesel"
          ],
          [
           2005,
           100000,
           "Diesel"
          ],
          [
           2006,
           300000,
           "Diesel"
          ],
          [
           2009,
           110000,
           "Diesel"
          ],
          [
           2018,
           27620,
           "Diesel"
          ],
          [
           null,
           null,
           null
          ],
          [
           2012,
           50000,
           "Petrol"
          ],
          [
           null,
           null,
           null
          ],
          [
           2014,
           46000,
           "Diesel"
          ],
          [
           null,
           null,
           null
          ],
          [
           2016,
           120000,
           "Petrol"
          ],
          [
           null,
           null,
           null
          ],
          [
           2010,
           70000,
           "Petrol"
          ],
          [
           2018,
           20000,
           "Diesel"
          ],
          [
           null,
           null,
           null
          ],
          [
           null,
           null,
           null
          ],
          [
           2018,
           30000,
           "Diesel"
          ],
          [
           null,
           null,
           null
          ],
          [
           null,
           null,
           null
          ],
          [
           2016,
           40000,
           "Petrol"
          ],
          [
           2016,
           161327,
           "Diesel"
          ],
          [
           2009,
           60000,
           "Petrol"
          ],
          [
           2007,
           50000,
           "Diesel"
          ],
          [
           2018,
           6000,
           "Petrol"
          ],
          [
           null,
           null,
           null
          ],
          [
           2012,
           85000,
           "Diesel"
          ],
          [
           2011,
           70000,
           "Diesel"
          ],
          [
           1999,
           35000,
           "Petrol"
          ],
          [
           2010,
           100000,
           "Diesel"
          ],
          [
           null,
           null,
           null
          ],
          [
           2010,
           195000,
           "Diesel"
          ],
          [
           null,
           null,
           null
          ],
          [
           2008,
           60000,
           "Petrol"
          ],
          [
           2017,
           46000,
           "Petrol"
          ],
          [
           2015,
           42000,
           "Diesel"
          ],
          [
           2006,
           90000,
           "Petrol"
          ],
          [
           2012,
           85000,
           "Diesel"
          ],
          [
           2012,
           120000,
           "Diesel"
          ],
          [
           2013,
           72000,
           "Diesel"
          ],
          [
           null,
           null,
           null
          ],
          [
           2009,
           110000,
           "Petrol"
          ],
          [
           2013,
           71000,
           "CNG"
          ],
          [
           2010,
           144000,
           "Diesel"
          ],
          [
           2017,
           30000,
           "Petrol"
          ],
          [
           2007,
           65000,
           "Petrol"
          ],
          [
           2015,
           38000,
           "Diesel"
          ],
          [
           2012,
           90000,
           "Petrol"
          ],
          [
           null,
           null,
           null
          ],
          [
           2018,
           30000,
           "Petrol"
          ],
          [
           2018,
           26000,
           "Petrol"
          ],
          [
           null,
           null,
           null
          ],
          [
           2016,
           23000,
           "Petrol"
          ],
          [
           2012,
           40000,
           "Petrol"
          ],
          [
           2014,
           27000,
           "Diesel"
          ],
          [
           2012,
           65000,
           "Diesel"
          ],
          [
           2015,
           32000,
           "Petrol"
          ],
          [
           2016,
           56000,
           "Diesel"
          ],
          [
           2017,
           30000,
           "Diesel"
          ],
          [
           null,
           null,
           null
          ],
          [
           null,
           null,
           null
          ],
          [
           null,
           null,
           null
          ],
          [
           2011,
           36000,
           "Petrol"
          ],
          [
           null,
           null,
           null
          ],
          [
           null,
           null,
           null
          ],
          [
           null,
           null,
           null
          ],
          [
           null,
           null,
           null
          ],
          [
           2012,
           70000,
           "Diesel"
          ],
          [
           2013,
           60000,
           "Diesel"
          ],
          [
           2011,
           90000,
           "Diesel"
          ],
          [
           2004,
           80000,
           "Petrol"
          ],
          [
           2014,
           101000,
           "Diesel"
          ],
          [
           null,
           null,
           null
          ],
          [
           2006,
           45000,
           "Petrol"
          ],
          [
           2017,
           120000,
           "Diesel"
          ],
          [
           null,
           null,
           null
          ],
          [
           null,
           null,
           null
          ],
          [
           null,
           null,
           null
          ],
          [
           null,
           null,
           null
          ],
          [
           2015,
           25000,
           "Petrol"
          ],
          [
           null,
           null,
           null
          ],
          [
           2012,
           120000,
           "Diesel"
          ],
          [
           null,
           null,
           null
          ],
          [
           2009,
           90246,
           "Petrol"
          ],
          [
           2008,
           90000,
           "Petrol"
          ],
          [
           null,
           null,
           null
          ],
          [
           2000,
           60000,
           "Petrol"
          ],
          [
           2017,
           32000,
           "Diesel"
          ],
          [
           null,
           null,
           null
          ],
          [
           null,
           null,
           null
          ],
          [
           null,
           null,
           null
          ],
          [
           null,
           null,
           null
          ],
          [
           2013,
           90000,
           "Diesel"
          ],
          [
           2017,
           10000,
           "Petrol"
          ],
          [
           null,
           null,
           null
          ],
          [
           2009,
           80000,
           "Diesel"
          ],
          [
           2017,
           10000,
           "Petrol"
          ],
          [
           2020,
           1100,
           "Petrol"
          ],
          [
           2017,
           40000,
           "Petrol"
          ],
          [
           2017,
           10000,
           "Petrol"
          ],
          [
           2014,
           31491,
           "Petrol"
          ],
          [
           2014,
           107143,
           "Diesel"
          ],
          [
           null,
           null,
           null
          ],
          [
           2012,
           50000,
           "Petrol"
          ],
          [
           2017,
           100000,
           "Diesel"
          ],
          [
           2016,
           60000,
           "Diesel"
          ],
          [
           null,
           null,
           null
          ],
          [
           2014,
           40000,
           "Petrol"
          ],
          [
           2011,
           80000,
           "Petrol"
          ],
          [
           null,
           null,
           null
          ],
          [
           2008,
           70000,
           "Petrol"
          ],
          [
           2009,
           70000,
           "Petrol"
          ],
          [
           null,
           null,
           null
          ],
          [
           2012,
           35000,
           "Petrol"
          ],
          [
           2017,
           80000,
           "Diesel"
          ],
          [
           null,
           null,
           null
          ],
          [
           2015,
           46412,
           "Diesel"
          ],
          [
           2011,
           150000,
           "Diesel"
          ],
          [
           null,
           null,
           null
          ],
          [
           2018,
           15000,
           "Diesel"
          ],
          [
           2012,
           60000,
           "Petrol"
          ],
          [
           2018,
           25000,
           "Petrol"
          ],
          [
           null,
           null,
           null
          ],
          [
           null,
           null,
           null
          ],
          [
           null,
           null,
           null
          ],
          [
           2011,
           40000,
           "Petrol"
          ],
          [
           2018,
           50000,
           "Diesel"
          ],
          [
           null,
           null,
           null
          ],
          [
           2010,
           107500,
           "Diesel"
          ],
          [
           2013,
           135000,
           "Diesel"
          ],
          [
           null,
           null,
           null
          ],
          [
           2016,
           55838,
           "Petrol"
          ],
          [
           2007,
           112880,
           "Diesel"
          ],
          [
           null,
           null,
           null
          ],
          [
           2012,
           40000,
           "Petrol"
          ],
          [
           2013,
           66000,
           "Petrol"
          ],
          [
           2017,
           30300,
           "Petrol"
          ],
          [
           null,
           null,
           null
          ],
          [
           2009,
           80659,
           "Petrol"
          ],
          [
           null,
           null,
           null
          ],
          [
           2013,
           127884,
           "Diesel"
          ],
          [
           2015,
           50000,
           "Petrol"
          ],
          [
           2016,
           25000,
           "Petrol"
          ],
          [
           2015,
           66755,
           "Diesel"
          ],
          [
           null,
           null,
           null
          ],
          [
           2009,
           806599,
           "Petrol"
          ],
          [
           2013,
           95851,
           "Diesel"
          ],
          [
           2010,
           50000,
           "Petrol"
          ],
          [
           2008,
           50000,
           "Petrol"
          ],
          [
           2006,
           60000,
           "Petrol"
          ],
          [
           2015,
           15000,
           "Petrol"
          ],
          [
           2016,
           40000,
           "Diesel"
          ],
          [
           2017,
           20000,
           "Petrol"
          ],
          [
           2006,
           120000,
           "Diesel"
          ],
          [
           2012,
           110000,
           "Diesel"
          ],
          [
           null,
           null,
           null
          ],
          [
           2011,
           70000,
           "Diesel"
          ],
          [
           null,
           null,
           null
          ],
          [
           2007,
           84000,
           "Petrol"
          ],
          [
           null,
           null,
           null
          ],
          [
           null,
           null,
           null
          ],
          [
           2006,
           96000,
           "Petrol"
          ],
          [
           null,
           null,
           null
          ],
          [
           null,
           null,
           null
          ],
          [
           2007,
           50000,
           "Petrol"
          ],
          [
           null,
           null,
           null
          ],
          [
           null,
           null,
           null
          ],
          [
           2013,
           70000,
           "Diesel"
          ],
          [
           2012,
           130000,
           "Diesel"
          ],
          [
           2017,
           19014,
           "Petrol"
          ],
          [
           null,
           null,
           null
          ],
          [
           2016,
           29600,
           "Diesel"
          ],
          [
           null,
           null,
           null
          ],
          [
           2018,
           12000,
           "Petrol"
          ],
          [
           null,
           null,
           null
          ],
          [
           2015,
           30500,
           "Petrol"
          ],
          [
           2014,
           42000,
           "Petrol"
          ],
          [
           2007,
           55800,
           "Petrol"
          ],
          [
           2014,
           66569,
           "Diesel"
          ],
          [
           2014,
           81358,
           "Diesel"
          ],
          [
           null,
           null,
           null
          ],
          [
           2014,
           68293,
           "Diesel"
          ],
          [
           2016,
           32000,
           "Petrol"
          ],
          [
           null,
           null,
           null
          ],
          [
           2018,
           60000,
           "Diesel"
          ],
          [
           2006,
           64700,
           "Petrol"
          ],
          [
           2002,
           100000,
           "Petrol"
          ],
          [
           2016,
           88470,
           "Diesel"
          ],
          [
           2016,
           75000,
           "Diesel"
          ],
          [
           2013,
           120000,
           "Diesel"
          ],
          [
           null,
           null,
           null
          ],
          [
           null,
           null,
           null
          ],
          [
           2017,
           57000,
           "Diesel"
          ],
          [
           2020,
           1000,
           "Petrol"
          ],
          [
           null,
           null,
           null
          ],
          [
           null,
           null,
           null
          ],
          [
           2014,
           90000,
           "Diesel"
          ],
          [
           null,
           null,
           null
          ],
          [
           2013,
           25000,
           "Petrol"
          ],
          [
           2009,
           60000,
           "Diesel"
          ],
          [
           null,
           null,
           null
          ],
          [
           null,
           null,
           null
          ],
          [
           2010,
           110000,
           "Diesel"
          ],
          [
           2005,
           126000,
           "Petrol"
          ],
          [
           null,
           null,
           null
          ],
          [
           2019,
           5000,
           "Diesel"
          ],
          [
           2007,
           74183,
           "Petrol"
          ],
          [
           2015,
           70000,
           "Diesel"
          ],
          [
           2014,
           90000,
           "Petrol"
          ],
          [
           2004,
           46000,
           "Petrol"
          ],
          [
           2013,
           110000,
           "Diesel"
          ],
          [
           null,
           null,
           null
          ],
          [
           2013,
           90000,
           "Diesel"
          ],
          [
           2017,
           70000,
           "Diesel"
          ],
          [
           2014,
           1,
           "Diesel"
          ],
          [
           null,
           null,
           null
          ],
          [
           2013,
           70000,
           "Petrol"
          ],
          [
           null,
           null,
           null
          ],
          [
           2015,
           60000,
           "Petrol"
          ],
          [
           2012,
           120000,
           "Diesel"
          ],
          [
           2008,
           120000,
           "Petrol"
          ],
          [
           2007,
           50000,
           "Petrol"
          ],
          [
           2009,
           120000,
           "Diesel"
          ],
          [
           null,
           null,
           null
          ],
          [
           null,
           null,
           null
          ],
          [
           null,
           null,
           null
          ],
          [
           2020,
           1500,
           "Petrol"
          ],
          [
           2018,
           50000,
           "Diesel"
          ],
          [
           2006,
           100000,
           "Diesel"
          ],
          [
           2006,
           83411,
           "Petrol"
          ],
          [
           2011,
           120000,
           "Diesel"
          ],
          [
           2006,
           83411,
           "Petrol"
          ],
          [
           null,
           null,
           null
          ],
          [
           2019,
           50000,
           "Diesel"
          ],
          [
           2015,
           40000,
           "Diesel"
          ],
          [
           2014,
           13270,
           "Diesel"
          ],
          [
           null,
           null,
           null
          ],
          [
           2016,
           50000,
           "Diesel"
          ],
          [
           2017,
           26500,
           "Petrol"
          ],
          [
           2013,
           90000,
           "Diesel"
          ],
          [
           null,
           null,
           null
          ],
          [
           2018,
           35000,
           "Petrol"
          ],
          [
           null,
           null,
           null
          ],
          [
           2015,
           70000,
           "Petrol"
          ],
          [
           2015,
           100000,
           "Petrol"
          ],
          [
           2010,
           88000,
           "Petrol"
          ],
          [
           null,
           null,
           null
          ],
          [
           null,
           null,
           null
          ],
          [
           2010,
           100000,
           "Diesel"
          ],
          [
           2012,
           110000,
           "Diesel"
          ],
          [
           2012,
           80000,
           "Diesel"
          ],
          [
           2012,
           80000,
           "Petrol"
          ],
          [
           null,
           null,
           null
          ],
          [
           null,
           null,
           null
          ],
          [
           2018,
           40000,
           "Diesel"
          ],
          [
           2017,
           40000,
           "Diesel"
          ],
          [
           2019,
           7000,
           "Petrol"
          ],
          [
           2012,
           80000,
           "LPG"
          ],
          [
           null,
           null,
           null
          ],
          [
           2013,
           13770,
           "Diesel"
          ],
          [
           2005,
           34000,
           "Petrol"
          ],
          [
           2008,
           102000,
           "Petrol"
          ],
          [
           2014,
           110000,
           "Diesel"
          ],
          [
           null,
           null,
           null
          ],
          [
           null,
           null,
           null
          ],
          [
           2003,
           90000,
           "Petrol"
          ],
          [
           2007,
           70000,
           "Petrol"
          ],
          [
           2006,
           80000,
           "Petrol"
          ],
          [
           null,
           null,
           null
          ],
          [
           2015,
           100000,
           "Diesel"
          ],
          [
           2007,
           143000,
           "Petrol"
          ],
          [
           2010,
           115000,
           "Petrol"
          ],
          [
           null,
           null,
           null
          ],
          [
           2019,
           120000,
           "Diesel"
          ],
          [
           2013,
           42000,
           "Diesel"
          ],
          [
           2016,
           38000,
           "Petrol"
          ],
          [
           null,
           null,
           null
          ],
          [
           2014,
           120000,
           "Diesel"
          ],
          [
           2014,
           136906,
           "Diesel"
          ],
          [
           2015,
           97000,
           "Diesel"
          ],
          [
           null,
           null,
           null
          ],
          [
           2013,
           50000,
           "Petrol"
          ],
          [
           2005,
           60000,
           "Petrol"
          ],
          [
           2011,
           120000,
           "Diesel"
          ],
          [
           2010,
           120000,
           "Petrol"
          ],
          [
           2010,
           90000,
           "Diesel"
          ],
          [
           2013,
           120000,
           "Petrol"
          ],
          [
           2019,
           3000,
           "Petrol"
          ],
          [
           2014,
           133000,
           "Diesel"
          ],
          [
           2016,
           25000,
           "Petrol"
          ],
          [
           2017,
           35000,
           "Petrol"
          ],
          [
           2015,
           70000,
           "Petrol"
          ],
          [
           2016,
           52000,
           "Petrol"
          ],
          [
           null,
           null,
           null
          ],
          [
           null,
           null,
           null
          ],
          [
           null,
           null,
           null
          ],
          [
           2014,
           90000,
           "Diesel"
          ],
          [
           null,
           null,
           null
          ],
          [
           2019,
           8000,
           "Petrol"
          ],
          [
           null,
           null,
           null
          ],
          [
           null,
           null,
           null
          ],
          [
           2015,
           61658,
           "Diesel"
          ],
          [
           2010,
           50000,
           "Petrol"
          ],
          [
           2016,
           80000,
           "Diesel"
          ],
          [
           null,
           null,
           null
          ],
          [
           2014,
           57000,
           "Diesel"
          ],
          [
           2000,
           60000,
           "Petrol"
          ],
          [
           2004,
           120000,
           "Petrol"
          ],
          [
           null,
           null,
           null
          ],
          [
           null,
           null,
           null
          ],
          [
           2017,
           30600,
           "Petrol"
          ],
          [
           2020,
           5000,
           "Petrol"
          ],
          [
           2015,
           35000,
           "Diesel"
          ],
          [
           null,
           null,
           null
          ],
          [
           null,
           null,
           null
          ],
          [
           null,
           null,
           null
          ],
          [
           2011,
           235000,
           "Diesel"
          ],
          [
           2013,
           87000,
           "Petrol"
          ],
          [
           2014,
           72000,
           "Petrol"
          ],
          [
           2013,
           64000,
           "Diesel"
          ],
          [
           2007,
           100000,
           "Petrol"
          ],
          [
           null,
           null,
           null
          ],
          [
           2010,
           67000,
           "Petrol"
          ],
          [
           null,
           null,
           null
          ],
          [
           2016,
           60000,
           "Diesel"
          ],
          [
           2011,
           74500,
           "Petrol"
          ],
          [
           null,
           null,
           null
          ],
          [
           2015,
           40000,
           "Petrol"
          ],
          [
           null,
           null,
           null
          ],
          [
           null,
           null,
           null
          ],
          [
           2020,
           5000,
           "Petrol"
          ],
          [
           null,
           null,
           null
          ],
          [
           2011,
           100000,
           "Petrol"
          ],
          [
           2018,
           2000,
           "Petrol"
          ],
          [
           null,
           null,
           null
          ],
          [
           2006,
           120000,
           "Diesel"
          ],
          [
           null,
           null,
           null
          ],
          [
           2014,
           29000,
           "LPG"
          ],
          [
           null,
           null,
           null
          ],
          [
           null,
           null,
           null
          ],
          [
           2008,
           110000,
           "Petrol"
          ],
          [
           2017,
           15000,
           "Petrol"
          ],
          [
           2006,
           73756,
           "Diesel"
          ],
          [
           2018,
           40000,
           "Diesel"
          ],
          [
           2011,
           60000,
           "Petrol"
          ],
          [
           2008,
           60000,
           "Petrol"
          ],
          [
           null,
           null,
           null
          ],
          [
           2009,
           70000,
           "Petrol"
          ],
          [
           2002,
           70000,
           "Petrol"
          ],
          [
           2015,
           80000,
           "Diesel"
          ],
          [
           null,
           null,
           null
          ],
          [
           2012,
           70000,
           "Diesel"
          ],
          [
           null,
           null,
           null
          ],
          [
           null,
           null,
           null
          ],
          [
           2014,
           90000,
           "Diesel"
          ],
          [
           2017,
           16400,
           "Diesel"
          ],
          [
           null,
           null,
           null
          ],
          [
           null,
           null,
           null
          ],
          [
           null,
           null,
           null
          ],
          [
           null,
           null,
           null
          ],
          [
           2010,
           120000,
           "Diesel"
          ],
          [
           2018,
           41395,
           "Petrol"
          ],
          [
           2012,
           35000,
           "Diesel"
          ],
          [
           null,
           null,
           null
          ],
          [
           2009,
           47000,
           "Diesel"
          ],
          [
           2013,
           50000,
           "Petrol"
          ],
          [
           2015,
           48000,
           "Petrol"
          ],
          [
           2015,
           53000,
           "Diesel"
          ],
          [
           2008,
           213000,
           "Diesel"
          ],
          [
           null,
           null,
           null
          ],
          [
           null,
           null,
           null
          ],
          [
           2013,
           88000,
           "Diesel"
          ],
          [
           2015,
           55000,
           "Diesel"
          ],
          [
           2014,
           48000,
           "Diesel"
          ],
          [
           2014,
           71014,
           "Diesel"
          ],
          [
           2015,
           60000,
           "Diesel"
          ],
          [
           null,
           null,
           null
          ],
          [
           2016,
           45000,
           "Petrol"
          ],
          [
           null,
           null,
           null
          ],
          [
           null,
           null,
           null
          ],
          [
           2019,
           14000,
           "Diesel"
          ],
          [
           null,
           null,
           null
          ],
          [
           null,
           null,
           null
          ],
          [
           2013,
           80000,
           "Diesel"
          ],
          [
           null,
           null,
           null
          ],
          [
           2012,
           89550,
           "Diesel"
          ],
          [
           2010,
           90000,
           "Diesel"
          ],
          [
           2010,
           149500,
           "Diesel"
          ],
          [
           2013,
           190000,
           "Diesel"
          ],
          [
           null,
           null,
           null
          ],
          [
           2005,
           20000,
           "Petrol"
          ],
          [
           2018,
           20000,
           "Petrol"
          ],
          [
           2010,
           160000,
           "Diesel"
          ],
          [
           null,
           null,
           null
          ],
          [
           2010,
           45000,
           "Petrol"
          ],
          [
           2009,
           44800,
           "Petrol"
          ],
          [
           2006,
           40000,
           "Petrol"
          ],
          [
           2014,
           120000,
           "Petrol"
          ],
          [
           2011,
           10000,
           "Diesel"
          ],
          [
           null,
           null,
           null
          ],
          [
           null,
           null,
           null
          ],
          [
           2014,
           156000,
           "Diesel"
          ],
          [
           2010,
           120000,
           "Diesel"
          ],
          [
           null,
           null,
           null
          ],
          [
           null,
           null,
           null
          ],
          [
           null,
           null,
           null
          ],
          [
           null,
           null,
           null
          ],
          [
           null,
           null,
           null
          ],
          [
           2013,
           170000,
           "Diesel"
          ],
          [
           2013,
           100000,
           "Diesel"
          ],
          [
           2006,
           110000,
           "Petrol"
          ],
          [
           null,
           null,
           null
          ],
          [
           null,
           null,
           null
          ],
          [
           2014,
           35000,
           "Diesel"
          ],
          [
           null,
           null,
           null
          ],
          [
           null,
           null,
           null
          ],
          [
           2012,
           120000,
           "Diesel"
          ],
          [
           null,
           null,
           null
          ],
          [
           2020,
           25000,
           "Diesel"
          ],
          [
           2015,
           15000,
           "Diesel"
          ],
          [
           2014,
           41000,
           "Petrol"
          ],
          [
           2019,
           16000,
           "Petrol"
          ],
          [
           2016,
           51000,
           "Diesel"
          ],
          [
           2014,
           30000,
           "Petrol"
          ],
          [
           null,
           null,
           null
          ],
          [
           2017,
           50000,
           "Petrol"
          ],
          [
           2013,
           44000,
           "Petrol"
          ],
          [
           2015,
           10000,
           "Petrol"
          ],
          [
           2016,
           33000,
           "Petrol"
          ],
          [
           2010,
           25000,
           "Petrol"
          ],
          [
           2014,
           66000,
           "Petrol"
          ],
          [
           2009,
           48000,
           "Petrol"
          ],
          [
           2016,
           146000,
           "Diesel"
          ],
          [
           2013,
           100000,
           "Diesel"
          ],
          [
           null,
           null,
           null
          ],
          [
           null,
           null,
           null
          ],
          [
           null,
           null,
           null
          ],
          [
           2012,
           99000,
           "Diesel"
          ],
          [
           null,
           null,
           null
          ],
          [
           null,
           null,
           null
          ],
          [
           2016,
           45000,
           "Petrol"
          ],
          [
           2010,
           50000,
           "Petrol"
          ],
          [
           2008,
           70000,
           "Petrol"
          ],
          [
           2014,
           37516,
           "Diesel"
          ],
          [
           2015,
           20000,
           "Diesel"
          ],
          [
           null,
           null,
           null
          ],
          [
           2019,
           8000,
           "Diesel"
          ],
          [
           null,
           null,
           null
          ],
          [
           2019,
           10000,
           "Petrol"
          ],
          [
           2009,
           50000,
           "Diesel"
          ],
          [
           2014,
           40000,
           "Petrol"
          ],
          [
           2009,
           100000,
           "Diesel"
          ],
          [
           null,
           null,
           null
          ],
          [
           null,
           null,
           null
          ],
          [
           null,
           null,
           null
          ],
          [
           2012,
           80000,
           "Diesel"
          ],
          [
           null,
           null,
           null
          ],
          [
           2008,
           30000,
           "Petrol"
          ],
          [
           null,
           null,
           null
          ],
          [
           null,
           null,
           null
          ],
          [
           null,
           null,
           null
          ],
          [
           2012,
           120000,
           "Diesel"
          ],
          [
           2014,
           90000,
           "Diesel"
          ],
          [
           2016,
           20000,
           "Petrol"
          ],
          [
           2011,
           90000,
           "Diesel"
          ],
          [
           null,
           null,
           null
          ],
          [
           null,
           null,
           null
          ],
          [
           null,
           null,
           null
          ],
          [
           null,
           null,
           null
          ],
          [
           2019,
           10000,
           "Petrol"
          ],
          [
           2009,
           90000,
           "Diesel"
          ],
          [
           null,
           null,
           null
          ],
          [
           2013,
           70000,
           "Petrol"
          ],
          [
           2014,
           25000,
           "Petrol"
          ],
          [
           null,
           null,
           null
          ],
          [
           2011,
           70000,
           "Petrol"
          ],
          [
           2017,
           60000,
           "Petrol"
          ],
          [
           2020,
           20000,
           "Petrol"
          ],
          [
           2017,
           60000,
           "Petrol"
          ],
          [
           2016,
           80000,
           "Diesel"
          ],
          [
           null,
           null,
           null
          ],
          [
           1999,
           2020,
           "Diesel"
          ],
          [
           null,
           null,
           null
          ],
          [
           2013,
           80000,
           "Diesel"
          ],
          [
           null,
           null,
           null
          ],
          [
           2006,
           100000,
           "Petrol"
          ],
          [
           2010,
           60000,
           "Petrol"
          ],
          [
           2010,
           110000,
           "Petrol"
          ],
          [
           null,
           null,
           null
          ],
          [
           2012,
           40000,
           "Diesel"
          ],
          [
           null,
           null,
           null
          ],
          [
           null,
           null,
           null
          ],
          [
           null,
           null,
           null
          ],
          [
           2018,
           25000,
           "Diesel"
          ],
          [
           null,
           null,
           null
          ],
          [
           null,
           null,
           null
          ],
          [
           2010,
           90000,
           "CNG"
          ],
          [
           2020,
           1100,
           "Petrol"
          ],
          [
           2011,
           70000,
           "Diesel"
          ],
          [
           2005,
           120000,
           "Diesel"
          ],
          [
           null,
           null,
           null
          ],
          [
           2016,
           70000,
           "Petrol"
          ],
          [
           null,
           null,
           null
          ],
          [
           2012,
           120000,
           "Diesel"
          ],
          [
           null,
           null,
           null
          ],
          [
           2006,
           70000,
           "Petrol"
          ],
          [
           2015,
           60000,
           "Diesel"
          ],
          [
           2016,
           110000,
           "Diesel"
          ],
          [
           2008,
           85000,
           "Petrol"
          ],
          [
           2010,
           135000,
           "Diesel"
          ],
          [
           2012,
           86000,
           "Diesel"
          ],
          [
           null,
           null,
           null
          ],
          [
           null,
           null,
           null
          ],
          [
           2005,
           118400,
           "Petrol"
          ],
          [
           null,
           null,
           null
          ],
          [
           2012,
           60000,
           "Petrol"
          ],
          [
           2015,
           68000,
           "Diesel"
          ],
          [
           2017,
           46507,
           "Diesel"
          ],
          [
           null,
           null,
           null
          ],
          [
           2017,
           32077,
           "Diesel"
          ],
          [
           null,
           null,
           null
          ],
          [
           2017,
           18469,
           "Petrol"
          ],
          [
           null,
           null,
           null
          ],
          [
           null,
           null,
           null
          ],
          [
           2017,
           31063,
           "Petrol"
          ],
          [
           null,
           null,
           null
          ],
          [
           2015,
           58692,
           "Diesel"
          ],
          [
           2015,
           54784,
           "Diesel"
          ],
          [
           2016,
           64156,
           "Petrol"
          ],
          [
           null,
           null,
           null
          ],
          [
           2012,
           97000,
           "Diesel"
          ],
          [
           2009,
           120000,
           "Petrol"
          ],
          [
           2019,
           16000,
           "Petrol"
          ],
          [
           2019,
           60000,
           "Petrol"
          ],
          [
           null,
           null,
           null
          ],
          [
           2010,
           110000,
           "Diesel"
          ],
          [
           null,
           null,
           null
          ],
          [
           2005,
           100000,
           "Petrol"
          ],
          [
           2017,
           35000,
           "Petrol"
          ],
          [
           2017,
           48000,
           "Petrol"
          ],
          [
           2005,
           20000,
           "Petrol"
          ],
          [
           2017,
           30000,
           "Petrol"
          ],
          [
           2005,
           40000,
           "Petrol"
          ],
          [
           null,
           null,
           null
          ],
          [
           null,
           null,
           null
          ],
          [
           null,
           null,
           null
          ],
          [
           2016,
           30000,
           "Petrol"
          ],
          [
           2012,
           80000,
           "Diesel"
          ],
          [
           2019,
           9500,
           "Diesel"
          ],
          [
           null,
           null,
           null
          ],
          [
           2016,
           80000,
           "Petrol"
          ],
          [
           2017,
           29000,
           "Diesel"
          ],
          [
           null,
           null,
           null
          ],
          [
           2015,
           60000,
           "Petrol"
          ],
          [
           null,
           null,
           null
          ],
          [
           2016,
           22000,
           "Petrol"
          ],
          [
           2012,
           50000,
           "Petrol"
          ],
          [
           2012,
           50000,
           "Diesel"
          ],
          [
           2007,
           81366,
           "Petrol"
          ],
          [
           null,
           null,
           null
          ],
          [
           2013,
           100000,
           "Petrol"
          ],
          [
           null,
           null,
           null
          ],
          [
           2016,
           20000,
           "Diesel"
          ],
          [
           2012,
           90000,
           "Diesel"
          ],
          [
           null,
           null,
           null
          ],
          [
           2013,
           120000,
           "Diesel"
          ],
          [
           2016,
           53000,
           "Petrol"
          ],
          [
           null,
           null,
           null
          ],
          [
           null,
           null,
           null
          ],
          [
           2012,
           90000,
           "Petrol"
          ],
          [
           2014,
           244000,
           "Diesel"
          ],
          [
           1997,
           120000,
           "Diesel"
          ],
          [
           null,
           null,
           null
          ],
          [
           2017,
           15000,
           "Petrol"
          ],
          [
           null,
           null,
           null
          ],
          [
           2018,
           30000,
           "Diesel"
          ],
          [
           2011,
           312000,
           "Diesel"
          ],
          [
           null,
           null,
           null
          ],
          [
           2005,
           67000,
           "Petrol"
          ],
          [
           2017,
           40000,
           "Diesel"
          ],
          [
           2008,
           100000,
           "Petrol"
          ],
          [
           2015,
           100000,
           "Diesel"
          ],
          [
           2005,
           80000,
           "Petrol"
          ],
          [
           2014,
           145000,
           "Diesel"
          ],
          [
           2013,
           53000,
           "Diesel"
          ],
          [
           2015,
           73000,
           "Diesel"
          ],
          [
           null,
           null,
           null
          ],
          [
           2013,
           80000,
           "Diesel"
          ],
          [
           2011,
           100000,
           "CNG"
          ],
          [
           2011,
           90000,
           "Diesel"
          ],
          [
           2013,
           200000,
           "Diesel"
          ],
          [
           2020,
           7300,
           "Petrol"
          ],
          [
           2017,
           30000,
           "Petrol"
          ],
          [
           2015,
           120000,
           "Diesel"
          ],
          [
           2008,
           90000,
           "Petrol"
          ],
          [
           2013,
           25000,
           "Diesel"
          ],
          [
           null,
           null,
           null
          ],
          [
           2018,
           6000,
           "Petrol"
          ],
          [
           2010,
           36000,
           "Petrol"
          ],
          [
           2016,
           49000,
           "Diesel"
          ],
          [
           2015,
           22000,
           "Petrol"
          ],
          [
           1998,
           35000,
           "LPG"
          ],
          [
           2019,
           24000,
           "Diesel"
          ],
          [
           2018,
           20000,
           "Diesel"
          ],
          [
           null,
           null,
           null
          ],
          [
           2016,
           70000,
           "Diesel"
          ],
          [
           2016,
           60000,
           "Petrol"
          ],
          [
           2015,
           35000,
           "Diesel"
          ],
          [
           2008,
           60000,
           "Petrol"
          ],
          [
           2013,
           60000,
           "Diesel"
          ],
          [
           2017,
           60000,
           "Diesel"
          ],
          [
           2015,
           70000,
           "Petrol"
          ],
          [
           2007,
           135000,
           "Petrol"
          ],
          [
           2001,
           72539,
           "Petrol"
          ],
          [
           2017,
           25000,
           "Petrol"
          ],
          [
           2015,
           50000,
           "Diesel"
          ],
          [
           null,
           null,
           null
          ],
          [
           2020,
           101,
           "Petrol"
          ],
          [
           2020,
           101,
           "Diesel"
          ],
          [
           2015,
           52328,
           "Diesel"
          ],
          [
           null,
           null,
           null
          ],
          [
           2016,
           91505,
           "Diesel"
          ],
          [
           null,
           null,
           null
          ],
          [
           2015,
           60000,
           "Diesel"
          ],
          [
           2015,
           20500,
           "Petrol"
          ],
          [
           null,
           null,
           null
          ],
          [
           2008,
           154000,
           "Diesel"
          ],
          [
           2011,
           120000,
           "Petrol"
          ],
          [
           2009,
           50000,
           "Petrol"
          ],
          [
           null,
           null,
           null
          ],
          [
           null,
           null,
           null
          ],
          [
           2017,
           40000,
           "Diesel"
          ],
          [
           null,
           null,
           null
          ],
          [
           2011,
           133000,
           "Diesel"
          ],
          [
           2004,
           110000,
           "Petrol"
          ],
          [
           2013,
           180000,
           "Diesel"
          ],
          [
           2013,
           120000,
           "Diesel"
          ],
          [
           2010,
           80000,
           "Petrol"
          ],
          [
           null,
           null,
           null
          ],
          [
           2005,
           70000,
           "Petrol"
          ],
          [
           2008,
           41723,
           "Petrol"
          ],
          [
           2010,
           70000,
           "Petrol"
          ],
          [
           null,
           null,
           null
          ],
          [
           null,
           null,
           null
          ],
          [
           2018,
           26350,
           "Diesel"
          ],
          [
           null,
           null,
           null
          ],
          [
           null,
           null,
           null
          ],
          [
           2017,
           27289,
           "Petrol"
          ],
          [
           null,
           null,
           null
          ],
          [
           null,
           null,
           null
          ],
          [
           2014,
           28245,
           "Diesel"
          ],
          [
           2017,
           27005,
           "Diesel"
          ],
          [
           2014,
           39227,
           "Petrol"
          ],
          [
           null,
           null,
           null
          ],
          [
           null,
           null,
           null
          ],
          [
           2009,
           27005,
           "Petrol"
          ],
          [
           2004,
           100005,
           "Petrol"
          ],
          [
           2013,
           45264,
           "Diesel"
          ],
          [
           2014,
           39093,
           "Petrol"
          ],
          [
           2013,
           45241,
           "Petrol"
          ],
          [
           2014,
           12000,
           "Petrol"
          ],
          [
           2018,
           2769,
           "Petrol"
          ],
          [
           null,
           null,
           null
          ],
          [
           2010,
           110000,
           "Petrol"
          ],
          [
           2004,
           50000,
           "Petrol"
          ],
          [
           2010,
           60000,
           "Petrol"
          ],
          [
           2014,
           70000,
           "Diesel"
          ],
          [
           null,
           null,
           null
          ],
          [
           2013,
           59213,
           "Petrol"
          ],
          [
           null,
           null,
           null
          ],
          [
           2011,
           80000,
           "Diesel"
          ],
          [
           null,
           null,
           null
          ],
          [
           null,
           null,
           null
          ],
          [
           2014,
           170000,
           "Diesel"
          ],
          [
           2011,
           170000,
           "Diesel"
          ],
          [
           2007,
           70000,
           "Petrol"
          ],
          [
           2020,
           1010,
           "Petrol"
          ],
          [
           2020,
           1010,
           "Petrol"
          ],
          [
           2020,
           1111,
           "Petrol"
          ],
          [
           2020,
           1010,
           "Petrol"
          ],
          [
           null,
           null,
           null
          ],
          [
           null,
           null,
           null
          ],
          [
           null,
           null,
           null
          ],
          [
           2020,
           1010,
           "Petrol"
          ],
          [
           2006,
           120000,
           "Diesel"
          ],
          [
           2013,
           70000,
           "Diesel"
          ],
          [
           null,
           null,
           null
          ],
          [
           2015,
           70000,
           "Diesel"
          ],
          [
           2009,
           110000,
           "Diesel"
          ],
          [
           2012,
           80000,
           "Diesel"
          ],
          [
           null,
           null,
           null
          ],
          [
           null,
           null,
           null
          ],
          [
           2019,
           50000,
           "Diesel"
          ],
          [
           2011,
           115000,
           "Diesel"
          ],
          [
           2013,
           80000,
           "Petrol"
          ],
          [
           null,
           null,
           null
          ],
          [
           2017,
           48965,
           "Petrol"
          ],
          [
           2019,
           5166,
           "Petrol"
          ],
          [
           2012,
           76290,
           "Diesel"
          ],
          [
           2016,
           70000,
           "Diesel"
          ],
          [
           2016,
           35000,
           "Diesel"
          ],
          [
           2017,
           25000,
           "Diesel"
          ],
          [
           null,
           null,
           null
          ],
          [
           2016,
           47000,
           "Diesel"
          ],
          [
           2013,
           45766,
           "Diesel"
          ],
          [
           null,
           null,
           null
          ],
          [
           2010,
           79357,
           "Diesel"
          ],
          [
           2012,
           28000,
           "Diesel"
          ],
          [
           2012,
           72000,
           "Diesel"
          ],
          [
           2011,
           76736,
           "Diesel"
          ],
          [
           null,
           null,
           null
          ],
          [
           2012,
           80000,
           "Diesel"
          ],
          [
           2009,
           60000,
           "LPG"
          ],
          [
           2012,
           77000,
           "Diesel"
          ],
          [
           null,
           null,
           null
          ],
          [
           null,
           null,
           null
          ],
          [
           2004,
           120000,
           "Diesel"
          ],
          [
           2012,
           80000,
           "Petrol"
          ],
          [
           2014,
           70000,
           "Diesel"
          ],
          [
           2017,
           120000,
           "Diesel"
          ],
          [
           2013,
           42000,
           "Petrol"
          ],
          [
           2012,
           120000,
           "Diesel"
          ],
          [
           null,
           null,
           null
          ],
          [
           2011,
           59000,
           "Petrol"
          ],
          [
           null,
           null,
           null
          ],
          [
           2018,
           70000,
           "Diesel"
          ],
          [
           2014,
           20000,
           "Diesel"
          ],
          [
           2012,
           120000,
           "Diesel"
          ],
          [
           2016,
           40000,
           "Petrol"
          ],
          [
           2011,
           90000,
           "Diesel"
          ],
          [
           2012,
           89000,
           "Diesel"
          ],
          [
           null,
           null,
           null
          ],
          [
           null,
           null,
           null
          ],
          [
           null,
           null,
           null
          ],
          [
           null,
           null,
           null
          ],
          [
           2013,
           1000,
           "Diesel"
          ],
          [
           2018,
           10000,
           "Diesel"
          ],
          [
           2013,
           86000,
           "Diesel"
          ],
          [
           2019,
           30000,
           "Diesel"
          ],
          [
           null,
           null,
           null
          ],
          [
           2012,
           110000,
           "Petrol"
          ],
          [
           null,
           null,
           null
          ],
          [
           null,
           null,
           null
          ],
          [
           2015,
           11918,
           "Petrol"
          ],
          [
           2017,
           10510,
           "Petrol"
          ],
          [
           2016,
           41000,
           "Petrol"
          ],
          [
           null,
           null,
           null
          ],
          [
           2015,
           45974,
           "Diesel"
          ],
          [
           null,
           null,
           null
          ],
          [
           2013,
           58500,
           "Diesel"
          ],
          [
           2005,
           56580,
           "Petrol"
          ],
          [
           2012,
           52000,
           "Diesel"
          ],
          [
           2015,
           55340,
           "Petrol"
          ],
          [
           2017,
           46507,
           "Diesel"
          ],
          [
           2014,
           200000,
           "Diesel"
          ],
          [
           2009,
           120000,
           "Petrol"
          ],
          [
           2008,
           90000,
           "Diesel"
          ],
          [
           2013,
           65000,
           "Diesel"
          ],
          [
           2014,
           50000,
           "Diesel"
          ],
          [
           2012,
           33000,
           "Diesel"
          ],
          [
           2016,
           38000,
           "Petrol"
          ],
          [
           2012,
           40000,
           "Petrol"
          ],
          [
           null,
           null,
           null
          ],
          [
           null,
           null,
           null
          ],
          [
           null,
           null,
           null
          ],
          [
           2018,
           40000,
           "Petrol"
          ],
          [
           null,
           null,
           null
          ],
          [
           2006,
           63230,
           "Petrol"
          ],
          [
           2006,
           120000,
           "Diesel"
          ],
          [
           2005,
           100000,
           "Petrol"
          ],
          [
           2015,
           77000,
           "Diesel"
          ],
          [
           2016,
           30000,
           "Petrol"
          ],
          [
           2015,
           40000,
           "Petrol"
          ],
          [
           2017,
           35000,
           "Petrol"
          ],
          [
           null,
           null,
           null
          ],
          [
           null,
           null,
           null
          ],
          [
           2008,
           90000,
           "Diesel"
          ],
          [
           2013,
           65000,
           "Diesel"
          ],
          [
           null,
           null,
           null
          ],
          [
           2014,
           50000,
           "Diesel"
          ],
          [
           2012,
           33000,
           "Diesel"
          ],
          [
           2016,
           38000,
           "Petrol"
          ],
          [
           null,
           null,
           null
          ],
          [
           2012,
           55000,
           "Diesel"
          ],
          [
           null,
           null,
           null
          ],
          [
           2017,
           26000,
           "Diesel"
          ],
          [
           2016,
           80000,
           "Diesel"
          ],
          [
           2012,
           80000,
           "Diesel"
          ],
          [
           2018,
           40000,
           "Petrol"
          ],
          [
           2011,
           120000,
           "Diesel"
          ],
          [
           2013,
           70000,
           "Petrol"
          ],
          [
           2006,
           63230,
           "Petrol"
          ],
          [
           2006,
           120000,
           "Diesel"
          ],
          [
           null,
           null,
           null
          ],
          [
           2006,
           40000,
           "Petrol"
          ],
          [
           2005,
           100000,
           "Petrol"
          ],
          [
           2008,
           110000,
           "Petrol"
          ],
          [
           2012,
           90000,
           "Diesel"
          ],
          [
           null,
           null,
           null
          ],
          [
           2005,
           47000,
           "Petrol"
          ],
          [
           null,
           null,
           null
          ],
          [
           2010,
           120000,
           "Diesel"
          ],
          [
           2008,
           120000,
           "Diesel"
          ],
          [
           2012,
           140000,
           "Diesel"
          ],
          [
           2019,
           1001,
           "Diesel"
          ],
          [
           2017,
           1758,
           "Petrol"
          ],
          [
           2018,
           1452,
           "Petrol"
          ],
          [
           2017,
           35122,
           "Diesel"
          ],
          [
           2015,
           92621,
           "Diesel"
          ],
          [
           null,
           null,
           null
          ],
          [
           2019,
           5000,
           "Diesel"
          ],
          [
           null,
           null,
           null
          ],
          [
           null,
           null,
           null
          ],
          [
           2017,
           40000,
           "Diesel"
          ],
          [
           null,
           null,
           null
          ],
          [
           2007,
           100000,
           "Petrol"
          ],
          [
           2019,
           40000,
           "Diesel"
          ],
          [
           null,
           null,
           null
          ],
          [
           2016,
           23000,
           "Petrol"
          ],
          [
           2009,
           30000,
           "Diesel"
          ],
          [
           null,
           null,
           null
          ],
          [
           2010,
           100000,
           "Diesel"
          ],
          [
           2011,
           70000,
           "Petrol"
          ],
          [
           null,
           null,
           null
          ],
          [
           2006,
           90000,
           "Petrol"
          ],
          [
           null,
           null,
           null
          ],
          [
           null,
           null,
           null
          ],
          [
           2019,
           15000,
           "Petrol"
          ],
          [
           2018,
           40000,
           "Petrol"
          ],
          [
           2000,
           50000,
           "Petrol"
          ],
          [
           2010,
           50000,
           "Petrol"
          ],
          [
           2018,
           8000,
           "Petrol"
          ],
          [
           2013,
           35000,
           "Petrol"
          ],
          [
           2010,
           80000,
           "Diesel"
          ],
          [
           2005,
           50000,
           "Petrol"
          ],
          [
           2002,
           80000,
           "Petrol"
          ],
          [
           2010,
           90000,
           "Diesel"
          ],
          [
           2018,
           30000,
           "Petrol"
          ],
          [
           null,
           null,
           null
          ],
          [
           null,
           null,
           null
          ],
          [
           null,
           null,
           null
          ],
          [
           2003,
           35000,
           "Petrol"
          ],
          [
           null,
           null,
           null
          ],
          [
           null,
           null,
           null
          ],
          [
           2008,
           152000,
           "LPG"
          ],
          [
           1998,
           70000,
           "Petrol"
          ],
          [
           2012,
           90000,
           "Diesel"
          ],
          [
           2019,
           40000,
           "Petrol"
          ],
          [
           2016,
           50000,
           "Petrol"
          ],
          [
           2014,
           15000,
           "Petrol"
          ],
          [
           null,
           null,
           null
          ],
          [
           2014,
           78322,
           "Diesel"
          ],
          [
           2014,
           110000,
           "Diesel"
          ],
          [
           2013,
           80000,
           "Diesel"
          ],
          [
           null,
           null,
           null
          ],
          [
           2016,
           125000,
           "Petrol"
          ],
          [
           null,
           null,
           null
          ],
          [
           2018,
           13000,
           "Petrol"
          ],
          [
           2012,
           80000,
           "Diesel"
          ],
          [
           null,
           null,
           null
          ],
          [
           2011,
           70000,
           "Diesel"
          ],
          [
           2006,
           34600,
           "Petrol"
          ],
          [
           2016,
           25000,
           "Petrol"
          ],
          [
           null,
           null,
           null
          ],
          [
           null,
           null,
           null
          ],
          [
           2020,
           5000,
           "Diesel"
          ],
          [
           null,
           null,
           null
          ],
          [
           null,
           null,
           null
          ],
          [
           2011,
           50000,
           "Petrol"
          ],
          [
           2018,
           38217,
           "Diesel"
          ],
          [
           2011,
           50000,
           "Petrol"
          ],
          [
           2011,
           120000,
           "Diesel"
          ],
          [
           2004,
           110000,
           "Diesel"
          ],
          [
           2019,
           40000,
           "Diesel"
          ],
          [
           2001,
           50000,
           "Petrol"
          ],
          [
           2017,
           10000,
           "Petrol"
          ],
          [
           2019,
           10000,
           "Diesel"
          ],
          [
           2015,
           100000,
           "Diesel"
          ],
          [
           2016,
           60000,
           "Petrol"
          ],
          [
           2017,
           30000,
           "Diesel"
          ],
          [
           null,
           null,
           null
          ],
          [
           2017,
           30000,
           "Petrol"
          ],
          [
           2011,
           50000,
           "Petrol"
          ],
          [
           2014,
           25000,
           "Petrol"
          ],
          [
           2019,
           15000,
           "Petrol"
          ],
          [
           2009,
           30000,
           "Diesel"
          ],
          [
           2010,
           45000,
           "Petrol"
          ],
          [
           2009,
           44800,
           "Petrol"
          ],
          [
           2010,
           50000,
           "Petrol"
          ],
          [
           2018,
           52000,
           "Diesel"
          ],
          [
           null,
           null,
           null
          ],
          [
           2008,
           35000,
           "Petrol"
          ],
          [
           2010,
           100000,
           "Diesel"
          ],
          [
           null,
           null,
           null
          ],
          [
           null,
           null,
           null
          ],
          [
           2007,
           60000,
           "Petrol"
          ],
          [
           2014,
           77000,
           "Petrol"
          ],
          [
           2011,
           60000,
           "Petrol"
          ],
          [
           2010,
           77073,
           "Petrol"
          ],
          [
           2016,
           70000,
           "Diesel"
          ],
          [
           2013,
           90000,
           "LPG"
          ],
          [
           2013,
           186000,
           "Diesel"
          ],
          [
           2014,
           90000,
           "Diesel"
          ],
          [
           2007,
           100000,
           "Petrol"
          ],
          [
           null,
           null,
           null
          ],
          [
           2012,
           150000,
           "Diesel"
          ],
          [
           null,
           null,
           null
          ],
          [
           2018,
           35000,
           "Petrol"
          ],
          [
           2008,
           70000,
           "Petrol"
          ],
          [
           2018,
           50000,
           "Diesel"
          ],
          [
           2019,
           25000,
           "Diesel"
          ],
          [
           2013,
           120000,
           "Diesel"
          ],
          [
           2009,
           70000,
           "Petrol"
          ],
          [
           null,
           null,
           null
          ],
          [
           2010,
           120000,
           "Petrol"
          ],
          [
           2019,
           120000,
           "CNG"
          ],
          [
           2016,
           160000,
           "Petrol"
          ],
          [
           null,
           null,
           null
          ],
          [
           2020,
           10000,
           "Petrol"
          ],
          [
           2013,
           50000,
           "Petrol"
          ],
          [
           null,
           null,
           null
          ],
          [
           null,
           null,
           null
          ],
          [
           2008,
           100000,
           "Diesel"
          ],
          [
           2008,
           100000,
           "Diesel"
          ],
          [
           2010,
           80000,
           "Petrol"
          ],
          [
           null,
           null,
           null
          ],
          [
           null,
           null,
           null
          ],
          [
           2010,
           51000,
           "Petrol"
          ],
          [
           2016,
           38000,
           "Diesel"
          ],
          [
           2015,
           35000,
           "Petrol"
          ],
          [
           null,
           null,
           null
          ],
          [
           null,
           null,
           null
          ],
          [
           2008,
           144000,
           "Diesel"
          ],
          [
           null,
           null,
           null
          ],
          [
           2015,
           60000,
           "Diesel"
          ],
          [
           2014,
           65000,
           "Petrol"
          ],
          [
           null,
           null,
           null
          ],
          [
           2014,
           58000,
           "Diesel"
          ],
          [
           2014,
           58000,
           "Diesel"
          ],
          [
           null,
           null,
           null
          ],
          [
           2011,
           81257,
           "Diesel"
          ],
          [
           2017,
           44000,
           "Diesel"
          ],
          [
           2015,
           45000,
           "Petrol"
          ],
          [
           2013,
           75000,
           "Diesel"
          ],
          [
           null,
           null,
           null
          ],
          [
           2007,
           80000,
           "Diesel"
          ],
          [
           null,
           null,
           null
          ],
          [
           null,
           null,
           null
          ],
          [
           2014,
           90000,
           "Diesel"
          ],
          [
           2013,
           25000,
           "Petrol"
          ],
          [
           2013,
           110000,
           "Diesel"
          ],
          [
           2013,
           35000,
           "Petrol"
          ],
          [
           2019,
           10000,
           "Petrol"
          ],
          [
           2019,
           10000,
           "Petrol"
          ],
          [
           2012,
           70000,
           "Petrol"
          ],
          [
           null,
           null,
           null
          ],
          [
           2003,
           5000,
           "Petrol"
          ],
          [
           2006,
           120000,
           "Petrol"
          ],
          [
           2009,
           90000,
           "LPG"
          ],
          [
           null,
           null,
           null
          ],
          [
           2008,
           90000,
           "Petrol"
          ],
          [
           null,
           null,
           null
          ],
          [
           2012,
           110000,
           "Diesel"
          ],
          [
           2016,
           50000,
           "Diesel"
          ],
          [
           2018,
           58000,
           "Diesel"
          ],
          [
           null,
           null,
           null
          ],
          [
           2015,
           60000,
           "Petrol"
          ],
          [
           2015,
           57000,
           "Petrol"
          ],
          [
           null,
           null,
           null
          ],
          [
           null,
           null,
           null
          ],
          [
           2012,
           30000,
           "Petrol"
          ],
          [
           2012,
           80000,
           "Diesel"
          ],
          [
           2009,
           100000,
           "Petrol"
          ],
          [
           2019,
           40000,
           "Petrol"
          ],
          [
           2017,
           3917,
           "Petrol"
          ],
          [
           null,
           null,
           null
          ],
          [
           2017,
           35000,
           "Diesel"
          ],
          [
           2014,
           70000,
           "Petrol"
          ],
          [
           2012,
           69069,
           "Petrol"
          ],
          [
           2019,
           13500,
           "Petrol"
          ],
          [
           null,
           null,
           null
          ],
          [
           2013,
           70000,
           "Petrol"
          ],
          [
           null,
           null,
           null
          ],
          [
           2014,
           33033,
           "Petrol"
          ],
          [
           2011,
           55168,
           "Petrol"
          ],
          [
           null,
           null,
           null
          ],
          [
           2009,
           67067,
           "Petrol"
          ],
          [
           null,
           null,
           null
          ],
          [
           2013,
           82082,
           "Diesel"
          ],
          [
           2014,
           48000,
           "Petrol"
          ],
          [
           2015,
           30000,
           "Petrol"
          ],
          [
           2012,
           70070,
           "Diesel"
          ],
          [
           null,
           null,
           null
          ],
          [
           null,
           null,
           null
          ],
          [
           2016,
           30000,
           "CNG"
          ],
          [
           2015,
           50000,
           "Petrol"
          ],
          [
           2015,
           63063,
           "Petrol"
          ],
          [
           null,
           null,
           null
          ],
          [
           2012,
           90000,
           "Petrol"
          ],
          [
           null,
           null,
           null
          ],
          [
           null,
           null,
           null
          ],
          [
           2016,
           30000,
           "Petrol"
          ],
          [
           2016,
           80000,
           "Petrol"
          ],
          [
           2011,
           120000,
           "Diesel"
          ],
          [
           2016,
           22000,
           "Petrol"
          ],
          [
           2017,
           140000,
           "Diesel"
          ],
          [
           2014,
           80000,
           "Diesel"
          ],
          [
           2016,
           40000,
           "Diesel"
          ],
          [
           2011,
           33000,
           "Petrol"
          ],
          [
           null,
           null,
           null
          ],
          [
           2018,
           10500,
           "Petrol"
          ],
          [
           2013,
           107000,
           "Diesel"
          ],
          [
           2010,
           60000,
           "Petrol"
          ],
          [
           null,
           null,
           null
          ],
          [
           2010,
           70000,
           "Petrol"
          ],
          [
           2015,
           50000,
           "Petrol"
          ],
          [
           2013,
           70000,
           "Diesel"
          ],
          [
           2017,
           6000,
           "Petrol"
          ],
          [
           2010,
           78000,
           "Diesel"
          ],
          [
           2011,
           72000,
           "Diesel"
          ],
          [
           2011,
           9528,
           "Petrol"
          ],
          [
           2011,
           135200,
           "Diesel"
          ],
          [
           2011,
           58000,
           "Petrol"
          ],
          [
           null,
           null,
           null
          ],
          [
           2018,
           45000,
           "Petrol"
          ],
          [
           2017,
           35000,
           "Diesel"
          ],
          [
           null,
           null,
           null
          ],
          [
           2015,
           100000,
           "Diesel"
          ],
          [
           2011,
           99000,
           "Diesel"
          ],
          [
           null,
           null,
           null
          ],
          [
           2006,
           120000,
           "Petrol"
          ],
          [
           2020,
           1100,
           "Petrol"
          ],
          [
           2017,
           34000,
           "Petrol"
          ],
          [
           2014,
           68000,
           "Diesel"
          ],
          [
           2018,
           15000,
           "Diesel"
          ],
          [
           2012,
           58000,
           "Diesel"
          ],
          [
           2013,
           50300,
           "Diesel"
          ],
          [
           null,
           null,
           null
          ],
          [
           2011,
           60000,
           "Diesel"
          ],
          [
           2020,
           90000,
           "Diesel"
          ],
          [
           null,
           null,
           null
          ],
          [
           2010,
           80000,
           "Petrol"
          ],
          [
           2019,
           15000,
           "Diesel"
          ],
          [
           2015,
           45000,
           "Petrol"
          ],
          [
           2011,
           130000,
           "Diesel"
          ],
          [
           2018,
           80000,
           "Diesel"
          ],
          [
           2014,
           40000,
           "Petrol"
          ],
          [
           2017,
           80000,
           "Diesel"
          ],
          [
           2016,
           100000,
           "Diesel"
          ],
          [
           2013,
           151624,
           "Diesel"
          ],
          [
           2012,
           160000,
           "Diesel"
          ],
          [
           2005,
           110000,
           "CNG"
          ],
          [
           2015,
           74820,
           "Diesel"
          ],
          [
           2014,
           82000,
           "Diesel"
          ],
          [
           2015,
           50000,
           "Petrol"
          ],
          [
           2010,
           70000,
           "Petrol"
          ],
          [
           null,
           null,
           null
          ],
          [
           null,
           null,
           null
          ],
          [
           2008,
           150000,
           "Diesel"
          ],
          [
           null,
           null,
           null
          ],
          [
           2014,
           150000,
           "Diesel"
          ],
          [
           null,
           null,
           null
          ],
          [
           2005,
           170000,
           "Petrol"
          ],
          [
           2013,
           120000,
           "Diesel"
          ],
          [
           2012,
           90000,
           "Petrol"
          ],
          [
           2010,
           90000,
           "Petrol"
          ],
          [
           null,
           null,
           null
          ],
          [
           2014,
           90000,
           "Diesel"
          ],
          [
           2012,
           129000,
           "Diesel"
          ],
          [
           2010,
           186000,
           "Diesel"
          ],
          [
           2009,
           66778,
           "Diesel"
          ],
          [
           2014,
           50000,
           "Petrol"
          ],
          [
           null,
           null,
           null
          ],
          [
           null,
           null,
           null
          ],
          [
           2016,
           40000,
           "Petrol"
          ],
          [
           2017,
           55000,
           "Diesel"
          ],
          [
           null,
           null,
           null
          ],
          [
           2012,
           66363,
           "Petrol"
          ],
          [
           null,
           null,
           null
          ],
          [
           null,
           null,
           null
          ],
          [
           2014,
           100000,
           "Diesel"
          ],
          [
           2016,
           7104,
           "Petrol"
          ],
          [
           2015,
           45974,
           "Diesel"
          ],
          [
           2015,
           55340,
           "Petrol"
          ],
          [
           2017,
           20000,
           "Petrol"
          ],
          [
           null,
           null,
           null
          ],
          [
           2016,
           39415,
           "Petrol"
          ],
          [
           2014,
           29654,
           "Petrol"
          ],
          [
           null,
           null,
           null
          ],
          [
           2015,
           54634,
           "Diesel"
          ],
          [
           2015,
           66521,
           "Petrol"
          ],
          [
           2019,
           3000,
           "Petrol"
          ],
          [
           2018,
           23974,
           "Diesel"
          ],
          [
           null,
           null,
           null
          ],
          [
           2017,
           50000,
           "Petrol"
          ],
          [
           2001,
           70000,
           "Petrol"
          ],
          [
           null,
           null,
           null
          ],
          [
           2014,
           76000,
           "Petrol"
          ],
          [
           null,
           null,
           null
          ],
          [
           2009,
           170000,
           "Diesel"
          ],
          [
           2003,
           110000,
           "Petrol"
          ],
          [
           2016,
           63400,
           "Petrol"
          ],
          [
           2015,
           25000,
           "Petrol"
          ],
          [
           2009,
           80000,
           "Petrol"
          ],
          [
           2012,
           90000,
           "Petrol"
          ],
          [
           2011,
           157000,
           "Petrol"
          ],
          [
           2012,
           80000,
           "Diesel"
          ],
          [
           2006,
           40000,
           "Petrol"
          ],
          [
           null,
           null,
           null
          ],
          [
           2017,
           50000,
           "Petrol"
          ],
          [
           null,
           null,
           null
          ],
          [
           2009,
           38500,
           "Petrol"
          ],
          [
           2008,
           103921,
           "Petrol"
          ],
          [
           null,
           null,
           null
          ],
          [
           2018,
           14825,
           "Petrol"
          ],
          [
           null,
           null,
           null
          ],
          [
           2010,
           102307,
           "Diesel"
          ],
          [
           null,
           null,
           null
          ],
          [
           2014,
           135000,
           "Diesel"
          ],
          [
           2018,
           10500,
           "Petrol"
          ],
          [
           null,
           null,
           null
          ],
          [
           2012,
           110000,
           "Diesel"
          ],
          [
           2012,
           50000,
           "Diesel"
          ],
          [
           2013,
           80000,
           "Diesel"
          ],
          [
           2018,
           19571,
           "Diesel"
          ],
          [
           null,
           null,
           null
          ],
          [
           2018,
           29600,
           "Petrol"
          ],
          [
           null,
           null,
           null
          ],
          [
           2016,
           30000,
           "Petrol"
          ],
          [
           null,
           null,
           null
          ],
          [
           2011,
           70000,
           "Petrol"
          ],
          [
           2018,
           15000,
           "Diesel"
          ],
          [
           null,
           null,
           null
          ],
          [
           2019,
           51000,
           "Petrol"
          ],
          [
           null,
           null,
           null
          ],
          [
           2019,
           50000,
           "Petrol"
          ],
          [
           2017,
           13500,
           "Diesel"
          ],
          [
           2016,
           35000,
           "Petrol"
          ],
          [
           null,
           null,
           null
          ],
          [
           2018,
           10000,
           "Diesel"
          ],
          [
           null,
           null,
           null
          ],
          [
           2019,
           30000,
           "Diesel"
          ],
          [
           2016,
           52600,
           "Diesel"
          ],
          [
           2012,
           110000,
           "Petrol"
          ],
          [
           2017,
           19890,
           "Petrol"
          ],
          [
           2016,
           7104,
           "Petrol"
          ],
          [
           null,
           null,
           null
          ],
          [
           null,
           null,
           null
          ],
          [
           2016,
           41000,
           "Petrol"
          ],
          [
           null,
           null,
           null
          ],
          [
           2015,
           45974,
           "Diesel"
          ],
          [
           2012,
           49824,
           "Petrol"
          ],
          [
           2013,
           58500,
           "Diesel"
          ],
          [
           2005,
           56580,
           "Petrol"
          ],
          [
           null,
           null,
           null
          ],
          [
           2015,
           55340,
           "Petrol"
          ],
          [
           2017,
           46507,
           "Diesel"
          ],
          [
           2013,
           1000,
           "Diesel"
          ],
          [
           null,
           null,
           null
          ],
          [
           2013,
           86000,
           "Diesel"
          ],
          [
           2019,
           30000,
           "Diesel"
          ],
          [
           2016,
           52600,
           "Diesel"
          ],
          [
           null,
           null,
           null
          ],
          [
           2017,
           19890,
           "Petrol"
          ],
          [
           2016,
           7104,
           "Petrol"
          ],
          [
           2015,
           11918,
           "Petrol"
          ],
          [
           2017,
           10510,
           "Petrol"
          ],
          [
           2016,
           41000,
           "Petrol"
          ],
          [
           2017,
           47162,
           "Diesel"
          ],
          [
           null,
           null,
           null
          ],
          [
           null,
           null,
           null
          ],
          [
           null,
           null,
           null
          ],
          [
           2005,
           56580,
           "Petrol"
          ],
          [
           2012,
           52000,
           "Diesel"
          ],
          [
           2015,
           55340,
           "Petrol"
          ],
          [
           2017,
           46507,
           "Diesel"
          ],
          [
           2017,
           70000,
           "Diesel"
          ],
          [
           2011,
           60000,
           "Petrol"
          ],
          [
           2011,
           70000,
           "Petrol"
          ],
          [
           null,
           null,
           null
          ],
          [
           2006,
           245244,
           "Diesel"
          ],
          [
           2017,
           60000,
           "Petrol"
          ],
          [
           2016,
           30000,
           "Petrol"
          ],
          [
           2012,
           8000,
           "Petrol"
          ],
          [
           2019,
           10000,
           "Petrol"
          ],
          [
           2002,
           100000,
           "Diesel"
          ],
          [
           2012,
           110000,
           "Diesel"
          ],
          [
           null,
           null,
           null
          ],
          [
           2015,
           45000,
           "Diesel"
          ],
          [
           null,
           null,
           null
          ],
          [
           2019,
           5007,
           "Petrol"
          ],
          [
           2013,
           30000,
           "Petrol"
          ],
          [
           null,
           null,
           null
          ],
          [
           2011,
           49600,
           "Diesel"
          ],
          [
           null,
           null,
           null
          ],
          [
           null,
           null,
           null
          ],
          [
           2010,
           38000,
           "Petrol"
          ],
          [
           2018,
           22000,
           "Diesel"
          ],
          [
           2011,
           43100,
           "Petrol"
          ],
          [
           null,
           null,
           null
          ],
          [
           2015,
           41123,
           "Diesel"
          ],
          [
           null,
           null,
           null
          ],
          [
           2014,
           40000,
           "Diesel"
          ],
          [
           null,
           null,
           null
          ],
          [
           null,
           null,
           null
          ],
          [
           null,
           null,
           null
          ],
          [
           2009,
           90000,
           "Petrol"
          ],
          [
           2019,
           3700,
           "Petrol"
          ],
          [
           2010,
           80000,
           "Diesel"
          ],
          [
           null,
           null,
           null
          ],
          [
           2011,
           54000,
           "Diesel"
          ],
          [
           2017,
           19000,
           "Petrol"
          ],
          [
           null,
           null,
           null
          ],
          [
           2014,
           30000,
           "Petrol"
          ],
          [
           2017,
           43500,
           "Petrol"
          ],
          [
           2016,
           60000,
           "Petrol"
          ],
          [
           2016,
           70000,
           "Petrol"
          ],
          [
           2014,
           135000,
           "Diesel"
          ],
          [
           null,
           null,
           null
          ],
          [
           2018,
           19571,
           "Diesel"
          ],
          [
           null,
           null,
           null
          ],
          [
           null,
           null,
           null
          ],
          [
           2018,
           15000,
           "Diesel"
          ],
          [
           2019,
           50000,
           "Petrol"
          ],
          [
           2017,
           13500,
           "Diesel"
          ],
          [
           null,
           null,
           null
          ],
          [
           2018,
           25000,
           "Diesel"
          ],
          [
           2010,
           80000,
           "Petrol"
          ],
          [
           2018,
           39000,
           "Petrol"
          ],
          [
           2016,
           60000,
           "Petrol"
          ],
          [
           null,
           null,
           null
          ],
          [
           2018,
           48600,
           "Petrol"
          ],
          [
           2017,
           20000,
           "Petrol"
          ],
          [
           2016,
           25000,
           "Petrol"
          ],
          [
           2008,
           120000,
           "Petrol"
          ],
          [
           2019,
           30000,
           "Diesel"
          ],
          [
           2015,
           35000,
           "Diesel"
          ],
          [
           2013,
           90000,
           "Petrol"
          ],
          [
           2007,
           80000,
           "Diesel"
          ],
          [
           null,
           null,
           null
          ],
          [
           null,
           null,
           null
          ],
          [
           null,
           null,
           null
          ],
          [
           2013,
           25000,
           "Petrol"
          ],
          [
           2016,
           20000,
           "Petrol"
          ],
          [
           1998,
           60000,
           "Petrol"
          ],
          [
           2015,
           58000,
           "Diesel"
          ],
          [
           null,
           null,
           null
          ],
          [
           null,
           null,
           null
          ],
          [
           2012,
           70000,
           "Diesel"
          ],
          [
           2013,
           60000,
           "Petrol"
          ],
          [
           2014,
           135000,
           "Diesel"
          ],
          [
           2015,
           70000,
           "Petrol"
          ],
          [
           2013,
           40000,
           "Petrol"
          ],
          [
           2015,
           75000,
           "Diesel"
          ],
          [
           2010,
           150000,
           "Diesel"
          ],
          [
           2012,
           140000,
           "Diesel"
          ],
          [
           null,
           null,
           null
          ],
          [
           null,
           null,
           null
          ],
          [
           2013,
           110000,
           "Diesel"
          ],
          [
           2017,
           27000,
           "Petrol"
          ],
          [
           2019,
           9000,
           "Diesel"
          ],
          [
           2019,
           5400,
           "Diesel"
          ],
          [
           2020,
           1000,
           "Petrol"
          ],
          [
           2018,
           16000,
           "Petrol"
          ],
          [
           2019,
           13000,
           "Diesel"
          ],
          [
           2012,
           47000,
           "Diesel"
          ],
          [
           null,
           null,
           null
          ],
          [
           2017,
           30000,
           "Petrol"
          ],
          [
           null,
           null,
           null
          ],
          [
           2013,
           60000,
           "Diesel"
          ],
          [
           2008,
           75000,
           "Petrol"
          ],
          [
           null,
           null,
           null
          ],
          [
           null,
           null,
           null
          ],
          [
           2017,
           90000,
           "Diesel"
          ],
          [
           null,
           null,
           null
          ],
          [
           2003,
           120000,
           "Petrol"
          ],
          [
           2019,
           20000,
           "Petrol"
          ],
          [
           2013,
           100000,
           "Diesel"
          ],
          [
           2018,
           31000,
           "Petrol"
          ],
          [
           null,
           null,
           null
          ],
          [
           null,
           null,
           null
          ],
          [
           null,
           null,
           null
          ],
          [
           null,
           null,
           null
          ],
          [
           2015,
           55000,
           "Diesel"
          ],
          [
           2018,
           20000,
           "Petrol"
          ],
          [
           2017,
           75000,
           "Diesel"
          ],
          [
           null,
           null,
           null
          ],
          [
           2009,
           57000,
           "Diesel"
          ],
          [
           2014,
           30000,
           "Petrol"
          ],
          [
           null,
           null,
           null
          ],
          [
           2016,
           65000,
           "Diesel"
          ],
          [
           2009,
           62000,
           "Petrol"
          ],
          [
           null,
           null,
           null
          ],
          [
           2010,
           73000,
           "Petrol"
          ],
          [
           2012,
           55000,
           "Diesel"
          ],
          [
           2016,
           5800,
           "Petrol"
          ],
          [
           2009,
           350000,
           "Diesel"
          ],
          [
           2018,
           30000,
           "Petrol"
          ],
          [
           2018,
           20000,
           "Diesel"
          ],
          [
           2018,
           20000,
           "Petrol"
          ],
          [
           2007,
           100000,
           "Petrol"
          ],
          [
           null,
           null,
           null
          ],
          [
           2013,
           90000,
           "Diesel"
          ],
          [
           null,
           null,
           null
          ],
          [
           null,
           null,
           null
          ],
          [
           2011,
           140000,
           "Diesel"
          ],
          [
           2018,
           22000,
           "Petrol"
          ],
          [
           2010,
           60000,
           "Petrol"
          ],
          [
           null,
           null,
           null
          ],
          [
           null,
           null,
           null
          ],
          [
           2014,
           82000,
           "Petrol"
          ],
          [
           null,
           null,
           null
          ],
          [
           2018,
           68458,
           "Petrol"
          ],
          [
           null,
           null,
           null
          ],
          [
           2014,
           90000,
           "Diesel"
          ],
          [
           null,
           null,
           null
          ],
          [
           null,
           null,
           null
          ],
          [
           2015,
           128000,
           "Diesel"
          ],
          [
           null,
           null,
           null
          ],
          [
           2016,
           100000,
           "Diesel"
          ],
          [
           2015,
           50000,
           "Diesel"
          ],
          [
           2012,
           56000,
           "Diesel"
          ],
          [
           2018,
           21302,
           "Petrol"
          ],
          [
           2016,
           100000,
           "Diesel"
          ],
          [
           2017,
           80000,
           "Diesel"
          ],
          [
           null,
           null,
           null
          ],
          [
           2018,
           10000,
           "Petrol"
          ],
          [
           2012,
           80000,
           "Diesel"
          ],
          [
           2013,
           35000,
           "Petrol"
          ],
          [
           2019,
           11240,
           "Petrol"
          ],
          [
           2013,
           120000,
           "Diesel"
          ],
          [
           null,
           null,
           null
          ],
          [
           2016,
           70000,
           "Diesel"
          ],
          [
           null,
           null,
           null
          ],
          [
           null,
           null,
           null
          ],
          [
           2015,
           60000,
           "Petrol"
          ],
          [
           2011,
           110000,
           "Petrol"
          ],
          [
           2014,
           130000,
           "Diesel"
          ],
          [
           2009,
           80000,
           "Petrol"
          ],
          [
           null,
           null,
           null
          ],
          [
           2015,
           104000,
           "Diesel"
          ],
          [
           2011,
           100000,
           "Petrol"
          ],
          [
           2003,
           132343,
           "Petrol"
          ],
          [
           null,
           null,
           null
          ],
          [
           2007,
           60000,
           "Petrol"
          ],
          [
           2015,
           76000,
           "Diesel"
          ],
          [
           2004,
           60000,
           "Petrol"
          ],
          [
           2009,
           30000,
           "Petrol"
          ],
          [
           null,
           null,
           null
          ],
          [
           null,
           null,
           null
          ],
          [
           2017,
           36000,
           "Diesel"
          ],
          [
           2017,
           12997,
           "Diesel"
          ],
          [
           null,
           null,
           null
          ],
          [
           null,
           null,
           null
          ],
          [
           2015,
           24600,
           "Petrol"
          ],
          [
           null,
           null,
           null
          ],
          [
           2013,
           100000,
           "Petrol"
          ],
          [
           2013,
           41988,
           "Diesel"
          ],
          [
           null,
           null,
           null
          ],
          [
           null,
           null,
           null
          ],
          [
           null,
           null,
           null
          ],
          [
           null,
           null,
           null
          ],
          [
           null,
           null,
           null
          ],
          [
           2014,
           28942,
           "Petrol"
          ],
          [
           null,
           null,
           null
          ],
          [
           2015,
           53652,
           "Diesel"
          ],
          [
           null,
           null,
           null
          ],
          [
           2013,
           42324,
           "Diesel"
          ],
          [
           2016,
           65000,
           "Diesel"
          ],
          [
           2012,
           60236,
           "Diesel"
          ],
          [
           null,
           null,
           null
          ],
          [
           2014,
           70000,
           "Petrol"
          ],
          [
           2009,
           100000,
           "Diesel"
          ],
          [
           null,
           null,
           null
          ],
          [
           2019,
           10300,
           "Petrol"
          ],
          [
           null,
           null,
           null
          ],
          [
           null,
           null,
           null
          ],
          [
           null,
           null,
           null
          ],
          [
           null,
           null,
           null
          ],
          [
           2016,
           52600,
           "Diesel"
          ],
          [
           2016,
           28643,
           "Petrol"
          ],
          [
           2014,
           50000,
           "Diesel"
          ],
          [
           null,
           null,
           null
          ],
          [
           2020,
           5000,
           "Petrol"
          ],
          [
           2018,
           30000,
           "Diesel"
          ],
          [
           2018,
           7600,
           "Petrol"
          ],
          [
           null,
           null,
           null
          ],
          [
           2015,
           4432,
           "Petrol"
          ],
          [
           null,
           null,
           null
          ],
          [
           null,
           null,
           null
          ],
          [
           null,
           null,
           null
          ],
          [
           2016,
           68523,
           "Petrol"
          ],
          [
           2019,
           5000,
           "Petrol"
          ],
          [
           2018,
           40000,
           "Petrol"
          ],
          [
           2017,
           43000,
           "Diesel"
          ],
          [
           null,
           null,
           null
          ],
          [
           null,
           null,
           null
          ],
          [
           2000,
           42743,
           "Petrol"
          ],
          [
           null,
           null,
           null
          ],
          [
           2004,
           80000,
           "Petrol"
          ],
          [
           null,
           null,
           null
          ],
          [
           null,
           null,
           null
          ],
          [
           2012,
           25000,
           "Diesel"
          ],
          [
           2012,
           25000,
           "Diesel"
          ],
          [
           2009,
           25000,
           "Petrol"
          ],
          [
           2019,
           20000,
           "Diesel"
          ],
          [
           2013,
           10000,
           "Petrol"
          ],
          [
           null,
           null,
           null
          ],
          [
           2010,
           110000,
           "Petrol"
          ],
          [
           2014,
           80000,
           "Diesel"
          ],
          [
           2016,
           21000,
           "Petrol"
          ],
          [
           null,
           null,
           null
          ],
          [
           2015,
           32000,
           "Diesel"
          ],
          [
           2007,
           180000,
           "Diesel"
          ],
          [
           null,
           null,
           null
          ],
          [
           2013,
           50000,
           "Diesel"
          ],
          [
           2013,
           50000,
           "Diesel"
          ],
          [
           null,
           null,
           null
          ],
          [
           2012,
           55766,
           "Petrol"
          ],
          [
           2011,
           40000,
           "Petrol"
          ],
          [
           2001,
           60000,
           "Petrol"
          ],
          [
           2008,
           50000,
           "Petrol"
          ],
          [
           null,
           null,
           null
          ],
          [
           2013,
           1000,
           "Diesel"
          ],
          [
           2018,
           26350,
           "Diesel"
          ],
          [
           2012,
           110000,
           "Petrol"
          ],
          [
           2015,
           68745,
           "Diesel"
          ],
          [
           2006,
           132000,
           "Petrol"
          ],
          [
           2019,
           35000,
           "Diesel"
          ],
          [
           2016,
           47000,
           "Diesel"
          ],
          [
           2013,
           100000,
           "Diesel"
          ],
          [
           null,
           null,
           null
          ],
          [
           null,
           null,
           null
          ],
          [
           2017,
           27289,
           "Petrol"
          ],
          [
           2018,
           10980,
           "Petrol"
          ],
          [
           null,
           null,
           null
          ],
          [
           2013,
           37000,
           "Diesel"
          ],
          [
           null,
           null,
           null
          ],
          [
           null,
           null,
           null
          ],
          [
           2014,
           39227,
           "Petrol"
          ],
          [
           2016,
           31367,
           "Diesel"
          ],
          [
           2008,
           35008,
           "Petrol"
          ],
          [
           2009,
           27005,
           "Petrol"
          ],
          [
           2001,
           86000,
           "Petrol"
          ],
          [
           null,
           null,
           null
          ],
          [
           null,
           null,
           null
          ],
          [
           2010,
           50000,
           "Petrol"
          ],
          [
           2012,
           80000,
           "Diesel"
          ],
          [
           2006,
           135000,
           "LPG"
          ],
          [
           null,
           null,
           null
          ],
          [
           null,
           null,
           null
          ],
          [
           2008,
           70000,
           "Petrol"
          ],
          [
           null,
           null,
           null
          ],
          [
           2018,
           14000,
           "Petrol"
          ],
          [
           2018,
           26000,
           "Diesel"
          ],
          [
           2016,
           138925,
           "Petrol"
          ],
          [
           null,
           null,
           null
          ],
          [
           null,
           null,
           null
          ],
          [
           2015,
           35000,
           "Petrol"
          ],
          [
           2017,
           60000,
           "Diesel"
          ],
          [
           2020,
           5000,
           "Petrol"
          ],
          [
           2008,
           70000,
           "Petrol"
          ],
          [
           2000,
           80000,
           "Petrol"
          ],
          [
           null,
           null,
           null
          ],
          [
           2019,
           8000,
           "Petrol"
          ],
          [
           2014,
           54000,
           "Petrol"
          ],
          [
           2012,
           55300,
           "Diesel"
          ],
          [
           2016,
           11958,
           "Petrol"
          ],
          [
           null,
           null,
           null
          ],
          [
           null,
           null,
           null
          ],
          [
           2013,
           120000,
           "Diesel"
          ],
          [
           2014,
           23122,
           "Petrol"
          ],
          [
           2007,
           58000,
           "Petrol"
          ],
          [
           2013,
           62200,
           "Diesel"
          ],
          [
           null,
           null,
           null
          ],
          [
           2015,
           53000,
           "Diesel"
          ],
          [
           2013,
           49000,
           "Diesel"
          ],
          [
           2017,
           15000,
           "Petrol"
          ],
          [
           2012,
           44500,
           "Diesel"
          ],
          [
           null,
           null,
           null
          ],
          [
           2013,
           53000,
           "Diesel"
          ],
          [
           null,
           null,
           null
          ],
          [
           2018,
           9800,
           "Petrol"
          ],
          [
           2017,
           13599,
           "Petrol"
          ],
          [
           2017,
           13000,
           "Diesel"
          ],
          [
           2012,
           110000,
           "Diesel"
          ],
          [
           2014,
           100000,
           "Diesel"
          ],
          [
           null,
           null,
           null
          ],
          [
           null,
           null,
           null
          ],
          [
           null,
           null,
           null
          ],
          [
           null,
           null,
           null
          ],
          [
           null,
           null,
           null
          ],
          [
           2017,
           53000,
           "Petrol"
          ],
          [
           2017,
           70000,
           "Petrol"
          ],
          [
           null,
           null,
           null
          ],
          [
           2008,
           154000,
           "Diesel"
          ],
          [
           2012,
           80000,
           "Petrol"
          ],
          [
           2003,
           110000,
           "Diesel"
          ],
          [
           null,
           null,
           null
          ],
          [
           2018,
           15000,
           "Diesel"
          ],
          [
           2011,
           86000,
           "Diesel"
          ],
          [
           2014,
           120000,
           "Diesel"
          ],
          [
           null,
           null,
           null
          ],
          [
           2010,
           60000,
           "Petrol"
          ],
          [
           2011,
           46000,
           "Petrol"
          ],
          [
           2006,
           40000,
           "Petrol"
          ],
          [
           2014,
           90000,
           "Diesel"
          ],
          [
           null,
           null,
           null
          ],
          [
           null,
           null,
           null
          ],
          [
           null,
           null,
           null
          ],
          [
           2017,
           70000,
           "Petrol"
          ],
          [
           2019,
           35000,
           "Diesel"
          ],
          [
           null,
           null,
           null
          ],
          [
           2011,
           80000,
           "Diesel"
          ],
          [
           2018,
           20000,
           "Diesel"
          ],
          [
           2018,
           20000,
           "Petrol"
          ],
          [
           2017,
           19000,
           "Petrol"
          ],
          [
           2009,
           95000,
           "Diesel"
          ],
          [
           2019,
           9500,
           "Diesel"
          ],
          [
           2012,
           50000,
           "Petrol"
          ],
          [
           2012,
           90000,
           "Diesel"
          ],
          [
           null,
           null,
           null
          ],
          [
           null,
           null,
           null
          ],
          [
           2009,
           87293,
           "Petrol"
          ],
          [
           2012,
           156040,
           "Diesel"
          ],
          [
           null,
           null,
           null
          ],
          [
           2017,
           101159,
           "Petrol"
          ],
          [
           2015,
           80000,
           "Petrol"
          ],
          [
           2019,
           12000,
           "Petrol"
          ],
          [
           null,
           null,
           null
          ],
          [
           null,
           null,
           null
          ],
          [
           null,
           null,
           null
          ],
          [
           2014,
           65239,
           "Petrol"
          ],
          [
           2015,
           58182,
           "Petrol"
          ],
          [
           2012,
           91245,
           "Diesel"
          ],
          [
           null,
           null,
           null
          ],
          [
           null,
           null,
           null
          ],
          [
           2000,
           120000,
           "Petrol"
          ],
          [
           null,
           null,
           null
          ],
          [
           2018,
           25000,
           "Diesel"
          ],
          [
           null,
           null,
           null
          ],
          [
           null,
           null,
           null
          ],
          [
           null,
           null,
           null
          ],
          [
           2002,
           50000,
           "Diesel"
          ],
          [
           2008,
           100000,
           "Petrol"
          ],
          [
           2016,
           90000,
           "Diesel"
          ],
          [
           2005,
           60000,
           "Petrol"
          ],
          [
           2007,
           120000,
           "Petrol"
          ],
          [
           null,
           null,
           null
          ],
          [
           2015,
           60000,
           "Diesel"
          ],
          [
           2015,
           30000,
           "Diesel"
          ],
          [
           null,
           null,
           null
          ],
          [
           null,
           null,
           null
          ],
          [
           null,
           null,
           null
          ],
          [
           2010,
           120000,
           "Diesel"
          ],
          [
           null,
           null,
           null
          ],
          [
           2009,
           178000,
           "Diesel"
          ],
          [
           2014,
           200000,
           "Diesel"
          ],
          [
           null,
           null,
           null
          ],
          [
           2019,
           3000,
           "Petrol"
          ],
          [
           2006,
           75118,
           "Petrol"
          ],
          [
           null,
           null,
           null
          ],
          [
           2014,
           60000,
           "Petrol"
          ],
          [
           2006,
           79000,
           "Petrol"
          ],
          [
           null,
           null,
           null
          ],
          [
           null,
           null,
           null
          ],
          [
           null,
           null,
           null
          ],
          [
           null,
           null,
           null
          ],
          [
           null,
           null,
           null
          ],
          [
           2005,
           4637,
           "Petrol"
          ],
          [
           null,
           null,
           null
          ],
          [
           2014,
           100000,
           "Diesel"
          ],
          [
           2009,
           120000,
           "Diesel"
          ],
          [
           2015,
           40000,
           "Diesel"
          ],
          [
           null,
           null,
           null
          ],
          [
           2018,
           20000,
           "Petrol"
          ],
          [
           2017,
           19000,
           "Petrol"
          ],
          [
           2009,
           95000,
           "Diesel"
          ],
          [
           2017,
           30000,
           "Petrol"
          ],
          [
           2012,
           42655,
           "Diesel"
          ],
          [
           2017,
           43000,
           "Petrol"
          ],
          [
           2012,
           70000,
           "Diesel"
          ],
          [
           null,
           null,
           null
          ],
          [
           2010,
           80000,
           "Diesel"
          ],
          [
           2017,
           55000,
           "Petrol"
          ],
          [
           null,
           null,
           null
          ],
          [
           2012,
           80000,
           "Diesel"
          ],
          [
           2010,
           110000,
           "Petrol"
          ],
          [
           2010,
           60000,
           "Petrol"
          ],
          [
           2018,
           30000,
           "Petrol"
          ],
          [
           null,
           null,
           null
          ],
          [
           null,
           null,
           null
          ],
          [
           2003,
           50000,
           "Petrol"
          ],
          [
           null,
           null,
           null
          ],
          [
           2012,
           70000,
           "Diesel"
          ],
          [
           2014,
           110000,
           "Diesel"
          ],
          [
           null,
           null,
           null
          ],
          [
           2012,
           156000,
           "Diesel"
          ],
          [
           2012,
           180000,
           "Diesel"
          ],
          [
           null,
           null,
           null
          ],
          [
           null,
           null,
           null
          ],
          [
           2020,
           11000,
           "Diesel"
          ],
          [
           null,
           null,
           null
          ],
          [
           2015,
           50000,
           "Diesel"
          ],
          [
           2012,
           26000,
           "Diesel"
          ],
          [
           2008,
           30000,
           "Petrol"
          ],
          [
           null,
           null,
           null
          ],
          [
           2018,
           20000,
           "Diesel"
          ],
          [
           2008,
           30000,
           "Petrol"
          ],
          [
           null,
           null,
           null
          ],
          [
           2011,
           40000,
           "Petrol"
          ],
          [
           2014,
           100000,
           "Petrol"
          ],
          [
           2009,
           70000,
           "Petrol"
          ],
          [
           2014,
           30000,
           "Diesel"
          ],
          [
           2008,
           77000,
           "Petrol"
          ],
          [
           2011,
           150000,
           "Diesel"
          ],
          [
           2016,
           69000,
           "Diesel"
          ],
          [
           null,
           null,
           null
          ],
          [
           null,
           null,
           null
          ],
          [
           2008,
           110000,
           "Petrol"
          ],
          [
           2017,
           70000,
           "Diesel"
          ],
          [
           2013,
           110000,
           "Diesel"
          ],
          [
           2009,
           50000,
           "Diesel"
          ],
          [
           2012,
           44000,
           "Petrol"
          ],
          [
           2010,
           90000,
           "Petrol"
          ],
          [
           2014,
           50000,
           "Petrol"
          ],
          [
           2012,
           50000,
           "Petrol"
          ],
          [
           2014,
           146000,
           "Diesel"
          ],
          [
           2018,
           15000,
           "Petrol"
          ],
          [
           null,
           null,
           null
          ],
          [
           null,
           null,
           null
          ],
          [
           2012,
           80000,
           "Diesel"
          ],
          [
           2010,
           90000,
           "Petrol"
          ],
          [
           2011,
           70000,
           "Petrol"
          ],
          [
           2013,
           62000,
           "Petrol"
          ],
          [
           2018,
           10000,
           "Petrol"
          ],
          [
           2010,
           80000,
           "CNG"
          ],
          [
           2015,
           35000,
           "Petrol"
          ],
          [
           null,
           null,
           null
          ],
          [
           2018,
           10000,
           "Diesel"
          ],
          [
           2013,
           86000,
           "Diesel"
          ],
          [
           2019,
           30000,
           "Diesel"
          ],
          [
           2016,
           52600,
           "Diesel"
          ],
          [
           2012,
           110000,
           "Petrol"
          ],
          [
           null,
           null,
           null
          ],
          [
           2016,
           7104,
           "Petrol"
          ],
          [
           2015,
           11918,
           "Petrol"
          ],
          [
           2017,
           10510,
           "Petrol"
          ],
          [
           2016,
           41000,
           "Petrol"
          ],
          [
           2017,
           47162,
           "Diesel"
          ],
          [
           2015,
           45974,
           "Diesel"
          ],
          [
           2012,
           49824,
           "Petrol"
          ],
          [
           null,
           null,
           null
          ],
          [
           2005,
           56580,
           "Petrol"
          ],
          [
           null,
           null,
           null
          ],
          [
           null,
           null,
           null
          ],
          [
           null,
           null,
           null
          ],
          [
           2019,
           40000,
           "Petrol"
          ],
          [
           2019,
           40000,
           "Petrol"
          ],
          [
           2012,
           120000,
           "Diesel"
          ],
          [
           null,
           null,
           null
          ],
          [
           null,
           null,
           null
          ],
          [
           2010,
           250000,
           "Diesel"
          ],
          [
           2019,
           15000,
           "Diesel"
          ],
          [
           2017,
           30000,
           "Petrol"
          ],
          [
           null,
           null,
           null
          ],
          [
           2012,
           55766,
           "Petrol"
          ],
          [
           null,
           null,
           null
          ],
          [
           2001,
           117000,
           "Petrol"
          ],
          [
           null,
           null,
           null
          ],
          [
           2012,
           110000,
           "Diesel"
          ],
          [
           2016,
           100000,
           "Diesel"
          ],
          [
           2016,
           105000,
           "Diesel"
          ],
          [
           2009,
           182000,
           "Diesel"
          ],
          [
           null,
           null,
           null
          ],
          [
           2015,
           70000,
           "Petrol"
          ],
          [
           2009,
           76000,
           "Petrol"
          ],
          [
           2014,
           70000,
           "Diesel"
          ],
          [
           2013,
           46000,
           "Diesel"
          ],
          [
           1999,
           70000,
           "Petrol"
          ],
          [
           null,
           null,
           null
          ],
          [
           2017,
           25000,
           "Diesel"
          ],
          [
           null,
           null,
           null
          ],
          [
           2016,
           50000,
           "Diesel"
          ],
          [
           2017,
           24585,
           "Diesel"
          ],
          [
           2001,
           70000,
           "Petrol"
          ],
          [
           2011,
           110000,
           "Diesel"
          ],
          [
           2019,
           10000,
           "CNG"
          ],
          [
           2010,
           100000,
           "Petrol"
          ],
          [
           2011,
           110000,
           "Diesel"
          ],
          [
           2011,
           100000,
           "Diesel"
          ],
          [
           2009,
           65000,
           "Petrol"
          ],
          [
           2015,
           40000,
           "Diesel"
          ],
          [
           2019,
           13900,
           "Petrol"
          ],
          [
           2017,
           17563,
           "Petrol"
          ],
          [
           null,
           null,
           null
          ],
          [
           null,
           null,
           null
          ],
          [
           2016,
           40000,
           "Diesel"
          ],
          [
           null,
           null,
           null
          ],
          [
           2014,
           151000,
           "Diesel"
          ],
          [
           null,
           null,
           null
          ],
          [
           2017,
           15000,
           "Petrol"
          ],
          [
           null,
           null,
           null
          ],
          [
           null,
           null,
           null
          ],
          [
           2016,
           50000,
           "CNG"
          ],
          [
           2012,
           120000,
           "Diesel"
          ],
          [
           2007,
           70000,
           "LPG"
          ],
          [
           null,
           null,
           null
          ],
          [
           2012,
           185000,
           "Diesel"
          ],
          [
           null,
           null,
           null
          ],
          [
           2017,
           25000,
           "Diesel"
          ],
          [
           2013,
           117780,
           "Diesel"
          ],
          [
           2010,
           120000,
           "Diesel"
          ],
          [
           2017,
           120000,
           "Diesel"
          ],
          [
           null,
           null,
           null
          ],
          [
           2014,
           110000,
           "Diesel"
          ],
          [
           2018,
           30000,
           "Petrol"
          ],
          [
           2018,
           30000,
           "Petrol"
          ],
          [
           2015,
           60000,
           "Diesel"
          ],
          [
           2016,
           25000,
           "Petrol"
          ],
          [
           2015,
           55000,
           "Diesel"
          ],
          [
           2018,
           20000,
           "Diesel"
          ],
          [
           null,
           null,
           null
          ],
          [
           null,
           null,
           null
          ],
          [
           2006,
           80000,
           "Petrol"
          ],
          [
           2006,
           80000,
           "Petrol"
          ],
          [
           2018,
           35000,
           "Diesel"
          ],
          [
           2010,
           110000,
           "Diesel"
          ],
          [
           2011,
           160000,
           "Diesel"
          ],
          [
           2013,
           125000,
           "Diesel"
          ],
          [
           2011,
           62000,
           "Petrol"
          ],
          [
           2011,
           120000,
           "Diesel"
          ],
          [
           null,
           null,
           null
          ],
          [
           2013,
           80000,
           "Diesel"
          ],
          [
           2017,
           35000,
           "Diesel"
          ],
          [
           null,
           null,
           null
          ],
          [
           2019,
           5000,
           "Petrol"
          ],
          [
           2016,
           12000,
           "Petrol"
          ],
          [
           2016,
           81595,
           "Diesel"
          ],
          [
           2005,
           22000,
           "Petrol"
          ],
          [
           2015,
           40000,
           "Petrol"
          ],
          [
           2008,
           40000,
           "Petrol"
          ],
          [
           null,
           null,
           null
          ],
          [
           2019,
           4000,
           "Diesel"
          ],
          [
           2015,
           24000,
           "Diesel"
          ],
          [
           2018,
           13500,
           "Petrol"
          ],
          [
           2013,
           40000,
           "Diesel"
          ],
          [
           2018,
           9700,
           "Petrol"
          ],
          [
           2012,
           62000,
           "Petrol"
          ],
          [
           2016,
           24000,
           "Diesel"
          ],
          [
           2019,
           13000,
           "Diesel"
          ],
          [
           2009,
           50000,
           "Petrol"
          ],
          [
           null,
           null,
           null
          ],
          [
           2017,
           40000,
           "Diesel"
          ],
          [
           null,
           null,
           null
          ],
          [
           2016,
           40000,
           "Petrol"
          ],
          [
           2009,
           80000,
           "Petrol"
          ],
          [
           null,
           null,
           null
          ],
          [
           2016,
           80000,
           "Diesel"
          ],
          [
           2012,
           119000,
           "Diesel"
          ],
          [
           2009,
           190000,
           "Diesel"
          ],
          [
           2017,
           25000,
           "Petrol"
          ],
          [
           null,
           null,
           null
          ],
          [
           2010,
           48500,
           "Petrol"
          ],
          [
           2012,
           110000,
           "Petrol"
          ],
          [
           null,
           null,
           null
          ],
          [
           2011,
           120000,
           "Diesel"
          ],
          [
           2014,
           130000,
           "Diesel"
          ],
          [
           2008,
           140000,
           "Diesel"
          ],
          [
           null,
           null,
           null
          ],
          [
           2010,
           50000,
           "Petrol"
          ],
          [
           2008,
           50000,
           "Petrol"
          ],
          [
           2006,
           60000,
           "Petrol"
          ],
          [
           2015,
           15000,
           "Petrol"
          ],
          [
           2015,
           45000,
           "Petrol"
          ],
          [
           null,
           null,
           null
          ],
          [
           2018,
           15000,
           "Petrol"
          ],
          [
           2019,
           20000,
           "Diesel"
          ],
          [
           null,
           null,
           null
          ],
          [
           2016,
           80000,
           "Diesel"
          ],
          [
           2002,
           120000,
           "Diesel"
          ],
          [
           2018,
           20000,
           "Petrol"
          ],
          [
           null,
           null,
           null
          ],
          [
           null,
           null,
           null
          ],
          [
           null,
           null,
           null
          ],
          [
           2013,
           53000,
           "Petrol"
          ],
          [
           null,
           null,
           null
          ],
          [
           2015,
           43000,
           "Petrol"
          ],
          [
           null,
           null,
           null
          ],
          [
           2011,
           73000,
           "Diesel"
          ],
          [
           2015,
           29000,
           "Petrol"
          ],
          [
           2013,
           95000,
           "Diesel"
          ],
          [
           2014,
           25000,
           "Petrol"
          ],
          [
           2011,
           53000,
           "Petrol"
          ],
          [
           2011,
           20000,
           "Petrol"
          ],
          [
           null,
           null,
           null
          ],
          [
           2014,
           52000,
           "Diesel"
          ],
          [
           2008,
           40000,
           "Petrol"
          ],
          [
           2012,
           47000,
           "Petrol"
          ],
          [
           2012,
           47000,
           "Petrol"
          ],
          [
           2016,
           73000,
           "Diesel"
          ],
          [
           2012,
           42000,
           "Petrol"
          ],
          [
           2012,
           60000,
           "Petrol"
          ],
          [
           2012,
           50000,
           "Diesel"
          ],
          [
           2015,
           120000,
           "Petrol"
          ],
          [
           2012,
           50000,
           "Petrol"
          ],
          [
           1999,
           70000,
           "Petrol"
          ],
          [
           2018,
           25000,
           "Diesel"
          ],
          [
           2019,
           11000,
           "Petrol"
          ],
          [
           2013,
           80000,
           "Petrol"
          ],
          [
           1998,
           80000,
           "Petrol"
          ],
          [
           null,
           null,
           null
          ],
          [
           2009,
           45000,
           "Diesel"
          ],
          [
           2007,
           100000,
           "Diesel"
          ],
          [
           2014,
           60000,
           "Diesel"
          ],
          [
           null,
           null,
           null
          ],
          [
           2015,
           50000,
           "Petrol"
          ],
          [
           2014,
           80000,
           "Petrol"
          ],
          [
           null,
           null,
           null
          ],
          [
           null,
           null,
           null
          ],
          [
           2015,
           148620,
           "Diesel"
          ],
          [
           2012,
           70000,
           "Diesel"
          ],
          [
           2018,
           42000,
           "Diesel"
          ],
          [
           2017,
           40000,
           "Diesel"
          ],
          [
           null,
           null,
           null
          ],
          [
           2017,
           30000,
           "Diesel"
          ],
          [
           null,
           null,
           null
          ],
          [
           2017,
           120000,
           "Diesel"
          ],
          [
           2016,
           80000,
           "Diesel"
          ],
          [
           null,
           null,
           null
          ],
          [
           2008,
           50000,
           "Petrol"
          ],
          [
           null,
           null,
           null
          ],
          [
           2009,
           120000,
           "Petrol"
          ],
          [
           2014,
           70000,
           "Diesel"
          ],
          [
           2012,
           55300,
           "Diesel"
          ],
          [
           2012,
           74300,
           "Diesel"
          ],
          [
           2010,
           48781,
           "Petrol"
          ],
          [
           2010,
           87620,
           "Diesel"
          ],
          [
           2017,
           40219,
           "Diesel"
          ],
          [
           2011,
           11473,
           "Petrol"
          ],
          [
           2017,
           8352,
           "Petrol"
          ],
          [
           2017,
           9745,
           "Petrol"
          ],
          [
           2017,
           9748,
           "Petrol"
          ],
          [
           null,
           null,
           null
          ],
          [
           2018,
           20694,
           "Diesel"
          ],
          [
           null,
           null,
           null
          ],
          [
           2014,
           37605,
           "Petrol"
          ],
          [
           2014,
           55850,
           "Diesel"
          ],
          [
           2010,
           58850,
           "Petrol"
          ],
          [
           2015,
           23839,
           "Petrol"
          ],
          [
           null,
           null,
           null
          ],
          [
           2013,
           38000,
           "Petrol"
          ],
          [
           2012,
           45454,
           "Diesel"
          ],
          [
           null,
           null,
           null
          ],
          [
           2019,
           8000,
           "Petrol"
          ],
          [
           2016,
           30000,
           "Petrol"
          ],
          [
           null,
           null,
           null
          ],
          [
           2007,
           223000,
           "Diesel"
          ],
          [
           2011,
           110000,
           "Diesel"
          ],
          [
           null,
           null,
           null
          ],
          [
           2008,
           100000,
           "Petrol"
          ],
          [
           2014,
           100000,
           "Diesel"
          ],
          [
           2006,
           60000,
           "Petrol"
          ],
          [
           2008,
           270000,
           "Diesel"
          ],
          [
           2011,
           60000,
           "Diesel"
          ],
          [
           null,
           null,
           null
          ],
          [
           null,
           null,
           null
          ],
          [
           2014,
           40000,
           "Petrol"
          ],
          [
           2011,
           40000,
           "Petrol"
          ],
          [
           2010,
           70000,
           "Petrol"
          ],
          [
           null,
           null,
           null
          ],
          [
           null,
           null,
           null
          ],
          [
           2017,
           19000,
           "Petrol"
          ],
          [
           null,
           null,
           null
          ],
          [
           1996,
           60000,
           "Diesel"
          ],
          [
           2017,
           19000,
           "Petrol"
          ],
          [
           2010,
           68000,
           "CNG"
          ],
          [
           2011,
           120000,
           "Diesel"
          ],
          [
           2014,
           30000,
           "Diesel"
          ],
          [
           2016,
           90000,
           "Petrol"
          ],
          [
           null,
           null,
           null
          ],
          [
           2017,
           44500,
           "Petrol"
          ],
          [
           null,
           null,
           null
          ],
          [
           2016,
           26000,
           "Petrol"
          ],
          [
           2016,
           26000,
           "Petrol"
          ],
          [
           2007,
           80000,
           "Petrol"
          ],
          [
           2015,
           35000,
           "Petrol"
          ],
          [
           null,
           null,
           null
          ],
          [
           null,
           null,
           null
          ],
          [
           null,
           null,
           null
          ],
          [
           2014,
           100000,
           "Diesel"
          ],
          [
           2016,
           43700,
           "Petrol"
          ],
          [
           2009,
           120000,
           "Petrol"
          ],
          [
           2011,
           80000,
           "Diesel"
          ],
          [
           2017,
           20000,
           "Petrol"
          ],
          [
           2018,
           25000,
           "Petrol"
          ],
          [
           null,
           null,
           null
          ],
          [
           2019,
           8000,
           "Petrol"
          ],
          [
           2008,
           30000,
           "Petrol"
          ],
          [
           2017,
           30000,
           "Petrol"
          ],
          [
           2009,
           100000,
           "Diesel"
          ],
          [
           2014,
           56207,
           "Petrol"
          ],
          [
           2010,
           40000,
           "Petrol"
          ],
          [
           null,
           null,
           null
          ],
          [
           2018,
           1440,
           "Petrol"
          ],
          [
           2015,
           12000,
           "Petrol"
          ],
          [
           2019,
           50000,
           "Petrol"
          ],
          [
           2016,
           35000,
           "Diesel"
          ],
          [
           2010,
           50000,
           "Petrol"
          ],
          [
           2017,
           60000,
           "Diesel"
          ],
          [
           2017,
           67000,
           "Diesel"
          ],
          [
           2013,
           100000,
           "Petrol"
          ],
          [
           2017,
           60000,
           "Diesel"
          ],
          [
           2017,
           70000,
           "Diesel"
          ],
          [
           2017,
           50000,
           "Petrol"
          ],
          [
           2009,
           120000,
           "Diesel"
          ],
          [
           2007,
           100000,
           "CNG"
          ],
          [
           2015,
           90000,
           "Petrol"
          ],
          [
           2014,
           80000,
           "Petrol"
          ],
          [
           2012,
           90000,
           "Petrol"
          ],
          [
           2014,
           157000,
           "Diesel"
          ],
          [
           2016,
           20000,
           "Petrol"
          ],
          [
           2008,
           80000,
           "Petrol"
          ],
          [
           2015,
           60000,
           "Diesel"
          ],
          [
           null,
           null,
           null
          ],
          [
           2009,
           89255,
           "Diesel"
          ],
          [
           2020,
           5000,
           "Petrol"
          ],
          [
           null,
           null,
           null
          ],
          [
           null,
           null,
           null
          ],
          [
           2012,
           90000,
           "Diesel"
          ],
          [
           2010,
           63000,
           "Diesel"
          ],
          [
           null,
           null,
           null
          ],
          [
           2013,
           100000,
           "Diesel"
          ],
          [
           2004,
           168000,
           "Diesel"
          ],
          [
           null,
           null,
           null
          ],
          [
           null,
           null,
           null
          ],
          [
           2018,
           5550,
           "Petrol"
          ],
          [
           null,
           null,
           null
          ],
          [
           2014,
           80000,
           "Petrol"
          ],
          [
           2010,
           40000,
           "Petrol"
          ]
         ],
         "hovertemplate": "TSNE-1=%{x}<br>TSNE-2=%{y}<br>Year=%{marker.color}<br>KM_Driven=%{customdata[1]}<br>Fuel=%{customdata[2]}<extra></extra>",
         "legendgroup": "",
         "marker": {
          "color": {
           "bdata": "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",
           "dtype": "f8"
          },
          "coloraxis": "coloraxis",
          "symbol": "circle"
         },
         "mode": "markers",
         "name": "",
         "showlegend": false,
         "type": "scattergl",
         "x": {
          "bdata": "2457QYoDwME2YqJAOIhfQURAVUB4mp2/s1nYQY1NscEmF2/Bq8CEwRh3CEDAzhNBXOS9wduOe0G0j7JBAki8QWagykFoc+7AZ5LiQdbzKz9opBrBTe2FwZEOdcG+QKHBBjRQwZaHVkEnoMpBZqDKQdWgSMFUyYZBast6QUGR1cEcQKzBqkNAwdYTgkHhV7JBXAOCQUQdY8CD9UFBRrQkQatrR0G2rkbB+tRhwf0oKT/6dZxBvzwfQTZSv0EaQ+G/8SewQRVeAEJCNzw/P5GYQRCeR8HGJsbAzMp8wf9G1sDGRcy/XW5bwWtlpsA1QHDBOniUQdaEXEBEHWPAiUglwDhf+ECzJAjBKqemQRjBgcFEQFVA9h3ewWOLS0BMSgvAwSX3v0ftrz8RmJnB2z/cQU96G0FhjIXB6Qd+wasDxcEHQN5BGgtWQe7IVUA2X7tBX75gQbusOcDbjntBNUhCwNC9cMFsGZdBc6bCQYP7skGC5XxBLpnOQRB+hMHkG9dBcfQHQWeBOkH4tjRAuLTRQZ4+X0DgR0vB2AjYvzTVVsGwr9bBGDwOQKBSlMG8BoNAjSRiwOGbgcGzcULAYrR/wT3To8Ho7GHBZ5LiQT2H6cEm3gTBkvR0wXJwIcEjwV1BlR30vx2108H+BwrAxTO1wSowzcFCg6jBuLTRQTfIqUF1hc7Bnj5fQCx4gcBXxdrBOSwAQiHPTkFs3SfBp34IwXDxYUHQIxLBxYMCQiNjLMGjbA6/MEjOwe7HwcGh0GZBRuvZPw4Uwr+QCHHBVMONQQqWJb9X/2PBycy5wbvJgUAdUKnB9VBIQbJOo0DNOPbAWsmawY8YO8DIREZB3A1uwNdzDcBhN2NBGluPwSoX+j4HBpPBIdeEwVcuGEFCWXDBCK4zwfntTEFXwLFAhVSlQfhqFMFJ3cU/gRrIQVhe2EGaY2nBYD+JQXW/i8Ftqb3AHfZ2wd+ibsGpdrRAFHRCwBLe2kFb8nVAFiZGQXimAEL6EinB8AKEQIO5Cr/x8HPBoI0PQY0XokEDGcdBugCKQSM5oUH7DHpBMaDxQV3WWEHuTXJBwoA6QctIGEFfWv5BRnKZv4nXxEF3PD5AbfFCQOWyqEG431RBny0FQaEkR8Hs38vAfdiWwFrUesHGLYHBpiy3QaJZ6T+whYtAUjTXwdIeSsH7HtrAIO0ZQUxXOcE2Ur9BmqOlwUQ6e8GL3lRBr5GoQUKY1cH6tilAFUmOQc3EPkGkNwlBOsOZQalWKMFahULBQtHdwZzoqEBLZ1NBk2pSwYr4AkGqB5DAsZnwwSgQkkEVtiVBxp72vtT2nEAh0CxBIk+VQSXVs8BAWgLAhX2hQTSOPb9DbrtBiDxyQcdD20Fa4bI/8p1qQbpZpUHaIYDB9yWvwZ4ktsDHEX3AtUB2wVzEk0E5w59Bx9lgwQV0DcBN75fBrsObwUZzXUEnimbBLkaCwaT2OEDh5NQ/NSK2QPRM0UBR+KnB281kQIw/m0F1HlnAW46bQcw/LsHu5rNBJGtXQaKQAMGWh1ZBlodWQSZeLcF2uMBBdPmMQfEQnkF7V+rB0uPHQZXWs0COs/FBr2GZQIRIDkGeniFB21mBwQhse8ELTx7BW5S+wDd+8T8RpGvBrECSQftL0MC4oxNB0My/vhXeBsHiO4RB47j6Po/BB8FngTpBqha0QHvtwMAaeeQ/4ZxMQdcxz0HAeaxBOQvGvYEpfEHwOrXAlodWQYx7EcH3JmzB7oA6QSp8EL+MC/6+FlYtQQBqtkEHZzLAzB6zQdUrhkEh0CxBgssSQCmKSsHPI6NBBeVswAOXpD92TN/B0uKFweFnXUFz5L3BWo0PQVoKAkLJe2DBUj/WP7GOIcEbTNM/3V0hwflRp0Gl/QnB+SG6QXrrfUEr4orBl2sFwf99NMGcZ7jBTbATwDdIGsBv4QFAZqWUQUH+q8D9gHDBLGvRQMjppsE7sEJBfw16Qax7T0HpVKG/dNicQToJw0FOqUDBLpGjwYM78kH1i4dAc18HwS+ZqEE6FC7B5ELYQTGg8UHGqyRBOjHGQFm7ckGrbRDByiW1wQvhK0C4+exB15QWQEfFZcF+o1TBqRJGPWtn6sBz1pPBNVrAQfziHcHisGtBwOxRwR571sHVkr+/ClJ6QVNPWMGDO/JB/NFGwVVP4MHHDG/BK7K+wdK/hMGzMlNBGlBYwRLGsMEBLSbB9Pu7QR7jh0C8MP7AEgAOwS3wHcF70XjBRLiYQNjLg8B45SpBVpZEwZ6ILkES+ZJBxdO7wdDNYEEvrOzAyV5mQQkOjb/1zFrBKro5QbpXLEEE55LBbpYcQUHA+j6wOWLBOqUbQZvNKEHxID5BFvY/QIhH1cF1cJvBt0dcwNbIk0Ff9ZHBOo5CQQCdz8FUzkhBQR0FwgMQtkESitS//hEDQnkxEUFx7gjBiiLbwPpAsz8Zk4/BhyGKQMh7QsD6aX5BMJR9wcN5AsEEeIHAL4zEQXFgZcFRDeNAHj4zQU5AdsG30NHBsihfwbrRRsFO60G/7HpZQcPUrMF+7oVBoJEdQRLGsMHXfHvBmUdfQZEOdcFdSUPBpPSlwflqFMFsnyPBpBiYQUXszMEXJ7ZBvc/FP1YcwUDwTNTBGFn9wWIDo8DJxlZAic0oQdnskEEl+U5Bz0QYwdL7skFHXKbB2OMKv/MJV8CbqxNBshVbwdyhfT+Z+APCjJn2QYFsH8B+tJTBVjrjQG9rikFQpaFBLdO4P71zScA9/Y7BMPWlwVpV1D8LI+xBTHatwd7x4MCneJm/dUiNQSQ4OMAQ+4tBxFiVQatrR0G1EoO/qlgAwjrxO0E7n7/AZNO4v13gDcFrEalBMQQ6wX9Mm0FxQgTBKpj1v3wLukH0Og7AiZ6RwGr4EMAcU0VB95ySQbnwe0HCh0JBmTxXwcITLsHN2F3BeawzwXLq0UEl9dbAuUEzQSOluUERAj5Bbq0DwR1AHUF+0vFBPLlUwe5TJUGgf8vASqAOQQ5LvcFNgq5BwsWCQaqQrECxmfDBUWmXQMeYWUBzItFArDghwZw1bUHZvH7B91a2wBJGYsHSYKxApfyBQaJmwECGRM5Bt4BkQVrvOkF35sxBWaYAP0gzFcHDV2NBXg0aQdahykFszmXB4KVwQbKsE0EjW9hB8BXbwXbBFcDlRkLAbzy2QTN0hj9VJo+/3fgjwd/PXkA3pfXAnFJdwNuqa0H9pNxBs7p0QZwuPEEIVjfBHq2jwCgORcEWRtZBEPuLQSrVVsE68ELAw2fXwR71EcGlB4tBMzvIwbDRFMFNv3DBaGO0wT9ftMBbho7AEFUOwQ0PfUHgAotBnE3fQWKnpMF7tZLBJ5LkQYDWNkHuVqxBSKBIwaVFv0HV/ULA8Lg5QYxGqEF82hrBfHKrQR2vE0EH11LBJflEwEOXvkCmLLdB+ZwHwQJckUEZOn7BqVbeQPz/YsGN18tARqcMwYE//cD2zpdApbCuwZZJ40BcRBjBlrSBwW8fu8G7mWvB/tzTPzkiBcFq7+JAm3eXwVRnb8H7FCO/+XBBweuLhcHyWVdBgnr0wGillEGAUmJBoQoZwb8MUsEsWCjBJpMJv9hxqkFzYMNAV2Pbwc92nEF7k8TBvFs5wfp1nEE3uGXBwLWUwUkEucGq9c4+ZXtCwE2EvkFd1yNBsdIaQZ9Wj8H2M5HB8hy/wXekEsHEpu7A4WddQaQvX8CNm+LBMChfwUJ5b8EfloLBGuQ2QXL/VEH6KrFAcurRQaiYvEEp5E2/bWlDQbwLb0ED4itAgZmMP7YaqUF2ETDAp6e4wYDM5sCRMKHBUx2JQb3bmcFfWv5Bh+6TwQzlR8GfIqLB4JSZwW/rtUGu9ZhAwbrwwLLk60G+eKhBaPNZQSFuacHagJrBxbtZQckGH8D5mJnB95ySQRHcbsE9SQ5BwIapQKiOHEEo6SJBGDsYwTKNrMFqNbLBRB5JQQei5cBcDePAExfHQRphtcFoospBuTblQX+d1kHz27PB4d6gQfsSKcHXQTNBNsKAwUWvUUHx6S7Aevg/QC3frsE3ZZdBxj2awboKg0EC8RFBoVzgwTfpCr+UizhBt4N2wVHoHEEJfWbBKK9XwSslFsFkZ3VBdI0gwWLyIUFu8B1B5Ya7QSjGo0EyWJvBdl77vgxLQUGs631BLikTQQjuZj+cVn/Bf0ybQdARr0GVZyY/8+LxwJIo5UAkDR7B8vwrQbsG9T4jlb7AsCDFQa+uiUE8FmtBFgm2QUf8ucDvCBjBKrCaQIabycFwZ1NB40AlwahKy0EYPA5AgL7bPrPda8G9gbjBHXIiQXdjpcGQXG5BiRiyQdrI9r6YfVTBSD2GQePhf8F65SpBFN97wQbbm0H+ioE/TrE0QPYjtsBJRG7BfwmPQaCKbUHB7K7B0jNqQFApYsBBHGPAWIa7QfNO0UCMF+fB3SxdPxHZjUErr3zBzD6BQVBP4EFlksBBvtCzwNs6JcCIj8bAqgbdwVxoH8HIxdfAWR2yv8Ztl0EOda9BRrQkQaj8l8G4SU3BUkFCQdspAEGvW6BB0XeBwL4ykEFZcRjB2eURwH/KsUFl1+bBq0RewSjmTkHSHq5BVMmGQXa4wEEqvmxAONtkQa5rYUGurN9BNAlWQUoNHsHbr+tBPTHrQSTdwUBMHbK/l9TOwZVFOEH+r8I/gcXGQezmG8F6cIFBZ2y0wbcQhD+47L5B/qF+QfT548D3DgvBDt1AwGa/skGMjLpBcjIXwXZbhsGmaMrB1EWVwYOkVMFsRavBWfJhP5/Wk8EBzSJBl9crwFp/I0FKAS9Ak75+QRaIK8FrMhXBFF2+wacCa0E/fbJBdmSIwfGpT8Gb/6PB7KWxQdVMC0G9b3bBWOqgQfEmCMGEEpU+u0UhwRurgsFNxzu/DX1mwSpEWEFmN2bBfTYpwWGZyMES+YxBpVGMQfaHmkE/993BU8dWQCZDdb8IXG1BPhajQEAJBcB84enA8OK+wRCJY8CLe0/BF+ZXv1ywRsFOMibAC5OBwAifa8FucuZAd10YwbVQib/IokBBLgvYwPsdm8EFipBB8yWsQdKgJEGNqUDB/XsZP5rCHr9jz7nBpY3YwZlRV0DyAqPB+KbFwdC5PMGET5PB7emAQRWgBkHMAhdB0LqEQQQZx0Glk0NB1IyBQJeNuUFtecK/HB9FwT5Zob9ZoCRBwCWfwRFtasFvgYNAihmYQYvOXsEOVjZB2Y81QQz1g0HFSJDBYT+TwbLT38FZeeU/Ki3ZQAmuacH3zNjBAhfuQKF5fUG7TQhB1PacQJDca8E1FrBA+q5PwT8NkEHFmapBZyk5wfcCDkFCSaA/aLnZwLKuUcH39szBn2VGwVfmPsFTU29B5IVoQdhLDr+W/KzBn1ilQRSWjcCgkR1BFEOwwYjNiUHlsqhBC7QCwu242cAq+KVB23eBwT58hcHnO4rB0Sm3wdKVDkDAjsRAbJ8jwW15uEEdmJ7BHHq9wV18IEHbWYHBDsrlwHRR88Ag4LVAnW5ewMFV3kAnnZJBorilwWaAVUGbLlrBmqVOwRt7HMFO0DXBX5ZiwdZJpECPBDrB7tq3wWSUJ79KoA5BrW2YQbm6dcE9E2xAdKgZP1IMb8GWJO5AWQN6wXHxKsFXJK7AW5c8QcUn6sEdBr1BQhclwRWorsFids/Bi0BPQS7zAsFqlBlBGqR8vs740MFUjKZByDNeQfCjwsF77oTBKXaJwWY3XMEEHUlBujB+QUUz5EEMeJxBcGEhQRwOnkEGaYg/2SqJQXi/MMHMSJfBLr1CQWpa+kHKbU5BPM3LQDW7hkGNZWpA4xiAwZxXDUE2xw9BEdxuwQqi5L8T1l3B5UdLwZxSRL+F/JNAX3y+v1JW2cA6YzDBFgAiwachVsFGYsLBaAtoQJFbi0A+98jBmYjNwOr2z8FPaInACzfWwZF/vcEAGd5Bh5WEQcnDH0HbHSrBTEoLwN1UZ8EO6oBBwi7swJbF+78quVTByeuqQRzhIEH7fr9BQZFqQWi1QEFp8ZJB1Uw3wFi0gcFyzOXAASdyQQMQU8BVPk7BoIMYwLhQhsGYM31BzMZWQM0sLEGWgzpBpzM6QXBXrkEzYcNARF4Avz0ZVUAiVYDBnDelv/K0tMHLH9XBdoCrQU73sUEqD2nBvYs1QeFco7+Y2KO/4+96wTk6scFwDOy/iw9SwZ7bTMAMeJxBehAGwIKIl0FA+EnB69uHwQs3nkG0IxrBgYZBwZGlr0B4rk/BMojRQdo8ikGv0fNBdSEOQZAgW0FgHMVBewkZwIBWkEFWMaZBxmnfwefW8MC9uHTB2KNaQF/PkEE1fGbBR/z5QQZPMkGkZUvBGLZ1waFMN8CCevTAft0awcJTlEGh497Bb4GDQMOto8AnNMzBkq0NQewdbr9UTV6+5gQowcu8mkFuLP7AaRixwdlcgsFeIEbB+nWcQXOLsEFSnB1B6ADNweBTl0GmMYpAH1WAwaHAVUFbVd5A31mlQWNLpMFDGUjBebvvwA7HVkDjfyNBE3ZiQZlPvT+pDtQ/mb2rQcwCF0Gd/S+/PQpLwOF2hsEBJ3JBBA2YQeKRe8GG8QZB2aHAQe4HiMFSJRpB7++CQQhg50BgUiDAudNQwaqXW0GV/OzAjm1bwU0xPsHRirjBXdcjQbCpIcEu/zRBsxFPP7PblEEQCZDAXXq9wRZCF0FD1s3Bb7SOwVXifMG1wNI/CtgjQQquy0GHJQ7B6ijPwcWDAkIdBr1BBHCAwaLkqMFWU0TBxyqJQc6XOUHxEJ5B1o6EQVim3cGv2IdAhwm/QWe2p8EjOaFBupGywISPV0GGozvBYlKJQe1a0UEjOaFBEutswcB2PMAWF2xABxH1wAytC0EBeS5AeEdBwcFV3kB/1dZBIgxYQZcNGz+te8tBzMZWQDAmZEGnAmtBePnLwSPmscDlsqhBorXTwCaaD770GGHBKK9XwcHXzMAffZ7BCGF2wf7c0z9kumRB+RhXwc3F28EsL4HB5G2TQVuAVUHTvl/B4Hp0wZWNuUFiM6DAnyJawDd3nEGBtdHBK2epQZbFqEFbo4PBx7SOwLAXZkHyPN3Bjf9cwSwTDkBNtKzBvijbwaznK8F1SJPBEL8OQBN+B0GNDdvBZRu3QTt9nsF9lHzBHgr1QD9dgMFXcbfBDa9wwaIijkF5FlNBKaNXwSc9ZMFqMzNAH/O+QTspN0E/0mbBDaoCwTAsiUECX7S/bbckPwod2sBXpXBBfUuUQaACO8D6aX5B5/IDwRsXWMHbZ2XBTbHqQRQ23EFXpXBBUF2CwfUersHT9lRAW7llwUfgf8Hn1vDAZeqIwUiXs8Gk7oTBJdShwVpcIcF/JdXB92CMQUWVR8FWU57BN6ZCQbdTlUE0hxTBs4a5QbUQ5cCGEFTBBJREQbivYsFYDj3BEt7aQTTE5cGo3ZvBbiz+wNAxi0DzSqvBETOqvzk0nEFMSgvAQ4HMwXsljEEkIa3BjPpVwSVSv0HF7YTBJmLbwWzjgEBzXfhAl9NCwNvqf0HgbTtBwPvJwd2IlUGLKX3BBbGfwAgdrcEcU0VBQ5e+QNDnkkGr8QZBF5ANwMUaIcFocy9Bb1a+wDjCVUAaiIHBQDA1QbN9fcGeObM/sJj6QIZF70GhInbB4j98wT99skGi9QpBiLOgQYemQ8Cn7nNBXDUawEhumEG+C35AupGcwd+nhMEz+UTA+R7kwPgpaEF07L5BunSGQSzKHb93XNvBjflPQXnLt0F/BjNBsR6lwW7E1cD2iX3B6ICNQSU6fsEFWLzBWfkhwOLmtsDqXKTA6I8hwS2HqUHmH2fBI3GyQW8gRsGG1HBB/F9Pwa+jfT/jmkpBZseEwU+IG0FjzZ3BNwg9QYZF70FRDeNAxoyBQIYQVMEaJ1/B22lawbvyKz8rMaq/wwytwTA+k8HFJZ/Bcs/0QD+HZcBSsrbBv0odQQxLgEHnR51BPHqCwWX/i0FN75fBCeJ8wZK9y0Eq2HrB3rzEwXYHW8HWxFVAdmkjwSfrA8HCsQXCZEBzwXDOPj/12s/Aw0wLQXQb6UCNCE5BiI/GwMYt9cEN8bHAiwz/Qa85oMB9urvBGHLxQc1VNkF22xrBtVCJQXccpkFUCrtBldlcQclMJT9gmQ++4eTUP4RulcGgnY0/njuSwc0DiUHIrC9BXgddQWQwocEssIVBQ5e+QBSNOMGF/IxBB7CswYcGuMHBge3AeKZDwCY5g0Gv0fNBX2IMQd7MX8H71ea/c4XswavzUcHOtHTB/O2zQVnlE0HStUhB6tUdQQ7SGkFsBNDBzuR+wW0nPMHh6qbByevVwZfxfz8+9YNBglqXQW+Bg0BCJOVAVRFDQSrJv8HyuFvBEHtPwSnkTb9NQeTBJoPAQbQvCUHW5j1BOb9wwbmG6cF7bVvBlGDDQHISKcEsrSPBDLVOQYDtCsHcVO3A88WxwVAmiUFX7RTBFY/iwZojsz+BupTB8QePQXP2a8EDlH7B05a4wQmg38BvgYNAP+kJwcPBB8E1zSTBikAFQJPJmsFDq2tBZbQaP+NegkGZnK3Bf2t7wVbHVkAR+OrAwBn1PikhbD4g9ow/sHVZQdAg0kGopXBBQyRiwEAO8MDOlzlBTqygQd3hjsBLkpZBZFJYQN5dtsFyNyxADzIJQeSGb0HlTy/Bdow8v0bAd0HSUq5Baklswfc6l8HseQLB4sRuwbjdt8HQwVnB3XpZQeOzlMHXFK/BCeOGwANlRMGWX9s/CTopwcVjDb8jOaFBjS4+QW14DEGWZY9BSzLhQOizvD85NAhBc1/YQVgDMkGf1hTAHR0eQWrJmsG2V0rBCUPfQdwgukGntH/BV5rEv5yFdsEHQ7lB0v+hwNpSrkGHjlTBKga5wf6q18Gt9aXBXcGiwFgys8G8RhRAN3ecQeoVmj/aMjDBmu81QQiTlcFwmEfBpe6Ewcu8mkHBj5PBB+mmwW+Bg0AaHdrADcc+QSbub8G3qWRBM8mxweO2jkEMYNvBIfMYwYncCUFQIXFBJq6zwcJ/yT8kpSDBwZgXP2+CAcHz25FBPBy5waNsDr/1rAVBRzISwQrKqb5doCRB3HDYwN5AgcDqPBlByA5Awf4cdsGmioTBxYWawRxfu0Fdow5ASUsiQb4HBsKDylzBrqGeQdEDfsHJTCU/aol5wSawksFrcjDBdLPlQTnvCkHxV9bBG9YXP6MaqUGAqFXB6QWDQArDssEKIoDBMQkFwHr2GcFsMB5BiVaMQVUQG0HQXKO/iaPcQXyeuUAT+bxBG0mQwatyokGWn5vALmHSwcjoqsGaHnpBlyTwQKcCa0GisaPAxMVPwT8pe0GxMdvBa9fmwbyupD/KmslAUnyHwdqDxkCcAYlA8nn0wPx/jkEHEHDBST+OwEqtBUF4vzDBkFcowUTkvcFHKgxBcSfZQM0BaMHojLhBCnURQDwA9UCXGexBpqqXQSY2XkHZ9NfB1SuGQa01UcE1ElBBGDO5weY5QsGoCqdBiLOgQWRndUEB+1FBFB9zQTGZwEEcSOjA8ucrwRPPJkGs4UDBrQF1wX9Mm0HnLSbB5bKoQT0Mb8ER+aJBkBnYQDSGXMGBjBhBz5SAQZlh28FQQoFAK44WP84TbEBZA3rBXKq4wWjYM0GKAjvBDcc+QSNMgsE3TYHBN4caP9WiZ8EgjnrApqqXQR/tz8HZhunBfyBgwd+gHT/KTgFBK65GwdOcHUHCA8XBCYnOwBmKpsHUC7VBF8IWwYW95cB9SAPBA527QTkiBcF2BrJBNncyQdlSwkGhELbBfR6rQVuXPEEsnA5BqkRPQUBXFb/tWtFBniveQcdsecFZwgvA0g+SQbsLsUGvkHvBzf8mQPNuocDKZ7vB+qkJQeTPzkA4odZBXiz/wMIPo0FKHmjBVi5bwQwsK8BvvrFAmrCawT/SZsG2EMxAguhMQTwUbsBq2QjB1F3YQZs5XEHbad/B9ryTQSgQB8H73RrBYxXUvzexLUC/YdvBaUG6wexc/0FQwndB4aPBwZSdK7/+wrK+/uF8wSuClkEelgFCjy61QaJ1bMEa8CPBBwqgwWY+akGiaAbCwWo7QVc6BcI4mbM/P5pJwTv49sHZov6/Xg0aQWg5pb+hMx/B2hZAQEdROL/sXP9BzeXSQVBm9MEjErfBnsB0QEEIl8BbkJRB7Fz/QdEMBcDxVS1BVesxwAQNmEHfHITBG+1IQb5u2sFlhL5B447iwdSIiMGgm52/gc5gQeZD3sD2HCRBU+MJwRvbE8Ex22RAsY6bQdFaI0G4IIJAn1NFwUhUS8HcMbFATFyGwcGv1sAFbxNBx0FFwDBekEFn8czAPnrJP7tuC8HDgZvBDiXDwa3OokBtOX4/2uJeQZ6N3750xWLBDxaEwTQCqEF7+YU/Mbt+wTdjmkHdAZtB0SukwO//dkFZgZxBAQOjwaWjmcHpHGVBeEQYwXFqTMGjLKrBOYIKQcIDxcGoVHJBy87uwfAQ2D9dLGHB03VfQS9+fkG/atVAyw5FwY67ysGcJX+/qsYevxBac75+XhPAnuTtP+xc/0E6YzDBYCtXwXJaKMEY7BTB6uyAQfV3gEFRgZ9Bu3++QcY1/8ETfZzBdNnKwCM11MD51OXB+XHkwBo/aUCkmx1BVJ2mQCWTlcFwsIxBBRIgQaGTj0HBd4HBfri/QVBtlcEQzUbAp72owaAWXcEyi9hAXMSTQVxqpMFyEmZBsDQ1QU4yJsBxW1TBgqDKQVoz6sFI9IFBcwM1QRRngkGUv3RAclxtQTQYfcDDiFJB6ed2wdK9ukEEoZLBol8MQaJfxD8i+53BRdLCQaNzRsFyWijBu7SbQXX4H0ErBITBceBAwQChksHHSmvAB8G2QfeLQcFgJg7BviG/wZahykG8r5bAN0gawOZYrkHjFITBbFzOv9uOe0F/2lDB0Xd0wYftkEHQT2jBlsWCQUWIqsHqrcHB5SdfwWhqM0HEwIM/T56DQW1nuUHYMBNBZFJYQOJR4EGaNPrBOgdWQUV+mr+lF4xBl7uBQWbMc0FI3qO/UyXzQJvhK0AlGKJAuNyvwaEOosC3KJZBaPbqQfXT3UHmu6DBduoMQTZSv0EPip1BeLPOwSM5oUECHGRB0VZlQVdYpUH232ZB4+EiwbxUpUH5pB7BzJSLweESt0G1cSxBOPd/wTTIgUHbS5HBafPiwau4uEEdwstBXxiTwWw/V0HU5XjBbq0DwcujckHBuSlB94A6QdhuC8Ge6utB3TeXQVDCd0ELVS7BvXCcwZb6AsJHSEPBiM2JQTeDskCEIbNB7Fz/QaXsvcAZW1TBJtRwQWGv478EDZhBlqHKQWe+YEGc1dbBjwCRwLc548F4/4tBEYEawSlX1D9Yb1JBeX5Xv4LhokGCiJdBjrPxQet6AsHbjntBDGU5QSMOw8GcbJvBIOrFwQZNTcE1fuzAvFGnwTue9r7xwPPBN4LYwdDJX8EDjlVBEwBjwcpqrUElg7HBLbx+wc8jo0F1QpDAjIdaQAIX7kBh23PBFYiVv9xG6MBEIFtBgamjwTu2w8ALw6Q/FExsQazhZEHq4I9B/ig7QSryocEu7JO/bbCMQUhUS8FVPypAL/9fwb+QrEAKdzJByZU/wfa8k0GbE3xBb4GDQNSKgMFHhxLB6XETQTlpd0CuR+jB35Owv2V5BMJJJA5BIZCRQa9yIj0R4EVBeHmKwT1/OkEMldxBJOQ2QcbKpkEQWITALnwZP0qbBEHNwZpBzTSQQd4/c8H/WHTA56dcQPdBVkFaCgJC+k9uQUPmrcGYWsNBYv2PwUR/YkFG6oJBVC/Cwc2TPkFngTpBqjN9Qa5c+EDvG2TBgmWBwTcqDEH8SXHBWNG5QJTOvkFm70tBIwCjwI65zcCViAPB9AKCQQzm9795EQ5BzZM+QSURvcHz5ZPBXKuXQQKvTcG8e8BA9JmvwUL+osDhV6VB8vSJQZgxvkHBj1tBQNiRwaA7usGNWiVBgC5TQV47fEGZHXHBYwFxwW4MFEGrBgpBE64UQUNuxsACuKVB5r3cwdh4XsGnfgjBKpTKwTGQQkFue0/BUFjAwf/Vb8HA+GfB7t0HwZXLXMEFjYZBMPc5wTDPNcFvx07BEPk/QHuNhMF7jVHB9gjeQSmWFEGfxItBn7SXQEHqQUH8Hk9Bb/aawaVMuEDJ0FfBfJMYwWY4M0AkuYjB6qgSwBu4ZcFocQ1BHVCpwQCvOkH57KnBvMRMwbjsvkGhMx/BN0gawHM9jMC7FNzBOdZ6wdqA8T5KoA5BT22VwfLNT0AnIofASJnZwMHbh8FhooPBNqHWQSwrp0FeO9/BWgeFQWGfK7/DyzBBTckOv8+spcEJrE3BakQCwO9ePcEz0RpB8j6AQeEWE8CrqitA2nx7wROl8sDHjoU/eKYAQsS4ZcH3VrbAp8OowdGfa8GWh1ZBa5oawTZY7cBARSjBQ3BZQb0/3EE9v1FB5PhKwVZgxcBDhZjBNoLgQZsTtsEULRbBcyrSwe98J8Gol1pAlhWTQdpD6MGm8aZBQStmwYTJmMEgPVtBfcwZwfkkAEJ4Qs1Aya+fQOzwhL/jo8LBoPirwHDhVsHIRBjBwi7swD+WGUFVtgzBWvtRQUSmxsBdSUPBXICGQRXet8H1pNnAL/9fwYxvx0Fa4ZFBiEavvwyQVUEUgK3BDHicQZ/Qh0DuIX7BGOuBwZu2BsHoMqnBJQkVwaTom0HetTnBLAI2QTxje8FYszhAJeNNQVgDu8F6pvlAzrP6PvcOC8GY1j/BeCeAwWBuQ8GqX8XB+BFwwNkLpEHKFA5BSIKTwV81pcFhLRpBhPDQQY/oYMFU7arBF6GCQfwpOcHO+5ZBwN4ywcRNaL5IBuTBky14QYKIl0H60I/BksRAwEUXfsEprIxB86hkQarGHr8XvYFB3mfMwD3lbMCDXZhBEBjiwWAlxsA1tnNB7NdOQVKjQ8FdQ7pB4rUDwFoITkERgrFBjk/fwEHy2T8+dMvBiSJrQZtlNkHieizBP32yQf5nkUFqUHDAJFSAQRORIsGLMKHBnMDcQQa/X8HwvkFBde1gQZ4r3kGwoGTBrOjgwFS9iUEQCAXBgDy5wXjV5cHB1SxBGfsiv89WZUHAX3nBa0g2wQ/2h8FBkWpBKEzVwEuT0EFwTyjB9LuawWVnXUECHGRBUtdMwfkgKT8K7h1BAGq0wUlKccHS48dB3pRaQR0wjj8Z3NDBruOEQZzbbsEM5UfB2+hwwESl/0Axeb3AzzNjwd1nicD6ko1BcoajQa/a5kH07GHBhDtgvtDmgcFb+KXBMJmJv4f3KUDZGGbBImfMQSAbo0Fygw1B84VmwSgvtsCbpYXBufO4wVT07EHgSIDBaM1ewcmpKsDQKVHB5h27QE2gvsB0pABC60yhQQozsUBihNzBZCaiPk82HUC1f8vAImfMQY7KlMC8BTZBtYgdwTqFs8EAUw2/z76uQNo8ikHkbEBAV3OFQMOgykHgDDHB1owJQYZSUMGFtkTB87fHQAOsxLzNq51BDWqXQOGEYUCFhFe/7RnEwSA7pkEbF1jBCZCXQX6sEsEP48fBdn61wNTleMEcjNxBwLjNwF0qjj+yHw5BCSqjQIBOXMEGU4nBhCGzQa+q0EEYoJBBTuJ8waG+68Bu5rRBj/KvwXQIt79VmUe/NVrAQRMqDEHu3QfB0I+Owd7opsG7tJtBZdmBQYAGhMG0EWK/vsmpQaA4p0Fw8WFBzyOjQYTpvr4ORZfBuieRQf0AK0G4tNFBee3nwZQGk8Fd4A3B7UEzQYuVuEFL0DXBEczAQctzVEHSaPHB67pUQBKeS8EcimbBgVYowW27icHhSR1BVB41wUMP30HYcI5BCWe9QYbPrsGJOVtBXzIXweE0DkBgVbfBNlK/QXoa5z+uKjnBv+wQwR2ipcGrXmZBCT5iwVHCUcHuFcLAzeXSQZf7EkGaK8nAE8dWQIlYpUE0/azBz4fvwWI0Q0Gqj6TB2OupwZvLmcCQGdhAGiunQRX9vcAFAj9BEZsCQHkjAUJYXthBmU0KwcR0ib96BNDBgTbVwVFyz8FOC3xBGidpQcmrRsFr+qFAeKYAQgkBhkELiNvAyNsnwStTT0H56abB3vu3wabZg8Gx0w7BinfcQREzoMHcmZbBf6C7wWamQ8CE43/B7BhSwYBOXMFDn6hBH5EDwdL5S0FCK2HBkrgHwbdTlUH1z9tAfWpqwIJS5T/76pBBt9d6wZPIPb9Iseo/NTPyQbXv0ME23J3BQCunQSkhxMFaf8DBcF0RQA2ga8HlxcnB6ED9PqwfNUHPJdvBR/SEvwTtEMHEKYjBUb9fwTlHRUFKbDzBFbzAQWnz4sFt1fA+LDzIwQofTMHbP9xBooFYwaExo8FPARHAvSqlQWgiX0FNU4LAfX+3QArm7sFakLrAb9pYQTzhZEEjOaFBNTPyQU6hhMGzw0JBFVS/QUTQlsGcyFZBlxeiQP9mnEH8Tb/BlxnsQazhZEFmoMpBVNPfwWHY08DAqtfBsrNnv8u9VUF1EGvBkiZzwSyeB0B2j8RAOr4sQV5zkMGikxfB1d8MQZZugT+ehBjAc6k5QdNAP8Bzg7JAYRyUwWHoZkFq+BDAweurQbdgk0Fx7WBBkc+iwbFinz/BajtB4juEQaGv1D8S3tpBjVzgwQLeAUK3JtnBAE1+QT3XgUCBaw/BUGYtwfVkgcExxl1BuHIbwEGRakG3hMbBAsDSwN1BoEHPFmJBzQOJQb1xI8E4bKrAQ6IRwfXPC8GyuNnAXYQ6QULvaUEfpXBBUzJNQaIZ0EGP1IvBLk7AwTd3nEGEfxjBxQCNQTEKj8D+0MHBslE9Qb3MOcH2oKTBCTZrQRgZV8EOF7O/mQi8wVURe8H+gY9BxjeQwTjuFsHFSGPBnREQv3McO77gpXBBVflLQYX8jEHVK4ZBbIuwQRgbo0FQpaFB1IuFwcYN9UCBpFlB0VFQwRQO5MFcxJNBu0yFQfeSzz+rmlBAGst2Qd68xMHVK4ZBOFnkQZ9YpUF70JHBfUspwWi1QEECr03B922qQXmnn8D40mRAiiLbwCJ+IT/EWFHBFpC0wWMcKsBYqcJBeLa6QXCjO8GAnbxBD15UwT1FiUEP+s3BPDWWQRHgRUEDW8M+fZu+QT9gkUGTIAXCsokSwegpO0GO3Ni/q6UiP4gcREGXZY9Bh8ZWQBKlzMDNLCxBGquewdYu7MArso/Adb2swdAxi0D8rRRBCzfWweWyqEHuTXJBKT+/QfPjkEHpkF/B7xe0wY6QUr5CQEzAffsewC37w8DZVKVB0bWUwdw93cG0sQXCZcuJQRGxE0FfqoLBIzmgwNkBj8HFJaJBlKeswQDwEME8OctBx9HKwM2nZEBztHTB8vwrQTXjyMFmZSJBvvz0QAD5Q0Bv113BuchfQVmd0MFGwa/BUrndwOwfTMHf+yZB1VUtQaDEzkHaTnLBK/9ZQa4IvMGm+kNADGU5QZ4ro0EJrmnBnuqDwLx0YUEhks+/IvnowK9TL8E5ggpBXZyOwPBNecGTk9vAAhagP98jbMG0t55BKTBNQIz5y8HdG03BzMaPQLi00UGjGDHBtPxUQRjqxUDUtZTBciUOwf4RA0Jg38U/Szxlwa3LXME+soDBIS5/vxRfs8CGRe9Bjk/fwKQ8W0GnjptBGg9pwR8osUCPTpNB0hmAQZaHVkEDPB7BMOQHwUUPiMGCR4dBS6A7wUZ80cE2odZBt4SvwVM6pMDn84xAOB6dQYSjd8FYBrJBrnJAwF2jDkC3CQu/sSzRv7IVQMDn6cjBNBaHwG4zgsFD7K/AIDekwS+IvkEytpTBCy52wRnIskBHfQ7BCD+vwdqNkEHSG73BK3NewFHnwME8lr7AIldbwQV+jr9iFdzBPiCawZpDiMEp0CbBIeyhQSR8s8GMP5tBk8uxQWC7y8Fy6tFBTqGEwVpHo8BZ4+0/cZRfQXqw90GguGVBmOFAwbT4jUFLMuFATT6oQUTHcsEQCAXBP+kJwQ5oXUFe27+/IcKgwdDHcUFeWKVBpkR9wef5j0Hf3l3BgCwYQfUWmcE3Qt5BLh64QQBvvkFHmNXB8QG6wInzuMGG8CVBzH1rP6uqK0CWh1ZBD/Eqwb6AZEEeE4O/KH+HweY5QsGEA3dB+uN+v6xsPsHb5T7BlZDAQBsCPEHS+k/Bye2fQfxnr8ExmdfB1E8+wfTXXcGluB1BAA6iwPJ7G0E=",
          "dtype": "f4"
         },
         "xaxis": "x",
         "y": {
          "bdata": "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",
          "dtype": "f4"
         },
         "yaxis": "y"
        }
       ],
       "layout": {
        "coloraxis": {
         "colorbar": {
          "title": {
           "text": "Year"
          }
         },
         "colorscale": [
          [
           0,
           "#0d0887"
          ],
          [
           0.1111111111111111,
           "#46039f"
          ],
          [
           0.2222222222222222,
           "#7201a8"
          ],
          [
           0.3333333333333333,
           "#9c179e"
          ],
          [
           0.4444444444444444,
           "#bd3786"
          ],
          [
           0.5555555555555556,
           "#d8576b"
          ],
          [
           0.6666666666666666,
           "#ed7953"
          ],
          [
           0.7777777777777778,
           "#fb9f3a"
          ],
          [
           0.8888888888888888,
           "#fdca26"
          ],
          [
           1,
           "#f0f921"
          ]
         ]
        },
        "legend": {
         "tracegroupgap": 0
        },
        "margin": {
         "t": 60
        },
        "template": {
         "data": {
          "bar": [
           {
            "error_x": {
             "color": "#2a3f5f"
            },
            "error_y": {
             "color": "#2a3f5f"
            },
            "marker": {
             "line": {
              "color": "#E5ECF6",
              "width": 0.5
             },
             "pattern": {
              "fillmode": "overlay",
              "size": 10,
              "solidity": 0.2
             }
            },
            "type": "bar"
           }
          ],
          "barpolar": [
           {
            "marker": {
             "line": {
              "color": "#E5ECF6",
              "width": 0.5
             },
             "pattern": {
              "fillmode": "overlay",
              "size": 10,
              "solidity": 0.2
             }
            },
            "type": "barpolar"
           }
          ],
          "carpet": [
           {
            "aaxis": {
             "endlinecolor": "#2a3f5f",
             "gridcolor": "white",
             "linecolor": "white",
             "minorgridcolor": "white",
             "startlinecolor": "#2a3f5f"
            },
            "baxis": {
             "endlinecolor": "#2a3f5f",
             "gridcolor": "white",
             "linecolor": "white",
             "minorgridcolor": "white",
             "startlinecolor": "#2a3f5f"
            },
            "type": "carpet"
           }
          ],
          "choropleth": [
           {
            "colorbar": {
             "outlinewidth": 0,
             "ticks": ""
            },
            "type": "choropleth"
           }
          ],
          "contour": [
           {
            "colorbar": {
             "outlinewidth": 0,
             "ticks": ""
            },
            "colorscale": [
             [
              0,
              "#0d0887"
             ],
             [
              0.1111111111111111,
              "#46039f"
             ],
             [
              0.2222222222222222,
              "#7201a8"
             ],
             [
              0.3333333333333333,
              "#9c179e"
             ],
             [
              0.4444444444444444,
              "#bd3786"
             ],
             [
              0.5555555555555556,
              "#d8576b"
             ],
             [
              0.6666666666666666,
              "#ed7953"
             ],
             [
              0.7777777777777778,
              "#fb9f3a"
             ],
             [
              0.8888888888888888,
              "#fdca26"
             ],
             [
              1,
              "#f0f921"
             ]
            ],
            "type": "contour"
           }
          ],
          "contourcarpet": [
           {
            "colorbar": {
             "outlinewidth": 0,
             "ticks": ""
            },
            "type": "contourcarpet"
           }
          ],
          "heatmap": [
           {
            "colorbar": {
             "outlinewidth": 0,
             "ticks": ""
            },
            "colorscale": [
             [
              0,
              "#0d0887"
             ],
             [
              0.1111111111111111,
              "#46039f"
             ],
             [
              0.2222222222222222,
              "#7201a8"
             ],
             [
              0.3333333333333333,
              "#9c179e"
             ],
             [
              0.4444444444444444,
              "#bd3786"
             ],
             [
              0.5555555555555556,
              "#d8576b"
             ],
             [
              0.6666666666666666,
              "#ed7953"
             ],
             [
              0.7777777777777778,
              "#fb9f3a"
             ],
             [
              0.8888888888888888,
              "#fdca26"
             ],
             [
              1,
              "#f0f921"
             ]
            ],
            "type": "heatmap"
           }
          ],
          "histogram": [
           {
            "marker": {
             "pattern": {
              "fillmode": "overlay",
              "size": 10,
              "solidity": 0.2
             }
            },
            "type": "histogram"
           }
          ],
          "histogram2d": [
           {
            "colorbar": {
             "outlinewidth": 0,
             "ticks": ""
            },
            "colorscale": [
             [
              0,
              "#0d0887"
             ],
             [
              0.1111111111111111,
              "#46039f"
             ],
             [
              0.2222222222222222,
              "#7201a8"
             ],
             [
              0.3333333333333333,
              "#9c179e"
             ],
             [
              0.4444444444444444,
              "#bd3786"
             ],
             [
              0.5555555555555556,
              "#d8576b"
             ],
             [
              0.6666666666666666,
              "#ed7953"
             ],
             [
              0.7777777777777778,
              "#fb9f3a"
             ],
             [
              0.8888888888888888,
              "#fdca26"
             ],
             [
              1,
              "#f0f921"
             ]
            ],
            "type": "histogram2d"
           }
          ],
          "histogram2dcontour": [
           {
            "colorbar": {
             "outlinewidth": 0,
             "ticks": ""
            },
            "colorscale": [
             [
              0,
              "#0d0887"
             ],
             [
              0.1111111111111111,
              "#46039f"
             ],
             [
              0.2222222222222222,
              "#7201a8"
             ],
             [
              0.3333333333333333,
              "#9c179e"
             ],
             [
              0.4444444444444444,
              "#bd3786"
             ],
             [
              0.5555555555555556,
              "#d8576b"
             ],
             [
              0.6666666666666666,
              "#ed7953"
             ],
             [
              0.7777777777777778,
              "#fb9f3a"
             ],
             [
              0.8888888888888888,
              "#fdca26"
             ],
             [
              1,
              "#f0f921"
             ]
            ],
            "type": "histogram2dcontour"
           }
          ],
          "mesh3d": [
           {
            "colorbar": {
             "outlinewidth": 0,
             "ticks": ""
            },
            "type": "mesh3d"
           }
          ],
          "parcoords": [
           {
            "line": {
             "colorbar": {
              "outlinewidth": 0,
              "ticks": ""
             }
            },
            "type": "parcoords"
           }
          ],
          "pie": [
           {
            "automargin": true,
            "type": "pie"
           }
          ],
          "scatter": [
           {
            "fillpattern": {
             "fillmode": "overlay",
             "size": 10,
             "solidity": 0.2
            },
            "type": "scatter"
           }
          ],
          "scatter3d": [
           {
            "line": {
             "colorbar": {
              "outlinewidth": 0,
              "ticks": ""
             }
            },
            "marker": {
             "colorbar": {
              "outlinewidth": 0,
              "ticks": ""
             }
            },
            "type": "scatter3d"
           }
          ],
          "scattercarpet": [
           {
            "marker": {
             "colorbar": {
              "outlinewidth": 0,
              "ticks": ""
             }
            },
            "type": "scattercarpet"
           }
          ],
          "scattergeo": [
           {
            "marker": {
             "colorbar": {
              "outlinewidth": 0,
              "ticks": ""
             }
            },
            "type": "scattergeo"
           }
          ],
          "scattergl": [
           {
            "marker": {
             "colorbar": {
              "outlinewidth": 0,
              "ticks": ""
             }
            },
            "type": "scattergl"
           }
          ],
          "scattermap": [
           {
            "marker": {
             "colorbar": {
              "outlinewidth": 0,
              "ticks": ""
             }
            },
            "type": "scattermap"
           }
          ],
          "scattermapbox": [
           {
            "marker": {
             "colorbar": {
              "outlinewidth": 0,
              "ticks": ""
             }
            },
            "type": "scattermapbox"
           }
          ],
          "scatterpolar": [
           {
            "marker": {
             "colorbar": {
              "outlinewidth": 0,
              "ticks": ""
             }
            },
            "type": "scatterpolar"
           }
          ],
          "scatterpolargl": [
           {
            "marker": {
             "colorbar": {
              "outlinewidth": 0,
              "ticks": ""
             }
            },
            "type": "scatterpolargl"
           }
          ],
          "scatterternary": [
           {
            "marker": {
             "colorbar": {
              "outlinewidth": 0,
              "ticks": ""
             }
            },
            "type": "scatterternary"
           }
          ],
          "surface": [
           {
            "colorbar": {
             "outlinewidth": 0,
             "ticks": ""
            },
            "colorscale": [
             [
              0,
              "#0d0887"
             ],
             [
              0.1111111111111111,
              "#46039f"
             ],
             [
              0.2222222222222222,
              "#7201a8"
             ],
             [
              0.3333333333333333,
              "#9c179e"
             ],
             [
              0.4444444444444444,
              "#bd3786"
             ],
             [
              0.5555555555555556,
              "#d8576b"
             ],
             [
              0.6666666666666666,
              "#ed7953"
             ],
             [
              0.7777777777777778,
              "#fb9f3a"
             ],
             [
              0.8888888888888888,
              "#fdca26"
             ],
             [
              1,
              "#f0f921"
             ]
            ],
            "type": "surface"
           }
          ],
          "table": [
           {
            "cells": {
             "fill": {
              "color": "#EBF0F8"
             },
             "line": {
              "color": "white"
             }
            },
            "header": {
             "fill": {
              "color": "#C8D4E3"
             },
             "line": {
              "color": "white"
             }
            },
            "type": "table"
           }
          ]
         },
         "layout": {
          "annotationdefaults": {
           "arrowcolor": "#2a3f5f",
           "arrowhead": 0,
           "arrowwidth": 1
          },
          "autotypenumbers": "strict",
          "coloraxis": {
           "colorbar": {
            "outlinewidth": 0,
            "ticks": ""
           }
          },
          "colorscale": {
           "diverging": [
            [
             0,
             "#8e0152"
            ],
            [
             0.1,
             "#c51b7d"
            ],
            [
             0.2,
             "#de77ae"
            ],
            [
             0.3,
             "#f1b6da"
            ],
            [
             0.4,
             "#fde0ef"
            ],
            [
             0.5,
             "#f7f7f7"
            ],
            [
             0.6,
             "#e6f5d0"
            ],
            [
             0.7,
             "#b8e186"
            ],
            [
             0.8,
             "#7fbc41"
            ],
            [
             0.9,
             "#4d9221"
            ],
            [
             1,
             "#276419"
            ]
           ],
           "sequential": [
            [
             0,
             "#0d0887"
            ],
            [
             0.1111111111111111,
             "#46039f"
            ],
            [
             0.2222222222222222,
             "#7201a8"
            ],
            [
             0.3333333333333333,
             "#9c179e"
            ],
            [
             0.4444444444444444,
             "#bd3786"
            ],
            [
             0.5555555555555556,
             "#d8576b"
            ],
            [
             0.6666666666666666,
             "#ed7953"
            ],
            [
             0.7777777777777778,
             "#fb9f3a"
            ],
            [
             0.8888888888888888,
             "#fdca26"
            ],
            [
             1,
             "#f0f921"
            ]
           ],
           "sequentialminus": [
            [
             0,
             "#0d0887"
            ],
            [
             0.1111111111111111,
             "#46039f"
            ],
            [
             0.2222222222222222,
             "#7201a8"
            ],
            [
             0.3333333333333333,
             "#9c179e"
            ],
            [
             0.4444444444444444,
             "#bd3786"
            ],
            [
             0.5555555555555556,
             "#d8576b"
            ],
            [
             0.6666666666666666,
             "#ed7953"
            ],
            [
             0.7777777777777778,
             "#fb9f3a"
            ],
            [
             0.8888888888888888,
             "#fdca26"
            ],
            [
             1,
             "#f0f921"
            ]
           ]
          },
          "colorway": [
           "#636efa",
           "#EF553B",
           "#00cc96",
           "#ab63fa",
           "#FFA15A",
           "#19d3f3",
           "#FF6692",
           "#B6E880",
           "#FF97FF",
           "#FECB52"
          ],
          "font": {
           "color": "#2a3f5f"
          },
          "geo": {
           "bgcolor": "white",
           "lakecolor": "white",
           "landcolor": "#E5ECF6",
           "showlakes": true,
           "showland": true,
           "subunitcolor": "white"
          },
          "hoverlabel": {
           "align": "left"
          },
          "hovermode": "closest",
          "mapbox": {
           "style": "light"
          },
          "paper_bgcolor": "white",
          "plot_bgcolor": "#E5ECF6",
          "polar": {
           "angularaxis": {
            "gridcolor": "white",
            "linecolor": "white",
            "ticks": ""
           },
           "bgcolor": "#E5ECF6",
           "radialaxis": {
            "gridcolor": "white",
            "linecolor": "white",
            "ticks": ""
           }
          },
          "scene": {
           "xaxis": {
            "backgroundcolor": "#E5ECF6",
            "gridcolor": "white",
            "gridwidth": 2,
            "linecolor": "white",
            "showbackground": true,
            "ticks": "",
            "zerolinecolor": "white"
           },
           "yaxis": {
            "backgroundcolor": "#E5ECF6",
            "gridcolor": "white",
            "gridwidth": 2,
            "linecolor": "white",
            "showbackground": true,
            "ticks": "",
            "zerolinecolor": "white"
           },
           "zaxis": {
            "backgroundcolor": "#E5ECF6",
            "gridcolor": "white",
            "gridwidth": 2,
            "linecolor": "white",
            "showbackground": true,
            "ticks": "",
            "zerolinecolor": "white"
           }
          },
          "shapedefaults": {
           "line": {
            "color": "#2a3f5f"
           }
          },
          "ternary": {
           "aaxis": {
            "gridcolor": "white",
            "linecolor": "white",
            "ticks": ""
           },
           "baxis": {
            "gridcolor": "white",
            "linecolor": "white",
            "ticks": ""
           },
           "bgcolor": "#E5ECF6",
           "caxis": {
            "gridcolor": "white",
            "linecolor": "white",
            "ticks": ""
           }
          },
          "title": {
           "x": 0.05
          },
          "xaxis": {
           "automargin": true,
           "gridcolor": "white",
           "linecolor": "white",
           "ticks": "",
           "title": {
            "standoff": 15
           },
           "zerolinecolor": "white",
           "zerolinewidth": 2
          },
          "yaxis": {
           "automargin": true,
           "gridcolor": "white",
           "linecolor": "white",
           "ticks": "",
           "title": {
            "standoff": 15
           },
           "zerolinecolor": "white",
           "zerolinewidth": 2
          }
         }
        },
        "title": {
         "text": "t-SNE Visualization with Hover Info"
        },
        "xaxis": {
         "anchor": "y",
         "domain": [
          0,
          1
         ],
         "title": {
          "text": "TSNE-1"
         }
        },
        "yaxis": {
         "anchor": "x",
         "domain": [
          0,
          1
         ],
         "title": {
          "text": "TSNE-2"
         }
        }
       }
      }
     },
     "metadata": {},
     "output_type": "display_data"
    }
   ],
   "source": [
    "import pandas as pd\n",
    "import plotly.express as px\n",
    "\n",
    "# Преобразуем результат t-SNE в DataFrame\n",
    "df_tsne = pd.DataFrame(X_embedded, columns=[\"TSNE-1\", \"TSNE-2\"])\n",
    "\n",
    "# Добавим метки классов и исходные признаки (или id)\n",
    "df_tsne[\"original_index\"] = train_features.index  # если надо знать, какая строка\n",
    "\n",
    "# Можно добавить любые другие столбцы:\n",
    "df_tsne[\"Year\"] = train_features[\"Year\"]\n",
    "df_tsne[\"KM_Driven\"] = train_features[\"KM_Driven\"]\n",
    "df_tsne[\"Fuel\"] = train_features[\"Fuel\"]\n",
    "\n",
    "# Интерактивный график\n",
    "fig = px.scatter(\n",
    "    df_tsne,\n",
    "    x=\"TSNE-1\",\n",
    "    y=\"TSNE-2\",\n",
    "    color=\"Year\",  # можно менять на любой столбец\n",
    "    hover_data=[\"Year\", \"KM_Driven\", \"Fuel\"],  # здесь указываем, что показывать при наведении\n",
    ")\n",
    "fig.update_layout(title=\"t-SNE Visualization with Hover Info\")\n",
    "fig.show()"
   ]
  },
  {
   "cell_type": "markdown",
   "id": "b2205d1c",
   "metadata": {},
   "source": [
    "### **Задача** Сделайте выводы относительно использованных методов снижения размерности"
   ]
  },
  {
   "cell_type": "markdown",
   "id": "4440757d",
   "metadata": {},
   "source": [
    "PCA подходит для построения интерпретируемой проекции данных, tSNE для визуализации кластеров. Текущий датасет несколько не удачен для работы с этими алгоритмами."
   ]
  }
 ],
 "metadata": {
  "kernelspec": {
   "display_name": "uni-lessons-da-and-ml",
   "language": "python",
   "name": "python3"
  },
  "language_info": {
   "codemirror_mode": {
    "name": "ipython",
    "version": 3
   },
   "file_extension": ".py",
   "mimetype": "text/x-python",
   "name": "python",
   "nbconvert_exporter": "python",
   "pygments_lexer": "ipython3",
   "version": "3.11.11"
  }
 },
 "nbformat": 4,
 "nbformat_minor": 5
}
