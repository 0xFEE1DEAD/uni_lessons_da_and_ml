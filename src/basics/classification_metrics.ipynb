{
 "cells": [
  {
   "cell_type": "markdown",
   "id": "37a94169",
   "metadata": {},
   "source": [
    "### Переменные\n",
    "\n",
    "Переменные подразделяются:\n",
    "* Числовые (количественные)\n",
    "    * Дискретные\n",
    "    * Непрерывные\n",
    "* Категориальные (качественные):\n",
    "    * Ранговые (порядковые)\n",
    "    * Номинальные\n",
    "* Дата и время\n",
    "* Бинарные\n",
    "* Неструктурированные\n"
   ]
  },
  {
   "cell_type": "markdown",
   "id": "05527c6d",
   "metadata": {},
   "source": [
    "### Метрики\n",
    "* Accuracy\n",
    "* Precision, Recall, F1\n",
    "* Confusion Matrix\n",
    "* ROC-AUC, PR-AUC\n",
    "* Log Loss"
   ]
  }
 ],
 "metadata": {
  "language_info": {
   "name": "python"
  }
 },
 "nbformat": 4,
 "nbformat_minor": 5
}
