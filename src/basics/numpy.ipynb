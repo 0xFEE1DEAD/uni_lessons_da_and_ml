{
 "cells": [
  {
   "cell_type": "code",
   "execution_count": 1,
   "id": "ece0133d",
   "metadata": {},
   "outputs": [],
   "source": [
    "import numpy as np"
   ]
  },
  {
   "cell_type": "markdown",
   "id": "1ea1e97e",
   "metadata": {},
   "source": [
    "### Создание массивов"
   ]
  },
  {
   "cell_type": "code",
   "execution_count": 2,
   "id": "8392dc42",
   "metadata": {},
   "outputs": [
    {
     "data": {
      "text/plain": [
       "array([1, 2, 3, 4])"
      ]
     },
     "execution_count": 2,
     "metadata": {},
     "output_type": "execute_result"
    }
   ],
   "source": [
    "# Произвольный одномерный массив\n",
    "arr1 = np.array([1, 2, 3, 4])\n",
    "arr1"
   ]
  },
  {
   "cell_type": "code",
   "execution_count": 3,
   "id": "467800e3",
   "metadata": {},
   "outputs": [
    {
     "data": {
      "text/plain": [
       "array([[1, 2, 3],\n",
       "       [4, 5, 6],\n",
       "       [7, 8, 9]])"
      ]
     },
     "execution_count": 3,
     "metadata": {},
     "output_type": "execute_result"
    }
   ],
   "source": [
    "# Произвольный двухмерный массив\n",
    "arr2 = np.array([[1, 2, 3], [4, 5, 6], [7, 8, 9]])\n",
    "arr2"
   ]
  },
  {
   "cell_type": "code",
   "execution_count": 4,
   "id": "dfc256c3",
   "metadata": {},
   "outputs": [
    {
     "data": {
      "text/plain": [
       "array([0., 0., 0., 0., 0.])"
      ]
     },
     "execution_count": 4,
     "metadata": {},
     "output_type": "execute_result"
    }
   ],
   "source": [
    "# Одномерный массив нулей из 5 элементов\n",
    "np.zeros(5)"
   ]
  },
  {
   "cell_type": "code",
   "execution_count": 5,
   "id": "6bc82304",
   "metadata": {},
   "outputs": [
    {
     "data": {
      "text/plain": [
       "array([1., 1., 1., 1., 1.])"
      ]
     },
     "execution_count": 5,
     "metadata": {},
     "output_type": "execute_result"
    }
   ],
   "source": [
    "# Одномерный массив единиц\n",
    "np.ones(5)"
   ]
  },
  {
   "cell_type": "code",
   "execution_count": 6,
   "id": "df3652dc",
   "metadata": {},
   "outputs": [
    {
     "data": {
      "text/plain": [
       "array([[0., 0.],\n",
       "       [0., 0.],\n",
       "       [0., 0.],\n",
       "       [0., 0.],\n",
       "       [0., 0.]])"
      ]
     },
     "execution_count": 6,
     "metadata": {},
     "output_type": "execute_result"
    }
   ],
   "source": [
    "# Двумерный массив единиц или нулей\n",
    "np.zeros([5, 2])"
   ]
  },
  {
   "cell_type": "code",
   "execution_count": 7,
   "id": "4dc97fa6",
   "metadata": {},
   "outputs": [
    {
     "data": {
      "text/plain": [
       "array([1., 1., 1., 1., 1.])"
      ]
     },
     "execution_count": 7,
     "metadata": {},
     "output_type": "execute_result"
    }
   ],
   "source": [
    "# Пустой массив\n",
    "np.empty(5)"
   ]
  },
  {
   "cell_type": "code",
   "execution_count": 8,
   "id": "cd5f323f",
   "metadata": {},
   "outputs": [
    {
     "data": {
      "text/plain": [
       "array([0, 1, 2, 3, 4])"
      ]
     },
     "execution_count": 8,
     "metadata": {},
     "output_type": "execute_result"
    }
   ],
   "source": [
    "# Последовательность чисел\n",
    "np.arange(5)"
   ]
  },
  {
   "cell_type": "code",
   "execution_count": 9,
   "id": "113d9d09",
   "metadata": {},
   "outputs": [
    {
     "data": {
      "text/plain": [
       "array([ 0. ,  2.5,  5. ,  7.5, 10. ])"
      ]
     },
     "execution_count": 9,
     "metadata": {},
     "output_type": "execute_result"
    }
   ],
   "source": [
    "# Линейное разделение отрезка на точки (отрезок от 0 до 10 5 точек)\n",
    "np.linspace(0, 10, 5)"
   ]
  },
  {
   "cell_type": "markdown",
   "id": "6f9cbebd",
   "metadata": {},
   "source": [
    "### Атрибуты массива"
   ]
  },
  {
   "cell_type": "code",
   "execution_count": 10,
   "id": "90eaee7e",
   "metadata": {},
   "outputs": [
    {
     "name": "stdout",
     "output_type": "stream",
     "text": [
      "Измерения массива 2\n",
      "Строки и столбцы (3, 3)\n",
      "Элементы массива 9\n",
      "Тип данных int64\n"
     ]
    }
   ],
   "source": [
    "arr_attrs = np.array([[1, 2, 3], [4, 5, 6], [7, 8, 9]])\n",
    "print(f\"Измерения массива {arr_attrs.ndim}\")\n",
    "print(f\"Строки и столбцы {arr_attrs.shape}\")\n",
    "print(f\"Элементы массива {arr_attrs.size}\")\n",
    "print(f\"Тип данных {arr_attrs.dtype}\")"
   ]
  },
  {
   "cell_type": "markdown",
   "id": "42a4f726",
   "metadata": {},
   "source": [
    "### Срезы"
   ]
  },
  {
   "cell_type": "markdown",
   "id": "28675c29",
   "metadata": {},
   "source": [
    "Общий формат для 2D массива:\n",
    "```\n",
    "array[строки, столбцы]\n",
    "```\n",
    "* : — означает «все элементы» по соответствующему измерению\n",
    "* число — конкретный индекс\n",
    "* a:b — срез с a до b (не включая b)\n",
    "* Можно комбинировать: array[1:, :2] — со 2-й строки, первые два столбца"
   ]
  },
  {
   "cell_type": "code",
   "execution_count": 11,
   "id": "13d5ba1b",
   "metadata": {},
   "outputs": [
    {
     "data": {
      "text/plain": [
       "array([[1, 2, 3],\n",
       "       [4, 5, 6],\n",
       "       [7, 8, 9]])"
      ]
     },
     "execution_count": 11,
     "metadata": {},
     "output_type": "execute_result"
    }
   ],
   "source": [
    "slices_array = np.array([[1, 2, 3], [4, 5, 6], [7, 8, 9]])\n",
    "slices_array"
   ]
  },
  {
   "cell_type": "code",
   "execution_count": 12,
   "id": "2d98c5f6",
   "metadata": {},
   "outputs": [
    {
     "data": {
      "text/plain": [
       "array([1, 2, 3])"
      ]
     },
     "execution_count": 12,
     "metadata": {},
     "output_type": "execute_result"
    }
   ],
   "source": [
    "# Вызов строки\n",
    "slices_array[0]"
   ]
  },
  {
   "cell_type": "code",
   "execution_count": 13,
   "id": "33248c00",
   "metadata": {},
   "outputs": [
    {
     "data": {
      "text/plain": [
       "array([3, 6, 9])"
      ]
     },
     "execution_count": 13,
     "metadata": {},
     "output_type": "execute_result"
    }
   ],
   "source": [
    "# Вызов столбца\n",
    "slices_array[:, 2]"
   ]
  },
  {
   "cell_type": "code",
   "execution_count": 14,
   "id": "4e604f1b",
   "metadata": {},
   "outputs": [
    {
     "data": {
      "text/plain": [
       "np.int64(2)"
      ]
     },
     "execution_count": 14,
     "metadata": {},
     "output_type": "execute_result"
    }
   ],
   "source": [
    "# Вызов элемента\n",
    "slices_array[0, 1]"
   ]
  },
  {
   "cell_type": "code",
   "execution_count": 15,
   "id": "30c2b1f9",
   "metadata": {},
   "outputs": [
    {
     "data": {
      "text/plain": [
       "array([[ 1, 10,  3],\n",
       "       [ 4,  5,  6],\n",
       "       [ 7,  8,  9]])"
      ]
     },
     "execution_count": 15,
     "metadata": {},
     "output_type": "execute_result"
    }
   ],
   "source": [
    "# Изменение элемента\n",
    "slices_array[0, 1] = 10\n",
    "slices_array"
   ]
  },
  {
   "cell_type": "code",
   "execution_count": 16,
   "id": "905437f6",
   "metadata": {},
   "outputs": [
    {
     "data": {
      "text/plain": [
       "array([[ 1, 10,  3],\n",
       "       [ 4,  5,  6]])"
      ]
     },
     "execution_count": 16,
     "metadata": {},
     "output_type": "execute_result"
    }
   ],
   "source": [
    "# До 3 строки\n",
    "slices_array[:2]"
   ]
  },
  {
   "cell_type": "code",
   "execution_count": 17,
   "id": "3cdd24a8",
   "metadata": {},
   "outputs": [
    {
     "data": {
      "text/plain": [
       "array([3, 6])"
      ]
     },
     "execution_count": 17,
     "metadata": {},
     "output_type": "execute_result"
    }
   ],
   "source": [
    "# До 3 строки 3 столбец\n",
    "slices_array[:2, 2]"
   ]
  },
  {
   "cell_type": "code",
   "execution_count": 18,
   "id": "a9b359d4",
   "metadata": {},
   "outputs": [
    {
     "data": {
      "text/plain": [
       "array([[5, 6],\n",
       "       [8, 9]])"
      ]
     },
     "execution_count": 18,
     "metadata": {},
     "output_type": "execute_result"
    }
   ],
   "source": [
    "# начиная со второй строки и со второго столбца  # noqa: RUF003\n",
    "\n",
    "slices_array[1:, 1:]"
   ]
  },
  {
   "cell_type": "markdown",
   "id": "43271268",
   "metadata": {},
   "source": [
    "### Арифметические операции с одномерными массивами"
   ]
  },
  {
   "cell_type": "code",
   "execution_count": 19,
   "id": "70281a5e",
   "metadata": {},
   "outputs": [
    {
     "name": "stdout",
     "output_type": "stream",
     "text": [
      "[0 1 2 3 4] [10 11 12 13 14]\n"
     ]
    }
   ],
   "source": [
    "arith1 = np.arange(5)\n",
    "arith2 = np.arange(10, 15)\n",
    "print(arith1, arith2)"
   ]
  },
  {
   "cell_type": "code",
   "execution_count": 20,
   "id": "92e71255",
   "metadata": {},
   "outputs": [
    {
     "data": {
      "text/plain": [
       "array([10, 12, 14, 16, 18])"
      ]
     },
     "execution_count": 20,
     "metadata": {},
     "output_type": "execute_result"
    }
   ],
   "source": [
    "# сложение элементов\n",
    "arith1 + arith2"
   ]
  },
  {
   "cell_type": "code",
   "execution_count": 21,
   "id": "f9d34eec",
   "metadata": {},
   "outputs": [
    {
     "data": {
      "text/plain": [
       "array([-10, -10, -10, -10, -10])"
      ]
     },
     "execution_count": 21,
     "metadata": {},
     "output_type": "execute_result"
    }
   ],
   "source": [
    "# вычитание элементов\n",
    "arith1 - arith2"
   ]
  },
  {
   "cell_type": "code",
   "execution_count": 22,
   "id": "6163157b",
   "metadata": {},
   "outputs": [
    {
     "data": {
      "text/plain": [
       "array([ 0, 11, 24, 39, 56])"
      ]
     },
     "execution_count": 22,
     "metadata": {},
     "output_type": "execute_result"
    }
   ],
   "source": [
    "# умножение элементов\n",
    "arith1 * arith2"
   ]
  },
  {
   "cell_type": "code",
   "execution_count": 23,
   "id": "bca885d5",
   "metadata": {},
   "outputs": [
    {
     "data": {
      "text/plain": [
       "array([0.        , 0.09090909, 0.16666667, 0.23076923, 0.28571429])"
      ]
     },
     "execution_count": 23,
     "metadata": {},
     "output_type": "execute_result"
    }
   ],
   "source": [
    "# деление элементов\n",
    "arith1 / arith2"
   ]
  },
  {
   "cell_type": "code",
   "execution_count": 24,
   "id": "bf3beaab",
   "metadata": {},
   "outputs": [
    {
     "data": {
      "text/plain": [
       "array([ 0,  1,  4,  9, 16])"
      ]
     },
     "execution_count": 24,
     "metadata": {},
     "output_type": "execute_result"
    }
   ],
   "source": [
    "# Возведение в степень каждого элемента\n",
    "arith1**2"
   ]
  },
  {
   "cell_type": "code",
   "execution_count": 25,
   "id": "bd26e5ed",
   "metadata": {},
   "outputs": [
    {
     "data": {
      "text/plain": [
       "array([ True,  True,  True, False, False])"
      ]
     },
     "execution_count": 25,
     "metadata": {},
     "output_type": "execute_result"
    }
   ],
   "source": [
    "# Логические операции с каждым из элементов  # noqa: RUF003\n",
    "arith1 < 3  # noqa: PLR2004"
   ]
  },
  {
   "cell_type": "markdown",
   "id": "389e4ab5",
   "metadata": {},
   "source": [
    "### Арифметические операции с двумерными массивами"
   ]
  },
  {
   "cell_type": "code",
   "execution_count": 26,
   "id": "e95e4fe9",
   "metadata": {},
   "outputs": [
    {
     "name": "stdout",
     "output_type": "stream",
     "text": [
      "[[1 1]\n",
      " [0 1]]\n",
      "[[2 0]\n",
      " [3 4]]\n"
     ]
    }
   ],
   "source": [
    "arith1_2d = np.array([[1, 1], [0, 1]])\n",
    "arith2_2d = np.array([[2, 0], [3, 4]])\n",
    "print(arith1_2d)\n",
    "print(arith2_2d)"
   ]
  },
  {
   "cell_type": "code",
   "execution_count": 27,
   "id": "4fdc425f",
   "metadata": {},
   "outputs": [
    {
     "data": {
      "text/plain": [
       "array([[3, 1],\n",
       "       [3, 5]])"
      ]
     },
     "execution_count": 27,
     "metadata": {},
     "output_type": "execute_result"
    }
   ],
   "source": [
    "arith1_2d + arith2_2d"
   ]
  },
  {
   "cell_type": "code",
   "execution_count": 28,
   "id": "e4e3ab1a",
   "metadata": {},
   "outputs": [
    {
     "data": {
      "text/plain": [
       "array([[2, 0],\n",
       "       [0, 4]])"
      ]
     },
     "execution_count": 28,
     "metadata": {},
     "output_type": "execute_result"
    }
   ],
   "source": [
    "arith1_2d * arith2_2d"
   ]
  },
  {
   "cell_type": "code",
   "execution_count": 29,
   "id": "ab75bb16",
   "metadata": {},
   "outputs": [
    {
     "data": {
      "text/plain": [
       "array([[5, 4],\n",
       "       [3, 4]])"
      ]
     },
     "execution_count": 29,
     "metadata": {},
     "output_type": "execute_result"
    }
   ],
   "source": [
    "# умножение матриц\n",
    "arith1_2d @ arith2_2d"
   ]
  },
  {
   "cell_type": "code",
   "execution_count": 30,
   "id": "b14c6324",
   "metadata": {},
   "outputs": [
    {
     "data": {
      "text/plain": [
       "array([[1, 0],\n",
       "       [1, 1]])"
      ]
     },
     "execution_count": 30,
     "metadata": {},
     "output_type": "execute_result"
    }
   ],
   "source": [
    "# Транспонирование матрицы\n",
    "arith1_2d.T"
   ]
  },
  {
   "cell_type": "markdown",
   "id": "d93be4a4",
   "metadata": {},
   "source": [
    "### Методы агрегирования "
   ]
  },
  {
   "cell_type": "code",
   "execution_count": 31,
   "id": "a1fadbbc",
   "metadata": {},
   "outputs": [],
   "source": [
    "data = np.array([[1, 2], [5, 3], [4, 6]])"
   ]
  },
  {
   "cell_type": "code",
   "execution_count": 32,
   "id": "b9dd01fb",
   "metadata": {},
   "outputs": [
    {
     "data": {
      "text/plain": [
       "np.int64(1)"
      ]
     },
     "execution_count": 32,
     "metadata": {},
     "output_type": "execute_result"
    }
   ],
   "source": [
    "data.min()"
   ]
  },
  {
   "cell_type": "code",
   "execution_count": 33,
   "id": "4a5bd02e",
   "metadata": {},
   "outputs": [
    {
     "data": {
      "text/plain": [
       "np.int64(6)"
      ]
     },
     "execution_count": 33,
     "metadata": {},
     "output_type": "execute_result"
    }
   ],
   "source": [
    "data.max()"
   ]
  },
  {
   "cell_type": "code",
   "execution_count": 34,
   "id": "977ee235",
   "metadata": {},
   "outputs": [
    {
     "data": {
      "text/plain": [
       "np.int64(21)"
      ]
     },
     "execution_count": 34,
     "metadata": {},
     "output_type": "execute_result"
    }
   ],
   "source": [
    "data.sum()"
   ]
  },
  {
   "cell_type": "code",
   "execution_count": 35,
   "id": "636deb9b",
   "metadata": {},
   "outputs": [
    {
     "data": {
      "text/plain": [
       "np.float64(3.5)"
      ]
     },
     "execution_count": 35,
     "metadata": {},
     "output_type": "execute_result"
    }
   ],
   "source": [
    "data.mean()"
   ]
  },
  {
   "cell_type": "code",
   "execution_count": 36,
   "id": "55c18f81",
   "metadata": {},
   "outputs": [
    {
     "data": {
      "text/plain": [
       "np.int64(720)"
      ]
     },
     "execution_count": 36,
     "metadata": {},
     "output_type": "execute_result"
    }
   ],
   "source": [
    "# Произведение всех элементов\n",
    "data.prod()"
   ]
  },
  {
   "cell_type": "code",
   "execution_count": 37,
   "id": "aea314fb",
   "metadata": {},
   "outputs": [
    {
     "data": {
      "text/plain": [
       "np.float64(2.9166666666666665)"
      ]
     },
     "execution_count": 37,
     "metadata": {},
     "output_type": "execute_result"
    }
   ],
   "source": [
    "# Дисперсия\n",
    "data.var()"
   ]
  },
  {
   "cell_type": "code",
   "execution_count": 38,
   "id": "cf2e8bf8",
   "metadata": {},
   "outputs": [
    {
     "data": {
      "text/plain": [
       "np.float64(1.707825127659933)"
      ]
     },
     "execution_count": 38,
     "metadata": {},
     "output_type": "execute_result"
    }
   ],
   "source": [
    "# Стандартное отклонение\n",
    "data.std()"
   ]
  },
  {
   "cell_type": "markdown",
   "id": "1c33e564",
   "metadata": {},
   "source": [
    "### Создание массива случайных чисел"
   ]
  },
  {
   "cell_type": "code",
   "execution_count": 39,
   "id": "897e3502",
   "metadata": {},
   "outputs": [],
   "source": [
    "from numpy.random import default_rng"
   ]
  },
  {
   "cell_type": "code",
   "execution_count": 40,
   "id": "02b00e32",
   "metadata": {},
   "outputs": [
    {
     "data": {
      "text/plain": [
       "array([0.77395605, 0.43887844, 0.85859792, 0.69736803, 0.09417735])"
      ]
     },
     "execution_count": 40,
     "metadata": {},
     "output_type": "execute_result"
    }
   ],
   "source": [
    "default_rng(42).random(5)"
   ]
  },
  {
   "cell_type": "code",
   "execution_count": 41,
   "id": "525276ab",
   "metadata": {},
   "outputs": [
    {
     "data": {
      "text/plain": [
       "array([[0.77395605, 0.43887844, 0.85859792],\n",
       "       [0.69736803, 0.09417735, 0.97562235]])"
      ]
     },
     "execution_count": 41,
     "metadata": {},
     "output_type": "execute_result"
    }
   ],
   "source": [
    "default_rng(42).random([2, 3])"
   ]
  },
  {
   "cell_type": "markdown",
   "id": "36f9b092",
   "metadata": {},
   "source": [
    "### Изменение формы массива"
   ]
  },
  {
   "cell_type": "code",
   "execution_count": 42,
   "id": "c3211198",
   "metadata": {},
   "outputs": [
    {
     "data": {
      "text/plain": [
       "array([[7., 4., 8., 6.],\n",
       "       [0., 9., 7., 7.],\n",
       "       [1., 4., 3., 9.]])"
      ]
     },
     "execution_count": 42,
     "metadata": {},
     "output_type": "execute_result"
    }
   ],
   "source": [
    "shapes_arr = np.floor(10 * default_rng(42).random((3, 4)))\n",
    "shapes_arr"
   ]
  },
  {
   "cell_type": "code",
   "execution_count": 43,
   "id": "ea5a908d",
   "metadata": {},
   "outputs": [
    {
     "data": {
      "text/plain": [
       "array([7., 4., 8., 6., 0., 9., 7., 7., 1., 4., 3., 9.])"
      ]
     },
     "execution_count": 43,
     "metadata": {},
     "output_type": "execute_result"
    }
   ],
   "source": [
    "shapes_arr.ravel()"
   ]
  },
  {
   "cell_type": "code",
   "execution_count": 44,
   "id": "e776e069",
   "metadata": {},
   "outputs": [
    {
     "data": {
      "text/plain": [
       "array([[7., 4., 8., 6., 0., 9.],\n",
       "       [7., 7., 1., 4., 3., 9.]])"
      ]
     },
     "execution_count": 44,
     "metadata": {},
     "output_type": "execute_result"
    }
   ],
   "source": [
    "shapes_arr.reshape(2, 6)"
   ]
  },
  {
   "cell_type": "code",
   "execution_count": 45,
   "id": "4935545b",
   "metadata": {},
   "outputs": [
    {
     "data": {
      "text/plain": [
       "array([[[7., 4.],\n",
       "        [8., 6.],\n",
       "        [0., 9.]],\n",
       "\n",
       "       [[7., 7.],\n",
       "        [1., 4.],\n",
       "        [3., 9.]]])"
      ]
     },
     "execution_count": 45,
     "metadata": {},
     "output_type": "execute_result"
    }
   ],
   "source": [
    "shapes_arr.reshape(2, 3, 2)"
   ]
  },
  {
   "cell_type": "markdown",
   "id": "e68c1d45",
   "metadata": {},
   "source": [
    "### Объединение массивов"
   ]
  },
  {
   "cell_type": "code",
   "execution_count": 46,
   "id": "27ecd36c",
   "metadata": {},
   "outputs": [
    {
     "name": "stdout",
     "output_type": "stream",
     "text": [
      "[[7. 4. 8. 6.]\n",
      " [0. 9. 7. 7.]\n",
      " [1. 4. 3. 9.]]\n",
      "[[6. 5. 5. 0.]\n",
      " [5. 9. 3. 0.]\n",
      " [2. 9. 8. 4.]]\n"
     ]
    }
   ],
   "source": [
    "concat_arr = np.floor(10 * default_rng(42).random((3, 4)))\n",
    "concat_arr2 = np.floor(10 * default_rng(52).random((3, 4)))\n",
    "print(concat_arr)\n",
    "print(concat_arr2)"
   ]
  },
  {
   "cell_type": "code",
   "execution_count": 47,
   "id": "e470c4b7",
   "metadata": {},
   "outputs": [
    {
     "data": {
      "text/plain": [
       "array([[7., 4., 8., 6.],\n",
       "       [0., 9., 7., 7.],\n",
       "       [1., 4., 3., 9.],\n",
       "       [6., 5., 5., 0.],\n",
       "       [5., 9., 3., 0.],\n",
       "       [2., 9., 8., 4.]])"
      ]
     },
     "execution_count": 47,
     "metadata": {},
     "output_type": "execute_result"
    }
   ],
   "source": [
    "# По строкам\n",
    "np.vstack((concat_arr, concat_arr2))"
   ]
  },
  {
   "cell_type": "code",
   "execution_count": 48,
   "id": "9b3d9e5f",
   "metadata": {},
   "outputs": [
    {
     "data": {
      "text/plain": [
       "array([[7., 4., 8., 6., 6., 5., 5., 0.],\n",
       "       [0., 9., 7., 7., 5., 9., 3., 0.],\n",
       "       [1., 4., 3., 9., 2., 9., 8., 4.]])"
      ]
     },
     "execution_count": 48,
     "metadata": {},
     "output_type": "execute_result"
    }
   ],
   "source": [
    "# По столбцам\n",
    "np.hstack((concat_arr, concat_arr2))"
   ]
  },
  {
   "cell_type": "markdown",
   "id": "5a30fb92",
   "metadata": {},
   "source": [
    "### Копирование массивов"
   ]
  },
  {
   "cell_type": "code",
   "execution_count": 49,
   "id": "10a0400a",
   "metadata": {},
   "outputs": [
    {
     "data": {
      "text/plain": [
       "array([[6., 5., 5., 0., 5.],\n",
       "       [9., 3., 0., 2., 9.],\n",
       "       [8., 4., 1., 0., 9.]])"
      ]
     },
     "execution_count": 49,
     "metadata": {},
     "output_type": "execute_result"
    }
   ],
   "source": [
    "mem_arr = np.floor(10 * default_rng(52).random((3, 5)))\n",
    "mem_arr"
   ]
  },
  {
   "cell_type": "code",
   "execution_count": 50,
   "id": "5f3ca5e7",
   "metadata": {},
   "outputs": [
    {
     "name": "stdout",
     "output_type": "stream",
     "text": [
      "1877650359472 1877650359472 True\n"
     ]
    }
   ],
   "source": [
    "# Переменные ссылаются на 1 и тот же объект\n",
    "mem_arr_ptr = mem_arr\n",
    "print(id(mem_arr), id(mem_arr_ptr), id(mem_arr_ptr) == id(mem_arr))"
   ]
  },
  {
   "cell_type": "code",
   "execution_count": 51,
   "id": "b8e63d2f",
   "metadata": {},
   "outputs": [
    {
     "name": "stdout",
     "output_type": "stream",
     "text": [
      "1877650359472 1877650359376 False\n",
      "True\n"
     ]
    }
   ],
   "source": [
    "# Также есть новая переменная представление объекта, которое также будет изменять сам объект\n",
    "mem_arr_view = mem_arr.view()\n",
    "print(id(mem_arr), id(mem_arr_view), id(mem_arr_view) == id(mem_arr))\n",
    "\n",
    "mem_arr_view[1, 1] = 10\n",
    "print(mem_arr[1, 1] == mem_arr_view[1, 1])"
   ]
  },
  {
   "cell_type": "code",
   "execution_count": 52,
   "id": "4a10eb8f",
   "metadata": {},
   "outputs": [
    {
     "name": "stdout",
     "output_type": "stream",
     "text": [
      "1877650359472 1877650359952 False\n",
      "False\n"
     ]
    }
   ],
   "source": [
    "# Есть копия, только копия будет изменяться\n",
    "mem_arr_copy = mem_arr.copy()\n",
    "print(id(mem_arr), id(mem_arr_copy), id(mem_arr_copy) == id(mem_arr))\n",
    "\n",
    "mem_arr_copy[1, 1] = 30\n",
    "print(mem_arr[1, 1] == mem_arr_copy[1, 1])"
   ]
  }
 ],
 "metadata": {
  "kernelspec": {
   "display_name": ".venv",
   "language": "python",
   "name": "python3"
  },
  "language_info": {
   "codemirror_mode": {
    "name": "ipython",
    "version": 3
   },
   "file_extension": ".py",
   "mimetype": "text/x-python",
   "name": "python",
   "nbconvert_exporter": "python",
   "pygments_lexer": "ipython3",
   "version": "3.11.11"
  }
 },
 "nbformat": 4,
 "nbformat_minor": 5
}
